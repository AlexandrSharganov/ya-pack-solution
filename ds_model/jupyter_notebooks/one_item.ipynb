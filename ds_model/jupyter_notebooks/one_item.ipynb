{
 "cells": [
  {
   "cell_type": "code",
   "execution_count": 1,
   "id": "58d1b1c3-85a9-4ef1-9a7c-43df8856cc9d",
   "metadata": {
    "tags": []
   },
   "outputs": [],
   "source": [
    "import pandas as pd\n",
    "import numpy as np\n",
    "\n",
    "from sklearn.model_selection import cross_validate\n",
    "from sklearn.model_selection import StratifiedKFold\n",
    "from sklearn.neighbors import KNeighborsClassifier\n",
    "from sklearn.preprocessing import StandardScaler\n",
    "from sklearn.metrics import mean_absolute_percentage_error as mape\n",
    "\n",
    "import matplotlib.pyplot as plt\n",
    "import seaborn as sns\n",
    "\n",
    "import catboost\n",
    "from tqdm.notebook import tqdm\n",
    "\n",
    "import warnings\n",
    "\n",
    "warnings.filterwarnings('ignore')\n",
    "sns.set(rc={'figure.figsize':(10,6)}, style=\"darkgrid\")\n",
    "pd.options.display.max_columns = 100\n",
    "pd.options.display.max_rows = 100"
   ]
  },
  {
   "cell_type": "markdown",
   "id": "56a0f936-fbe1-44e7-84ba-5c49b8f180aa",
   "metadata": {},
   "source": [
    "## Определение упаковки для заказов \"один-заказ-один-товар\""
   ]
  },
  {
   "cell_type": "markdown",
   "id": "65f968d1-52eb-4373-9196-fa02dd91091a",
   "metadata": {},
   "source": [
    "Чтение данных"
   ]
  },
  {
   "cell_type": "code",
   "execution_count": 2,
   "id": "27b2b1dc-8fc3-4433-aa93-76c3ac1901a8",
   "metadata": {
    "tags": []
   },
   "outputs": [],
   "source": [
    "data = pd.read_csv('data/data.csv', index_col=0)\\\n",
    "        .drop(['whs', 'selected_carton', 'sel_calc_cube', 'recommended_carton',\n",
    "              'pack_volume', 'rec_calc_cube', 'who', 'trackingid', 'recommended_cartontype'], axis=1)\n",
    "cargotype = pd.read_csv('data/cargotype_sort.csv', index_col=0)\n",
    "sku_cargotypes = pd.read_csv('data/sku_cargotypes_filtered.csv')#только sku которые есть в data\n",
    "sku = pd.read_csv('data/sku_filtered.csv')#только sku которые есть в data"
   ]
  },
  {
   "cell_type": "markdown",
   "id": "4b2cf54a-c932-4542-883d-801938b4357f",
   "metadata": {},
   "source": [
    "Распределение заказов по количеству товаров:"
   ]
  },
  {
   "cell_type": "code",
   "execution_count": 3,
   "id": "e015c366-2a16-4cdc-af1a-393a4b05525d",
   "metadata": {
    "tags": []
   },
   "outputs": [
    {
     "data": {
      "text/html": [
       "<div>\n",
       "<style scoped>\n",
       "    .dataframe tbody tr th:only-of-type {\n",
       "        vertical-align: middle;\n",
       "    }\n",
       "\n",
       "    .dataframe tbody tr th {\n",
       "        vertical-align: top;\n",
       "    }\n",
       "\n",
       "    .dataframe thead th {\n",
       "        text-align: right;\n",
       "    }\n",
       "</style>\n",
       "<table border=\"1\" class=\"dataframe\">\n",
       "  <thead>\n",
       "    <tr style=\"text-align: right;\">\n",
       "      <th></th>\n",
       "      <th>goods_amount</th>\n",
       "      <th>share</th>\n",
       "    </tr>\n",
       "  </thead>\n",
       "  <tbody>\n",
       "    <tr>\n",
       "      <th>0</th>\n",
       "      <td>1</td>\n",
       "      <td>0.650</td>\n",
       "    </tr>\n",
       "    <tr>\n",
       "      <th>1</th>\n",
       "      <td>2</td>\n",
       "      <td>0.167</td>\n",
       "    </tr>\n",
       "    <tr>\n",
       "      <th>2</th>\n",
       "      <td>3</td>\n",
       "      <td>0.065</td>\n",
       "    </tr>\n",
       "    <tr>\n",
       "      <th>3</th>\n",
       "      <td>4</td>\n",
       "      <td>0.040</td>\n",
       "    </tr>\n",
       "    <tr>\n",
       "      <th>4</th>\n",
       "      <td>5</td>\n",
       "      <td>0.024</td>\n",
       "    </tr>\n",
       "    <tr>\n",
       "      <th>5</th>\n",
       "      <td>6</td>\n",
       "      <td>0.016</td>\n",
       "    </tr>\n",
       "    <tr>\n",
       "      <th>6</th>\n",
       "      <td>7</td>\n",
       "      <td>0.008</td>\n",
       "    </tr>\n",
       "    <tr>\n",
       "      <th>7</th>\n",
       "      <td>8</td>\n",
       "      <td>0.006</td>\n",
       "    </tr>\n",
       "    <tr>\n",
       "      <th>8</th>\n",
       "      <td>10</td>\n",
       "      <td>0.006</td>\n",
       "    </tr>\n",
       "    <tr>\n",
       "      <th>9</th>\n",
       "      <td>9</td>\n",
       "      <td>0.004</td>\n",
       "    </tr>\n",
       "  </tbody>\n",
       "</table>\n",
       "</div>"
      ],
      "text/plain": [
       "   goods_amount  share\n",
       "0             1  0.650\n",
       "1             2  0.167\n",
       "2             3  0.065\n",
       "3             4  0.040\n",
       "4             5  0.024\n",
       "5             6  0.016\n",
       "6             7  0.008\n",
       "7             8  0.006\n",
       "8            10  0.006\n",
       "9             9  0.004"
      ]
     },
     "execution_count": 3,
     "metadata": {},
     "output_type": "execute_result"
    }
   ],
   "source": [
    "round(data.groupby('orderkey')['sku'].count().value_counts(normalize=True)\n",
    "            .head(10).reset_index().rename({'index':'goods_amount',\n",
    "                                           'sku': 'share'}, axis=1),3)"
   ]
  },
  {
   "cell_type": "markdown",
   "id": "7345a2cf-4115-40d2-b995-1c06ccbd0310",
   "metadata": {},
   "source": [
    "Из таблицы выше видно что в 65% заказов у нас всего лишь один товар. Поэтому целесообразно выделить такие заказы в отдельную категорию и для них делать рекомендацию. Около 23% заказов с 2-3 товарами, их мы так же выделим в отдельную категорию. Все остальные заказы будем рассматривать так же отдельно, их доля очень небольшая и здесь будет необходим особый подход. "
   ]
  },
  {
   "cell_type": "markdown",
   "id": "503ee1cf-6c53-4824-87a0-dc5a50e40387",
   "metadata": {},
   "source": [
    "Словарь для приведения карготипов к тем которые мы определили "
   ]
  },
  {
   "cell_type": "code",
   "execution_count": 4,
   "id": "74ac3701-bbe7-469a-9777-1ba61c6dbfcc",
   "metadata": {
    "tags": []
   },
   "outputs": [],
   "source": [
    "cargotype_dict = dict(zip(cargotype.cargotype.astype(str), cargotype.sort.astype(str)))\n",
    "cargotypes = list(set(cargotype_dict.values()))"
   ]
  },
  {
   "cell_type": "markdown",
   "id": "a83938b8-a418-47b7-9cc1-ad7c0b5738a8",
   "metadata": {},
   "source": [
    "Выделение из data заказов в которых только один товар"
   ]
  },
  {
   "cell_type": "code",
   "execution_count": 5,
   "id": "5b83162b-24f9-42e5-9a7b-c1d62f77a2bd",
   "metadata": {
    "tags": []
   },
   "outputs": [
    {
     "name": "stdout",
     "output_type": "stream",
     "text": [
      "Orders with one item: 103970\n"
     ]
    }
   ],
   "source": [
    "one_item_list = (data.groupby('orderkey')['sku'].count().reset_index()\n",
    "                 .query('sku==1')['orderkey'].to_list())\n",
    "data_single = data[data.orderkey.isin(one_item_list)]\n",
    "print(f'Orders with one item: {data_single.shape[0]}')"
   ]
  },
  {
   "cell_type": "markdown",
   "id": "c9a69569-b389-4ed9-a7f1-0cb900a37af0",
   "metadata": {},
   "source": [
    "Какие-то товары занимают больше одной посылки. "
   ]
  },
  {
   "cell_type": "code",
   "execution_count": 6,
   "id": "45b16a0a-1eab-498f-aacc-663fa5d4a464",
   "metadata": {
    "tags": []
   },
   "outputs": [
    {
     "data": {
      "text/plain": [
       "980"
      ]
     },
     "execution_count": 6,
     "metadata": {},
     "output_type": "execute_result"
    }
   ],
   "source": [
    "data_single[data_single.box_num != 1].shape[0]"
   ]
  },
  {
   "cell_type": "markdown",
   "id": "6e386c2c-e055-4044-862b-e155f3c2ddea",
   "metadata": {},
   "source": [
    "Их совсем немного, отбросим их"
   ]
  },
  {
   "cell_type": "code",
   "execution_count": 7,
   "id": "a33a727c-39be-42ec-92d6-d118b5daac43",
   "metadata": {
    "tags": []
   },
   "outputs": [],
   "source": [
    "data_single = data_single[data_single.box_num == 1].drop('box_num', axis=1)"
   ]
  },
  {
   "cell_type": "markdown",
   "id": "4243604e-cfe5-423f-9abf-135e9b5857c2",
   "metadata": {},
   "source": [
    "### Признаки для товаров"
   ]
  },
  {
   "cell_type": "markdown",
   "id": "c7a6bf9b-03c0-411e-85b4-027d708e7dac",
   "metadata": {},
   "source": [
    "Для каждого товара у нас есть линейные размеры, вес а так же карготипы. Попробуем использовать все эти признаки для обучения классификатора."
   ]
  },
  {
   "cell_type": "markdown",
   "id": "add02a29-1bd3-4d9f-bdc4-9defbf0f6a2e",
   "metadata": {},
   "source": [
    "Линейные размеры и вес мы можем использовать как есть, а карготипы закодируем для товаров по принципу One-Hot. И добавим к ним линейные размеры."
   ]
  },
  {
   "cell_type": "code",
   "execution_count": 8,
   "id": "2854e98b-8e11-4072-a434-d3e59ca12390",
   "metadata": {
    "tags": []
   },
   "outputs": [],
   "source": [
    "sku_cargotypes['cargotype'] = sku_cargotypes.cargotype.\\\n",
    "                            astype(str).map(cargotype_dict)\n",
    "sku_cargotypes = sku_cargotypes.drop_duplicates()"
   ]
  },
  {
   "cell_type": "code",
   "execution_count": 9,
   "id": "1374704f-5440-468b-a063-69bcc56b5108",
   "metadata": {
    "tags": []
   },
   "outputs": [],
   "source": [
    "sku_cargotypes_ohe = pd.crosstab(sku_cargotypes.sku, \n",
    "                                 columns=sku_cargotypes.cargotype).reset_index()\n",
    "sku = sku.merge(sku_cargotypes_ohe, \n",
    "                how='left', \n",
    "                on='sku').dropna()"
   ]
  },
  {
   "cell_type": "markdown",
   "id": "6878cf67-6d31-4f87-b4c3-39c47c3f23c5",
   "metadata": {},
   "source": [
    "Так же добавим дополнительные признаки:\n",
    "- минимальный и максимальный линейный размеры\n",
    "- общий объем товара"
   ]
  },
  {
   "cell_type": "code",
   "execution_count": 10,
   "id": "12eb052d-2471-4ffd-825a-48a863f42b26",
   "metadata": {
    "tags": []
   },
   "outputs": [],
   "source": [
    "sku['sku_volume'] = round(sku['a'] * sku['b'] * sku['c'])\n",
    "sku['min_sku_dim'] = sku[['a', 'b', 'c']].min(axis=1)\n",
    "sku['max_sku_dim'] = sku[['a', 'b', 'c']].max(axis=1)"
   ]
  },
  {
   "cell_type": "markdown",
   "id": "be016f4e-3cbc-456a-93c7-c35ad04af7d1",
   "metadata": {},
   "source": [
    "И соединим даные о товарах с данными о заказах."
   ]
  },
  {
   "cell_type": "code",
   "execution_count": 11,
   "id": "250f9aad-bdb2-478b-ab60-f84d9168d012",
   "metadata": {
    "tags": []
   },
   "outputs": [],
   "source": [
    "data_single = data_single.merge(sku, on='sku', how='left').dropna()"
   ]
  },
  {
   "cell_type": "markdown",
   "id": "effde5f8-8d6f-4521-8cf5-40dc5a7ddd61",
   "metadata": {},
   "source": [
    "Теперь посмотрим есть ли у нас неявные дубликаты. Так как это исторические данные и разные упаковщики могли использовать разную упаковку для одних и тех же товаров, то у нас могут быть разные ответы для классификации одних и тех же признаков. "
   ]
  },
  {
   "cell_type": "code",
   "execution_count": 12,
   "id": "baf45149-bf94-407f-9126-f7df58da62ce",
   "metadata": {
    "tags": []
   },
   "outputs": [
    {
     "data": {
      "text/plain": [
       "1     39093\n",
       "2      7059\n",
       "3      1518\n",
       "4       444\n",
       "5       156\n",
       "6        80\n",
       "7        31\n",
       "8        10\n",
       "9         4\n",
       "11        1\n",
       "10        1\n",
       "Name: selected_cartontype, dtype: int64"
      ]
     },
     "execution_count": 12,
     "metadata": {},
     "output_type": "execute_result"
    }
   ],
   "source": [
    "data_single.groupby('sku')['selected_cartontype'].nunique().value_counts()"
   ]
  },
  {
   "cell_type": "markdown",
   "id": "f2fe31dd-d983-4764-a3c6-c21ead8b61dd",
   "metadata": {},
   "source": [
    "Видно, что для одних и тех же sku довольно часто использовались разные упаковки. Возможно, это связанно с субъективностью упаковщиков или с какими-то другими обстоятельствами. Так как наша задача это в том числе и минимизация расходов на упаковку, то для товаров которые упаковывали в разные типы упаковок мы будем брать только самую оптимальную(дешевую) предполагая, что раз такую хотя бы однажды использовали, то она подходит для конкретного товара. "
   ]
  },
  {
   "cell_type": "markdown",
   "id": "115ca883-f0fb-425e-90cb-88be6a49dc28",
   "metadata": {},
   "source": [
    "<font size=4>Важный момент!</font>  \n",
    "Так как упаковщики часто используют совершенно раную упаковку для одних и тех же товаров, мы не можем полагаться на selected_cartontype как на правильный ответ. То есть цель рекомендации не угадать то что выбрал упаковщик когда-либо, а рекомендовать оптимальную упаковку опираясь на выбор упаковщиков, но не считая его единственно верным. Так же мы должны учитывать и другие факторы(например, карготипы)."
   ]
  },
  {
   "cell_type": "code",
   "execution_count": 13,
   "id": "b4d74103-ed43-4616-b42c-a39ad5749b78",
   "metadata": {
    "tags": []
   },
   "outputs": [],
   "source": [
    "prices = pd.read_csv('data/carton_price.csv')\n",
    "prices_dict = dict(zip(prices.cartontype, \n",
    "                       prices.price))"
   ]
  },
  {
   "cell_type": "markdown",
   "id": "340472fa-12eb-4b84-98e0-74dae58e66f6",
   "metadata": {},
   "source": [
    "Поиск самой выгодной упаковки"
   ]
  },
  {
   "cell_type": "code",
   "execution_count": 14,
   "id": "ca48f711-d9b1-4067-86d4-409883e57050",
   "metadata": {
    "tags": []
   },
   "outputs": [],
   "source": [
    "def get_cheapest(l:list, \n",
    "                 prices:dict=prices_dict)-> str:\n",
    "    l = list(set(l))\n",
    "    l = sorted(l, key=lambda x: prices_dict.get(x, 0))\n",
    "    return l[0]"
   ]
  },
  {
   "cell_type": "markdown",
   "id": "5be22b78-2445-44dc-9b4a-3d53a2352bc1",
   "metadata": {
    "tags": []
   },
   "source": [
    "Все используемые упаковки для товаров"
   ]
  },
  {
   "cell_type": "code",
   "execution_count": 15,
   "id": "6ba77e63-4b79-42a5-a48e-49e10e6ec82f",
   "metadata": {
    "tags": []
   },
   "outputs": [],
   "source": [
    "packages = data_single.groupby('sku')['selected_cartontype'].apply(list).reset_index()\n",
    "packages['selected_cartontype'] = packages['selected_cartontype'].apply(get_cheapest)"
   ]
  },
  {
   "cell_type": "markdown",
   "id": "69eeaa4f-db7d-401a-94f0-756352ccb140",
   "metadata": {},
   "source": [
    "Добавим исправленные selected_cartontype в data_single, оригинальные упаковки уберем."
   ]
  },
  {
   "cell_type": "code",
   "execution_count": 16,
   "id": "dc3bd812-d3b7-413a-b9ce-36fc7b020bc3",
   "metadata": {
    "tags": []
   },
   "outputs": [
    {
     "data": {
      "text/html": [
       "<div>\n",
       "<style scoped>\n",
       "    .dataframe tbody tr th:only-of-type {\n",
       "        vertical-align: middle;\n",
       "    }\n",
       "\n",
       "    .dataframe tbody tr th {\n",
       "        vertical-align: top;\n",
       "    }\n",
       "\n",
       "    .dataframe thead th {\n",
       "        text-align: right;\n",
       "    }\n",
       "</style>\n",
       "<table border=\"1\" class=\"dataframe\">\n",
       "  <thead>\n",
       "    <tr style=\"text-align: right;\">\n",
       "      <th></th>\n",
       "      <th>orderkey</th>\n",
       "      <th>goods_wght</th>\n",
       "      <th>sku</th>\n",
       "      <th>a</th>\n",
       "      <th>b</th>\n",
       "      <th>c</th>\n",
       "      <th>0</th>\n",
       "      <th>120</th>\n",
       "      <th>130</th>\n",
       "      <th>200</th>\n",
       "      <th>290</th>\n",
       "      <th>291</th>\n",
       "      <th>292</th>\n",
       "      <th>300</th>\n",
       "      <th>302</th>\n",
       "      <th>303</th>\n",
       "      <th>305</th>\n",
       "      <th>310</th>\n",
       "      <th>320</th>\n",
       "      <th>340</th>\n",
       "      <th>360</th>\n",
       "      <th>40</th>\n",
       "      <th>400</th>\n",
       "      <th>410</th>\n",
       "      <th>440</th>\n",
       "      <th>460</th>\n",
       "      <th>480</th>\n",
       "      <th>485</th>\n",
       "      <th>520</th>\n",
       "      <th>610</th>\n",
       "      <th>620</th>\n",
       "      <th>641</th>\n",
       "      <th>670</th>\n",
       "      <th>700</th>\n",
       "      <th>900</th>\n",
       "      <th>910</th>\n",
       "      <th>950</th>\n",
       "      <th>960</th>\n",
       "      <th>970</th>\n",
       "      <th>sku_volume</th>\n",
       "      <th>min_sku_dim</th>\n",
       "      <th>max_sku_dim</th>\n",
       "      <th>selected_cartontype</th>\n",
       "    </tr>\n",
       "  </thead>\n",
       "  <tbody>\n",
       "    <tr>\n",
       "      <th>0</th>\n",
       "      <td>4b33fcc98ea1f59d6fe4eb2e0a48bb4b</td>\n",
       "      <td>0.896</td>\n",
       "      <td>6287a74b664fd8ad4ed5c541b399a82b</td>\n",
       "      <td>18.6</td>\n",
       "      <td>3.3</td>\n",
       "      <td>49.7</td>\n",
       "      <td>0.0</td>\n",
       "      <td>0.0</td>\n",
       "      <td>0.0</td>\n",
       "      <td>1.0</td>\n",
       "      <td>0.0</td>\n",
       "      <td>1.0</td>\n",
       "      <td>0.0</td>\n",
       "      <td>0.0</td>\n",
       "      <td>0.0</td>\n",
       "      <td>0.0</td>\n",
       "      <td>0.0</td>\n",
       "      <td>0.0</td>\n",
       "      <td>0.0</td>\n",
       "      <td>0.0</td>\n",
       "      <td>1.0</td>\n",
       "      <td>0.0</td>\n",
       "      <td>0.0</td>\n",
       "      <td>0.0</td>\n",
       "      <td>0.0</td>\n",
       "      <td>0.0</td>\n",
       "      <td>0.0</td>\n",
       "      <td>0.0</td>\n",
       "      <td>0.0</td>\n",
       "      <td>0.0</td>\n",
       "      <td>0.0</td>\n",
       "      <td>0.0</td>\n",
       "      <td>0.0</td>\n",
       "      <td>0.0</td>\n",
       "      <td>0.0</td>\n",
       "      <td>0.0</td>\n",
       "      <td>0.0</td>\n",
       "      <td>0.0</td>\n",
       "      <td>0.0</td>\n",
       "      <td>3051.0</td>\n",
       "      <td>3.3</td>\n",
       "      <td>49.7</td>\n",
       "      <td>STRETCH</td>\n",
       "    </tr>\n",
       "    <tr>\n",
       "      <th>1</th>\n",
       "      <td>3e646181f6f708edd3326c1626c12d23</td>\n",
       "      <td>4.400</td>\n",
       "      <td>ef468fa349bb8f058aa5dcd76bda60b2</td>\n",
       "      <td>30.0</td>\n",
       "      <td>23.0</td>\n",
       "      <td>22.0</td>\n",
       "      <td>0.0</td>\n",
       "      <td>0.0</td>\n",
       "      <td>0.0</td>\n",
       "      <td>1.0</td>\n",
       "      <td>1.0</td>\n",
       "      <td>0.0</td>\n",
       "      <td>0.0</td>\n",
       "      <td>0.0</td>\n",
       "      <td>0.0</td>\n",
       "      <td>0.0</td>\n",
       "      <td>0.0</td>\n",
       "      <td>0.0</td>\n",
       "      <td>0.0</td>\n",
       "      <td>1.0</td>\n",
       "      <td>0.0</td>\n",
       "      <td>0.0</td>\n",
       "      <td>0.0</td>\n",
       "      <td>0.0</td>\n",
       "      <td>0.0</td>\n",
       "      <td>0.0</td>\n",
       "      <td>0.0</td>\n",
       "      <td>0.0</td>\n",
       "      <td>0.0</td>\n",
       "      <td>0.0</td>\n",
       "      <td>0.0</td>\n",
       "      <td>0.0</td>\n",
       "      <td>0.0</td>\n",
       "      <td>0.0</td>\n",
       "      <td>0.0</td>\n",
       "      <td>0.0</td>\n",
       "      <td>0.0</td>\n",
       "      <td>0.0</td>\n",
       "      <td>0.0</td>\n",
       "      <td>15180.0</td>\n",
       "      <td>22.0</td>\n",
       "      <td>30.0</td>\n",
       "      <td>STRETCH</td>\n",
       "    </tr>\n",
       "    <tr>\n",
       "      <th>2</th>\n",
       "      <td>7047c16a6b7c120162ca3da0ebca43fd</td>\n",
       "      <td>0.700</td>\n",
       "      <td>d714bc5c946ec01d9b09714524805e5c</td>\n",
       "      <td>14.0</td>\n",
       "      <td>10.7</td>\n",
       "      <td>43.8</td>\n",
       "      <td>0.0</td>\n",
       "      <td>0.0</td>\n",
       "      <td>0.0</td>\n",
       "      <td>0.0</td>\n",
       "      <td>1.0</td>\n",
       "      <td>0.0</td>\n",
       "      <td>0.0</td>\n",
       "      <td>0.0</td>\n",
       "      <td>0.0</td>\n",
       "      <td>0.0</td>\n",
       "      <td>0.0</td>\n",
       "      <td>0.0</td>\n",
       "      <td>0.0</td>\n",
       "      <td>1.0</td>\n",
       "      <td>0.0</td>\n",
       "      <td>0.0</td>\n",
       "      <td>0.0</td>\n",
       "      <td>0.0</td>\n",
       "      <td>0.0</td>\n",
       "      <td>0.0</td>\n",
       "      <td>0.0</td>\n",
       "      <td>0.0</td>\n",
       "      <td>0.0</td>\n",
       "      <td>0.0</td>\n",
       "      <td>0.0</td>\n",
       "      <td>0.0</td>\n",
       "      <td>0.0</td>\n",
       "      <td>0.0</td>\n",
       "      <td>0.0</td>\n",
       "      <td>0.0</td>\n",
       "      <td>0.0</td>\n",
       "      <td>0.0</td>\n",
       "      <td>0.0</td>\n",
       "      <td>6561.0</td>\n",
       "      <td>10.7</td>\n",
       "      <td>43.8</td>\n",
       "      <td>STRETCH</td>\n",
       "    </tr>\n",
       "    <tr>\n",
       "      <th>3</th>\n",
       "      <td>097917e584151c0c21f205b2c3aafa10</td>\n",
       "      <td>2.078</td>\n",
       "      <td>eb0e661f3ed57ef7ca16418bf50e363e</td>\n",
       "      <td>23.4</td>\n",
       "      <td>8.0</td>\n",
       "      <td>33.9</td>\n",
       "      <td>0.0</td>\n",
       "      <td>0.0</td>\n",
       "      <td>0.0</td>\n",
       "      <td>1.0</td>\n",
       "      <td>1.0</td>\n",
       "      <td>0.0</td>\n",
       "      <td>0.0</td>\n",
       "      <td>0.0</td>\n",
       "      <td>0.0</td>\n",
       "      <td>0.0</td>\n",
       "      <td>0.0</td>\n",
       "      <td>0.0</td>\n",
       "      <td>0.0</td>\n",
       "      <td>0.0</td>\n",
       "      <td>1.0</td>\n",
       "      <td>0.0</td>\n",
       "      <td>0.0</td>\n",
       "      <td>0.0</td>\n",
       "      <td>0.0</td>\n",
       "      <td>0.0</td>\n",
       "      <td>0.0</td>\n",
       "      <td>0.0</td>\n",
       "      <td>0.0</td>\n",
       "      <td>0.0</td>\n",
       "      <td>0.0</td>\n",
       "      <td>0.0</td>\n",
       "      <td>0.0</td>\n",
       "      <td>0.0</td>\n",
       "      <td>0.0</td>\n",
       "      <td>0.0</td>\n",
       "      <td>0.0</td>\n",
       "      <td>0.0</td>\n",
       "      <td>0.0</td>\n",
       "      <td>6346.0</td>\n",
       "      <td>8.0</td>\n",
       "      <td>33.9</td>\n",
       "      <td>STRETCH</td>\n",
       "    </tr>\n",
       "    <tr>\n",
       "      <th>4</th>\n",
       "      <td>1d11d793924acefde0b7f2ad149e1b45</td>\n",
       "      <td>6.020</td>\n",
       "      <td>0588e43ea7ad1ef603059269db6467eb</td>\n",
       "      <td>30.0</td>\n",
       "      <td>47.0</td>\n",
       "      <td>15.0</td>\n",
       "      <td>0.0</td>\n",
       "      <td>0.0</td>\n",
       "      <td>0.0</td>\n",
       "      <td>0.0</td>\n",
       "      <td>0.0</td>\n",
       "      <td>1.0</td>\n",
       "      <td>0.0</td>\n",
       "      <td>0.0</td>\n",
       "      <td>0.0</td>\n",
       "      <td>0.0</td>\n",
       "      <td>0.0</td>\n",
       "      <td>0.0</td>\n",
       "      <td>1.0</td>\n",
       "      <td>1.0</td>\n",
       "      <td>0.0</td>\n",
       "      <td>0.0</td>\n",
       "      <td>0.0</td>\n",
       "      <td>1.0</td>\n",
       "      <td>0.0</td>\n",
       "      <td>0.0</td>\n",
       "      <td>1.0</td>\n",
       "      <td>1.0</td>\n",
       "      <td>0.0</td>\n",
       "      <td>0.0</td>\n",
       "      <td>0.0</td>\n",
       "      <td>0.0</td>\n",
       "      <td>0.0</td>\n",
       "      <td>0.0</td>\n",
       "      <td>0.0</td>\n",
       "      <td>0.0</td>\n",
       "      <td>0.0</td>\n",
       "      <td>0.0</td>\n",
       "      <td>0.0</td>\n",
       "      <td>21150.0</td>\n",
       "      <td>15.0</td>\n",
       "      <td>47.0</td>\n",
       "      <td>NONPACK</td>\n",
       "    </tr>\n",
       "    <tr>\n",
       "      <th>...</th>\n",
       "      <td>...</td>\n",
       "      <td>...</td>\n",
       "      <td>...</td>\n",
       "      <td>...</td>\n",
       "      <td>...</td>\n",
       "      <td>...</td>\n",
       "      <td>...</td>\n",
       "      <td>...</td>\n",
       "      <td>...</td>\n",
       "      <td>...</td>\n",
       "      <td>...</td>\n",
       "      <td>...</td>\n",
       "      <td>...</td>\n",
       "      <td>...</td>\n",
       "      <td>...</td>\n",
       "      <td>...</td>\n",
       "      <td>...</td>\n",
       "      <td>...</td>\n",
       "      <td>...</td>\n",
       "      <td>...</td>\n",
       "      <td>...</td>\n",
       "      <td>...</td>\n",
       "      <td>...</td>\n",
       "      <td>...</td>\n",
       "      <td>...</td>\n",
       "      <td>...</td>\n",
       "      <td>...</td>\n",
       "      <td>...</td>\n",
       "      <td>...</td>\n",
       "      <td>...</td>\n",
       "      <td>...</td>\n",
       "      <td>...</td>\n",
       "      <td>...</td>\n",
       "      <td>...</td>\n",
       "      <td>...</td>\n",
       "      <td>...</td>\n",
       "      <td>...</td>\n",
       "      <td>...</td>\n",
       "      <td>...</td>\n",
       "      <td>...</td>\n",
       "      <td>...</td>\n",
       "      <td>...</td>\n",
       "      <td>...</td>\n",
       "    </tr>\n",
       "    <tr>\n",
       "      <th>96103</th>\n",
       "      <td>f1a5e5ba97b77db86e1d747d0d4dbbfb</td>\n",
       "      <td>0.129</td>\n",
       "      <td>6f103f2f8f9153f5d63cb095284d6cd8</td>\n",
       "      <td>22.1</td>\n",
       "      <td>4.4</td>\n",
       "      <td>7.0</td>\n",
       "      <td>0.0</td>\n",
       "      <td>0.0</td>\n",
       "      <td>0.0</td>\n",
       "      <td>0.0</td>\n",
       "      <td>1.0</td>\n",
       "      <td>0.0</td>\n",
       "      <td>0.0</td>\n",
       "      <td>0.0</td>\n",
       "      <td>0.0</td>\n",
       "      <td>0.0</td>\n",
       "      <td>0.0</td>\n",
       "      <td>0.0</td>\n",
       "      <td>0.0</td>\n",
       "      <td>1.0</td>\n",
       "      <td>0.0</td>\n",
       "      <td>0.0</td>\n",
       "      <td>0.0</td>\n",
       "      <td>0.0</td>\n",
       "      <td>0.0</td>\n",
       "      <td>0.0</td>\n",
       "      <td>0.0</td>\n",
       "      <td>0.0</td>\n",
       "      <td>0.0</td>\n",
       "      <td>0.0</td>\n",
       "      <td>0.0</td>\n",
       "      <td>0.0</td>\n",
       "      <td>0.0</td>\n",
       "      <td>0.0</td>\n",
       "      <td>0.0</td>\n",
       "      <td>0.0</td>\n",
       "      <td>0.0</td>\n",
       "      <td>0.0</td>\n",
       "      <td>0.0</td>\n",
       "      <td>681.0</td>\n",
       "      <td>4.4</td>\n",
       "      <td>22.1</td>\n",
       "      <td>MYB</td>\n",
       "    </tr>\n",
       "    <tr>\n",
       "      <th>96104</th>\n",
       "      <td>3acc4b901256bcd9f333b6978864773b</td>\n",
       "      <td>1.740</td>\n",
       "      <td>bd4fcd43314a9b3e28cbf7ae22b3ece4</td>\n",
       "      <td>25.0</td>\n",
       "      <td>9.0</td>\n",
       "      <td>18.0</td>\n",
       "      <td>0.0</td>\n",
       "      <td>0.0</td>\n",
       "      <td>0.0</td>\n",
       "      <td>0.0</td>\n",
       "      <td>1.0</td>\n",
       "      <td>0.0</td>\n",
       "      <td>0.0</td>\n",
       "      <td>0.0</td>\n",
       "      <td>0.0</td>\n",
       "      <td>0.0</td>\n",
       "      <td>0.0</td>\n",
       "      <td>1.0</td>\n",
       "      <td>0.0</td>\n",
       "      <td>1.0</td>\n",
       "      <td>0.0</td>\n",
       "      <td>0.0</td>\n",
       "      <td>0.0</td>\n",
       "      <td>0.0</td>\n",
       "      <td>0.0</td>\n",
       "      <td>0.0</td>\n",
       "      <td>0.0</td>\n",
       "      <td>0.0</td>\n",
       "      <td>0.0</td>\n",
       "      <td>0.0</td>\n",
       "      <td>0.0</td>\n",
       "      <td>0.0</td>\n",
       "      <td>0.0</td>\n",
       "      <td>0.0</td>\n",
       "      <td>0.0</td>\n",
       "      <td>0.0</td>\n",
       "      <td>0.0</td>\n",
       "      <td>0.0</td>\n",
       "      <td>0.0</td>\n",
       "      <td>4050.0</td>\n",
       "      <td>9.0</td>\n",
       "      <td>25.0</td>\n",
       "      <td>YMC</td>\n",
       "    </tr>\n",
       "    <tr>\n",
       "      <th>96105</th>\n",
       "      <td>e71d2e750ce9a7a39c273c634be1665d</td>\n",
       "      <td>0.284</td>\n",
       "      <td>9db21acf9e6c1a66493c246c1461f989</td>\n",
       "      <td>11.4</td>\n",
       "      <td>10.2</td>\n",
       "      <td>30.3</td>\n",
       "      <td>0.0</td>\n",
       "      <td>0.0</td>\n",
       "      <td>0.0</td>\n",
       "      <td>0.0</td>\n",
       "      <td>1.0</td>\n",
       "      <td>0.0</td>\n",
       "      <td>0.0</td>\n",
       "      <td>0.0</td>\n",
       "      <td>0.0</td>\n",
       "      <td>0.0</td>\n",
       "      <td>0.0</td>\n",
       "      <td>0.0</td>\n",
       "      <td>0.0</td>\n",
       "      <td>1.0</td>\n",
       "      <td>0.0</td>\n",
       "      <td>0.0</td>\n",
       "      <td>0.0</td>\n",
       "      <td>0.0</td>\n",
       "      <td>0.0</td>\n",
       "      <td>0.0</td>\n",
       "      <td>0.0</td>\n",
       "      <td>0.0</td>\n",
       "      <td>0.0</td>\n",
       "      <td>0.0</td>\n",
       "      <td>0.0</td>\n",
       "      <td>0.0</td>\n",
       "      <td>0.0</td>\n",
       "      <td>0.0</td>\n",
       "      <td>0.0</td>\n",
       "      <td>0.0</td>\n",
       "      <td>0.0</td>\n",
       "      <td>0.0</td>\n",
       "      <td>0.0</td>\n",
       "      <td>3523.0</td>\n",
       "      <td>10.2</td>\n",
       "      <td>30.3</td>\n",
       "      <td>NONPACK</td>\n",
       "    </tr>\n",
       "    <tr>\n",
       "      <th>96106</th>\n",
       "      <td>2e2a642f611b5a6f2c404ab945fbc2a3</td>\n",
       "      <td>0.230</td>\n",
       "      <td>4aedb72c5662562524f6119918c7179b</td>\n",
       "      <td>23.0</td>\n",
       "      <td>2.0</td>\n",
       "      <td>12.0</td>\n",
       "      <td>0.0</td>\n",
       "      <td>0.0</td>\n",
       "      <td>0.0</td>\n",
       "      <td>0.0</td>\n",
       "      <td>1.0</td>\n",
       "      <td>0.0</td>\n",
       "      <td>0.0</td>\n",
       "      <td>0.0</td>\n",
       "      <td>0.0</td>\n",
       "      <td>0.0</td>\n",
       "      <td>0.0</td>\n",
       "      <td>0.0</td>\n",
       "      <td>0.0</td>\n",
       "      <td>0.0</td>\n",
       "      <td>0.0</td>\n",
       "      <td>0.0</td>\n",
       "      <td>0.0</td>\n",
       "      <td>0.0</td>\n",
       "      <td>0.0</td>\n",
       "      <td>0.0</td>\n",
       "      <td>0.0</td>\n",
       "      <td>0.0</td>\n",
       "      <td>0.0</td>\n",
       "      <td>0.0</td>\n",
       "      <td>0.0</td>\n",
       "      <td>0.0</td>\n",
       "      <td>0.0</td>\n",
       "      <td>0.0</td>\n",
       "      <td>0.0</td>\n",
       "      <td>0.0</td>\n",
       "      <td>0.0</td>\n",
       "      <td>0.0</td>\n",
       "      <td>0.0</td>\n",
       "      <td>552.0</td>\n",
       "      <td>2.0</td>\n",
       "      <td>23.0</td>\n",
       "      <td>MYB</td>\n",
       "    </tr>\n",
       "    <tr>\n",
       "      <th>96107</th>\n",
       "      <td>be54e183db5d75147ffcb4582c0e699b</td>\n",
       "      <td>1.200</td>\n",
       "      <td>c674cb7255f1417a92e62f50b85aad5a</td>\n",
       "      <td>123.0</td>\n",
       "      <td>5.0</td>\n",
       "      <td>62.0</td>\n",
       "      <td>0.0</td>\n",
       "      <td>0.0</td>\n",
       "      <td>0.0</td>\n",
       "      <td>0.0</td>\n",
       "      <td>0.0</td>\n",
       "      <td>0.0</td>\n",
       "      <td>1.0</td>\n",
       "      <td>1.0</td>\n",
       "      <td>1.0</td>\n",
       "      <td>0.0</td>\n",
       "      <td>0.0</td>\n",
       "      <td>0.0</td>\n",
       "      <td>0.0</td>\n",
       "      <td>1.0</td>\n",
       "      <td>0.0</td>\n",
       "      <td>0.0</td>\n",
       "      <td>0.0</td>\n",
       "      <td>0.0</td>\n",
       "      <td>0.0</td>\n",
       "      <td>0.0</td>\n",
       "      <td>0.0</td>\n",
       "      <td>0.0</td>\n",
       "      <td>0.0</td>\n",
       "      <td>0.0</td>\n",
       "      <td>0.0</td>\n",
       "      <td>0.0</td>\n",
       "      <td>0.0</td>\n",
       "      <td>0.0</td>\n",
       "      <td>0.0</td>\n",
       "      <td>0.0</td>\n",
       "      <td>1.0</td>\n",
       "      <td>0.0</td>\n",
       "      <td>0.0</td>\n",
       "      <td>38130.0</td>\n",
       "      <td>5.0</td>\n",
       "      <td>123.0</td>\n",
       "      <td>NONPACK</td>\n",
       "    </tr>\n",
       "  </tbody>\n",
       "</table>\n",
       "<p>96108 rows × 43 columns</p>\n",
       "</div>"
      ],
      "text/plain": [
       "                               orderkey  goods_wght  \\\n",
       "0      4b33fcc98ea1f59d6fe4eb2e0a48bb4b       0.896   \n",
       "1      3e646181f6f708edd3326c1626c12d23       4.400   \n",
       "2      7047c16a6b7c120162ca3da0ebca43fd       0.700   \n",
       "3      097917e584151c0c21f205b2c3aafa10       2.078   \n",
       "4      1d11d793924acefde0b7f2ad149e1b45       6.020   \n",
       "...                                 ...         ...   \n",
       "96103  f1a5e5ba97b77db86e1d747d0d4dbbfb       0.129   \n",
       "96104  3acc4b901256bcd9f333b6978864773b       1.740   \n",
       "96105  e71d2e750ce9a7a39c273c634be1665d       0.284   \n",
       "96106  2e2a642f611b5a6f2c404ab945fbc2a3       0.230   \n",
       "96107  be54e183db5d75147ffcb4582c0e699b       1.200   \n",
       "\n",
       "                                    sku      a     b     c    0  120  130  \\\n",
       "0      6287a74b664fd8ad4ed5c541b399a82b   18.6   3.3  49.7  0.0  0.0  0.0   \n",
       "1      ef468fa349bb8f058aa5dcd76bda60b2   30.0  23.0  22.0  0.0  0.0  0.0   \n",
       "2      d714bc5c946ec01d9b09714524805e5c   14.0  10.7  43.8  0.0  0.0  0.0   \n",
       "3      eb0e661f3ed57ef7ca16418bf50e363e   23.4   8.0  33.9  0.0  0.0  0.0   \n",
       "4      0588e43ea7ad1ef603059269db6467eb   30.0  47.0  15.0  0.0  0.0  0.0   \n",
       "...                                 ...    ...   ...   ...  ...  ...  ...   \n",
       "96103  6f103f2f8f9153f5d63cb095284d6cd8   22.1   4.4   7.0  0.0  0.0  0.0   \n",
       "96104  bd4fcd43314a9b3e28cbf7ae22b3ece4   25.0   9.0  18.0  0.0  0.0  0.0   \n",
       "96105  9db21acf9e6c1a66493c246c1461f989   11.4  10.2  30.3  0.0  0.0  0.0   \n",
       "96106  4aedb72c5662562524f6119918c7179b   23.0   2.0  12.0  0.0  0.0  0.0   \n",
       "96107  c674cb7255f1417a92e62f50b85aad5a  123.0   5.0  62.0  0.0  0.0  0.0   \n",
       "\n",
       "       200  290  291  292  300  302  303  305  310  320  340  360   40  400  \\\n",
       "0      1.0  0.0  1.0  0.0  0.0  0.0  0.0  0.0  0.0  0.0  0.0  1.0  0.0  0.0   \n",
       "1      1.0  1.0  0.0  0.0  0.0  0.0  0.0  0.0  0.0  0.0  1.0  0.0  0.0  0.0   \n",
       "2      0.0  1.0  0.0  0.0  0.0  0.0  0.0  0.0  0.0  0.0  1.0  0.0  0.0  0.0   \n",
       "3      1.0  1.0  0.0  0.0  0.0  0.0  0.0  0.0  0.0  0.0  0.0  1.0  0.0  0.0   \n",
       "4      0.0  0.0  1.0  0.0  0.0  0.0  0.0  0.0  0.0  1.0  1.0  0.0  0.0  0.0   \n",
       "...    ...  ...  ...  ...  ...  ...  ...  ...  ...  ...  ...  ...  ...  ...   \n",
       "96103  0.0  1.0  0.0  0.0  0.0  0.0  0.0  0.0  0.0  0.0  1.0  0.0  0.0  0.0   \n",
       "96104  0.0  1.0  0.0  0.0  0.0  0.0  0.0  0.0  1.0  0.0  1.0  0.0  0.0  0.0   \n",
       "96105  0.0  1.0  0.0  0.0  0.0  0.0  0.0  0.0  0.0  0.0  1.0  0.0  0.0  0.0   \n",
       "96106  0.0  1.0  0.0  0.0  0.0  0.0  0.0  0.0  0.0  0.0  0.0  0.0  0.0  0.0   \n",
       "96107  0.0  0.0  0.0  1.0  1.0  1.0  0.0  0.0  0.0  0.0  1.0  0.0  0.0  0.0   \n",
       "\n",
       "       410  440  460  480  485  520  610  620  641  670  700  900  910  950  \\\n",
       "0      0.0  0.0  0.0  0.0  0.0  0.0  0.0  0.0  0.0  0.0  0.0  0.0  0.0  0.0   \n",
       "1      0.0  0.0  0.0  0.0  0.0  0.0  0.0  0.0  0.0  0.0  0.0  0.0  0.0  0.0   \n",
       "2      0.0  0.0  0.0  0.0  0.0  0.0  0.0  0.0  0.0  0.0  0.0  0.0  0.0  0.0   \n",
       "3      0.0  0.0  0.0  0.0  0.0  0.0  0.0  0.0  0.0  0.0  0.0  0.0  0.0  0.0   \n",
       "4      1.0  0.0  0.0  1.0  1.0  0.0  0.0  0.0  0.0  0.0  0.0  0.0  0.0  0.0   \n",
       "...    ...  ...  ...  ...  ...  ...  ...  ...  ...  ...  ...  ...  ...  ...   \n",
       "96103  0.0  0.0  0.0  0.0  0.0  0.0  0.0  0.0  0.0  0.0  0.0  0.0  0.0  0.0   \n",
       "96104  0.0  0.0  0.0  0.0  0.0  0.0  0.0  0.0  0.0  0.0  0.0  0.0  0.0  0.0   \n",
       "96105  0.0  0.0  0.0  0.0  0.0  0.0  0.0  0.0  0.0  0.0  0.0  0.0  0.0  0.0   \n",
       "96106  0.0  0.0  0.0  0.0  0.0  0.0  0.0  0.0  0.0  0.0  0.0  0.0  0.0  0.0   \n",
       "96107  0.0  0.0  0.0  0.0  0.0  0.0  0.0  0.0  0.0  0.0  0.0  0.0  0.0  1.0   \n",
       "\n",
       "       960  970  sku_volume  min_sku_dim  max_sku_dim selected_cartontype  \n",
       "0      0.0  0.0      3051.0          3.3         49.7             STRETCH  \n",
       "1      0.0  0.0     15180.0         22.0         30.0             STRETCH  \n",
       "2      0.0  0.0      6561.0         10.7         43.8             STRETCH  \n",
       "3      0.0  0.0      6346.0          8.0         33.9             STRETCH  \n",
       "4      0.0  0.0     21150.0         15.0         47.0             NONPACK  \n",
       "...    ...  ...         ...          ...          ...                 ...  \n",
       "96103  0.0  0.0       681.0          4.4         22.1                 MYB  \n",
       "96104  0.0  0.0      4050.0          9.0         25.0                 YMC  \n",
       "96105  0.0  0.0      3523.0         10.2         30.3             NONPACK  \n",
       "96106  0.0  0.0       552.0          2.0         23.0                 MYB  \n",
       "96107  0.0  0.0     38130.0          5.0        123.0             NONPACK  \n",
       "\n",
       "[96108 rows x 43 columns]"
      ]
     },
     "execution_count": 16,
     "metadata": {},
     "output_type": "execute_result"
    }
   ],
   "source": [
    "data_single = data_single.drop('selected_cartontype', axis=1)\n",
    "data_single = data_single.merge(packages, on='sku', how='left')\n",
    "data_single"
   ]
  },
  {
   "cell_type": "markdown",
   "id": "1b1ad437-f8d1-473a-a670-e1545e6a9361",
   "metadata": {
    "tags": []
   },
   "source": [
    "Проверим дубликаты"
   ]
  },
  {
   "cell_type": "code",
   "execution_count": 17,
   "id": "dddef49d-16ac-465d-b8d8-4ea6e3814886",
   "metadata": {
    "tags": []
   },
   "outputs": [
    {
     "data": {
      "text/plain": [
       "47672"
      ]
     },
     "execution_count": 17,
     "metadata": {},
     "output_type": "execute_result"
    }
   ],
   "source": [
    "data_single.drop(['orderkey'],\n",
    "                axis=1).duplicated().sum()"
   ]
  },
  {
   "cell_type": "markdown",
   "id": "726fc589-a4aa-4167-985c-299afa3b92e5",
   "metadata": {},
   "source": [
    "Около половины товаров теперь повторяются. Избавимся от дубликатов. "
   ]
  },
  {
   "cell_type": "code",
   "execution_count": 18,
   "id": "d14dee3c-9e24-4964-92c5-4498576e0714",
   "metadata": {
    "tags": []
   },
   "outputs": [
    {
     "data": {
      "text/plain": [
       "(48436, 43)"
      ]
     },
     "execution_count": 18,
     "metadata": {},
     "output_type": "execute_result"
    }
   ],
   "source": [
    "subset = list(set(data_single.columns) - {'orderkey', 'box_num', 'recommended_cartontype'})\n",
    "data_single = data_single.drop_duplicates(subset=subset)\n",
    "data_single.shape"
   ]
  },
  {
   "cell_type": "markdown",
   "id": "329c2b04-030c-4c63-b484-16a6414c41f7",
   "metadata": {},
   "source": [
    "И наконец добавим еще один признак - плотность, предполагая что соотношение веса и объема может влиять на выбор упаковки. "
   ]
  },
  {
   "cell_type": "code",
   "execution_count": 19,
   "id": "5ef0fbb1-14ef-414a-bae4-6f4023560618",
   "metadata": {
    "tags": []
   },
   "outputs": [],
   "source": [
    "data_single['density'] = round(data_single['goods_wght'] / data_single['sku_volume'],5)"
   ]
  },
  {
   "cell_type": "code",
   "execution_count": 20,
   "id": "a34f251f-6c6e-4018-8108-c859288cc3bd",
   "metadata": {
    "tags": []
   },
   "outputs": [
    {
     "data": {
      "text/plain": [
       "MYB        0.344888\n",
       "MYC        0.188269\n",
       "MYA        0.162255\n",
       "NONPACK    0.090470\n",
       "MYD        0.076307\n",
       "STRETCH    0.073582\n",
       "MYE        0.021162\n",
       "YMA        0.018602\n",
       "YMC        0.011624\n",
       "YMF        0.003200\n",
       "MYF        0.003159\n",
       "YMW        0.002911\n",
       "YMG        0.002643\n",
       "YME        0.000661\n",
       "YMX        0.000248\n",
       "YML        0.000021\n",
       "Name: selected_cartontype, dtype: float64"
      ]
     },
     "execution_count": 20,
     "metadata": {},
     "output_type": "execute_result"
    }
   ],
   "source": [
    "data_single.selected_cartontype.value_counts(normalize=True)"
   ]
  },
  {
   "cell_type": "markdown",
   "id": "8b929535-f7a8-4e92-adde-88890747444e",
   "metadata": {
    "tags": []
   },
   "source": [
    "Больше 15% товаров не упаковывались вообще или упаковывались в стрейч пленку. Попробуем обучить классификатор и проверить сможем ли мы разделить товары для которых нужна упаковка и товары для которых она не нужна."
   ]
  },
  {
   "cell_type": "markdown",
   "id": "c93a92dc-3056-4582-8d9c-d13cc897b0e1",
   "metadata": {},
   "source": [
    "### Классификатор для определения нуждается ли товар в упаковке или нет"
   ]
  },
  {
   "cell_type": "code",
   "execution_count": 21,
   "id": "b956692a-4f8d-499e-9e2a-b3fbb80122ff",
   "metadata": {
    "tags": []
   },
   "outputs": [],
   "source": [
    "cb = catboost.CatBoostClassifier(verbose=False, class_weights={0:1,1:8})\n",
    "skf = StratifiedKFold(n_splits=5, \n",
    "                      shuffle=True,\n",
    "                      random_state=42)"
   ]
  },
  {
   "cell_type": "markdown",
   "id": "1efd4574-8a1a-4135-a821-17cb7559b70c",
   "metadata": {},
   "source": [
    "Прометим \"1\" те заказы где не использовалась упаковка или была использована стрейч пленка. Для остальных поставим \"0\""
   ]
  },
  {
   "cell_type": "code",
   "execution_count": 22,
   "id": "60ed6601-40c9-48cc-ad13-8afed0e23539",
   "metadata": {
    "tags": []
   },
   "outputs": [],
   "source": [
    "X = data_single.drop(['orderkey', 'sku', 'selected_cartontype'], axis=1)\n",
    "y = data_single.selected_cartontype.map(lambda x: 1 if x in ['NONPACK', 'STRETCH'] else 0)"
   ]
  },
  {
   "cell_type": "markdown",
   "id": "11f14430-fd1f-43dc-b5b0-fe428a7fe66b",
   "metadata": {},
   "source": [
    "Из-за дисбаланса классов а так же из-за невозможности определить порог принятия решения мы будем использовать метрику roc-auc для оценки способности алгоритма разделять классы. "
   ]
  },
  {
   "cell_type": "code",
   "execution_count": 23,
   "id": "439b8074-1150-4e53-921d-7026ed63da24",
   "metadata": {
    "tags": []
   },
   "outputs": [
    {
     "name": "stdout",
     "output_type": "stream",
     "text": [
      "CV mean roc_auc score 0.947\n",
      "CPU times: user 70.9 ms, sys: 123 ms, total: 194 ms\n",
      "Wall time: 31 s\n"
     ]
    }
   ],
   "source": [
    "%%time\n",
    "\n",
    "cv_scores = cross_validate(cb, X,y, cv=skf, n_jobs=-1,\n",
    "                           scoring=['roc_auc'])\n",
    "\n",
    "print('CV mean roc_auc score', round(np.mean(cv_scores['test_roc_auc']),3))"
   ]
  },
  {
   "cell_type": "markdown",
   "id": "c1646d18-2fff-4615-ac59-d03fe5e64ce3",
   "metadata": {},
   "source": [
    "Обучим классификатор на всех данных"
   ]
  },
  {
   "cell_type": "code",
   "execution_count": 24,
   "id": "a6c10444-d5f3-415a-9865-5d63578c8a7a",
   "metadata": {
    "tags": []
   },
   "outputs": [
    {
     "data": {
      "text/plain": [
       "<catboost.core.CatBoostClassifier at 0x7f77c9022af0>"
      ]
     },
     "execution_count": 24,
     "metadata": {},
     "output_type": "execute_result"
    }
   ],
   "source": [
    "cb.fit(X,y)"
   ]
  },
  {
   "cell_type": "markdown",
   "id": "9b19d5e4-b59c-440b-a122-539c4f8b5875",
   "metadata": {},
   "source": [
    "И посмотрим какие признаки оказались наиболее важными для обучения модели"
   ]
  },
  {
   "cell_type": "code",
   "execution_count": 25,
   "id": "9a43cb58-5776-4047-92a1-623b4ce11719",
   "metadata": {
    "tags": []
   },
   "outputs": [],
   "source": [
    "def feature_imp(importances=None):\n",
    "\n",
    "    feature_imp = pd.DataFrame(sorted(zip(importances, X.columns)), \n",
    "                                columns=['Value','Feature'])\n",
    "    sns.barplot(x=\"Value\", y=\"Feature\",\n",
    "                data=feature_imp.sort_values(by=\"Value\", ascending=False))\n",
    "    plt.title(f'Catboost feature importances')\n",
    "    plt.tight_layout()\n",
    "    plt.show()\n",
    "    return feature_imp"
   ]
  },
  {
   "cell_type": "code",
   "execution_count": 26,
   "id": "a080630c-6871-477f-9809-7fbf3b3c4562",
   "metadata": {
    "tags": []
   },
   "outputs": [
    {
     "data": {
      "image/png": "[encoded data removed]",
      "text/plain": [
       "<Figure size 1000x600 with 1 Axes>"
      ]
     },
     "metadata": {},
     "output_type": "display_data"
    }
   ],
   "source": [
    "fi = feature_imp(cb.get_feature_importance())"
   ]
  },
  {
   "cell_type": "markdown",
   "id": "ee4615be-5723-4cef-8201-c966e82888b1",
   "metadata": {},
   "source": [
    "Оставим только самые важные признаки чтобы сделать модель легче"
   ]
  },
  {
   "cell_type": "code",
   "execution_count": 27,
   "id": "4d58eb8c-59df-462d-92a2-925ec778d77c",
   "metadata": {
    "tags": []
   },
   "outputs": [],
   "source": [
    "cb_features = ['goods_wght', 'sku_volume', 'min_sku_dim', \n",
    "               'max_sku_dim', 'density', 'a', 'b', 'c', \n",
    "               '200','290','291','292','320', '340',\n",
    "               '360','700']\n",
    "X.columns = list(map(str, X.columns))"
   ]
  },
  {
   "cell_type": "code",
   "execution_count": 28,
   "id": "d1bd5e6f-ae28-4280-868e-b885fafcec3e",
   "metadata": {
    "tags": []
   },
   "outputs": [
    {
     "data": {
      "text/plain": [
       "<catboost.core.CatBoostClassifier at 0x7f77c9022af0>"
      ]
     },
     "execution_count": 28,
     "metadata": {},
     "output_type": "execute_result"
    }
   ],
   "source": [
    "cb.fit(X[cb_features], y)"
   ]
  },
  {
   "cell_type": "markdown",
   "id": "96dabe39-f485-4b1b-b43a-f2d08044f419",
   "metadata": {},
   "source": [
    "И сохраним эту модель в файле models/catboost_pack_nonpack.pkl"
   ]
  },
  {
   "cell_type": "markdown",
   "id": "afcfe148-7837-44dd-af34-3e56475ae400",
   "metadata": {},
   "source": [
    "### Рекомендация упаковки в случае если она нужна"
   ]
  },
  {
   "cell_type": "markdown",
   "id": "4097a39c-794f-4a72-a720-847ee30c7d31",
   "metadata": {},
   "source": [
    "Для того, чтобы определять конкретную упаковку для товара мы воспользуемся комбинацией следующих алгоритмов:\n",
    " - метод KNN для того чтобы искать ближайших соседей товара среди всех данных по линейным размерам и весу и возвращает вероятности принадлежности к каждому классу\n",
    " - алгоритм подбора упаковок для товара по линейным размерам и объему(будем проверять в какие упаковки вообще может поместиться наш товар)"
   ]
  },
  {
   "cell_type": "markdown",
   "id": "b0c2cbfd-e7fa-43eb-bf72-a9c8b7389c39",
   "metadata": {},
   "source": [
    "Подготовим модель KNN"
   ]
  },
  {
   "cell_type": "code",
   "execution_count": 29,
   "id": "7d72e146-9e6c-44a9-bdb2-6e01aea29ec3",
   "metadata": {},
   "outputs": [],
   "source": [
    "#признаки для KNN по которым будет вестись поиск и классификация\n",
    "knn_features = ['goods_wght','a', 'b', 'c','sku_volume',\n",
    "                'min_sku_dim', 'max_sku_dim', 'density']"
   ]
  },
  {
   "cell_type": "markdown",
   "id": "af5add63-9d54-431f-a609-04f4768ff9b2",
   "metadata": {},
   "source": [
    "Для KNN целесообразно нормализовать признаки при помощи standard scaler"
   ]
  },
  {
   "cell_type": "code",
   "execution_count": 30,
   "id": "77f916ea-85b0-4640-a452-65e373ecf389",
   "metadata": {
    "tags": []
   },
   "outputs": [],
   "source": [
    "std_scaler = StandardScaler()\n",
    "X_scaled = std_scaler.fit_transform(data_single[knn_features].copy().values)"
   ]
  },
  {
   "cell_type": "markdown",
   "id": "878939a7-9db0-444e-899e-0f452d0dd1c7",
   "metadata": {},
   "source": [
    "Словари для кодирования упаковок"
   ]
  },
  {
   "cell_type": "code",
   "execution_count": 31,
   "id": "6c8b50d4-e8c5-43d3-8d9c-bfa5736adb10",
   "metadata": {
    "tags": []
   },
   "outputs": [],
   "source": [
    "packages = data_single.selected_cartontype.unique()\n",
    "pack_dict = dict(zip(packages, range(len(packages))))\n",
    "pack_dict.update({'YML':14})\n",
    "pack_dict_inv = {v:k for k,v in pack_dict.items()}\n",
    "\n",
    "y = data_single.selected_cartontype.map(pack_dict)"
   ]
  },
  {
   "cell_type": "code",
   "execution_count": 32,
   "id": "5111ae51-b583-424f-9f84-a8a98ffd779a",
   "metadata": {
    "tags": []
   },
   "outputs": [
    {
     "name": "stdout",
     "output_type": "stream",
     "text": [
      "roc: 0.7446208172158547\n",
      "CPU times: user 32.3 ms, sys: 16.9 ms, total: 49.2 ms\n",
      "Wall time: 2.74 s\n"
     ]
    }
   ],
   "source": [
    "%%time\n",
    "knn_clf = KNeighborsClassifier(n_neighbors=25, \n",
    "                           n_jobs=-1, \n",
    "                           weights='uniform',\n",
    "                           metric='minkowski',\n",
    "                           algorithm='auto')\n",
    "\n",
    "cv_scores = cross_validate(knn_clf, X_scaled, y, cv=5, n_jobs=-1,\n",
    "                           scoring=['roc_auc_ovr'])\n",
    "print('roc:', np.mean(cv_scores['test_roc_auc_ovr']))"
   ]
  },
  {
   "cell_type": "code",
   "execution_count": 33,
   "id": "2bdf9155-896e-419b-afed-1a37f41dfba9",
   "metadata": {
    "tags": []
   },
   "outputs": [
    {
     "data": {
      "text/html": [
       "<style>#sk-container-id-1 {color: black;background-color: white;}#sk-container-id-1 pre{padding: 0;}#sk-container-id-1 div.sk-toggleable {background-color: white;}#sk-container-id-1 label.sk-toggleable__label {cursor: pointer;display: block;width: 100%;margin-bottom: 0;padding: 0.3em;box-sizing: border-box;text-align: center;}#sk-container-id-1 label.sk-toggleable__label-arrow:before {content: \"▸\";float: left;margin-right: 0.25em;color: #696969;}#sk-container-id-1 label.sk-toggleable__label-arrow:hover:before {color: black;}#sk-container-id-1 div.sk-estimator:hover label.sk-toggleable__label-arrow:before {color: black;}#sk-container-id-1 div.sk-toggleable__content {max-height: 0;max-width: 0;overflow: hidden;text-align: left;background-color: #f0f8ff;}#sk-container-id-1 div.sk-toggleable__content pre {margin: 0.2em;color: black;border-radius: 0.25em;background-color: #f0f8ff;}#sk-container-id-1 input.sk-toggleable__control:checked~div.sk-toggleable__content {max-height: 200px;max-width: 100%;overflow: auto;}#sk-container-id-1 input.sk-toggleable__control:checked~label.sk-toggleable__label-arrow:before {content: \"▾\";}#sk-container-id-1 div.sk-estimator input.sk-toggleable__control:checked~label.sk-toggleable__label {background-color: #d4ebff;}#sk-container-id-1 div.sk-label input.sk-toggleable__control:checked~label.sk-toggleable__label {background-color: #d4ebff;}#sk-container-id-1 input.sk-hidden--visually {border: 0;clip: rect(1px 1px 1px 1px);clip: rect(1px, 1px, 1px, 1px);height: 1px;margin: -1px;overflow: hidden;padding: 0;position: absolute;width: 1px;}#sk-container-id-1 div.sk-estimator {font-family: monospace;background-color: #f0f8ff;border: 1px dotted black;border-radius: 0.25em;box-sizing: border-box;margin-bottom: 0.5em;}#sk-container-id-1 div.sk-estimator:hover {background-color: #d4ebff;}#sk-container-id-1 div.sk-parallel-item::after {content: \"\";width: 100%;border-bottom: 1px solid gray;flex-grow: 1;}#sk-container-id-1 div.sk-label:hover label.sk-toggleable__label {background-color: #d4ebff;}#sk-container-id-1 div.sk-serial::before {content: \"\";position: absolute;border-left: 1px solid gray;box-sizing: border-box;top: 0;bottom: 0;left: 50%;z-index: 0;}#sk-container-id-1 div.sk-serial {display: flex;flex-direction: column;align-items: center;background-color: white;padding-right: 0.2em;padding-left: 0.2em;position: relative;}#sk-container-id-1 div.sk-item {position: relative;z-index: 1;}#sk-container-id-1 div.sk-parallel {display: flex;align-items: stretch;justify-content: center;background-color: white;position: relative;}#sk-container-id-1 div.sk-item::before, #sk-container-id-1 div.sk-parallel-item::before {content: \"\";position: absolute;border-left: 1px solid gray;box-sizing: border-box;top: 0;bottom: 0;left: 50%;z-index: -1;}#sk-container-id-1 div.sk-parallel-item {display: flex;flex-direction: column;z-index: 1;position: relative;background-color: white;}#sk-container-id-1 div.sk-parallel-item:first-child::after {align-self: flex-end;width: 50%;}#sk-container-id-1 div.sk-parallel-item:last-child::after {align-self: flex-start;width: 50%;}#sk-container-id-1 div.sk-parallel-item:only-child::after {width: 0;}#sk-container-id-1 div.sk-dashed-wrapped {border: 1px dashed gray;margin: 0 0.4em 0.5em 0.4em;box-sizing: border-box;padding-bottom: 0.4em;background-color: white;}#sk-container-id-1 div.sk-label label {font-family: monospace;font-weight: bold;display: inline-block;line-height: 1.2em;}#sk-container-id-1 div.sk-label-container {text-align: center;}#sk-container-id-1 div.sk-container {/* jupyter's `normalize.less` sets `[hidden] { display: none; }` but bootstrap.min.css set `[hidden] { display: none !important; }` so we also need the `!important` here to be able to override the default hidden behavior on the sphinx rendered scikit-learn.org. See: https://github.com/scikit-learn/scikit-learn/issues/21755 */display: inline-block !important;position: relative;}#sk-container-id-1 div.sk-text-repr-fallback {display: none;}</style><div id=\"sk-container-id-1\" class=\"sk-top-container\"><div class=\"sk-text-repr-fallback\"><pre>KNeighborsClassifier(n_jobs=-1, n_neighbors=25)</pre><b>In a Jupyter environment, please rerun this cell to show the HTML representation or trust the notebook. <br />On GitHub, the HTML representation is unable to render, please try loading this page with nbviewer.org.</b></div><div class=\"sk-container\" hidden><div class=\"sk-item\"><div class=\"sk-estimator sk-toggleable\"><input class=\"sk-toggleable__control sk-hidden--visually\" id=\"sk-estimator-id-1\" type=\"checkbox\" checked><label for=\"sk-estimator-id-1\" class=\"sk-toggleable__label sk-toggleable__label-arrow\">KNeighborsClassifier</label><div class=\"sk-toggleable__content\"><pre>KNeighborsClassifier(n_jobs=-1, n_neighbors=25)</pre></div></div></div></div></div>"
      ],
      "text/plain": [
       "KNeighborsClassifier(n_jobs=-1, n_neighbors=25)"
      ]
     },
     "execution_count": 33,
     "metadata": {},
     "output_type": "execute_result"
    }
   ],
   "source": [
    "knn_clf.fit(X_scaled, y)"
   ]
  },
  {
   "cell_type": "markdown",
   "id": "3372ad94-c842-48ad-8753-78c167e437d3",
   "metadata": {},
   "source": [
    "Классификатор KNN вместе со StandardScaler и pack_dict_inv сохраним в файл knn_scaler_dict.pkl"
   ]
  },
  {
   "cell_type": "markdown",
   "id": "2ec42c11-e3a3-400e-a50e-3ae7b54e18d0",
   "metadata": {},
   "source": [
    "В целом KNN довольно плохо справляется с задачей. Но мы и так знали что классы плохо разделимы, поэтому ответы KNN мы будем использовать как дополнительные, и плюс будем брать топ 3 похожих товара. "
   ]
  },
  {
   "cell_type": "code",
   "execution_count": 34,
   "id": "dc3b7611-ad4e-4811-bad4-61b1c45caf77",
   "metadata": {
    "tags": []
   },
   "outputs": [],
   "source": [
    "def get_knn_top(sample:np.array, k:int=3, th:float=0.2)-> list:\n",
    "    \"\"\"Gets features of sku and returns top k appropriate packs.\n",
    "    Based on a pretrained KNNClassifier.\n",
    "    Scale the features using StandardScaler.\n",
    "\n",
    "    Parameters\n",
    "    ----------\n",
    "    sample : np.array\n",
    "\n",
    "    k : int\n",
    "         (Default value = 3)\n",
    "         Number of most relevant neighbours\n",
    "\n",
    "    th : float\n",
    "         (Default value = 0.2)\n",
    "         A threshold used to cut off the values\n",
    "         with the score less than threshold\n",
    "\n",
    "    Returns\n",
    "    -------\n",
    "    top : list\n",
    "        List of recommended packs\n",
    "\n",
    "    \"\"\"\n",
    "    sample_for_knn = std_scaler.transform(sample.values)\n",
    "    preds_knn_probas = knn_clf.predict_proba(sample_for_knn)[0]\n",
    "    probs_packs = [(p,pack_dict_inv[cl]) for p,cl in zip(preds_knn_probas, knn_clf.classes_)]\n",
    "    knn_recommendations = sorted(probs_packs, reverse=True)\n",
    "    top = [pack[1] for pack in knn_recommendations if pack[0] >= th]\n",
    "    \n",
    "    return top[:k]"
   ]
  },
  {
   "cell_type": "markdown",
   "id": "422d5075-4d26-4992-886f-5ce69e8d2181",
   "metadata": {
    "tags": []
   },
   "source": [
    "Импортируем модуль packer для рекомендации упаковки исходя из габаритов товара(это наш алгоритмический подход), а так же функцию get_cheapest которая подбирает самую дешевую упаковку из рекомендованных.\n",
    "\n",
    "У нас часто будут встречаться случаи когда подходит несколько упаковок на основании рекомендации KNN и на основании алгоритма проверки размеров. В таких случаях мы будем рекомендовать самую дешевую(и, значит, самую маленькую) упаковку для минимизации затрат на упаковку и логистику(экономия места в транспорте)"
   ]
  },
  {
   "cell_type": "code",
   "execution_count": 35,
   "id": "ef9673b0-fee3-4d82-959e-8135e2922c15",
   "metadata": {
    "tags": []
   },
   "outputs": [],
   "source": [
    "from packer import get_packed\n",
    "from utils import get_cheapest"
   ]
  },
  {
   "cell_type": "markdown",
   "id": "46ff4532-06bf-4fd5-ab06-2c09601b2430",
   "metadata": {
    "tags": []
   },
   "source": [
    "Для тестирования определим функцию которая будет создавать словарь с заказом, такого же вида как это будет приходить через API:\n",
    "\n",
    "```\n",
    "{'orderId': str,\n",
    " 'items': [{\n",
    "   'goods_wght': float,\n",
    "   'sku': str,\n",
    "   'a': float,\n",
    "   'b': float,\n",
    "   'c': float,\n",
    "   'cargotypes': List[float],\n",
    "   'count': int\n",
    "   }]}\n",
    "```"
   ]
  },
  {
   "cell_type": "code",
   "execution_count": 36,
   "id": "34cd5ee6-4ebe-4a17-8df2-57e4ed83af17",
   "metadata": {
    "tags": []
   },
   "outputs": [],
   "source": [
    "def get_json_sample(sample:pd.DataFrame)-> dict:\n",
    "    \"\"\"Get a json-style sample from dataset\"\"\"\n",
    "    order = dict(zip(sample, sample.values[0]))\n",
    "    order['cargotypes'] = [k for k,v in order.items() \n",
    "                           if (v==1 and k not in ['a','b','c','goods_wght'])]\n",
    "    order = {k:v for k,v in order.items() if k not in cargotypes}\n",
    "    order['count'] = 1\n",
    "    data = {\"orderId\": order.pop('orderkey'),\n",
    "        \"items\": [order]}\n",
    "    return data\n"
   ]
  },
  {
   "cell_type": "code",
   "execution_count": 37,
   "id": "b36d7a87-bc90-43a0-ad20-f6fefa6e7b88",
   "metadata": {
    "tags": []
   },
   "outputs": [
    {
     "data": {
      "text/plain": [
       "{'orderId': 'db32898024acfe704c28f14c78e588e0',\n",
       " 'items': [{'goods_wght': 0.26,\n",
       "   'sku': 'f03a7ac61fec75d77df7b84d72418eb8',\n",
       "   'a': 7.0,\n",
       "   'b': 9.0,\n",
       "   'c': 7.0,\n",
       "   'cargotypes': ['0', '290', '410', '700', '900'],\n",
       "   'count': 1}]}"
      ]
     },
     "execution_count": 37,
     "metadata": {},
     "output_type": "execute_result"
    }
   ],
   "source": [
    "data_single_test = data_single.drop(['sku_volume', \n",
    "                                     'min_sku_dim',\n",
    "                                     'max_sku_dim',\n",
    "                                     'density',\n",
    "                                     'selected_cartontype'], axis=1)\n",
    "data_single_test.columns = list(map(str, data_single_test.columns))\n",
    "get_json_sample(data_single_test.sample(1))"
   ]
  },
  {
   "cell_type": "markdown",
   "id": "f5bef0e0-0f12-4066-b4ff-23069e409b4b",
   "metadata": {
    "tags": []
   },
   "source": [
    "И функция которая будет подготавливать признаки для моделей. "
   ]
  },
  {
   "cell_type": "code",
   "execution_count": 38,
   "id": "ce5245c4-a223-428a-8da4-6406e6c2c83d",
   "metadata": {
    "tags": []
   },
   "outputs": [],
   "source": [
    "def get_features(query:dict, dataframe=True)->pd.DataFrame:\n",
    "    \"\"\"Prepares the features for models.\n",
    "    Return either a pandas DataFrame for catboost and KNN or a dict \n",
    "    \"\"\"\n",
    "    item = query['items'][0].copy()\n",
    "    item['sku_volume'] = round(item['a']*item['b']*item['c'], 2)\n",
    "    item['min_sku_dim'] = min([item['a'],item['b'],item['c']])\n",
    "    item['max_sku_dim'] = max([item['a'],item['b'],item['c']])\n",
    "    item['density'] = round(item['goods_wght'] / item['sku_volume'], 2)\n",
    "    if not dataframe:\n",
    "        item.pop('cargotypes')\n",
    "        item.pop('count')\n",
    "        return item\n",
    "        \n",
    "    item['cargotypes'] = list(set(map(lambda x: cargotype_dict.get(int(x),0), \n",
    "                                      item['cargotypes'])))\n",
    "    \n",
    "    for cargotype in cargotypes:\n",
    "        item[cargotype] = (int(cargotype) in item['cargotypes']) * 1\n",
    "        \n",
    "    item.pop('cargotypes')\n",
    "    item.pop('count')\n",
    "    return pd.DataFrame(item, index=[0])"
   ]
  },
  {
   "cell_type": "code",
   "execution_count": 39,
   "id": "2c07ad65-99ef-4164-b320-4a2a4bbe132d",
   "metadata": {},
   "outputs": [
    {
     "data": {
      "text/plain": [
       "Index(['goods_wght', 'sku', 'a', 'b', 'c', 'sku_volume', 'min_sku_dim',\n",
       "       'max_sku_dim', 'density', '360', '950', '970', '302', '410', '340',\n",
       "       '520', '670', '0', '620', '910', '300', '480', '120', '40', '485',\n",
       "       '900', '303', '400', '440', '960', '292', '610', '290', '200', '130',\n",
       "       '305', '641', '310', '700', '291', '799', '320', '460'],\n",
       "      dtype='object')"
      ]
     },
     "execution_count": 39,
     "metadata": {},
     "output_type": "execute_result"
    }
   ],
   "source": [
    "get_features(get_json_sample(data_single_test.sample(1))).columns"
   ]
  },
  {
   "cell_type": "markdown",
   "id": "fc8bf5cd-0c6b-4b8d-813b-1de53d0fd7e5",
   "metadata": {},
   "source": [
    "### Проверка алгоритма KNN"
   ]
  },
  {
   "cell_type": "markdown",
   "id": "86efeebb-7df3-471a-b944-d4c6980bd4d5",
   "metadata": {},
   "source": [
    "Проверим на 5 тысячах сэмплов как часто у нас пересекаются рекомендации KNN и топ 3 результатов алгоритмическолго подбора:"
   ]
  },
  {
   "cell_type": "code",
   "execution_count": 40,
   "id": "44bb0046-e960-4b54-964b-a16ee4f582ea",
   "metadata": {
    "tags": []
   },
   "outputs": [],
   "source": [
    "data_single_test_knn = (data_single[~data_single.selected_cartontype.isin(['STRETCH', 'NONPACK'])]\n",
    "                       .drop(['sku_volume',\t'min_sku_dim', \n",
    "                              'max_sku_dim', 'selected_cartontype', \n",
    "                              'density'], axis=1))"
   ]
  },
  {
   "cell_type": "code",
   "execution_count": 41,
   "id": "0860edd0-bec8-4261-9437-4dfd564b12c6",
   "metadata": {
    "tags": []
   },
   "outputs": [
    {
     "data": {
      "application/vnd.jupyter.widget-view+json": {
       "model_id": "3716c205c5664e82a6a96aa24f29e851",
       "version_major": 2,
       "version_minor": 0
      },
      "text/plain": [
       "  0%|          | 0/5000 [00:00<?, ?it/s]"
      ]
     },
     "metadata": {},
     "output_type": "display_data"
    },
    {
     "name": "stdout",
     "output_type": "stream",
     "text": [
      "Share of matches between knn and algo: 0.93\n"
     ]
    }
   ],
   "source": [
    "n_samples = 5_000\n",
    "test_results = []\n",
    "for _ in tqdm(range(n_samples)):\n",
    "    # случайный заказ\n",
    "    sample = get_json_sample(data_single_test_knn.sample(1))\n",
    "    #результат knn\n",
    "    knn_rec = get_knn_top(get_features(sample)[knn_features])\n",
    "    # топ 3 самых дешевых упаковки из подбора алгоритма\n",
    "    algo_rec = get_packed(sample)[0][:3]\n",
    "    # есть ли пересечения множеств\n",
    "    test_results.append(set(knn_rec) & set(algo_rec) != set())\n",
    "    \n",
    "print(f'Share of matches between knn and algo: {np.mean(test_results):.2f}')"
   ]
  },
  {
   "cell_type": "markdown",
   "id": "d8188a90-fcfd-41db-8302-e5a4e5496b77",
   "metadata": {},
   "source": [
    "Так как у нас около 30% товаров с карготипами не требующими упаковки все-таки упаковывались в пакеты или коробки(что считается нецелесообразным), то проверить алгоритм на точность не представляется возможным. Однако стоит отметить что тест проведенный выше говорит о том что Алгоритм KNN предлагает упаковку которая в 93-95% случаев совпадает с топ-3 из определения самой дешевой из подходящих."
   ]
  },
  {
   "cell_type": "markdown",
   "id": "92fad74a-37bf-4dea-885c-1a8b6ca108de",
   "metadata": {},
   "source": [
    "### Финальный алгоритм рекоммендации упаковки"
   ]
  },
  {
   "cell_type": "markdown",
   "id": "5746666a-5649-490c-b7d3-95e4dadd70be",
   "metadata": {},
   "source": [
    "Наконец, определим алгоритм определения упаковки:\n",
    "1. Сначала для карготипов не требующих упаковки делаем проверку на принадлежность товара к ним\n",
    "2. Определяем карготипы для которых точно нужна упаковка\n",
    "3. Если никакие из условий выше не сработали, запускаем классификатор для предсказания необходимости упаковки\n",
    "4. Если упаковка нужна, ищем упаковки для соседей при помощи KNN и определяем все упаковки в которые может поместиться товар\n",
    "5. Для некоторых карготипов определяем что нужна только коробка или только пакет\n",
    "6. Если такого условия нет, то берем самую дешевую из подходящих упаковок"
   ]
  },
  {
   "cell_type": "code",
   "execution_count": 42,
   "id": "2bbfc490-95fb-4aef-ad7d-98340231e3c1",
   "metadata": {
    "tags": []
   },
   "outputs": [],
   "source": [
    "boxes = ['YMA', 'YMC', 'YME', 'YMF', 'YMG', 'YMH', 'YMJ',\n",
    "         'YML', 'YMN', 'YMO', 'YMP', 'YMQ', 'YMR',  'YMS',\n",
    "         'YMU', 'YMV', 'YMW',  'YMХ', 'YMX', 'YMY']\n",
    "\n",
    "packages = ['MYF', 'MYA', 'MYB', 'MYC', 'MYD', 'MYE']"
   ]
  },
  {
   "cell_type": "code",
   "execution_count": 43,
   "id": "ff359738-4a94-4a4f-9adb-74d451e7b65c",
   "metadata": {
    "tags": []
   },
   "outputs": [],
   "source": [
    "def predict(query:dict)->str:\n",
    "    \"\"\" Recommends the carton type for the sku\n",
    "    \"\"\"\n",
    "    # из исходного запроса с заказом выделяем список с карготипами\n",
    "    item_cargotypes = query['items'][0]['cargotypes']\n",
    "    # 340 - не требует упаковки \n",
    "    # 292 - крупногабаритный товар\n",
    "    if ('340' in item_cargotypes or\n",
    "        '292' in item_cargotypes):\n",
    "        return 'NONPACK'\n",
    "    # 360 - требует упаковку в пленку\n",
    "    if '360' in item_cargotypes:\n",
    "        return \"STRETCH\"\n",
    "    pack_need = False\n",
    "    # Для всех этих карготипов считаем что нужна упаковка\n",
    "    # 950 пачкается и мокрое \n",
    "    # 700 продукты питания \n",
    "    # 460 пахучий \n",
    "    # 960 впитывает запах \n",
    "    # 40 дорогие вещи \n",
    "    if set(item_cargotypes)&set(['950', '700', '460', '960', '60']):\n",
    "        pack_need = True\n",
    "    # формируем признаки для catboost\n",
    "    sample = get_features(query)\n",
    "    # если по первичным карготипам считаем что упаковка не нужна, то \n",
    "    # запускаем классификатор\n",
    "    if not pack_need:\n",
    "        pack_need_cb = cb.predict(sample[cb_features])\n",
    "        if not pack_need_cb:\n",
    "            return 'NONPACK'\n",
    "    # в случае если упаковка нужна, ищем соседей с KNN\n",
    "    knn_ans = get_knn_top(sample[knn_features])\n",
    "    # а так же берем топ 3 самых дешевых из упаковок которые подходят по размеру\n",
    "    item = get_features(query, dataframe=False)\n",
    "    algo_ans = get_packed(query)[0][:3]\n",
    "    # и берем объединение множеств\n",
    "    knn_algo_union = set(algo_ans)|set(knn_ans)\n",
    "    #если в объединении только один ответ - выдаем его \n",
    "    if len(knn_algo_union)==1:\n",
    "        return list(knn_algo_union)[0]\n",
    "    # проверям тип рекомендуемой упаковки\n",
    "    pack_type = None\n",
    "    # хрупкое только в коробки 310\n",
    "    if set(item_cargotypes)&set(['310']):\n",
    "        pack_type = boxes\n",
    "    # пахучее и пачкающееся - в пакеты 950, 460\n",
    "    if set(item_cargotypes)&set(['950', '460']):\n",
    "        pack_type = packages\n",
    "    if pack_type:\n",
    "        ans = get_cheapest(set([pack for pack in knn_algo_union if pack in pack_type]))\n",
    "        if ans: #ответ в объединении knn и алго\n",
    "            return ans\n",
    "        # ответа нет в объединении - ищем во всех подходящих по размерам\n",
    "        ans = get_cheapest(set([pack for pack in  get_packed(query) if pack in pack_type]))\n",
    "        return ans\n",
    "    # если коробка или пакет не так однозначно определены, то\n",
    "    # берем самое дешевое из подходящих\n",
    "    return get_cheapest(knn_algo_union)"
   ]
  },
  {
   "cell_type": "markdown",
   "id": "f0fcb26b-1603-4b43-a74c-f649368f4919",
   "metadata": {},
   "source": [
    "Так как мы знаем, что часто упаковщики используют упаковку бОльшего размера чем могли бы(а значит и более дорогую), мы можем сравнить выбор упаковщиков и предложение нашей модели.\n",
    "Для оценки качества алгоритма мы можем проверить насколько снижается себестоимость упаковки в отличае от использованной упаковщиками. Так же мы сравним насколько изменилась стоимость рекомендованной упаковки по сравнению с текущей моделью(recommended_cartontype)"
   ]
  },
  {
   "cell_type": "code",
   "execution_count": 44,
   "id": "186cd1c8-211d-47c8-a1c0-4206baae7f12",
   "metadata": {
    "tags": []
   },
   "outputs": [],
   "source": [
    "data = (pd.read_csv('data/data.csv', index_col=0)\n",
    "        [['orderkey','selected_cartontype','recommended_cartontype']])"
   ]
  },
  {
   "cell_type": "markdown",
   "id": "9f268bb2-215a-4137-a8e8-96561c58e1f8",
   "metadata": {},
   "source": [
    "Возьмем 10 тысяч случайных заказов для сравнения"
   ]
  },
  {
   "cell_type": "code",
   "execution_count": 45,
   "id": "cbdf38ba-c3af-447e-b955-7047402e2594",
   "metadata": {
    "tags": []
   },
   "outputs": [
    {
     "data": {
      "application/vnd.jupyter.widget-view+json": {
       "model_id": "5fb8119fe190475798e110896a4eb9be",
       "version_major": 2,
       "version_minor": 0
      },
      "text/plain": [
       "  0%|          | 0/10000 [00:00<?, ?it/s]"
      ]
     },
     "metadata": {},
     "output_type": "display_data"
    }
   ],
   "source": [
    "n_samples = 10_000\n",
    "pred_prices, rec_prices, sel_prices = [],[],[]\n",
    "for _ in tqdm(range(n_samples)):\n",
    "    sample = get_json_sample(data_single_test.sample(1))\n",
    "    # упаковка выбранная упаковщиком\n",
    "    sel_cart = data[data.orderkey==sample['orderId']]['selected_cartontype'].values[0]\n",
    "    sel_prices.append(prices_dict.get(sel_cart, 1))\n",
    "    #упаковка рекомендованная текущей моделью\n",
    "    rec_cart = data[data.orderkey==sample['orderId']]['recommended_cartontype'].values[0]\n",
    "    rec_prices.append(prices_dict.get(rec_cart, 1))\n",
    "    #упаковка рекомендованная новой моделью\n",
    "    pred_cart = predict(sample)\n",
    "    pred_prices.append(prices_dict.get(pred_cart, 1))"
   ]
  },
  {
   "cell_type": "markdown",
   "id": "e862a8f9-e666-46ef-85c5-bfdcc9cbabcc",
   "metadata": {
    "tags": []
   },
   "source": [
    "И посчитаем метрику MAPE для сравнения рекомендаций нашей модели, рекомендаций текущего алгоритма и упаковки выбранной упаковщиками. Тут стоит отметить что в нашем случае эта метрика работает как бы в обратрую сторону - наша задача снизить себестоимость упаковки по сравнению с рекомендованной и с выбранной упаковщиками. "
   ]
  },
  {
   "cell_type": "code",
   "execution_count": 46,
   "id": "534a4b22-cadb-4e7f-a437-a08412c0bfec",
   "metadata": {
    "tags": []
   },
   "outputs": [
    {
     "data": {
      "text/plain": [
       "0.628"
      ]
     },
     "execution_count": 46,
     "metadata": {},
     "output_type": "execute_result"
    }
   ],
   "source": [
    "# сравнение с рекомендованной упаковкой\n",
    "round(mape(rec_prices, pred_prices),3)"
   ]
  },
  {
   "cell_type": "code",
   "execution_count": 47,
   "id": "2ff166f7-aba6-426f-a7d3-15c81e62b285",
   "metadata": {
    "tags": []
   },
   "outputs": [
    {
     "data": {
      "text/plain": [
       "0.503"
      ]
     },
     "execution_count": 47,
     "metadata": {},
     "output_type": "execute_result"
    }
   ],
   "source": [
    "# сравнение с выбранной упаковкой\n",
    "round(mape(sel_prices, pred_prices),3)"
   ]
  },
  {
   "cell_type": "markdown",
   "id": "ab50355f-d9ef-4f84-aba8-92ce68aec1ad",
   "metadata": {},
   "source": [
    "То есть подводя итог можно сказать что наша рекомендация в среднем снижает стоимость упаковки на 62% по сравнению с рекомендациями текущего алгоритма и на 50% в сравнении с упаковкой выбранной упаковщиками. "
   ]
  },
  {
   "cell_type": "markdown",
   "id": "dcf56802-18e1-4904-832e-6be0a0e34480",
   "metadata": {},
   "source": [
    "## Итог:\n",
    "\n",
    "Мы разработали алгоритм рекомендации упаковки для заказов с одним товаром использую многоступенчатые фильтры и использую различные подходы для рекомендации упаковки. Был сделан упор на минимизацию себестоимости упаковки, однако мы учитывали дополнительные вводные(карготипы) для обеспечения сохранности товаров при транспортировке. Из анализа упаковок мы знаем что чем меньше цена тем меньше и объем занимаемый упаковкой в транспорте. Таким образом мы снижаем не только себестоимость упаковочных материалов, но и затраты на логистику. "
   ]
  },
  {
   "cell_type": "code",
   "execution_count": null,
   "id": "8c54102e-1cd9-489b-a366-d40dabe44732",
   "metadata": {},
   "outputs": [],
   "source": []
  }
 ],
 "metadata": {
  "kernelspec": {
   "display_name": "Python 3 (ipykernel)",
   "language": "python",
   "name": "python3"
  },
  "language_info": {
   "codemirror_mode": {
    "name": "ipython",
    "version": 3
   },
   "file_extension": ".py",
   "mimetype": "text/x-python",
   "name": "python",
   "nbconvert_exporter": "python",
   "pygments_lexer": "ipython3",
   "version": "3.9.16"
  }
 },
 "nbformat": 4,
 "nbformat_minor": 5
}
