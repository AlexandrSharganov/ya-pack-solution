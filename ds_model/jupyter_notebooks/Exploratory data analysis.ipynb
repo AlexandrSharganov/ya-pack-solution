{
 "cells": [
  {
   "cell_type": "markdown",
   "id": "288a884e",
   "metadata": {},
   "source": [
    "# Разработка алгоритма сервиса упаковщика для Яндекс Маркета"
   ]
  },
  {
   "cell_type": "markdown",
   "id": "03f09bad",
   "metadata": {},
   "source": [
    "<font size=3><b>Общее описание задачи:</b></font> \n",
    "\n",
    "Для того, чтобы пользователь получил заказ, необходимо упаковать заказанные товары в посылки конечному клиенту. Компания заметила, что сотрудник тратит большое количество времени для выбора упаковочного материала в который необходимо упаковать товары. Существует большое количество упаковочного материала (коробочки, пакетики). Необходимо придумать способ подсказывать пользователю информацию о выборе упаковочного материала. Интерфейс упаковщика должен отображать содержимое заказа для контроля комплектности. Интерфейс упаковщика должен на основании содержимого заказа, подсказывать упаковщику в какую тару (коробку, пакет, с учетом размера) нужно упаковать заказ. При определении варианта упаковки (тары) для заказа нужно учитывать тип товара, весогабаритные характеристики и необходимость в дополнительной упаковке для хрупких товаров.\n"
   ]
  },
  {
   "cell_type": "markdown",
   "id": "cad7badc",
   "metadata": {},
   "source": [
    "<font size=3><b>Цели сервиса:</b></font>  \n",
    "\n",
    " - С высокой точностью рекомендовать правильную упаковку для заказа,\n",
    "которая позволит доставить товары без порчи клиенту и минимизирует затраты\n",
    "на упаковочный материал,\n",
    " - Отображение статистики о работе модели,\n",
    " - Интерфейс о том, как советовать информацию по выбору коробки\n",
    "пользователю."
   ]
  },
  {
   "cell_type": "markdown",
   "id": "8bbea0fb",
   "metadata": {},
   "source": [
    "<font size=3><b>Цель DS:</b></font>\n",
    "\n",
    "- Необходимо разработать классификационную модель, которая позволит\n",
    "подсказывать, а какой заказ упаковывать в коробки, а какие в пакетики.\n",
    "\n",
    "- При этом заказ может упаковываться в различные посылки и наша задача\n",
    "минимизировать их колличество.\n",
    "\n",
    "- Выводить оценку качества модели.\n"
   ]
  },
  {
   "cell_type": "markdown",
   "id": "e0dfa626",
   "metadata": {},
   "source": [
    "**План:**\n",
    " - Загрузить и изучить файлы\n",
    " - Сделать предварительные выводы\n",
    " - подготовить данные для обучения моделей\n",
    " - Подобрать наилучшие модель для предсказания\n",
    " - Сделать обобщающие выводы и предоставить отчёт о результатах работы."
   ]
  },
  {
   "cell_type": "markdown",
   "id": "98d909aa",
   "metadata": {},
   "source": [
    "## Exploratory data analysis"
   ]
  },
  {
   "cell_type": "markdown",
   "id": "d9757487",
   "metadata": {},
   "source": [
    "**Содержание**:\n",
    "\n",
    " * [Заказы (data)](#1)\n",
    " * [SKU (sku)](#2)\n",
    " * [Карготипы товаров (sku_cargotypes)](#3)\n",
    " * [Описание карготипов (cargotype_info)](#4)\n",
    " * [Характеристики упаковок (carton)](#5)\n",
    " * [Стоимость упаковок (carton_price)](#6)\n",
    " * [Анализ и подготовка данных](#7)\n",
    " * [One order - one box:](#8)\n",
    "    * [Dimentions](#9)\n",
    "    * [Weight](#10)\n",
    "    * [box/package/none](#11)\n",
    " \n",
    " * [one box - two or three sku:](#12)\n",
    "    * [Dimentions](#13)\n",
    "    * [Weight](#14)\n",
    "    * [box/package/none](#15)\n",
    " * [Вывод](#16)"
   ]
  },
  {
   "cell_type": "code",
   "execution_count": 1,
   "id": "93c18e02-1c72-4497-9f74-6fb93028f249",
   "metadata": {
    "tags": []
   },
   "outputs": [],
   "source": [
    "import pandas as pd\n",
    "import numpy as np\n",
    "import matplotlib.pyplot as plt\n",
    "import seaborn as sns\n",
    "import warnings \n",
    "\n",
    "warnings.filterwarnings('ignore')\n",
    "sns.set(rc={'figure.figsize':(10,6)}, style=\"darkgrid\")\n",
    "\n",
    "pd.options.display.max_colwidth = 100\n",
    "pd.options.display.max_columns = 100\n",
    "pd.options.display.max_rows=100"
   ]
  },
  {
   "cell_type": "code",
   "execution_count": 2,
   "id": "dfe8cca6",
   "metadata": {},
   "outputs": [],
   "source": [
    "from IPython.core.interactiveshell import InteractiveShell \n",
    "InteractiveShell.ast_node_interactivity = \"all\"\n",
    "from io import StringIO  \n",
    "from io import BytesIO\n",
    "from urllib.parse import urlencode"
   ]
  },
  {
   "cell_type": "markdown",
   "id": "35b073f6",
   "metadata": {},
   "source": [
    "## Exploratory data analysis"
   ]
  },
  {
   "cell_type": "markdown",
   "id": "cf8041af",
   "metadata": {},
   "source": [
    "### Заказы (data) <a id='1'>"
   ]
  },
  {
   "cell_type": "markdown",
   "id": "4d91f55e",
   "metadata": {},
   "source": [
    "Для начала, загрузим наборы данных и генерируем простой предварительный просмотр и статистику"
   ]
  },
  {
   "cell_type": "markdown",
   "id": "1632bd53",
   "metadata": {},
   "source": [
    "Информация по заказам и товарам (sku), которые в них содержатся\n",
    "\n",
    "- whs - код сортировочного центра;\n",
    "- orderkey - id заказа;\n",
    "- selected_cartontype - код упаковки, которая была выбрана пользователем;\n",
    "- box_num - количество коробок;\n",
    "- recommended_cartontype - код упаковки, рекомендованной алгоритмом;\n",
    "- selected_carton - код упаковки, которая была выбрана пользователем (дубль);\n",
    "- sel_calc_cube - объём выбранной упаковки;\n",
    "- recommended_carton - код упаковки, рекомендованной алгоритмом (дубль);\n",
    "- pack_volume - рассчитанный объём упакованных товаров;\n",
    "- rec_calc_cube - рекомендованный объём выбранной упаковки\n",
    "- goods_wght - вес товара;\n",
    "- sku - id товара;\n",
    "- who - упаковщик;\n",
    "- trackingid - id доставки;"
   ]
  },
  {
   "cell_type": "code",
   "execution_count": 3,
   "id": "aa8139d6",
   "metadata": {},
   "outputs": [],
   "source": [
    "data = pd.read_csv('data.csv', index_col=0)"
   ]
  },
  {
   "cell_type": "code",
   "execution_count": 4,
   "id": "40f03238",
   "metadata": {
    "scrolled": false
   },
   "outputs": [
    {
     "data": {
      "text/html": [
       "<div>\n",
       "<style scoped>\n",
       "    .dataframe tbody tr th:only-of-type {\n",
       "        vertical-align: middle;\n",
       "    }\n",
       "\n",
       "    .dataframe tbody tr th {\n",
       "        vertical-align: top;\n",
       "    }\n",
       "\n",
       "    .dataframe thead th {\n",
       "        text-align: right;\n",
       "    }\n",
       "</style>\n",
       "<table border=\"1\" class=\"dataframe\">\n",
       "  <thead>\n",
       "    <tr style=\"text-align: right;\">\n",
       "      <th></th>\n",
       "      <th>whs</th>\n",
       "      <th>orderkey</th>\n",
       "      <th>selected_cartontype</th>\n",
       "      <th>box_num</th>\n",
       "      <th>recommended_cartontype</th>\n",
       "      <th>selected_carton</th>\n",
       "      <th>sel_calc_cube</th>\n",
       "      <th>recommended_carton</th>\n",
       "      <th>pack_volume</th>\n",
       "      <th>rec_calc_cube</th>\n",
       "      <th>goods_wght</th>\n",
       "      <th>sku</th>\n",
       "      <th>who</th>\n",
       "      <th>trackingid</th>\n",
       "    </tr>\n",
       "  </thead>\n",
       "  <tbody>\n",
       "    <tr>\n",
       "      <th>310011</th>\n",
       "      <td>7</td>\n",
       "      <td>18a7f416976e5157a0203d04b8f2f239</td>\n",
       "      <td>YMC</td>\n",
       "      <td>1</td>\n",
       "      <td>YMF</td>\n",
       "      <td>YMC</td>\n",
       "      <td>8525</td>\n",
       "      <td>YMF</td>\n",
       "      <td>1056</td>\n",
       "      <td>13500</td>\n",
       "      <td>0.110</td>\n",
       "      <td>c4a1be6b4cb409223036537c3d122893</td>\n",
       "      <td>82cbc398a26d31ceebc1fae91c764618</td>\n",
       "      <td>6ed00915b729eb5474ae1cac76adf105</td>\n",
       "    </tr>\n",
       "    <tr>\n",
       "      <th>105351</th>\n",
       "      <td>0</td>\n",
       "      <td>c6f08cf222f425f397a9f1beaac0e485</td>\n",
       "      <td>NONPACK</td>\n",
       "      <td>62</td>\n",
       "      <td>YML</td>\n",
       "      <td>NONPACK</td>\n",
       "      <td>0</td>\n",
       "      <td>YML</td>\n",
       "      <td>14681</td>\n",
       "      <td>108000</td>\n",
       "      <td>0.175</td>\n",
       "      <td>c4a07062aac4a106f376ca2ee4e18231</td>\n",
       "      <td>c93fe8c2ddf662ced8091236545e15cd</td>\n",
       "      <td>8344ba39551c79744bae77b6e3e7a99c</td>\n",
       "    </tr>\n",
       "    <tr>\n",
       "      <th>94519</th>\n",
       "      <td>0</td>\n",
       "      <td>dbde17e0f5ddf7b4e7c4b3ce588494ee</td>\n",
       "      <td>YMC</td>\n",
       "      <td>1</td>\n",
       "      <td>MYB</td>\n",
       "      <td>YMC</td>\n",
       "      <td>9000</td>\n",
       "      <td>MYB</td>\n",
       "      <td>467</td>\n",
       "      <td>3449</td>\n",
       "      <td>0.290</td>\n",
       "      <td>7b01ab4ed6a39d5f8932a9ea774ddb0f</td>\n",
       "      <td>2310d9f42adf2d66fb086d4c73d427e4</td>\n",
       "      <td>8bf1d88482e43c4766d49bd3edb4a226</td>\n",
       "    </tr>\n",
       "    <tr>\n",
       "      <th>266113</th>\n",
       "      <td>4</td>\n",
       "      <td>5db034e986395dc005e68eea248f64c9</td>\n",
       "      <td>NONPACK</td>\n",
       "      <td>1</td>\n",
       "      <td>YMB</td>\n",
       "      <td>NONPACK</td>\n",
       "      <td>0</td>\n",
       "      <td>YMB</td>\n",
       "      <td>2609</td>\n",
       "      <td>28800</td>\n",
       "      <td>0.660</td>\n",
       "      <td>b43504bccfdbdbd850cd076d10d132f2</td>\n",
       "      <td>190756ac61168defc7b7f23b61c7836e</td>\n",
       "      <td>0f70e9a30d879a980b52abfec83c85a4</td>\n",
       "    </tr>\n",
       "    <tr>\n",
       "      <th>35109</th>\n",
       "      <td>0</td>\n",
       "      <td>5e0d745fe71942216a1f9d7d00ffa95b</td>\n",
       "      <td>YMW</td>\n",
       "      <td>1</td>\n",
       "      <td>MYE</td>\n",
       "      <td>YMW</td>\n",
       "      <td>18000</td>\n",
       "      <td>MYE</td>\n",
       "      <td>4627</td>\n",
       "      <td>26277</td>\n",
       "      <td>1.026</td>\n",
       "      <td>7817be534bb2aad41034c081252789f2</td>\n",
       "      <td>83fc2a8707f2aea98608f9981673671c</td>\n",
       "      <td>afb6f0fb7db6ceabdcee9da78fc1aeb2</td>\n",
       "    </tr>\n",
       "  </tbody>\n",
       "</table>\n",
       "</div>"
      ],
      "text/plain": [
       "        whs                          orderkey selected_cartontype  box_num  \\\n",
       "310011    7  18a7f416976e5157a0203d04b8f2f239                 YMC        1   \n",
       "105351    0  c6f08cf222f425f397a9f1beaac0e485             NONPACK       62   \n",
       "94519     0  dbde17e0f5ddf7b4e7c4b3ce588494ee                 YMC        1   \n",
       "266113    4  5db034e986395dc005e68eea248f64c9             NONPACK        1   \n",
       "35109     0  5e0d745fe71942216a1f9d7d00ffa95b                 YMW        1   \n",
       "\n",
       "       recommended_cartontype selected_carton  sel_calc_cube  \\\n",
       "310011                    YMF             YMC           8525   \n",
       "105351                    YML         NONPACK              0   \n",
       "94519                     MYB             YMC           9000   \n",
       "266113                    YMB         NONPACK              0   \n",
       "35109                     MYE             YMW          18000   \n",
       "\n",
       "       recommended_carton  pack_volume  rec_calc_cube  goods_wght  \\\n",
       "310011                YMF         1056          13500       0.110   \n",
       "105351                YML        14681         108000       0.175   \n",
       "94519                 MYB          467           3449       0.290   \n",
       "266113                YMB         2609          28800       0.660   \n",
       "35109                 MYE         4627          26277       1.026   \n",
       "\n",
       "                                     sku                               who  \\\n",
       "310011  c4a1be6b4cb409223036537c3d122893  82cbc398a26d31ceebc1fae91c764618   \n",
       "105351  c4a07062aac4a106f376ca2ee4e18231  c93fe8c2ddf662ced8091236545e15cd   \n",
       "94519   7b01ab4ed6a39d5f8932a9ea774ddb0f  2310d9f42adf2d66fb086d4c73d427e4   \n",
       "266113  b43504bccfdbdbd850cd076d10d132f2  190756ac61168defc7b7f23b61c7836e   \n",
       "35109   7817be534bb2aad41034c081252789f2  83fc2a8707f2aea98608f9981673671c   \n",
       "\n",
       "                              trackingid  \n",
       "310011  6ed00915b729eb5474ae1cac76adf105  \n",
       "105351  8344ba39551c79744bae77b6e3e7a99c  \n",
       "94519   8bf1d88482e43c4766d49bd3edb4a226  \n",
       "266113  0f70e9a30d879a980b52abfec83c85a4  \n",
       "35109   afb6f0fb7db6ceabdcee9da78fc1aeb2  "
      ]
     },
     "execution_count": 4,
     "metadata": {},
     "output_type": "execute_result"
    },
    {
     "name": "stdout",
     "output_type": "stream",
     "text": [
      "<class 'pandas.core.frame.DataFrame'>\n",
      "Int64Index: 325623 entries, 0 to 325622\n",
      "Data columns (total 14 columns):\n",
      " #   Column                  Non-Null Count   Dtype  \n",
      "---  ------                  --------------   -----  \n",
      " 0   whs                     325623 non-null  int64  \n",
      " 1   orderkey                325623 non-null  object \n",
      " 2   selected_cartontype     325623 non-null  object \n",
      " 3   box_num                 325623 non-null  int64  \n",
      " 4   recommended_cartontype  325623 non-null  object \n",
      " 5   selected_carton         325623 non-null  object \n",
      " 6   sel_calc_cube           325623 non-null  int64  \n",
      " 7   recommended_carton      325623 non-null  object \n",
      " 8   pack_volume             325623 non-null  int64  \n",
      " 9   rec_calc_cube           325623 non-null  int64  \n",
      " 10  goods_wght              325623 non-null  float64\n",
      " 11  sku                     325623 non-null  object \n",
      " 12  who                     325623 non-null  object \n",
      " 13  trackingid              325623 non-null  object \n",
      "dtypes: float64(1), int64(5), object(8)\n",
      "memory usage: 37.3+ MB\n"
     ]
    },
    {
     "data": {
      "text/html": [
       "<div>\n",
       "<style scoped>\n",
       "    .dataframe tbody tr th:only-of-type {\n",
       "        vertical-align: middle;\n",
       "    }\n",
       "\n",
       "    .dataframe tbody tr th {\n",
       "        vertical-align: top;\n",
       "    }\n",
       "\n",
       "    .dataframe thead th {\n",
       "        text-align: right;\n",
       "    }\n",
       "</style>\n",
       "<table border=\"1\" class=\"dataframe\">\n",
       "  <thead>\n",
       "    <tr style=\"text-align: right;\">\n",
       "      <th></th>\n",
       "      <th>box_num</th>\n",
       "      <th>sel_calc_cube</th>\n",
       "      <th>pack_volume</th>\n",
       "      <th>rec_calc_cube</th>\n",
       "      <th>goods_wght</th>\n",
       "    </tr>\n",
       "  </thead>\n",
       "  <tbody>\n",
       "    <tr>\n",
       "      <th>count</th>\n",
       "      <td>325623.000000</td>\n",
       "      <td>325623.000000</td>\n",
       "      <td>3.256230e+05</td>\n",
       "      <td>325623.000000</td>\n",
       "      <td>325623.000000</td>\n",
       "    </tr>\n",
       "    <tr>\n",
       "      <th>mean</th>\n",
       "      <td>2.787773</td>\n",
       "      <td>11188.402656</td>\n",
       "      <td>5.440790e+03</td>\n",
       "      <td>18253.646168</td>\n",
       "      <td>1.134705</td>\n",
       "    </tr>\n",
       "    <tr>\n",
       "      <th>std</th>\n",
       "      <td>15.774209</td>\n",
       "      <td>13958.516542</td>\n",
       "      <td>2.858190e+04</td>\n",
       "      <td>26745.365119</td>\n",
       "      <td>4.090043</td>\n",
       "    </tr>\n",
       "    <tr>\n",
       "      <th>min</th>\n",
       "      <td>1.000000</td>\n",
       "      <td>0.000000</td>\n",
       "      <td>0.000000e+00</td>\n",
       "      <td>0.000000</td>\n",
       "      <td>0.000000</td>\n",
       "    </tr>\n",
       "    <tr>\n",
       "      <th>25%</th>\n",
       "      <td>1.000000</td>\n",
       "      <td>3449.000000</td>\n",
       "      <td>5.000000e+02</td>\n",
       "      <td>3449.000000</td>\n",
       "      <td>0.110000</td>\n",
       "    </tr>\n",
       "    <tr>\n",
       "      <th>50%</th>\n",
       "      <td>1.000000</td>\n",
       "      <td>8436.000000</td>\n",
       "      <td>1.192000e+03</td>\n",
       "      <td>8525.000000</td>\n",
       "      <td>0.300000</td>\n",
       "    </tr>\n",
       "    <tr>\n",
       "      <th>75%</th>\n",
       "      <td>1.000000</td>\n",
       "      <td>15579.000000</td>\n",
       "      <td>3.154000e+03</td>\n",
       "      <td>18270.000000</td>\n",
       "      <td>0.799000</td>\n",
       "    </tr>\n",
       "    <tr>\n",
       "      <th>max</th>\n",
       "      <td>235.000000</td>\n",
       "      <td>108000.000000</td>\n",
       "      <td>1.815450e+06</td>\n",
       "      <td>108000.000000</td>\n",
       "      <td>153.700000</td>\n",
       "    </tr>\n",
       "  </tbody>\n",
       "</table>\n",
       "</div>"
      ],
      "text/plain": [
       "             box_num  sel_calc_cube   pack_volume  rec_calc_cube  \\\n",
       "count  325623.000000  325623.000000  3.256230e+05  325623.000000   \n",
       "mean        2.787773   11188.402656  5.440790e+03   18253.646168   \n",
       "std        15.774209   13958.516542  2.858190e+04   26745.365119   \n",
       "min         1.000000       0.000000  0.000000e+00       0.000000   \n",
       "25%         1.000000    3449.000000  5.000000e+02    3449.000000   \n",
       "50%         1.000000    8436.000000  1.192000e+03    8525.000000   \n",
       "75%         1.000000   15579.000000  3.154000e+03   18270.000000   \n",
       "max       235.000000  108000.000000  1.815450e+06  108000.000000   \n",
       "\n",
       "          goods_wght  \n",
       "count  325623.000000  \n",
       "mean        1.134705  \n",
       "std         4.090043  \n",
       "min         0.000000  \n",
       "25%         0.110000  \n",
       "50%         0.300000  \n",
       "75%         0.799000  \n",
       "max       153.700000  "
      ]
     },
     "execution_count": 4,
     "metadata": {},
     "output_type": "execute_result"
    },
    {
     "data": {
      "text/plain": [
       "whs                            8\n",
       "orderkey                  159899\n",
       "selected_cartontype           17\n",
       "box_num                      235\n",
       "recommended_cartontype        22\n",
       "selected_carton               17\n",
       "sel_calc_cube                 38\n",
       "recommended_carton            22\n",
       "pack_volume                10784\n",
       "rec_calc_cube                 45\n",
       "goods_wght                  4053\n",
       "sku                        86516\n",
       "who                          395\n",
       "trackingid                170565\n",
       "dtype: int64"
      ]
     },
     "execution_count": 4,
     "metadata": {},
     "output_type": "execute_result"
    },
    {
     "data": {
      "text/plain": [
       "91795"
      ]
     },
     "execution_count": 4,
     "metadata": {},
     "output_type": "execute_result"
    }
   ],
   "source": [
    "data.sample(5)\n",
    "data.info()\n",
    "data[['box_num', 'sel_calc_cube', 'pack_volume', 'rec_calc_cube', 'goods_wght']].describe()\n",
    "data.nunique()\n",
    "data.duplicated().sum()"
   ]
  },
  {
   "cell_type": "markdown",
   "id": "1531ad7a",
   "metadata": {},
   "source": [
    "Данные загруженны корректно, пропусков и дубликатов нет, в датафрейме 325623 записей, 14 из них - это колоноки с признаками. Типы данных совпадают с описанием. Статистические данные показывают, что заказы упаковываются в одну либо большее число упаковок, максимальное количество упаковочных материалов в заказе составило 235 штук. Медианное значение объема используемой упаковки составляет 8436 см3, а рекомендованный объём для упаковки товаров товаров составил 1192 см3 и в целом показатели реальные и рекомендованные сильно отличаются по показателям. Вес товара равен нулю, скорее всего это ошибочные записи, которые надо проанализировать.\n",
    "\n",
    "Уникальные значения показали, что всего в предоставленном файле 159899 заказов, они формируются на восьмих сортировочных центрах. Сотрудники в основном используют 17 видов упаковки, вместо 22 рекомендованных ранее созданным алгоритмом. Объём выбранной упаковки различен, алгоритм рассчитывает упаковку с запасом. Количество уникальных товаров составило 86516 единиц.\n",
    "\n"
   ]
  },
  {
   "cell_type": "markdown",
   "id": "6a4eef7b",
   "metadata": {},
   "source": [
    "###  SKU (sku) <a id='2'>"
   ]
  },
  {
   "cell_type": "markdown",
   "id": "cfbe53b8",
   "metadata": {},
   "source": [
    "Выгрузка id товаров и их размеров.\n",
    "\n",
    "- sku - id товара\n",
    "- a, b, c, - размеры"
   ]
  },
  {
   "cell_type": "code",
   "execution_count": 5,
   "id": "f66a4508",
   "metadata": {},
   "outputs": [],
   "source": [
    "sku = pd.read_csv('sku.csv', index_col=0)"
   ]
  },
  {
   "cell_type": "code",
   "execution_count": 6,
   "id": "33bd023d",
   "metadata": {},
   "outputs": [
    {
     "data": {
      "text/html": [
       "<div>\n",
       "<style scoped>\n",
       "    .dataframe tbody tr th:only-of-type {\n",
       "        vertical-align: middle;\n",
       "    }\n",
       "\n",
       "    .dataframe tbody tr th {\n",
       "        vertical-align: top;\n",
       "    }\n",
       "\n",
       "    .dataframe thead th {\n",
       "        text-align: right;\n",
       "    }\n",
       "</style>\n",
       "<table border=\"1\" class=\"dataframe\">\n",
       "  <thead>\n",
       "    <tr style=\"text-align: right;\">\n",
       "      <th></th>\n",
       "      <th>sku</th>\n",
       "      <th>a</th>\n",
       "      <th>b</th>\n",
       "      <th>c</th>\n",
       "    </tr>\n",
       "  </thead>\n",
       "  <tbody>\n",
       "    <tr>\n",
       "      <th>2754926</th>\n",
       "      <td>c342e2cd137718283ca55d7ce9e6d4e2</td>\n",
       "      <td>20.0</td>\n",
       "      <td>7.0</td>\n",
       "      <td>14.0</td>\n",
       "    </tr>\n",
       "    <tr>\n",
       "      <th>5648069</th>\n",
       "      <td>0a1b6cebdf5eda2c6110238d3e9c26e9</td>\n",
       "      <td>8.0</td>\n",
       "      <td>25.0</td>\n",
       "      <td>8.0</td>\n",
       "    </tr>\n",
       "    <tr>\n",
       "      <th>4567960</th>\n",
       "      <td>26400f7c090fba6e112a9340b303554a</td>\n",
       "      <td>55.0</td>\n",
       "      <td>20.0</td>\n",
       "      <td>50.0</td>\n",
       "    </tr>\n",
       "    <tr>\n",
       "      <th>4641325</th>\n",
       "      <td>9582291bbfa85cc8fefbd50478909576</td>\n",
       "      <td>50.0</td>\n",
       "      <td>20.0</td>\n",
       "      <td>60.0</td>\n",
       "    </tr>\n",
       "    <tr>\n",
       "      <th>1704505</th>\n",
       "      <td>68b95811bb64f84d00e5d71cdbc2f5ce</td>\n",
       "      <td>39.0</td>\n",
       "      <td>1.0</td>\n",
       "      <td>28.0</td>\n",
       "    </tr>\n",
       "  </tbody>\n",
       "</table>\n",
       "</div>"
      ],
      "text/plain": [
       "                                      sku     a     b     c\n",
       "2754926  c342e2cd137718283ca55d7ce9e6d4e2  20.0   7.0  14.0\n",
       "5648069  0a1b6cebdf5eda2c6110238d3e9c26e9   8.0  25.0   8.0\n",
       "4567960  26400f7c090fba6e112a9340b303554a  55.0  20.0  50.0\n",
       "4641325  9582291bbfa85cc8fefbd50478909576  50.0  20.0  60.0\n",
       "1704505  68b95811bb64f84d00e5d71cdbc2f5ce  39.0   1.0  28.0"
      ]
     },
     "execution_count": 6,
     "metadata": {},
     "output_type": "execute_result"
    },
    {
     "name": "stdout",
     "output_type": "stream",
     "text": [
      "<class 'pandas.core.frame.DataFrame'>\n",
      "Int64Index: 6385961 entries, 0 to 6385960\n",
      "Data columns (total 4 columns):\n",
      " #   Column  Dtype  \n",
      "---  ------  -----  \n",
      " 0   sku     object \n",
      " 1   a       float64\n",
      " 2   b       float64\n",
      " 3   c       float64\n",
      "dtypes: float64(3), object(1)\n",
      "memory usage: 243.6+ MB\n"
     ]
    },
    {
     "data": {
      "text/plain": [
       "sku    6385961\n",
       "a         2250\n",
       "b         1948\n",
       "c         1844\n",
       "dtype: int64"
      ]
     },
     "execution_count": 6,
     "metadata": {},
     "output_type": "execute_result"
    },
    {
     "data": {
      "text/plain": [
       "0"
      ]
     },
     "execution_count": 6,
     "metadata": {},
     "output_type": "execute_result"
    }
   ],
   "source": [
    "sku.sample(5)\n",
    "sku.info()\n",
    "sku.nunique()\n",
    "sku.duplicated().sum()"
   ]
  },
  {
   "cell_type": "markdown",
   "id": "cbdb22c7",
   "metadata": {},
   "source": [
    "В данном файле находятся id более 6 млн товаров и их размеры, остальные показатели анализировать не имеет смысла, так как в даных только параметры определённых товаров. Для дальнейшей работы мы оставим только те sku, которые присутствуют в базовой таблице с заказами."
   ]
  },
  {
   "cell_type": "markdown",
   "id": "578e7f6d",
   "metadata": {},
   "source": [
    "### Карготипы товаров (sku_cargotypes) <a id='3'>"
   ]
  },
  {
   "cell_type": "markdown",
   "id": "53114434",
   "metadata": {
    "tags": []
   },
   "source": [
    "Выгрузка id товаров и их карготипов.\n",
    "\n",
    "- sku -  id товара\n",
    "- cargotype - карготип товара"
   ]
  },
  {
   "cell_type": "code",
   "execution_count": 7,
   "id": "bf5dd2d4",
   "metadata": {},
   "outputs": [],
   "source": [
    "sku_cargotypes = pd.read_csv('sku_cargotypes.csv', index_col=0)"
   ]
  },
  {
   "cell_type": "code",
   "execution_count": 8,
   "id": "2c016431",
   "metadata": {},
   "outputs": [
    {
     "data": {
      "text/html": [
       "<div>\n",
       "<style scoped>\n",
       "    .dataframe tbody tr th:only-of-type {\n",
       "        vertical-align: middle;\n",
       "    }\n",
       "\n",
       "    .dataframe tbody tr th {\n",
       "        vertical-align: top;\n",
       "    }\n",
       "\n",
       "    .dataframe thead th {\n",
       "        text-align: right;\n",
       "    }\n",
       "</style>\n",
       "<table border=\"1\" class=\"dataframe\">\n",
       "  <thead>\n",
       "    <tr style=\"text-align: right;\">\n",
       "      <th></th>\n",
       "      <th>sku</th>\n",
       "      <th>cargotype</th>\n",
       "    </tr>\n",
       "  </thead>\n",
       "  <tbody>\n",
       "    <tr>\n",
       "      <th>0</th>\n",
       "      <td>4862bf0e760a593b13f3f2fcf822e533</td>\n",
       "      <td>290</td>\n",
       "    </tr>\n",
       "    <tr>\n",
       "      <th>1</th>\n",
       "      <td>4862bf0e760a593b13f3f2fcf822e533</td>\n",
       "      <td>901</td>\n",
       "    </tr>\n",
       "    <tr>\n",
       "      <th>2</th>\n",
       "      <td>50d3c4fc66ad423b7feaadff2d682ee0</td>\n",
       "      <td>290</td>\n",
       "    </tr>\n",
       "    <tr>\n",
       "      <th>3</th>\n",
       "      <td>50d3c4fc66ad423b7feaadff2d682ee0</td>\n",
       "      <td>901</td>\n",
       "    </tr>\n",
       "    <tr>\n",
       "      <th>4</th>\n",
       "      <td>24ce9dba9f301ada55f60e25ee1498d2</td>\n",
       "      <td>290</td>\n",
       "    </tr>\n",
       "    <tr>\n",
       "      <th>...</th>\n",
       "      <td>...</td>\n",
       "      <td>...</td>\n",
       "    </tr>\n",
       "    <tr>\n",
       "      <th>21053147</th>\n",
       "      <td>5786e5c2309967c64b10e443ce1a807c</td>\n",
       "      <td>691</td>\n",
       "    </tr>\n",
       "    <tr>\n",
       "      <th>21053148</th>\n",
       "      <td>859788a147004b9a1d24a8168460f79a</td>\n",
       "      <td>200</td>\n",
       "    </tr>\n",
       "    <tr>\n",
       "      <th>21053149</th>\n",
       "      <td>859788a147004b9a1d24a8168460f79a</td>\n",
       "      <td>290</td>\n",
       "    </tr>\n",
       "    <tr>\n",
       "      <th>21053150</th>\n",
       "      <td>859788a147004b9a1d24a8168460f79a</td>\n",
       "      <td>310</td>\n",
       "    </tr>\n",
       "    <tr>\n",
       "      <th>21053151</th>\n",
       "      <td>859788a147004b9a1d24a8168460f79a</td>\n",
       "      <td>670</td>\n",
       "    </tr>\n",
       "  </tbody>\n",
       "</table>\n",
       "<p>21053152 rows × 2 columns</p>\n",
       "</div>"
      ],
      "text/plain": [
       "                                       sku  cargotype\n",
       "0         4862bf0e760a593b13f3f2fcf822e533        290\n",
       "1         4862bf0e760a593b13f3f2fcf822e533        901\n",
       "2         50d3c4fc66ad423b7feaadff2d682ee0        290\n",
       "3         50d3c4fc66ad423b7feaadff2d682ee0        901\n",
       "4         24ce9dba9f301ada55f60e25ee1498d2        290\n",
       "...                                    ...        ...\n",
       "21053147  5786e5c2309967c64b10e443ce1a807c        691\n",
       "21053148  859788a147004b9a1d24a8168460f79a        200\n",
       "21053149  859788a147004b9a1d24a8168460f79a        290\n",
       "21053150  859788a147004b9a1d24a8168460f79a        310\n",
       "21053151  859788a147004b9a1d24a8168460f79a        670\n",
       "\n",
       "[21053152 rows x 2 columns]"
      ]
     },
     "execution_count": 8,
     "metadata": {},
     "output_type": "execute_result"
    }
   ],
   "source": [
    "sku_cargotypes"
   ]
  },
  {
   "cell_type": "markdown",
   "id": "cade1e5c",
   "metadata": {},
   "source": [
    "## Описание карготипов (cargotype_info) <a id='4'>"
   ]
  },
  {
   "cell_type": "markdown",
   "id": "63c1ed41",
   "metadata": {},
   "source": [
    "Таблица с идентификаторами карготипов и их описаниями\n",
    "\n",
    "- cargotype -  карготип\n",
    "- description - описание"
   ]
  },
  {
   "cell_type": "code",
   "execution_count": 9,
   "id": "d28b958b",
   "metadata": {},
   "outputs": [],
   "source": [
    "cargotype_info_all = pd.read_csv('cargotype_info.csv', index_col=0)"
   ]
  },
  {
   "cell_type": "code",
   "execution_count": 10,
   "id": "0220776c",
   "metadata": {
    "scrolled": false
   },
   "outputs": [
    {
     "data": {
      "text/html": [
       "<div>\n",
       "<style scoped>\n",
       "    .dataframe tbody tr th:only-of-type {\n",
       "        vertical-align: middle;\n",
       "    }\n",
       "\n",
       "    .dataframe tbody tr th {\n",
       "        vertical-align: top;\n",
       "    }\n",
       "\n",
       "    .dataframe thead th {\n",
       "        text-align: right;\n",
       "    }\n",
       "</style>\n",
       "<table border=\"1\" class=\"dataframe\">\n",
       "  <thead>\n",
       "    <tr style=\"text-align: right;\">\n",
       "      <th></th>\n",
       "      <th>cargotype</th>\n",
       "      <th>description</th>\n",
       "    </tr>\n",
       "  </thead>\n",
       "  <tbody>\n",
       "    <tr>\n",
       "      <th>86</th>\n",
       "      <td>692.0</td>\n",
       "      <td>цена высокая</td>\n",
       "    </tr>\n",
       "    <tr>\n",
       "      <th>59</th>\n",
       "      <td>305.0</td>\n",
       "      <td>мебель</td>\n",
       "    </tr>\n",
       "    <tr>\n",
       "      <th>42</th>\n",
       "      <td>320.0</td>\n",
       "      <td>сыпучее</td>\n",
       "    </tr>\n",
       "    <tr>\n",
       "      <th>57</th>\n",
       "      <td>905.0</td>\n",
       "      <td>БАДы</td>\n",
       "    </tr>\n",
       "    <tr>\n",
       "      <th>78</th>\n",
       "      <td>672.0</td>\n",
       "      <td>товары для спорта и отдыха</td>\n",
       "    </tr>\n",
       "    <tr>\n",
       "      <th>15</th>\n",
       "      <td>955.0</td>\n",
       "      <td>пачкает</td>\n",
       "    </tr>\n",
       "    <tr>\n",
       "      <th>35</th>\n",
       "      <td>480.0</td>\n",
       "      <td>химикаты</td>\n",
       "    </tr>\n",
       "    <tr>\n",
       "      <th>90</th>\n",
       "      <td>670.0</td>\n",
       "      <td>товары для авто и мототехники</td>\n",
       "    </tr>\n",
       "    <tr>\n",
       "      <th>6</th>\n",
       "      <td>900.0</td>\n",
       "      <td>медикаменты</td>\n",
       "    </tr>\n",
       "    <tr>\n",
       "      <th>12</th>\n",
       "      <td>500.0</td>\n",
       "      <td>влажный (мокрый)</td>\n",
       "    </tr>\n",
       "  </tbody>\n",
       "</table>\n",
       "</div>"
      ],
      "text/plain": [
       "    cargotype                    description\n",
       "86      692.0                   цена высокая\n",
       "59      305.0                         мебель\n",
       "42      320.0                        сыпучее\n",
       "57      905.0                           БАДы\n",
       "78      672.0     товары для спорта и отдыха\n",
       "15      955.0                        пачкает\n",
       "35      480.0                       химикаты\n",
       "90      670.0  товары для авто и мототехники\n",
       "6       900.0                    медикаменты\n",
       "12      500.0               влажный (мокрый)"
      ]
     },
     "execution_count": 10,
     "metadata": {},
     "output_type": "execute_result"
    },
    {
     "name": "stdout",
     "output_type": "stream",
     "text": [
      "<class 'pandas.core.frame.DataFrame'>\n",
      "Int64Index: 98 entries, 0 to 97\n",
      "Data columns (total 2 columns):\n",
      " #   Column       Non-Null Count  Dtype  \n",
      "---  ------       --------------  -----  \n",
      " 0   cargotype    96 non-null     float64\n",
      " 1   description  98 non-null     object \n",
      "dtypes: float64(1), object(1)\n",
      "memory usage: 2.3+ KB\n"
     ]
    },
    {
     "data": {
      "text/plain": [
       "cargotype      96\n",
       "description    97\n",
       "dtype: int64"
      ]
     },
     "execution_count": 10,
     "metadata": {},
     "output_type": "execute_result"
    },
    {
     "data": {
      "text/plain": [
       "1"
      ]
     },
     "execution_count": 10,
     "metadata": {},
     "output_type": "execute_result"
    }
   ],
   "source": [
    "cargotype_info_all.sample(10)\n",
    "cargotype_info_all.info()\n",
    "cargotype_info_all.nunique()\n",
    "cargotype_info_all.duplicated().sum()"
   ]
  },
  {
   "cell_type": "code",
   "execution_count": 11,
   "id": "7548e7c6",
   "metadata": {
    "scrolled": true
   },
   "outputs": [
    {
     "data": {
      "text/plain": [
       "cargotype             NaN\n",
       "description    2023-04-11\n",
       "Name: 67, dtype: object"
      ]
     },
     "execution_count": 11,
     "metadata": {},
     "output_type": "execute_result"
    }
   ],
   "source": [
    "cargotype_info_all.iloc[67]\n",
    "cargotype_info_all = cargotype_info_all.drop(index=[67])"
   ]
  },
  {
   "cell_type": "markdown",
   "id": "31a3a44c",
   "metadata": {},
   "source": [
    "В данной таблице имеется 96 различных карготипов товаров и их описание, строку с дубликатом мы удалили, так как она была без кода карготипа и не представляла для нас ценности."
   ]
  },
  {
   "cell_type": "markdown",
   "id": "63359b23",
   "metadata": {},
   "source": [
    "Рассмотрев более подробно карготипы в файле, мы пришли к выводу, что некоторые типы сильно схожи между собой и относятся к одной категории, поэтому нами было принято решение такие типы объединить. Загрузим уже скорректированные карготипы для дальнейшего использования:"
   ]
  },
  {
   "cell_type": "code",
   "execution_count": 12,
   "id": "a0dbf93c",
   "metadata": {},
   "outputs": [],
   "source": [
    "cargotype_info = pd.read_csv('cargotype_sort.csv', index_col=0)"
   ]
  },
  {
   "cell_type": "code",
   "execution_count": 13,
   "id": "dc9ebc3f",
   "metadata": {
    "scrolled": true
   },
   "outputs": [
    {
     "data": {
      "text/html": [
       "<div>\n",
       "<style scoped>\n",
       "    .dataframe tbody tr th:only-of-type {\n",
       "        vertical-align: middle;\n",
       "    }\n",
       "\n",
       "    .dataframe tbody tr th {\n",
       "        vertical-align: top;\n",
       "    }\n",
       "\n",
       "    .dataframe thead th {\n",
       "        text-align: right;\n",
       "    }\n",
       "</style>\n",
       "<table border=\"1\" class=\"dataframe\">\n",
       "  <thead>\n",
       "    <tr style=\"text-align: right;\">\n",
       "      <th></th>\n",
       "      <th>cargotype</th>\n",
       "      <th>description</th>\n",
       "    </tr>\n",
       "  </thead>\n",
       "  <tbody>\n",
       "    <tr>\n",
       "      <th>0</th>\n",
       "      <td>0</td>\n",
       "      <td>не определен</td>\n",
       "    </tr>\n",
       "    <tr>\n",
       "      <th>1</th>\n",
       "      <td>0</td>\n",
       "      <td>документы и ценные бумаги</td>\n",
       "    </tr>\n",
       "    <tr>\n",
       "      <th>2</th>\n",
       "      <td>0</td>\n",
       "      <td>возрастное ограничение на получение товара</td>\n",
       "    </tr>\n",
       "    <tr>\n",
       "      <th>3</th>\n",
       "      <td>40</td>\n",
       "      <td>ценное</td>\n",
       "    </tr>\n",
       "    <tr>\n",
       "      <th>4</th>\n",
       "      <td>40</td>\n",
       "      <td>предметы искусства</td>\n",
       "    </tr>\n",
       "    <tr>\n",
       "      <th>5</th>\n",
       "      <td>40</td>\n",
       "      <td>драгоценности</td>\n",
       "    </tr>\n",
       "    <tr>\n",
       "      <th>6</th>\n",
       "      <td>40</td>\n",
       "      <td>аксессуары, часы и украшения</td>\n",
       "    </tr>\n",
       "    <tr>\n",
       "      <th>7</th>\n",
       "      <td>0</td>\n",
       "      <td>товары народного потребления</td>\n",
       "    </tr>\n",
       "    <tr>\n",
       "      <th>8</th>\n",
       "      <td>0</td>\n",
       "      <td>в ассортименте</td>\n",
       "    </tr>\n",
       "    <tr>\n",
       "      <th>9</th>\n",
       "      <td>120</td>\n",
       "      <td>корма для животных</td>\n",
       "    </tr>\n",
       "  </tbody>\n",
       "</table>\n",
       "</div>"
      ],
      "text/plain": [
       "   cargotype                                 description\n",
       "0          0                                не определен\n",
       "1          0                   документы и ценные бумаги\n",
       "2          0  возрастное ограничение на получение товара\n",
       "3         40                                      ценное\n",
       "4         40                          предметы искусства\n",
       "5         40                               драгоценности\n",
       "6         40                аксессуары, часы и украшения\n",
       "7          0                товары народного потребления\n",
       "8          0                              в ассортименте\n",
       "9        120                          корма для животных"
      ]
     },
     "execution_count": 13,
     "metadata": {},
     "output_type": "execute_result"
    }
   ],
   "source": [
    "cargotype_info.head(10)"
   ]
  },
  {
   "cell_type": "markdown",
   "id": "e56d7c0c",
   "metadata": {},
   "source": [
    "Приступим к дальнейшей загрузке файлов"
   ]
  },
  {
   "cell_type": "markdown",
   "id": "52d9a843",
   "metadata": {},
   "source": [
    "## Характеристики упаковок (carton) <a id='5'>"
   ]
  },
  {
   "cell_type": "markdown",
   "id": "d79c7b3a",
   "metadata": {
    "tags": []
   },
   "source": [
    "Таблица с идентификаторами и линейными размерами упаковок.\n",
    "\n",
    "- CARTONTYPE - идентификатор (код) упаковки;\n",
    "- LENGTH, WIDTH, HEIGTH - линейные размеры упаковки;\n",
    "- DISPLAYFRACK - коробка есть на складе (не учитывать для наших целей)."
   ]
  },
  {
   "cell_type": "code",
   "execution_count": 14,
   "id": "2acb4260",
   "metadata": {},
   "outputs": [],
   "source": [
    "carton = pd.read_csv('carton.csv', index_col=0)"
   ]
  },
  {
   "cell_type": "code",
   "execution_count": 15,
   "id": "426b3971",
   "metadata": {
    "scrolled": false
   },
   "outputs": [
    {
     "data": {
      "text/html": [
       "<div>\n",
       "<style scoped>\n",
       "    .dataframe tbody tr th:only-of-type {\n",
       "        vertical-align: middle;\n",
       "    }\n",
       "\n",
       "    .dataframe tbody tr th {\n",
       "        vertical-align: top;\n",
       "    }\n",
       "\n",
       "    .dataframe thead th {\n",
       "        text-align: right;\n",
       "    }\n",
       "</style>\n",
       "<table border=\"1\" class=\"dataframe\">\n",
       "  <thead>\n",
       "    <tr style=\"text-align: right;\">\n",
       "      <th></th>\n",
       "      <th>LENGTH</th>\n",
       "      <th>WIDTH</th>\n",
       "      <th>HEIGHT</th>\n",
       "      <th>DISPLAYRFPACK</th>\n",
       "    </tr>\n",
       "    <tr>\n",
       "      <th>CARTONTYPE</th>\n",
       "      <th></th>\n",
       "      <th></th>\n",
       "      <th></th>\n",
       "      <th></th>\n",
       "    </tr>\n",
       "  </thead>\n",
       "  <tbody>\n",
       "    <tr>\n",
       "      <th>MYE</th>\n",
       "      <td>43.0</td>\n",
       "      <td>63.0</td>\n",
       "      <td>9.7</td>\n",
       "      <td>1</td>\n",
       "    </tr>\n",
       "    <tr>\n",
       "      <th>MYC</th>\n",
       "      <td>30.0</td>\n",
       "      <td>38.0</td>\n",
       "      <td>7.4</td>\n",
       "      <td>1</td>\n",
       "    </tr>\n",
       "    <tr>\n",
       "      <th>YMY</th>\n",
       "      <td>52.0</td>\n",
       "      <td>20.0</td>\n",
       "      <td>70.0</td>\n",
       "      <td>0</td>\n",
       "    </tr>\n",
       "    <tr>\n",
       "      <th>NONPACK</th>\n",
       "      <td>0.0</td>\n",
       "      <td>0.0</td>\n",
       "      <td>0.0</td>\n",
       "      <td>1</td>\n",
       "    </tr>\n",
       "    <tr>\n",
       "      <th>YMH</th>\n",
       "      <td>42.0</td>\n",
       "      <td>20.0</td>\n",
       "      <td>86.0</td>\n",
       "      <td>0</td>\n",
       "    </tr>\n",
       "  </tbody>\n",
       "</table>\n",
       "</div>"
      ],
      "text/plain": [
       "            LENGTH  WIDTH  HEIGHT  DISPLAYRFPACK\n",
       "CARTONTYPE                                      \n",
       "MYE           43.0   63.0     9.7              1\n",
       "MYC           30.0   38.0     7.4              1\n",
       "YMY           52.0   20.0    70.0              0\n",
       "NONPACK        0.0    0.0     0.0              1\n",
       "YMH           42.0   20.0    86.0              0"
      ]
     },
     "execution_count": 15,
     "metadata": {},
     "output_type": "execute_result"
    },
    {
     "name": "stdout",
     "output_type": "stream",
     "text": [
      "<class 'pandas.core.frame.DataFrame'>\n",
      "Index: 29 entries, YMA to MYE\n",
      "Data columns (total 4 columns):\n",
      " #   Column         Non-Null Count  Dtype  \n",
      "---  ------         --------------  -----  \n",
      " 0   LENGTH         29 non-null     float64\n",
      " 1   WIDTH          29 non-null     float64\n",
      " 2   HEIGHT         29 non-null     float64\n",
      " 3   DISPLAYRFPACK  29 non-null     int64  \n",
      "dtypes: float64(3), int64(1)\n",
      "memory usage: 1.1+ KB\n"
     ]
    },
    {
     "data": {
      "text/plain": [
       "LENGTH           21\n",
       "WIDTH            16\n",
       "HEIGHT           21\n",
       "DISPLAYRFPACK     2\n",
       "dtype: int64"
      ]
     },
     "execution_count": 15,
     "metadata": {},
     "output_type": "execute_result"
    },
    {
     "data": {
      "text/html": [
       "<div>\n",
       "<style scoped>\n",
       "    .dataframe tbody tr th:only-of-type {\n",
       "        vertical-align: middle;\n",
       "    }\n",
       "\n",
       "    .dataframe tbody tr th {\n",
       "        vertical-align: top;\n",
       "    }\n",
       "\n",
       "    .dataframe thead th {\n",
       "        text-align: right;\n",
       "    }\n",
       "</style>\n",
       "<table border=\"1\" class=\"dataframe\">\n",
       "  <thead>\n",
       "    <tr style=\"text-align: right;\">\n",
       "      <th></th>\n",
       "      <th>LENGTH</th>\n",
       "      <th>WIDTH</th>\n",
       "      <th>HEIGHT</th>\n",
       "      <th>DISPLAYRFPACK</th>\n",
       "    </tr>\n",
       "  </thead>\n",
       "  <tbody>\n",
       "    <tr>\n",
       "      <th>count</th>\n",
       "      <td>29.0</td>\n",
       "      <td>29.0</td>\n",
       "      <td>29.0</td>\n",
       "      <td>29.0</td>\n",
       "    </tr>\n",
       "    <tr>\n",
       "      <th>min</th>\n",
       "      <td>0.0</td>\n",
       "      <td>0.0</td>\n",
       "      <td>0.0</td>\n",
       "      <td>0.0</td>\n",
       "    </tr>\n",
       "    <tr>\n",
       "      <th>max</th>\n",
       "      <td>89.5</td>\n",
       "      <td>63.0</td>\n",
       "      <td>86.0</td>\n",
       "      <td>1.0</td>\n",
       "    </tr>\n",
       "  </tbody>\n",
       "</table>\n",
       "</div>"
      ],
      "text/plain": [
       "       LENGTH  WIDTH  HEIGHT  DISPLAYRFPACK\n",
       "count    29.0   29.0    29.0           29.0\n",
       "min       0.0    0.0     0.0            0.0\n",
       "max      89.5   63.0    86.0            1.0"
      ]
     },
     "execution_count": 15,
     "metadata": {},
     "output_type": "execute_result"
    }
   ],
   "source": [
    "carton.sample(5)\n",
    "carton.info()\n",
    "carton.nunique()\n",
    "carton.describe().loc[['count', 'min', 'max']]\n",
    "carton = carton.reset_index()\n",
    "carton.columns = carton.columns.str.lower()\n",
    "carton.drop('displayrfpack', axis=1, inplace=True)"
   ]
  },
  {
   "cell_type": "code",
   "execution_count": 16,
   "id": "8d909726",
   "metadata": {},
   "outputs": [
    {
     "data": {
      "text/html": [
       "<div>\n",
       "<style scoped>\n",
       "    .dataframe tbody tr th:only-of-type {\n",
       "        vertical-align: middle;\n",
       "    }\n",
       "\n",
       "    .dataframe tbody tr th {\n",
       "        vertical-align: top;\n",
       "    }\n",
       "\n",
       "    .dataframe thead th {\n",
       "        text-align: right;\n",
       "    }\n",
       "</style>\n",
       "<table border=\"1\" class=\"dataframe\">\n",
       "  <thead>\n",
       "    <tr style=\"text-align: right;\">\n",
       "      <th></th>\n",
       "      <th>cartontype</th>\n",
       "      <th>length</th>\n",
       "      <th>width</th>\n",
       "      <th>height</th>\n",
       "    </tr>\n",
       "  </thead>\n",
       "  <tbody>\n",
       "    <tr>\n",
       "      <th>0</th>\n",
       "      <td>YMA</td>\n",
       "      <td>24.7</td>\n",
       "      <td>15.0</td>\n",
       "      <td>10.00</td>\n",
       "    </tr>\n",
       "    <tr>\n",
       "      <th>1</th>\n",
       "      <td>YMC</td>\n",
       "      <td>30.0</td>\n",
       "      <td>20.0</td>\n",
       "      <td>15.00</td>\n",
       "    </tr>\n",
       "    <tr>\n",
       "      <th>2</th>\n",
       "      <td>YME</td>\n",
       "      <td>30.0</td>\n",
       "      <td>30.0</td>\n",
       "      <td>44.50</td>\n",
       "    </tr>\n",
       "    <tr>\n",
       "      <th>3</th>\n",
       "      <td>YMF</td>\n",
       "      <td>35.0</td>\n",
       "      <td>25.0</td>\n",
       "      <td>15.00</td>\n",
       "    </tr>\n",
       "    <tr>\n",
       "      <th>4</th>\n",
       "      <td>YMG</td>\n",
       "      <td>44.7</td>\n",
       "      <td>30.0</td>\n",
       "      <td>20.00</td>\n",
       "    </tr>\n",
       "    <tr>\n",
       "      <th>5</th>\n",
       "      <td>YMH</td>\n",
       "      <td>42.0</td>\n",
       "      <td>20.0</td>\n",
       "      <td>86.00</td>\n",
       "    </tr>\n",
       "    <tr>\n",
       "      <th>6</th>\n",
       "      <td>YMJ</td>\n",
       "      <td>50.0</td>\n",
       "      <td>29.0</td>\n",
       "      <td>48.00</td>\n",
       "    </tr>\n",
       "    <tr>\n",
       "      <th>7</th>\n",
       "      <td>KSD</td>\n",
       "      <td>0.0</td>\n",
       "      <td>0.0</td>\n",
       "      <td>0.00</td>\n",
       "    </tr>\n",
       "    <tr>\n",
       "      <th>8</th>\n",
       "      <td>YML</td>\n",
       "      <td>60.0</td>\n",
       "      <td>40.0</td>\n",
       "      <td>45.00</td>\n",
       "    </tr>\n",
       "    <tr>\n",
       "      <th>9</th>\n",
       "      <td>YMN</td>\n",
       "      <td>60.0</td>\n",
       "      <td>60.0</td>\n",
       "      <td>40.00</td>\n",
       "    </tr>\n",
       "    <tr>\n",
       "      <th>10</th>\n",
       "      <td>YMO</td>\n",
       "      <td>65.0</td>\n",
       "      <td>45.0</td>\n",
       "      <td>20.00</td>\n",
       "    </tr>\n",
       "    <tr>\n",
       "      <th>11</th>\n",
       "      <td>YMP</td>\n",
       "      <td>70.0</td>\n",
       "      <td>30.0</td>\n",
       "      <td>22.00</td>\n",
       "    </tr>\n",
       "    <tr>\n",
       "      <th>12</th>\n",
       "      <td>YMQ</td>\n",
       "      <td>70.0</td>\n",
       "      <td>60.0</td>\n",
       "      <td>40.00</td>\n",
       "    </tr>\n",
       "    <tr>\n",
       "      <th>13</th>\n",
       "      <td>YMR</td>\n",
       "      <td>80.0</td>\n",
       "      <td>60.0</td>\n",
       "      <td>80.00</td>\n",
       "    </tr>\n",
       "    <tr>\n",
       "      <th>14</th>\n",
       "      <td>YMS</td>\n",
       "      <td>89.5</td>\n",
       "      <td>59.5</td>\n",
       "      <td>49.50</td>\n",
       "    </tr>\n",
       "    <tr>\n",
       "      <th>15</th>\n",
       "      <td>NONPACK</td>\n",
       "      <td>0.0</td>\n",
       "      <td>0.0</td>\n",
       "      <td>0.00</td>\n",
       "    </tr>\n",
       "    <tr>\n",
       "      <th>16</th>\n",
       "      <td>STRETCH</td>\n",
       "      <td>0.0</td>\n",
       "      <td>0.0</td>\n",
       "      <td>0.00</td>\n",
       "    </tr>\n",
       "    <tr>\n",
       "      <th>17</th>\n",
       "      <td>YMU</td>\n",
       "      <td>27.0</td>\n",
       "      <td>24.0</td>\n",
       "      <td>4.00</td>\n",
       "    </tr>\n",
       "    <tr>\n",
       "      <th>18</th>\n",
       "      <td>YMV</td>\n",
       "      <td>37.0</td>\n",
       "      <td>29.0</td>\n",
       "      <td>4.00</td>\n",
       "    </tr>\n",
       "    <tr>\n",
       "      <th>19</th>\n",
       "      <td>YMW</td>\n",
       "      <td>40.0</td>\n",
       "      <td>30.0</td>\n",
       "      <td>15.00</td>\n",
       "    </tr>\n",
       "    <tr>\n",
       "      <th>20</th>\n",
       "      <td>YMХ</td>\n",
       "      <td>40.0</td>\n",
       "      <td>18.0</td>\n",
       "      <td>65.00</td>\n",
       "    </tr>\n",
       "    <tr>\n",
       "      <th>21</th>\n",
       "      <td>MYF</td>\n",
       "      <td>20.0</td>\n",
       "      <td>15.0</td>\n",
       "      <td>5.00</td>\n",
       "    </tr>\n",
       "    <tr>\n",
       "      <th>22</th>\n",
       "      <td>YMX</td>\n",
       "      <td>40.0</td>\n",
       "      <td>18.0</td>\n",
       "      <td>65.00</td>\n",
       "    </tr>\n",
       "    <tr>\n",
       "      <th>23</th>\n",
       "      <td>YMY</td>\n",
       "      <td>52.0</td>\n",
       "      <td>20.0</td>\n",
       "      <td>70.00</td>\n",
       "    </tr>\n",
       "    <tr>\n",
       "      <th>24</th>\n",
       "      <td>MYA</td>\n",
       "      <td>15.0</td>\n",
       "      <td>20.0</td>\n",
       "      <td>3.33</td>\n",
       "    </tr>\n",
       "    <tr>\n",
       "      <th>25</th>\n",
       "      <td>MYB</td>\n",
       "      <td>22.0</td>\n",
       "      <td>32.0</td>\n",
       "      <td>4.90</td>\n",
       "    </tr>\n",
       "    <tr>\n",
       "      <th>26</th>\n",
       "      <td>MYC</td>\n",
       "      <td>30.0</td>\n",
       "      <td>38.0</td>\n",
       "      <td>7.40</td>\n",
       "    </tr>\n",
       "    <tr>\n",
       "      <th>27</th>\n",
       "      <td>MYD</td>\n",
       "      <td>38.0</td>\n",
       "      <td>50.0</td>\n",
       "      <td>8.20</td>\n",
       "    </tr>\n",
       "    <tr>\n",
       "      <th>28</th>\n",
       "      <td>MYE</td>\n",
       "      <td>43.0</td>\n",
       "      <td>63.0</td>\n",
       "      <td>9.70</td>\n",
       "    </tr>\n",
       "  </tbody>\n",
       "</table>\n",
       "</div>"
      ],
      "text/plain": [
       "   cartontype  length  width  height\n",
       "0         YMA    24.7   15.0   10.00\n",
       "1         YMC    30.0   20.0   15.00\n",
       "2         YME    30.0   30.0   44.50\n",
       "3         YMF    35.0   25.0   15.00\n",
       "4         YMG    44.7   30.0   20.00\n",
       "5         YMH    42.0   20.0   86.00\n",
       "6         YMJ    50.0   29.0   48.00\n",
       "7         KSD     0.0    0.0    0.00\n",
       "8         YML    60.0   40.0   45.00\n",
       "9         YMN    60.0   60.0   40.00\n",
       "10        YMO    65.0   45.0   20.00\n",
       "11        YMP    70.0   30.0   22.00\n",
       "12        YMQ    70.0   60.0   40.00\n",
       "13        YMR    80.0   60.0   80.00\n",
       "14        YMS    89.5   59.5   49.50\n",
       "15    NONPACK     0.0    0.0    0.00\n",
       "16    STRETCH     0.0    0.0    0.00\n",
       "17        YMU    27.0   24.0    4.00\n",
       "18        YMV    37.0   29.0    4.00\n",
       "19        YMW    40.0   30.0   15.00\n",
       "20        YMХ    40.0   18.0   65.00\n",
       "21        MYF    20.0   15.0    5.00\n",
       "22        YMX    40.0   18.0   65.00\n",
       "23        YMY    52.0   20.0   70.00\n",
       "24        MYA    15.0   20.0    3.33\n",
       "25        MYB    22.0   32.0    4.90\n",
       "26        MYC    30.0   38.0    7.40\n",
       "27        MYD    38.0   50.0    8.20\n",
       "28        MYE    43.0   63.0    9.70"
      ]
     },
     "execution_count": 16,
     "metadata": {},
     "output_type": "execute_result"
    }
   ],
   "source": [
    "carton"
   ]
  },
  {
   "cell_type": "markdown",
   "id": "2aa8560c",
   "metadata": {},
   "source": [
    "У данном файле 29 видов упаковок, в наших исторических данных используется 22 вида. Упаковки отличаются друг от друга по размерам, данные следует дополнить в дальнейшем анализе дополнительными расчётами, например объём."
   ]
  },
  {
   "cell_type": "markdown",
   "id": "c0b1abc7",
   "metadata": {},
   "source": [
    "## Стоимость упаковок (carton_price) <a id='6'>"
   ]
  },
  {
   "cell_type": "markdown",
   "id": "4e0c04d9",
   "metadata": {},
   "source": [
    "Таблица с идентификаторами упаковок и их стоимостью.\n",
    "\n",
    "- идентификатор (код) упаковки\n",
    "- стоимость"
   ]
  },
  {
   "cell_type": "code",
   "execution_count": 17,
   "id": "e8ed2847",
   "metadata": {},
   "outputs": [],
   "source": [
    "carton_price = pd.read_csv('carton_price.csv', index_col=0)"
   ]
  },
  {
   "cell_type": "code",
   "execution_count": 18,
   "id": "fed7203e",
   "metadata": {},
   "outputs": [
    {
     "name": "stdout",
     "output_type": "stream",
     "text": [
      "<class 'pandas.core.frame.DataFrame'>\n",
      "Index: 15 entries, MYA to YMY\n",
      "Data columns (total 1 columns):\n",
      " #   Column  Non-Null Count  Dtype  \n",
      "---  ------  --------------  -----  \n",
      " 0   price   15 non-null     float64\n",
      "dtypes: float64(1)\n",
      "memory usage: 240.0+ bytes\n"
     ]
    }
   ],
   "source": [
    "carton_price.info()"
   ]
  },
  {
   "cell_type": "code",
   "execution_count": 19,
   "id": "b16a00f1",
   "metadata": {},
   "outputs": [
    {
     "data": {
      "text/html": [
       "<div>\n",
       "<style scoped>\n",
       "    .dataframe tbody tr th:only-of-type {\n",
       "        vertical-align: middle;\n",
       "    }\n",
       "\n",
       "    .dataframe tbody tr th {\n",
       "        vertical-align: top;\n",
       "    }\n",
       "\n",
       "    .dataframe thead th {\n",
       "        text-align: right;\n",
       "    }\n",
       "</style>\n",
       "<table border=\"1\" class=\"dataframe\">\n",
       "  <thead>\n",
       "    <tr style=\"text-align: right;\">\n",
       "      <th></th>\n",
       "      <th>price</th>\n",
       "    </tr>\n",
       "    <tr>\n",
       "      <th>cartontype</th>\n",
       "      <th></th>\n",
       "    </tr>\n",
       "  </thead>\n",
       "  <tbody>\n",
       "    <tr>\n",
       "      <th>MYA</th>\n",
       "      <td>1.1</td>\n",
       "    </tr>\n",
       "    <tr>\n",
       "      <th>MYB</th>\n",
       "      <td>2.3</td>\n",
       "    </tr>\n",
       "    <tr>\n",
       "      <th>MYC</th>\n",
       "      <td>3.6</td>\n",
       "    </tr>\n",
       "    <tr>\n",
       "      <th>MYD</th>\n",
       "      <td>6.9</td>\n",
       "    </tr>\n",
       "    <tr>\n",
       "      <th>MYE</th>\n",
       "      <td>8.1</td>\n",
       "    </tr>\n",
       "    <tr>\n",
       "      <th>MYF</th>\n",
       "      <td>4.1</td>\n",
       "    </tr>\n",
       "    <tr>\n",
       "      <th>YMA</th>\n",
       "      <td>4.4</td>\n",
       "    </tr>\n",
       "    <tr>\n",
       "      <th>YMC</th>\n",
       "      <td>7.8</td>\n",
       "    </tr>\n",
       "    <tr>\n",
       "      <th>YME</th>\n",
       "      <td>23.7</td>\n",
       "    </tr>\n",
       "    <tr>\n",
       "      <th>YMF</th>\n",
       "      <td>10.7</td>\n",
       "    </tr>\n",
       "    <tr>\n",
       "      <th>YMG</th>\n",
       "      <td>17.5</td>\n",
       "    </tr>\n",
       "    <tr>\n",
       "      <th>YML</th>\n",
       "      <td>37.7</td>\n",
       "    </tr>\n",
       "    <tr>\n",
       "      <th>YMW</th>\n",
       "      <td>13.9</td>\n",
       "    </tr>\n",
       "    <tr>\n",
       "      <th>YMX</th>\n",
       "      <td>28.5</td>\n",
       "    </tr>\n",
       "    <tr>\n",
       "      <th>YMY</th>\n",
       "      <td>40.9</td>\n",
       "    </tr>\n",
       "  </tbody>\n",
       "</table>\n",
       "</div>"
      ],
      "text/plain": [
       "            price\n",
       "cartontype       \n",
       "MYA           1.1\n",
       "MYB           2.3\n",
       "MYC           3.6\n",
       "MYD           6.9\n",
       "MYE           8.1\n",
       "MYF           4.1\n",
       "YMA           4.4\n",
       "YMC           7.8\n",
       "YME          23.7\n",
       "YMF          10.7\n",
       "YMG          17.5\n",
       "YML          37.7\n",
       "YMW          13.9\n",
       "YMX          28.5\n",
       "YMY          40.9"
      ]
     },
     "execution_count": 19,
     "metadata": {},
     "output_type": "execute_result"
    },
    {
     "data": {
      "text/plain": [
       "price    15\n",
       "dtype: int64"
      ]
     },
     "execution_count": 19,
     "metadata": {},
     "output_type": "execute_result"
    }
   ],
   "source": [
    "carton_price\n",
    "carton_price.nunique()"
   ]
  },
  {
   "cell_type": "markdown",
   "id": "f52be7e6",
   "metadata": {},
   "source": [
    "В данной таблице представлена стоимость 15 видов упаковок и их цены на 01.03.2023г. Эти данные нам потребуются для оценки работы нашего алгоритма, понять есть ли польза для бизнеса с точки зрения экономии денежных средств на упаковку."
   ]
  },
  {
   "cell_type": "markdown",
   "id": "51f517aa",
   "metadata": {},
   "source": [
    "## Анализ и подготовка данных <a id='7'>"
   ]
  },
  {
   "cell_type": "markdown",
   "id": "049b53af",
   "metadata": {},
   "source": [
    "В основном датасете у нас были товары с нулевыми весами в заказах, для проверки, мы выведем их характеристики с помощью таблицы \"sku\" "
   ]
  },
  {
   "cell_type": "markdown",
   "id": "a900d615",
   "metadata": {},
   "source": [
    "Мы подробно рассмотрели предоставленные файлы и теперь проведём анализ показателей и объедим данные из файлов"
   ]
  },
  {
   "cell_type": "code",
   "execution_count": 20,
   "id": "0d6746d7",
   "metadata": {
    "scrolled": false
   },
   "outputs": [
    {
     "data": {
      "text/html": [
       "<div>\n",
       "<style scoped>\n",
       "    .dataframe tbody tr th:only-of-type {\n",
       "        vertical-align: middle;\n",
       "    }\n",
       "\n",
       "    .dataframe tbody tr th {\n",
       "        vertical-align: top;\n",
       "    }\n",
       "\n",
       "    .dataframe thead th {\n",
       "        text-align: right;\n",
       "    }\n",
       "</style>\n",
       "<table border=\"1\" class=\"dataframe\">\n",
       "  <thead>\n",
       "    <tr style=\"text-align: right;\">\n",
       "      <th></th>\n",
       "      <th>sku</th>\n",
       "      <th>a</th>\n",
       "      <th>b</th>\n",
       "      <th>c</th>\n",
       "    </tr>\n",
       "  </thead>\n",
       "  <tbody>\n",
       "    <tr>\n",
       "      <th>205019</th>\n",
       "      <td>8aa7fe2531526d1c9035af00bf2f4539</td>\n",
       "      <td>62.0</td>\n",
       "      <td>50.0</td>\n",
       "      <td>17.0</td>\n",
       "    </tr>\n",
       "    <tr>\n",
       "      <th>205020</th>\n",
       "      <td>15bbaea14a56cd5e28b604b804601688</td>\n",
       "      <td>74.0</td>\n",
       "      <td>30.0</td>\n",
       "      <td>60.0</td>\n",
       "    </tr>\n",
       "    <tr>\n",
       "      <th>2522130</th>\n",
       "      <td>33b87acb9b4a77423ac3c400963e7f38</td>\n",
       "      <td>135.3</td>\n",
       "      <td>12.2</td>\n",
       "      <td>45.2</td>\n",
       "    </tr>\n",
       "    <tr>\n",
       "      <th>2522131</th>\n",
       "      <td>347cd5efd30e7e166a68c340e77751c9</td>\n",
       "      <td>101.3</td>\n",
       "      <td>3.6</td>\n",
       "      <td>52.3</td>\n",
       "    </tr>\n",
       "    <tr>\n",
       "      <th>5904972</th>\n",
       "      <td>a453c39aaa9e618ed0338f509720a3c6</td>\n",
       "      <td>37.9</td>\n",
       "      <td>32.3</td>\n",
       "      <td>26.2</td>\n",
       "    </tr>\n",
       "    <tr>\n",
       "      <th>5904973</th>\n",
       "      <td>f019ec008b87ea304aba9d081281d93b</td>\n",
       "      <td>24.8</td>\n",
       "      <td>3.6</td>\n",
       "      <td>37.7</td>\n",
       "    </tr>\n",
       "    <tr>\n",
       "      <th>5912660</th>\n",
       "      <td>9b353e6620dda2651a2a37f8c41e1ddc</td>\n",
       "      <td>120.0</td>\n",
       "      <td>1.0</td>\n",
       "      <td>57.0</td>\n",
       "    </tr>\n",
       "    <tr>\n",
       "      <th>6096590</th>\n",
       "      <td>45f4aaaa64cd6758896e6596fc151c6a</td>\n",
       "      <td>6.5</td>\n",
       "      <td>0.4</td>\n",
       "      <td>1.8</td>\n",
       "    </tr>\n",
       "    <tr>\n",
       "      <th>6384894</th>\n",
       "      <td>ae819368a7069b9ce797176b01fc218d</td>\n",
       "      <td>0.0</td>\n",
       "      <td>0.0</td>\n",
       "      <td>0.0</td>\n",
       "    </tr>\n",
       "    <tr>\n",
       "      <th>6384895</th>\n",
       "      <td>7ed149632f7ae3c33a4d806e04d1ad44</td>\n",
       "      <td>0.0</td>\n",
       "      <td>0.0</td>\n",
       "      <td>0.0</td>\n",
       "    </tr>\n",
       "    <tr>\n",
       "      <th>6384896</th>\n",
       "      <td>62df242371ac9a6311ead55c452e546d</td>\n",
       "      <td>0.0</td>\n",
       "      <td>0.0</td>\n",
       "      <td>0.0</td>\n",
       "    </tr>\n",
       "    <tr>\n",
       "      <th>6384906</th>\n",
       "      <td>c67f783f0901454a55318fc3be3b6421</td>\n",
       "      <td>0.0</td>\n",
       "      <td>0.0</td>\n",
       "      <td>0.0</td>\n",
       "    </tr>\n",
       "    <tr>\n",
       "      <th>6384907</th>\n",
       "      <td>5bc9da3b9043c46d999af2d3da73b4cd</td>\n",
       "      <td>0.0</td>\n",
       "      <td>0.0</td>\n",
       "      <td>0.0</td>\n",
       "    </tr>\n",
       "    <tr>\n",
       "      <th>6384908</th>\n",
       "      <td>79598ba24c80c22cdf2fb1517234e0ee</td>\n",
       "      <td>0.0</td>\n",
       "      <td>0.0</td>\n",
       "      <td>0.0</td>\n",
       "    </tr>\n",
       "    <tr>\n",
       "      <th>6384909</th>\n",
       "      <td>d33913446f03316f89e4cde7a009a09d</td>\n",
       "      <td>0.0</td>\n",
       "      <td>0.0</td>\n",
       "      <td>0.0</td>\n",
       "    </tr>\n",
       "    <tr>\n",
       "      <th>6384910</th>\n",
       "      <td>f27ba4fb944d4ce54c0b308c9d4d3082</td>\n",
       "      <td>0.0</td>\n",
       "      <td>0.0</td>\n",
       "      <td>0.0</td>\n",
       "    </tr>\n",
       "    <tr>\n",
       "      <th>6384911</th>\n",
       "      <td>56eff376c844041d21b449237414fef2</td>\n",
       "      <td>0.0</td>\n",
       "      <td>0.0</td>\n",
       "      <td>0.0</td>\n",
       "    </tr>\n",
       "  </tbody>\n",
       "</table>\n",
       "</div>"
      ],
      "text/plain": [
       "                                      sku      a     b     c\n",
       "205019   8aa7fe2531526d1c9035af00bf2f4539   62.0  50.0  17.0\n",
       "205020   15bbaea14a56cd5e28b604b804601688   74.0  30.0  60.0\n",
       "2522130  33b87acb9b4a77423ac3c400963e7f38  135.3  12.2  45.2\n",
       "2522131  347cd5efd30e7e166a68c340e77751c9  101.3   3.6  52.3\n",
       "5904972  a453c39aaa9e618ed0338f509720a3c6   37.9  32.3  26.2\n",
       "5904973  f019ec008b87ea304aba9d081281d93b   24.8   3.6  37.7\n",
       "5912660  9b353e6620dda2651a2a37f8c41e1ddc  120.0   1.0  57.0\n",
       "6096590  45f4aaaa64cd6758896e6596fc151c6a    6.5   0.4   1.8\n",
       "6384894  ae819368a7069b9ce797176b01fc218d    0.0   0.0   0.0\n",
       "6384895  7ed149632f7ae3c33a4d806e04d1ad44    0.0   0.0   0.0\n",
       "6384896  62df242371ac9a6311ead55c452e546d    0.0   0.0   0.0\n",
       "6384906  c67f783f0901454a55318fc3be3b6421    0.0   0.0   0.0\n",
       "6384907  5bc9da3b9043c46d999af2d3da73b4cd    0.0   0.0   0.0\n",
       "6384908  79598ba24c80c22cdf2fb1517234e0ee    0.0   0.0   0.0\n",
       "6384909  d33913446f03316f89e4cde7a009a09d    0.0   0.0   0.0\n",
       "6384910  f27ba4fb944d4ce54c0b308c9d4d3082    0.0   0.0   0.0\n",
       "6384911  56eff376c844041d21b449237414fef2    0.0   0.0   0.0"
      ]
     },
     "execution_count": 20,
     "metadata": {},
     "output_type": "execute_result"
    }
   ],
   "source": [
    "list_sku_wght_0 = data.query('goods_wght==0')['sku'].unique().tolist()\n",
    "\n",
    "sku[sku.sku.isin(list_sku_wght_0)]"
   ]
  },
  {
   "cell_type": "code",
   "execution_count": 21,
   "id": "e3de0d88",
   "metadata": {
    "scrolled": true
   },
   "outputs": [
    {
     "name": "stdout",
     "output_type": "stream",
     "text": [
      "Количество товаров с нулевыми весами в заказах составило:  418\n",
      "Количество товаров в данных составило:  325205\n"
     ]
    }
   ],
   "source": [
    "print('Количество товаров с нулевыми весами в заказах составило: ', data[data.sku.isin(list_sku_wght_0)]['sku'].count())\n",
    "data = data.drop(data[data.sku.isin(list_sku_wght_0)]['sku'].index)\n",
    "print('Количество товаров в данных составило: ', len(data))"
   ]
  },
  {
   "cell_type": "markdown",
   "id": "801e5890",
   "metadata": {},
   "source": [
    "В основном датасете у нас были товары с нулевыми весами в заказах, для проверки, мы вывели их характеристики с помощью таблицы \"sku\" и видим, что это скорее всего ошибочные данные, особенно там, где линейные размеры товаров присутствуют, где они нулевые, там могут быть совсем маленькие размеры, которые в связи с округлением были утеряны, во всяком случае считаем, что они нам не потребуются в дальнейшем анализе."
   ]
  },
  {
   "cell_type": "markdown",
   "id": "144edab7",
   "metadata": {},
   "source": [
    "Присоединим к данным линейные размеры товаров (sku)"
   ]
  },
  {
   "cell_type": "code",
   "execution_count": 22,
   "id": "5e480a1d",
   "metadata": {},
   "outputs": [
    {
     "data": {
      "text/html": [
       "<div>\n",
       "<style scoped>\n",
       "    .dataframe tbody tr th:only-of-type {\n",
       "        vertical-align: middle;\n",
       "    }\n",
       "\n",
       "    .dataframe tbody tr th {\n",
       "        vertical-align: top;\n",
       "    }\n",
       "\n",
       "    .dataframe thead th {\n",
       "        text-align: right;\n",
       "    }\n",
       "</style>\n",
       "<table border=\"1\" class=\"dataframe\">\n",
       "  <thead>\n",
       "    <tr style=\"text-align: right;\">\n",
       "      <th></th>\n",
       "      <th>whs</th>\n",
       "      <th>orderkey</th>\n",
       "      <th>selected_cartontype</th>\n",
       "      <th>box_num</th>\n",
       "      <th>recommended_cartontype</th>\n",
       "      <th>selected_carton</th>\n",
       "      <th>sel_calc_cube</th>\n",
       "      <th>recommended_carton</th>\n",
       "      <th>pack_volume</th>\n",
       "      <th>rec_calc_cube</th>\n",
       "      <th>goods_wght</th>\n",
       "      <th>sku</th>\n",
       "      <th>who</th>\n",
       "      <th>trackingid</th>\n",
       "      <th>a</th>\n",
       "      <th>b</th>\n",
       "      <th>c</th>\n",
       "    </tr>\n",
       "  </thead>\n",
       "  <tbody>\n",
       "    <tr>\n",
       "      <th>0</th>\n",
       "      <td>0</td>\n",
       "      <td>d48f3211c1ffccdc374f23139a9ab668</td>\n",
       "      <td>NONPACK</td>\n",
       "      <td>1</td>\n",
       "      <td>YML</td>\n",
       "      <td>NONPACK</td>\n",
       "      <td>0</td>\n",
       "      <td>YML</td>\n",
       "      <td>2046</td>\n",
       "      <td>108000</td>\n",
       "      <td>0.1</td>\n",
       "      <td>af49bf330e2cf16e44f0be1bdfe337bd</td>\n",
       "      <td>b7325da1af89a46059164618eb03ae38</td>\n",
       "      <td>6c304d5c2815ccd2ba5046c101294c24</td>\n",
       "      <td>11.0</td>\n",
       "      <td>6.0</td>\n",
       "      <td>31.0</td>\n",
       "    </tr>\n",
       "    <tr>\n",
       "      <th>1</th>\n",
       "      <td>0</td>\n",
       "      <td>d48f3211c1ffccdc374f23139a9ab668</td>\n",
       "      <td>NONPACK</td>\n",
       "      <td>1</td>\n",
       "      <td>YML</td>\n",
       "      <td>NONPACK</td>\n",
       "      <td>0</td>\n",
       "      <td>YML</td>\n",
       "      <td>2046</td>\n",
       "      <td>108000</td>\n",
       "      <td>0.1</td>\n",
       "      <td>af49bf330e2cf16e44f0be1bdfe337bd</td>\n",
       "      <td>b7325da1af89a46059164618eb03ae38</td>\n",
       "      <td>6c304d5c2815ccd2ba5046c101294c24</td>\n",
       "      <td>11.0</td>\n",
       "      <td>6.0</td>\n",
       "      <td>31.0</td>\n",
       "    </tr>\n",
       "    <tr>\n",
       "      <th>2</th>\n",
       "      <td>0</td>\n",
       "      <td>d48f3211c1ffccdc374f23139a9ab668</td>\n",
       "      <td>NONPACK</td>\n",
       "      <td>1</td>\n",
       "      <td>YML</td>\n",
       "      <td>NONPACK</td>\n",
       "      <td>0</td>\n",
       "      <td>YML</td>\n",
       "      <td>2046</td>\n",
       "      <td>108000</td>\n",
       "      <td>0.1</td>\n",
       "      <td>af49bf330e2cf16e44f0be1bdfe337bd</td>\n",
       "      <td>b7325da1af89a46059164618eb03ae38</td>\n",
       "      <td>6c304d5c2815ccd2ba5046c101294c24</td>\n",
       "      <td>11.0</td>\n",
       "      <td>6.0</td>\n",
       "      <td>31.0</td>\n",
       "    </tr>\n",
       "    <tr>\n",
       "      <th>3</th>\n",
       "      <td>0</td>\n",
       "      <td>d48f3211c1ffccdc374f23139a9ab668</td>\n",
       "      <td>NONPACK</td>\n",
       "      <td>1</td>\n",
       "      <td>YML</td>\n",
       "      <td>NONPACK</td>\n",
       "      <td>0</td>\n",
       "      <td>YML</td>\n",
       "      <td>2046</td>\n",
       "      <td>108000</td>\n",
       "      <td>0.1</td>\n",
       "      <td>af49bf330e2cf16e44f0be1bdfe337bd</td>\n",
       "      <td>b7325da1af89a46059164618eb03ae38</td>\n",
       "      <td>6c304d5c2815ccd2ba5046c101294c24</td>\n",
       "      <td>11.0</td>\n",
       "      <td>6.0</td>\n",
       "      <td>31.0</td>\n",
       "    </tr>\n",
       "    <tr>\n",
       "      <th>4</th>\n",
       "      <td>0</td>\n",
       "      <td>d48f3211c1ffccdc374f23139a9ab668</td>\n",
       "      <td>NONPACK</td>\n",
       "      <td>1</td>\n",
       "      <td>YML</td>\n",
       "      <td>NONPACK</td>\n",
       "      <td>0</td>\n",
       "      <td>YML</td>\n",
       "      <td>2046</td>\n",
       "      <td>108000</td>\n",
       "      <td>0.1</td>\n",
       "      <td>af49bf330e2cf16e44f0be1bdfe337bd</td>\n",
       "      <td>b7325da1af89a46059164618eb03ae38</td>\n",
       "      <td>6c304d5c2815ccd2ba5046c101294c24</td>\n",
       "      <td>11.0</td>\n",
       "      <td>6.0</td>\n",
       "      <td>31.0</td>\n",
       "    </tr>\n",
       "  </tbody>\n",
       "</table>\n",
       "</div>"
      ],
      "text/plain": [
       "   whs                          orderkey selected_cartontype  box_num  \\\n",
       "0    0  d48f3211c1ffccdc374f23139a9ab668             NONPACK        1   \n",
       "1    0  d48f3211c1ffccdc374f23139a9ab668             NONPACK        1   \n",
       "2    0  d48f3211c1ffccdc374f23139a9ab668             NONPACK        1   \n",
       "3    0  d48f3211c1ffccdc374f23139a9ab668             NONPACK        1   \n",
       "4    0  d48f3211c1ffccdc374f23139a9ab668             NONPACK        1   \n",
       "\n",
       "  recommended_cartontype selected_carton  sel_calc_cube recommended_carton  \\\n",
       "0                    YML         NONPACK              0                YML   \n",
       "1                    YML         NONPACK              0                YML   \n",
       "2                    YML         NONPACK              0                YML   \n",
       "3                    YML         NONPACK              0                YML   \n",
       "4                    YML         NONPACK              0                YML   \n",
       "\n",
       "   pack_volume  rec_calc_cube  goods_wght                               sku  \\\n",
       "0         2046         108000         0.1  af49bf330e2cf16e44f0be1bdfe337bd   \n",
       "1         2046         108000         0.1  af49bf330e2cf16e44f0be1bdfe337bd   \n",
       "2         2046         108000         0.1  af49bf330e2cf16e44f0be1bdfe337bd   \n",
       "3         2046         108000         0.1  af49bf330e2cf16e44f0be1bdfe337bd   \n",
       "4         2046         108000         0.1  af49bf330e2cf16e44f0be1bdfe337bd   \n",
       "\n",
       "                                who                        trackingid     a  \\\n",
       "0  b7325da1af89a46059164618eb03ae38  6c304d5c2815ccd2ba5046c101294c24  11.0   \n",
       "1  b7325da1af89a46059164618eb03ae38  6c304d5c2815ccd2ba5046c101294c24  11.0   \n",
       "2  b7325da1af89a46059164618eb03ae38  6c304d5c2815ccd2ba5046c101294c24  11.0   \n",
       "3  b7325da1af89a46059164618eb03ae38  6c304d5c2815ccd2ba5046c101294c24  11.0   \n",
       "4  b7325da1af89a46059164618eb03ae38  6c304d5c2815ccd2ba5046c101294c24  11.0   \n",
       "\n",
       "     b     c  \n",
       "0  6.0  31.0  \n",
       "1  6.0  31.0  \n",
       "2  6.0  31.0  \n",
       "3  6.0  31.0  \n",
       "4  6.0  31.0  "
      ]
     },
     "execution_count": 22,
     "metadata": {},
     "output_type": "execute_result"
    }
   ],
   "source": [
    "data_unity = data.merge(sku, on='sku', how='inner')\n",
    "data_unity.head()"
   ]
  },
  {
   "cell_type": "markdown",
   "id": "4df2b27d",
   "metadata": {},
   "source": [
    "Рассчитаем объем товаров используя линейные размеры"
   ]
  },
  {
   "cell_type": "code",
   "execution_count": 23,
   "id": "9313a987",
   "metadata": {},
   "outputs": [],
   "source": [
    "data_unity['sku_volume'] = data_unity['a'] * data_unity['b'] * data_unity['c']"
   ]
  },
  {
   "cell_type": "markdown",
   "id": "a077cd18",
   "metadata": {},
   "source": [
    "Добавим данные по ценам и размерам упаковок"
   ]
  },
  {
   "cell_type": "code",
   "execution_count": 24,
   "id": "6f073d09",
   "metadata": {
    "scrolled": true
   },
   "outputs": [
    {
     "data": {
      "text/html": [
       "<div>\n",
       "<style scoped>\n",
       "    .dataframe tbody tr th:only-of-type {\n",
       "        vertical-align: middle;\n",
       "    }\n",
       "\n",
       "    .dataframe tbody tr th {\n",
       "        vertical-align: top;\n",
       "    }\n",
       "\n",
       "    .dataframe thead th {\n",
       "        text-align: right;\n",
       "    }\n",
       "</style>\n",
       "<table border=\"1\" class=\"dataframe\">\n",
       "  <thead>\n",
       "    <tr style=\"text-align: right;\">\n",
       "      <th></th>\n",
       "      <th>whs</th>\n",
       "      <th>orderkey</th>\n",
       "      <th>selected_cartontype</th>\n",
       "      <th>box_num</th>\n",
       "      <th>recommended_cartontype</th>\n",
       "      <th>selected_carton</th>\n",
       "      <th>sel_calc_cube</th>\n",
       "      <th>recommended_carton</th>\n",
       "      <th>pack_volume</th>\n",
       "      <th>rec_calc_cube</th>\n",
       "      <th>goods_wght</th>\n",
       "      <th>sku</th>\n",
       "      <th>who</th>\n",
       "      <th>trackingid</th>\n",
       "      <th>a</th>\n",
       "      <th>b</th>\n",
       "      <th>c</th>\n",
       "      <th>sku_volume</th>\n",
       "      <th>price</th>\n",
       "      <th>cartontype</th>\n",
       "      <th>length</th>\n",
       "      <th>width</th>\n",
       "      <th>height</th>\n",
       "    </tr>\n",
       "  </thead>\n",
       "  <tbody>\n",
       "    <tr>\n",
       "      <th>101889</th>\n",
       "      <td>0</td>\n",
       "      <td>847eb92bec7160155831043ad1a25e29</td>\n",
       "      <td>MYC</td>\n",
       "      <td>1</td>\n",
       "      <td>MYC</td>\n",
       "      <td>MYC</td>\n",
       "      <td>8436</td>\n",
       "      <td>MYC</td>\n",
       "      <td>1500</td>\n",
       "      <td>8436</td>\n",
       "      <td>1.100</td>\n",
       "      <td>a3adc5ebc05912a309e8bdf6678de9c2</td>\n",
       "      <td>a13b76c215e388cef6682d2fd5592eba</td>\n",
       "      <td>17d775981164882be51ea0fe0358167a</td>\n",
       "      <td>12.8</td>\n",
       "      <td>25.7</td>\n",
       "      <td>6.6</td>\n",
       "      <td>2171.136</td>\n",
       "      <td>3.6</td>\n",
       "      <td>MYC</td>\n",
       "      <td>30.0</td>\n",
       "      <td>38.0</td>\n",
       "      <td>7.4</td>\n",
       "    </tr>\n",
       "    <tr>\n",
       "      <th>109797</th>\n",
       "      <td>4</td>\n",
       "      <td>e9e9ebec0f767bc60929356f98994b12</td>\n",
       "      <td>YMC</td>\n",
       "      <td>1</td>\n",
       "      <td>YMA</td>\n",
       "      <td>YMC</td>\n",
       "      <td>8525</td>\n",
       "      <td>YMA</td>\n",
       "      <td>756</td>\n",
       "      <td>3360</td>\n",
       "      <td>0.240</td>\n",
       "      <td>2cdc221e2309d911a84023df035f1557</td>\n",
       "      <td>34ea3e2c051890156da5ed80de3d266b</td>\n",
       "      <td>11ee3e1835f5c6e87add081d931497f2</td>\n",
       "      <td>16.3</td>\n",
       "      <td>8.6</td>\n",
       "      <td>14.7</td>\n",
       "      <td>2060.646</td>\n",
       "      <td>7.8</td>\n",
       "      <td>YMC</td>\n",
       "      <td>30.0</td>\n",
       "      <td>20.0</td>\n",
       "      <td>15.0</td>\n",
       "    </tr>\n",
       "    <tr>\n",
       "      <th>255565</th>\n",
       "      <td>0</td>\n",
       "      <td>c82c6b842cae2912530d279e91572cb4</td>\n",
       "      <td>MYB</td>\n",
       "      <td>1</td>\n",
       "      <td>MYB</td>\n",
       "      <td>MYB</td>\n",
       "      <td>3449</td>\n",
       "      <td>MYB</td>\n",
       "      <td>368</td>\n",
       "      <td>3449</td>\n",
       "      <td>0.040</td>\n",
       "      <td>a999bdf12742a5972ea12d6784614efa</td>\n",
       "      <td>347bdc6f6b2e1771b30a8f324bc7e380</td>\n",
       "      <td>0a627b8db23704cdf166ec0f30a8eecf</td>\n",
       "      <td>23.0</td>\n",
       "      <td>2.0</td>\n",
       "      <td>8.0</td>\n",
       "      <td>368.000</td>\n",
       "      <td>2.3</td>\n",
       "      <td>MYB</td>\n",
       "      <td>22.0</td>\n",
       "      <td>32.0</td>\n",
       "      <td>4.9</td>\n",
       "    </tr>\n",
       "    <tr>\n",
       "      <th>300906</th>\n",
       "      <td>4</td>\n",
       "      <td>561414c8417e4aa88f1f2ced5403888a</td>\n",
       "      <td>MYC</td>\n",
       "      <td>1</td>\n",
       "      <td>MYC</td>\n",
       "      <td>MYC</td>\n",
       "      <td>8436</td>\n",
       "      <td>MYC</td>\n",
       "      <td>3864</td>\n",
       "      <td>8436</td>\n",
       "      <td>0.155</td>\n",
       "      <td>be96f61d06c2be3af1c84d2ed41fe954</td>\n",
       "      <td>de443bbce187bac01d5452fa23031a1e</td>\n",
       "      <td>0a47aec7dfdc01c5b4eebabb2f6e10a1</td>\n",
       "      <td>28.0</td>\n",
       "      <td>6.0</td>\n",
       "      <td>23.0</td>\n",
       "      <td>3864.000</td>\n",
       "      <td>3.6</td>\n",
       "      <td>MYC</td>\n",
       "      <td>30.0</td>\n",
       "      <td>38.0</td>\n",
       "      <td>7.4</td>\n",
       "    </tr>\n",
       "    <tr>\n",
       "      <th>231067</th>\n",
       "      <td>3</td>\n",
       "      <td>eb1fd4ed3c807c1ea0ebd8d33ebeeb65</td>\n",
       "      <td>MYD</td>\n",
       "      <td>1</td>\n",
       "      <td>MYC</td>\n",
       "      <td>MYD</td>\n",
       "      <td>15579</td>\n",
       "      <td>MYC</td>\n",
       "      <td>1520</td>\n",
       "      <td>8436</td>\n",
       "      <td>0.420</td>\n",
       "      <td>97b54b5e3e9f35ee1323db48d70e8018</td>\n",
       "      <td>f4464e8aa7a56dd2ae8758b60e18ecb6</td>\n",
       "      <td>43ec02d560761e64a08aa5ce1e3b4446</td>\n",
       "      <td>19.0</td>\n",
       "      <td>4.0</td>\n",
       "      <td>20.0</td>\n",
       "      <td>1520.000</td>\n",
       "      <td>6.9</td>\n",
       "      <td>MYD</td>\n",
       "      <td>38.0</td>\n",
       "      <td>50.0</td>\n",
       "      <td>8.2</td>\n",
       "    </tr>\n",
       "  </tbody>\n",
       "</table>\n",
       "</div>"
      ],
      "text/plain": [
       "        whs                          orderkey selected_cartontype  box_num  \\\n",
       "101889    0  847eb92bec7160155831043ad1a25e29                 MYC        1   \n",
       "109797    4  e9e9ebec0f767bc60929356f98994b12                 YMC        1   \n",
       "255565    0  c82c6b842cae2912530d279e91572cb4                 MYB        1   \n",
       "300906    4  561414c8417e4aa88f1f2ced5403888a                 MYC        1   \n",
       "231067    3  eb1fd4ed3c807c1ea0ebd8d33ebeeb65                 MYD        1   \n",
       "\n",
       "       recommended_cartontype selected_carton  sel_calc_cube  \\\n",
       "101889                    MYC             MYC           8436   \n",
       "109797                    YMA             YMC           8525   \n",
       "255565                    MYB             MYB           3449   \n",
       "300906                    MYC             MYC           8436   \n",
       "231067                    MYC             MYD          15579   \n",
       "\n",
       "       recommended_carton  pack_volume  rec_calc_cube  goods_wght  \\\n",
       "101889                MYC         1500           8436       1.100   \n",
       "109797                YMA          756           3360       0.240   \n",
       "255565                MYB          368           3449       0.040   \n",
       "300906                MYC         3864           8436       0.155   \n",
       "231067                MYC         1520           8436       0.420   \n",
       "\n",
       "                                     sku                               who  \\\n",
       "101889  a3adc5ebc05912a309e8bdf6678de9c2  a13b76c215e388cef6682d2fd5592eba   \n",
       "109797  2cdc221e2309d911a84023df035f1557  34ea3e2c051890156da5ed80de3d266b   \n",
       "255565  a999bdf12742a5972ea12d6784614efa  347bdc6f6b2e1771b30a8f324bc7e380   \n",
       "300906  be96f61d06c2be3af1c84d2ed41fe954  de443bbce187bac01d5452fa23031a1e   \n",
       "231067  97b54b5e3e9f35ee1323db48d70e8018  f4464e8aa7a56dd2ae8758b60e18ecb6   \n",
       "\n",
       "                              trackingid     a     b     c  sku_volume  price  \\\n",
       "101889  17d775981164882be51ea0fe0358167a  12.8  25.7   6.6    2171.136    3.6   \n",
       "109797  11ee3e1835f5c6e87add081d931497f2  16.3   8.6  14.7    2060.646    7.8   \n",
       "255565  0a627b8db23704cdf166ec0f30a8eecf  23.0   2.0   8.0     368.000    2.3   \n",
       "300906  0a47aec7dfdc01c5b4eebabb2f6e10a1  28.0   6.0  23.0    3864.000    3.6   \n",
       "231067  43ec02d560761e64a08aa5ce1e3b4446  19.0   4.0  20.0    1520.000    6.9   \n",
       "\n",
       "       cartontype  length  width  height  \n",
       "101889        MYC    30.0   38.0     7.4  \n",
       "109797        YMC    30.0   20.0    15.0  \n",
       "255565        MYB    22.0   32.0     4.9  \n",
       "300906        MYC    30.0   38.0     7.4  \n",
       "231067        MYD    38.0   50.0     8.2  "
      ]
     },
     "execution_count": 24,
     "metadata": {},
     "output_type": "execute_result"
    }
   ],
   "source": [
    "data_unity = data_unity.merge(carton_price, left_on='selected_cartontype', right_on='cartontype', how='left')\\\n",
    "                       .merge(carton[['cartontype', 'length', 'width', 'height']], left_on='selected_cartontype', right_on='cartontype', how='left')\n",
    "data_unity.sample(5)"
   ]
  },
  {
   "cell_type": "markdown",
   "id": "92814f7a",
   "metadata": {},
   "source": [
    "Рассчитаем объем упаковок на основании размеров (length, width, height)"
   ]
  },
  {
   "cell_type": "code",
   "execution_count": 25,
   "id": "3897d631",
   "metadata": {},
   "outputs": [],
   "source": [
    "data_unity['pack_volume'] = data_unity['length'] * data_unity['width'] * data_unity['height']\n",
    "data_unity['min_dim'] = data_unity[['length', 'width', 'height']].min(axis=1)\n",
    "data_unity['max_dim'] = data_unity[['length', 'width', 'height']].max(axis=1)\n",
    "\n",
    "data_unity['min_sku_dim'] = data_unity[['a', 'b', 'c']].apply(min, axis=1)\n",
    "data_unity['max_sku_dim'] = data_unity[['a', 'b', 'c']].apply(max, axis=1)"
   ]
  },
  {
   "cell_type": "markdown",
   "id": "a7c4f9e2",
   "metadata": {},
   "source": [
    "Удалим не информативные столбцы:"
   ]
  },
  {
   "cell_type": "code",
   "execution_count": 26,
   "id": "88aac398",
   "metadata": {},
   "outputs": [],
   "source": [
    "data_unity.drop(['whs', 'selected_carton', 'cartontype', 'who'], axis=1, inplace=True)"
   ]
  },
  {
   "cell_type": "code",
   "execution_count": 27,
   "id": "4df4bad2",
   "metadata": {},
   "outputs": [
    {
     "name": "stdout",
     "output_type": "stream",
     "text": [
      "Количество дубликатов в данных составило: 90473\n",
      "Количество дубликатов после удаления: 0\n"
     ]
    }
   ],
   "source": [
    "print('Количество дубликатов в данных составило:', data_unity.duplicated().sum())\n",
    "data_unity.drop_duplicates(inplace=True)\n",
    "print('Количество дубликатов после удаления:', data_unity.duplicated().sum())"
   ]
  },
  {
   "cell_type": "markdown",
   "id": "1033be04",
   "metadata": {},
   "source": [
    "Посмотрим на исторические данные графически, какой вид упаковки наиболее часто используют сотрудники склада при формировании заказа"
   ]
  },
  {
   "cell_type": "code",
   "execution_count": 28,
   "id": "e1e5320c",
   "metadata": {},
   "outputs": [
    {
     "data": {
      "image/png": "[encoded data removed]",
      "text/plain": [
       "<Figure size 1080x432 with 1 Axes>"
      ]
     },
     "metadata": {},
     "output_type": "display_data"
    }
   ],
   "source": [
    "plt.figure(figsize=(15, 6))\n",
    "data_unity.groupby('selected_cartontype')['orderkey'].count().plot(kind='bar', figsize=(15,6), color=sns.dark_palette(\"xkcd:golden\", 8))\n",
    "plt.title('Packaging selected by the user', fontsize=(17))\n",
    "plt.xticks(rotation=90);"
   ]
  },
  {
   "cell_type": "code",
   "execution_count": 29,
   "id": "316c3d04",
   "metadata": {
    "scrolled": true
   },
   "outputs": [
    {
     "data": {
      "text/plain": [
       "[MYB]        39355\n",
       "[MYC]        28862\n",
       "[MYA]        14382\n",
       "[NONPACK]    13365\n",
       "[MYD]        12761\n",
       "[STRETCH]     8130\n",
       "[YMC]         7805\n",
       "[YMA]         6643\n",
       "[MYE]         4169\n",
       "[YMF]         4035\n",
       "Name: selected_cartontype, dtype: int64"
      ]
     },
     "execution_count": 29,
     "metadata": {},
     "output_type": "execute_result"
    }
   ],
   "source": [
    "data_unity.groupby('orderkey')['selected_cartontype'].apply(lambda x: pd.Series(x).unique()).value_counts().head(10)"
   ]
  },
  {
   "cell_type": "code",
   "execution_count": 30,
   "id": "f1a38a7d",
   "metadata": {},
   "outputs": [
    {
     "data": {
      "text/plain": [
       "3449.6     0.365425\n",
       "8436.0     0.301799\n",
       "15580.0    0.147177\n",
       "999.0      0.130974\n",
       "26277.3    0.054625\n",
       "Name: pack_volume, dtype: float64"
      ]
     },
     "execution_count": 30,
     "metadata": {},
     "output_type": "execute_result"
    },
    {
     "data": {
      "text/plain": [
       "0.0    30400\n",
       "Name: pack_volume, dtype: int64"
      ]
     },
     "execution_count": 30,
     "metadata": {},
     "output_type": "execute_result"
    },
    {
     "data": {
      "text/plain": [
       "15580.0    0.335104\n",
       "9000.0     0.288966\n",
       "13125.0    0.191416\n",
       "3705.0     0.184514\n",
       "Name: pack_volume, dtype: float64"
      ]
     },
     "execution_count": 30,
     "metadata": {},
     "output_type": "execute_result"
    }
   ],
   "source": [
    "leader_m = ['MYB', 'MYC', 'MYA', 'MYD', 'MYE']\n",
    "leader_n_s = ['NONPACK', 'STRETCH']\n",
    "leader_y = ['YMC', 'YMA', 'YMF', 'MYD', 'YMC', 'YMA']\n",
    "\n",
    "data_unity.query('selected_cartontype in @leader_m')['pack_volume'].value_counts(normalize=True)\n",
    "data_unity.query('selected_cartontype in @leader_n_s')['pack_volume'].value_counts()\n",
    "data_unity.query('selected_cartontype in @leader_y')['pack_volume'].value_counts(normalize=True)"
   ]
  },
  {
   "cell_type": "markdown",
   "id": "a6fb4dff",
   "metadata": {},
   "source": [
    "Под кодировками MYC, MYA и MYB идёт упаковка в пакеты, она самая популярная при формировании заказа, объём варьируется приблизительно от 1 тыс.см3 до 26 тыс.см3, из чего следует, что более популярны мелкогабаритные товары. По карготипу \"NONPACK\" и \"STRETCH\" объём упаковки идёт нулевой, это связано с тем, что товар просто не нуждался в упаковке и стретч-плёнка идёт как расходный материал, который не имеет объёма, таких товаров в данных и нас около 30 тысяч. В коробки аналогично складывают не большие по размеру товары. Теперь посмотрим на данные по рекомендованной упаковке из остовной таблицы:"
   ]
  },
  {
   "cell_type": "code",
   "execution_count": 31,
   "id": "7852f216",
   "metadata": {},
   "outputs": [
    {
     "data": {
      "image/png": "[encoded data removed]",
      "text/plain": [
       "<Figure size 1080x432 with 1 Axes>"
      ]
     },
     "metadata": {},
     "output_type": "display_data"
    }
   ],
   "source": [
    "plt.figure(figsize=(15, 6))\n",
    "data_unity.groupby('recommended_cartontype')['orderkey'].count().plot(kind='bar', figsize=(15,6), color=sns.cubehelix_palette(8,start=.5,rot=-.75))\n",
    "plt.title('Packaging selected by the recommendation algorithm', fontsize=(17))\n",
    "plt.xticks(rotation=90);"
   ]
  },
  {
   "cell_type": "code",
   "execution_count": 32,
   "id": "1e4e5eda",
   "metadata": {},
   "outputs": [
    {
     "data": {
      "text/plain": [
       "[YMA]        30660\n",
       "[YMC]        17559\n",
       "[MYC]        16421\n",
       "[MYA]        13852\n",
       "[MYF]        10172\n",
       "[NONPACK]    10050\n",
       "[MYB]         9690\n",
       "[YMF]         9344\n",
       "[YMG]         7066\n",
       "[YMW]         4858\n",
       "Name: recommended_cartontype, dtype: int64"
      ]
     },
     "execution_count": 32,
     "metadata": {},
     "output_type": "execute_result"
    }
   ],
   "source": [
    "data_unity.groupby('orderkey')['recommended_cartontype'].apply(lambda x: pd.Series(x).unique()).value_counts().head(10)"
   ]
  },
  {
   "cell_type": "markdown",
   "id": "fa7be8d3",
   "metadata": {},
   "source": [
    "Существующий на данный момент алгоритм рекомендательной системы показывает, что необходимо использовать коробки в большем количестве, чем пакеты, что не целесообразно для бизнеса, так как это приведёт к увеличению расходов на упаковку и увеличит расходы бизнеса."
   ]
  },
  {
   "cell_type": "markdown",
   "id": "cb376659",
   "metadata": {},
   "source": [
    "Из приведённых нами графиков стоит отметить, что на данный момент рекомедательный алгоритм рекомендует бо'льшую по стоимости упаковку, что не целесообразно с точки зрения бизнеса, ведёт к увеличение затрат на более дорогую упаковку и росту логистических расходов, связанных с более не рациональным использованием жёсткой упаковки."
   ]
  },
  {
   "cell_type": "markdown",
   "id": "f8e6a06b",
   "metadata": {},
   "source": [
    "## One order - one box <a id='8'>"
   ]
  },
  {
   "cell_type": "markdown",
   "id": "c2abdc13",
   "metadata": {},
   "source": [
    "Рассмотрим заказы, в которых только один товар.\n",
    "\n",
    "Количество заказов по количеству товаров в них составило:"
   ]
  },
  {
   "cell_type": "code",
   "execution_count": 33,
   "id": "1b070cec",
   "metadata": {
    "scrolled": false
   },
   "outputs": [
    {
     "name": "stdout",
     "output_type": "stream",
     "text": [
      "Доля количества  товаров в общем количестве заказов составило: \n"
     ]
    },
    {
     "data": {
      "text/plain": [
       "1     0.650735\n",
       "2     0.166974\n",
       "3     0.064465\n",
       "4     0.040160\n",
       "5     0.023911\n",
       "6     0.015648\n",
       "7     0.008100\n",
       "8     0.006172\n",
       "10    0.005683\n",
       "9     0.003768\n",
       "Name: sku, dtype: float64"
      ]
     },
     "execution_count": 33,
     "metadata": {},
     "output_type": "execute_result"
    }
   ],
   "source": [
    "print('Доля количества  товаров в общем количестве заказов составило: ')\n",
    "\n",
    "data.groupby('orderkey')['sku'].count().value_counts(normalize=True).head(10)"
   ]
  },
  {
   "cell_type": "markdown",
   "id": "d1a1eb2b",
   "metadata": {},
   "source": [
    "Большую часть заказов составляют заказы с одним товаром, поэтому стоит провести более детальный анализ"
   ]
  },
  {
   "cell_type": "code",
   "execution_count": 34,
   "id": "d6b7e917",
   "metadata": {
    "scrolled": true
   },
   "outputs": [
    {
     "name": "stdout",
     "output_type": "stream",
     "text": [
      "Заказы с одним товарoм составили:  115769\n",
      "Заказы которые отправлялись в одной коробке:  145925\n",
      "Количество заказов в которых только один товар и которые отправлялись в одной коробке:  115769\n"
     ]
    },
    {
     "data": {
      "text/html": [
       "<div>\n",
       "<style scoped>\n",
       "    .dataframe tbody tr th:only-of-type {\n",
       "        vertical-align: middle;\n",
       "    }\n",
       "\n",
       "    .dataframe tbody tr th {\n",
       "        vertical-align: top;\n",
       "    }\n",
       "\n",
       "    .dataframe thead th {\n",
       "        text-align: right;\n",
       "    }\n",
       "</style>\n",
       "<table border=\"1\" class=\"dataframe\">\n",
       "  <thead>\n",
       "    <tr style=\"text-align: right;\">\n",
       "      <th></th>\n",
       "      <th>orderkey</th>\n",
       "      <th>selected_cartontype</th>\n",
       "      <th>box_num</th>\n",
       "      <th>recommended_cartontype</th>\n",
       "      <th>sel_calc_cube</th>\n",
       "      <th>recommended_carton</th>\n",
       "      <th>pack_volume</th>\n",
       "      <th>rec_calc_cube</th>\n",
       "      <th>goods_wght</th>\n",
       "      <th>sku</th>\n",
       "      <th>trackingid</th>\n",
       "      <th>a</th>\n",
       "      <th>b</th>\n",
       "      <th>c</th>\n",
       "      <th>sku_volume</th>\n",
       "      <th>price</th>\n",
       "      <th>length</th>\n",
       "      <th>width</th>\n",
       "      <th>height</th>\n",
       "      <th>min_dim</th>\n",
       "      <th>max_dim</th>\n",
       "      <th>min_sku_dim</th>\n",
       "      <th>max_sku_dim</th>\n",
       "    </tr>\n",
       "  </thead>\n",
       "  <tbody>\n",
       "    <tr>\n",
       "      <th>115174</th>\n",
       "      <td>c3962e13dcd1a9133bcf0313143022e9</td>\n",
       "      <td>YMA</td>\n",
       "      <td>1</td>\n",
       "      <td>YMA</td>\n",
       "      <td>4068</td>\n",
       "      <td>YMA</td>\n",
       "      <td>3705.0</td>\n",
       "      <td>4068</td>\n",
       "      <td>0.236</td>\n",
       "      <td>69b4d93910965152168879ff073988c8</td>\n",
       "      <td>0cbc17bc1157da50d55d78c7fc993560</td>\n",
       "      <td>8.8</td>\n",
       "      <td>7.5</td>\n",
       "      <td>17.0</td>\n",
       "      <td>1122.00</td>\n",
       "      <td>4.4</td>\n",
       "      <td>24.7</td>\n",
       "      <td>15.0</td>\n",
       "      <td>10.00</td>\n",
       "      <td>10.00</td>\n",
       "      <td>24.7</td>\n",
       "      <td>7.5</td>\n",
       "      <td>17.0</td>\n",
       "    </tr>\n",
       "    <tr>\n",
       "      <th>57639</th>\n",
       "      <td>7b2540105710d9c905a79b0c4d646439</td>\n",
       "      <td>MYA</td>\n",
       "      <td>1</td>\n",
       "      <td>MYA</td>\n",
       "      <td>998</td>\n",
       "      <td>MYA</td>\n",
       "      <td>999.0</td>\n",
       "      <td>998</td>\n",
       "      <td>0.100</td>\n",
       "      <td>b5b65ba8a098f3b386af5a2553352494</td>\n",
       "      <td>3f493c590bb29e761f3803a3ebe67eb9</td>\n",
       "      <td>8.0</td>\n",
       "      <td>2.0</td>\n",
       "      <td>8.0</td>\n",
       "      <td>128.00</td>\n",
       "      <td>1.1</td>\n",
       "      <td>15.0</td>\n",
       "      <td>20.0</td>\n",
       "      <td>3.33</td>\n",
       "      <td>3.33</td>\n",
       "      <td>20.0</td>\n",
       "      <td>2.0</td>\n",
       "      <td>8.0</td>\n",
       "    </tr>\n",
       "    <tr>\n",
       "      <th>259118</th>\n",
       "      <td>02826166c84beb15690a77dc8a2ecef0</td>\n",
       "      <td>MYC</td>\n",
       "      <td>1</td>\n",
       "      <td>YMC</td>\n",
       "      <td>8436</td>\n",
       "      <td>YMC</td>\n",
       "      <td>8436.0</td>\n",
       "      <td>8525</td>\n",
       "      <td>0.940</td>\n",
       "      <td>14da387c18840febbfe75fa57ec1d050</td>\n",
       "      <td>75925a42b345779ee25f13e4c725f6ca</td>\n",
       "      <td>20.0</td>\n",
       "      <td>12.0</td>\n",
       "      <td>12.0</td>\n",
       "      <td>2880.00</td>\n",
       "      <td>3.6</td>\n",
       "      <td>30.0</td>\n",
       "      <td>38.0</td>\n",
       "      <td>7.40</td>\n",
       "      <td>7.40</td>\n",
       "      <td>38.0</td>\n",
       "      <td>12.0</td>\n",
       "      <td>20.0</td>\n",
       "    </tr>\n",
       "    <tr>\n",
       "      <th>285660</th>\n",
       "      <td>d0e36f552eccad74b312089a3cb860dc</td>\n",
       "      <td>MYC</td>\n",
       "      <td>1</td>\n",
       "      <td>MYC</td>\n",
       "      <td>8436</td>\n",
       "      <td>MYC</td>\n",
       "      <td>8436.0</td>\n",
       "      <td>8436</td>\n",
       "      <td>0.420</td>\n",
       "      <td>bf2895ff676cb3ca8246cda5d09222b9</td>\n",
       "      <td>9ad5f6165e3d45e8ceb6717817094101</td>\n",
       "      <td>19.0</td>\n",
       "      <td>6.5</td>\n",
       "      <td>15.3</td>\n",
       "      <td>1889.55</td>\n",
       "      <td>3.6</td>\n",
       "      <td>30.0</td>\n",
       "      <td>38.0</td>\n",
       "      <td>7.40</td>\n",
       "      <td>7.40</td>\n",
       "      <td>38.0</td>\n",
       "      <td>6.5</td>\n",
       "      <td>19.0</td>\n",
       "    </tr>\n",
       "    <tr>\n",
       "      <th>60087</th>\n",
       "      <td>b6328fbe233e2c274ff5bc972d28ed61</td>\n",
       "      <td>MYA</td>\n",
       "      <td>1</td>\n",
       "      <td>MYA</td>\n",
       "      <td>998</td>\n",
       "      <td>MYA</td>\n",
       "      <td>999.0</td>\n",
       "      <td>998</td>\n",
       "      <td>0.006</td>\n",
       "      <td>0b281e43482e300dd709b8abefdba5e6</td>\n",
       "      <td>8382880e2d763b86f93b5224c29d223d</td>\n",
       "      <td>11.0</td>\n",
       "      <td>2.0</td>\n",
       "      <td>13.0</td>\n",
       "      <td>286.00</td>\n",
       "      <td>1.1</td>\n",
       "      <td>15.0</td>\n",
       "      <td>20.0</td>\n",
       "      <td>3.33</td>\n",
       "      <td>3.33</td>\n",
       "      <td>20.0</td>\n",
       "      <td>2.0</td>\n",
       "      <td>13.0</td>\n",
       "    </tr>\n",
       "  </tbody>\n",
       "</table>\n",
       "</div>"
      ],
      "text/plain": [
       "                                orderkey selected_cartontype  box_num  \\\n",
       "115174  c3962e13dcd1a9133bcf0313143022e9                 YMA        1   \n",
       "57639   7b2540105710d9c905a79b0c4d646439                 MYA        1   \n",
       "259118  02826166c84beb15690a77dc8a2ecef0                 MYC        1   \n",
       "285660  d0e36f552eccad74b312089a3cb860dc                 MYC        1   \n",
       "60087   b6328fbe233e2c274ff5bc972d28ed61                 MYA        1   \n",
       "\n",
       "       recommended_cartontype  sel_calc_cube recommended_carton  pack_volume  \\\n",
       "115174                    YMA           4068                YMA       3705.0   \n",
       "57639                     MYA            998                MYA        999.0   \n",
       "259118                    YMC           8436                YMC       8436.0   \n",
       "285660                    MYC           8436                MYC       8436.0   \n",
       "60087                     MYA            998                MYA        999.0   \n",
       "\n",
       "        rec_calc_cube  goods_wght                               sku  \\\n",
       "115174           4068       0.236  69b4d93910965152168879ff073988c8   \n",
       "57639             998       0.100  b5b65ba8a098f3b386af5a2553352494   \n",
       "259118           8525       0.940  14da387c18840febbfe75fa57ec1d050   \n",
       "285660           8436       0.420  bf2895ff676cb3ca8246cda5d09222b9   \n",
       "60087             998       0.006  0b281e43482e300dd709b8abefdba5e6   \n",
       "\n",
       "                              trackingid     a     b     c  sku_volume  price  \\\n",
       "115174  0cbc17bc1157da50d55d78c7fc993560   8.8   7.5  17.0     1122.00    4.4   \n",
       "57639   3f493c590bb29e761f3803a3ebe67eb9   8.0   2.0   8.0      128.00    1.1   \n",
       "259118  75925a42b345779ee25f13e4c725f6ca  20.0  12.0  12.0     2880.00    3.6   \n",
       "285660  9ad5f6165e3d45e8ceb6717817094101  19.0   6.5  15.3     1889.55    3.6   \n",
       "60087   8382880e2d763b86f93b5224c29d223d  11.0   2.0  13.0      286.00    1.1   \n",
       "\n",
       "        length  width  height  min_dim  max_dim  min_sku_dim  max_sku_dim  \n",
       "115174    24.7   15.0   10.00    10.00     24.7          7.5         17.0  \n",
       "57639     15.0   20.0    3.33     3.33     20.0          2.0          8.0  \n",
       "259118    30.0   38.0    7.40     7.40     38.0         12.0         20.0  \n",
       "285660    30.0   38.0    7.40     7.40     38.0          6.5         19.0  \n",
       "60087     15.0   20.0    3.33     3.33     20.0          2.0         13.0  "
      ]
     },
     "execution_count": 34,
     "metadata": {},
     "output_type": "execute_result"
    }
   ],
   "source": [
    "orders_one_items = data_unity.groupby('orderkey')['sku'].count().reset_index().query('sku==1')['orderkey'].to_list()\n",
    "\n",
    "# Заказы где box_num имеет только одно уникальное значение                                                                              \n",
    "orders_one_box = data_unity.groupby('orderkey')['box_num'].nunique().reset_index().query('box_num==1')['orderkey'].to_list()\n",
    "\n",
    "data_one_goods = data_unity[(data_unity.orderkey.isin(orders_one_items))&(data_unity.orderkey.isin(orders_one_box))]\n",
    "\n",
    "print('Заказы с одним товарoм составили: ', len(orders_one_items))\n",
    "print('Заказы которые отправлялись в одной коробке: ', len(orders_one_box))\n",
    "print('Количество заказов в которых только один товар и которые отправлялись в одной коробке: ', len(data_one_goods))\n",
    "\n",
    "data_one_goods.sample(5)"
   ]
  },
  {
   "cell_type": "code",
   "execution_count": 35,
   "id": "ae773ee2",
   "metadata": {},
   "outputs": [
    {
     "data": {
      "text/plain": [
       "[114619, 943, 132, 32, 18, 6, 4, 3, 3, 2, 2, 1, 1, 1, 1, 1]"
      ]
     },
     "execution_count": 35,
     "metadata": {},
     "output_type": "execute_result"
    }
   ],
   "source": [
    "data_one_goods.box_num.value_counts().to_list()"
   ]
  },
  {
   "cell_type": "markdown",
   "id": "b9787ca2",
   "metadata": {},
   "source": [
    "Есть заказы где box_num не 1, отбросим их, скорее всего какая-то ошибка выгрузки "
   ]
  },
  {
   "cell_type": "code",
   "execution_count": 36,
   "id": "0ca0ef77",
   "metadata": {},
   "outputs": [
    {
     "data": {
      "text/plain": [
       "[114619]"
      ]
     },
     "execution_count": 36,
     "metadata": {},
     "output_type": "execute_result"
    }
   ],
   "source": [
    "data_one_goods = data_one_goods[data_one_goods.box_num == 1]\n",
    "data_one_goods.box_num.value_counts().to_list()"
   ]
  },
  {
   "cell_type": "code",
   "execution_count": 37,
   "id": "005da51a",
   "metadata": {},
   "outputs": [
    {
     "data": {
      "text/plain": [
       "MYB        0.300352\n",
       "MYC        0.200325\n",
       "MYA        0.114030\n",
       "NONPACK    0.097104\n",
       "MYD        0.083834\n",
       "STRETCH    0.061665\n",
       "YMA        0.037856\n",
       "Name: selected_cartontype, dtype: float64"
      ]
     },
     "execution_count": 37,
     "metadata": {},
     "output_type": "execute_result"
    }
   ],
   "source": [
    "data_one_goods.selected_cartontype.value_counts(normalize=True).head(7)"
   ]
  },
  {
   "cell_type": "code",
   "execution_count": 38,
   "id": "b2062b7e",
   "metadata": {},
   "outputs": [
    {
     "data": {
      "image/png": "[encoded data removed]",
      "text/plain": [
       "<Figure size 1080x432 with 1 Axes>"
      ]
     },
     "metadata": {},
     "output_type": "display_data"
    }
   ],
   "source": [
    "plt.figure(figsize=(15, 6))\n",
    "data_one_goods.groupby('selected_cartontype')['orderkey'].count().plot(kind='bar', figsize=(15,6), color=sns.dark_palette(\"#79C\"))\n",
    "plt.title('Packaging selected by the user for orders with one sku', fontsize=(17))\n",
    "plt.xticks(rotation=90);"
   ]
  },
  {
   "cell_type": "markdown",
   "id": "671b3e84",
   "metadata": {},
   "source": [
    "Большинство товаров упаковываются в различные по размеру пакеты"
   ]
  },
  {
   "cell_type": "markdown",
   "id": "7dc2c8e7",
   "metadata": {},
   "source": [
    "Для упрощения условий напишем функцию, которая будет отсортировывать виды упаковок на классы, например, если вид упаковки начинается на на букву 'Y' - это коробки, если на 'М' - пакеты иначе возвращать товары без упаковки или в стретч-плёнке."
   ]
  },
  {
   "cell_type": "code",
   "execution_count": 39,
   "id": "ee769e2a-6e43-4b1a-802a-74b105c6be85",
   "metadata": {
    "tags": []
   },
   "outputs": [],
   "source": [
    "def pack_class(carton:str)->str:\n",
    "    if carton[0] == 'Y':\n",
    "        return 'box'\n",
    "    elif carton[0] == 'M':\n",
    "        return 'package'\n",
    "    return 'nonpack/stretch'"
   ]
  },
  {
   "cell_type": "code",
   "execution_count": 40,
   "id": "324b1f14",
   "metadata": {},
   "outputs": [],
   "source": [
    "data_one_goods['pack_class'] = data_one_goods.selected_cartontype.map(pack_class)"
   ]
  },
  {
   "cell_type": "code",
   "execution_count": 41,
   "id": "48fd3bee",
   "metadata": {},
   "outputs": [
    {
     "data": {
      "image/png": "[encoded data removed]",
      "text/plain": [
       "<Figure size 1080x360 with 1 Axes>"
      ]
     },
     "metadata": {},
     "output_type": "display_data"
    }
   ],
   "source": [
    "plt.figure(figsize=(15, 5))\n",
    "ax = sns.countplot(data_one_goods['pack_class'], palette='Greens')\n",
    "total = float(len(data_one_goods['pack_class']))\n",
    "for patch in ax.patches:\n",
    "    height = patch.get_height()\n",
    "    ax.text(patch.get_x() + patch.get_width() / 2., height + 3, '{:.2f}%'.format((height / total) * 100), ha=\"center\")\n",
    "    plt.title('Еotal volume of types of packages from orders', fontsize=(17))\n",
    "plt.show();"
   ]
  },
  {
   "cell_type": "markdown",
   "id": "c06abca3",
   "metadata": {},
   "source": [
    "Около 73% заказов упаковываются в пакеты, 11% в коробки, а остальные 16% не нуждаются в упаковке, либо упаковываются в стетч-плёнку."
   ]
  },
  {
   "cell_type": "markdown",
   "id": "dbad47fa",
   "metadata": {},
   "source": [
    "Проанализируем размеры упаковок:"
   ]
  },
  {
   "cell_type": "code",
   "execution_count": 42,
   "id": "36888b72",
   "metadata": {
    "scrolled": true
   },
   "outputs": [
    {
     "data": {
      "text/html": [
       "<div>\n",
       "<style scoped>\n",
       "    .dataframe tbody tr th:only-of-type {\n",
       "        vertical-align: middle;\n",
       "    }\n",
       "\n",
       "    .dataframe tbody tr th {\n",
       "        vertical-align: top;\n",
       "    }\n",
       "\n",
       "    .dataframe thead th {\n",
       "        text-align: right;\n",
       "    }\n",
       "</style>\n",
       "<table border=\"1\" class=\"dataframe\">\n",
       "  <thead>\n",
       "    <tr style=\"text-align: right;\">\n",
       "      <th></th>\n",
       "      <th>orderkey</th>\n",
       "      <th>selected_cartontype</th>\n",
       "      <th>box_num</th>\n",
       "      <th>recommended_cartontype</th>\n",
       "      <th>sel_calc_cube</th>\n",
       "      <th>recommended_carton</th>\n",
       "      <th>pack_volume</th>\n",
       "      <th>rec_calc_cube</th>\n",
       "      <th>goods_wght</th>\n",
       "      <th>sku</th>\n",
       "      <th>trackingid</th>\n",
       "      <th>a</th>\n",
       "      <th>b</th>\n",
       "      <th>c</th>\n",
       "      <th>sku_volume</th>\n",
       "      <th>price</th>\n",
       "      <th>length</th>\n",
       "      <th>width</th>\n",
       "      <th>height</th>\n",
       "      <th>min_dim</th>\n",
       "      <th>max_dim</th>\n",
       "      <th>min_sku_dim</th>\n",
       "      <th>max_sku_dim</th>\n",
       "      <th>pack_class</th>\n",
       "    </tr>\n",
       "  </thead>\n",
       "  <tbody>\n",
       "    <tr>\n",
       "      <th>17</th>\n",
       "      <td>4b33fcc98ea1f59d6fe4eb2e0a48bb4b</td>\n",
       "      <td>STRETCH</td>\n",
       "      <td>1</td>\n",
       "      <td>MYD</td>\n",
       "      <td>0</td>\n",
       "      <td>MYD</td>\n",
       "      <td>0.0</td>\n",
       "      <td>15579</td>\n",
       "      <td>0.896</td>\n",
       "      <td>6287a74b664fd8ad4ed5c541b399a82b</td>\n",
       "      <td>6672826678229ee7a3de3b84b905fd59</td>\n",
       "      <td>18.6</td>\n",
       "      <td>3.3</td>\n",
       "      <td>49.7</td>\n",
       "      <td>3050.586</td>\n",
       "      <td>NaN</td>\n",
       "      <td>0.0</td>\n",
       "      <td>0.0</td>\n",
       "      <td>0.0</td>\n",
       "      <td>0.0</td>\n",
       "      <td>0.0</td>\n",
       "      <td>3.3</td>\n",
       "      <td>49.7</td>\n",
       "      <td>nonpack/stretch</td>\n",
       "    </tr>\n",
       "    <tr>\n",
       "      <th>18</th>\n",
       "      <td>01277a58f3aa98c06db9046699ec162d</td>\n",
       "      <td>MYE</td>\n",
       "      <td>1</td>\n",
       "      <td>MYD</td>\n",
       "      <td>26277</td>\n",
       "      <td>MYD</td>\n",
       "      <td>26277.3</td>\n",
       "      <td>15579</td>\n",
       "      <td>0.896</td>\n",
       "      <td>6287a74b664fd8ad4ed5c541b399a82b</td>\n",
       "      <td>87b6d2471c093998b982a4c434df8da6</td>\n",
       "      <td>18.6</td>\n",
       "      <td>3.3</td>\n",
       "      <td>49.7</td>\n",
       "      <td>3050.586</td>\n",
       "      <td>8.1</td>\n",
       "      <td>43.0</td>\n",
       "      <td>63.0</td>\n",
       "      <td>9.7</td>\n",
       "      <td>9.7</td>\n",
       "      <td>63.0</td>\n",
       "      <td>3.3</td>\n",
       "      <td>49.7</td>\n",
       "      <td>package</td>\n",
       "    </tr>\n",
       "  </tbody>\n",
       "</table>\n",
       "</div>"
      ],
      "text/plain": [
       "                            orderkey selected_cartontype  box_num  \\\n",
       "17  4b33fcc98ea1f59d6fe4eb2e0a48bb4b             STRETCH        1   \n",
       "18  01277a58f3aa98c06db9046699ec162d                 MYE        1   \n",
       "\n",
       "   recommended_cartontype  sel_calc_cube recommended_carton  pack_volume  \\\n",
       "17                    MYD              0                MYD          0.0   \n",
       "18                    MYD          26277                MYD      26277.3   \n",
       "\n",
       "    rec_calc_cube  goods_wght                               sku  \\\n",
       "17          15579       0.896  6287a74b664fd8ad4ed5c541b399a82b   \n",
       "18          15579       0.896  6287a74b664fd8ad4ed5c541b399a82b   \n",
       "\n",
       "                          trackingid     a    b     c  sku_volume  price  \\\n",
       "17  6672826678229ee7a3de3b84b905fd59  18.6  3.3  49.7    3050.586    NaN   \n",
       "18  87b6d2471c093998b982a4c434df8da6  18.6  3.3  49.7    3050.586    8.1   \n",
       "\n",
       "    length  width  height  min_dim  max_dim  min_sku_dim  max_sku_dim  \\\n",
       "17     0.0    0.0     0.0      0.0      0.0          3.3         49.7   \n",
       "18    43.0   63.0     9.7      9.7     63.0          3.3         49.7   \n",
       "\n",
       "         pack_class  \n",
       "17  nonpack/stretch  \n",
       "18          package  "
      ]
     },
     "execution_count": 42,
     "metadata": {},
     "output_type": "execute_result"
    }
   ],
   "source": [
    "data_one_goods.head(2)"
   ]
  },
  {
   "cell_type": "markdown",
   "id": "944ca5d9",
   "metadata": {},
   "source": [
    "### Dimentions <a id='9'>"
   ]
  },
  {
   "cell_type": "markdown",
   "id": "a884fb35",
   "metadata": {},
   "source": [
    "Посмотрим графически на взаимосвязь упаковок и товаров."
   ]
  },
  {
   "cell_type": "code",
   "execution_count": 43,
   "id": "33bab3df",
   "metadata": {
    "scrolled": false
   },
   "outputs": [
    {
     "data": {
      "image/png": "[encoded data removed]",
      "text/plain": [
       "<Figure size 1080x504 with 1 Axes>"
      ]
     },
     "metadata": {},
     "output_type": "display_data"
    }
   ],
   "source": [
    "data_one_goods.groupby('selected_cartontype')[['sku_volume', 'pack_volume']]\\\n",
    "              .agg({'sku_volume':['count','mean', 'median'],'pack_volume':'mean'}).round()\\\n",
    "              .drop(('sku_volume', 'count'), axis=1)\\\n",
    "              .plot(kind='bar', figsize=(15, 7), color=['#FFD460', '#EA5455', '#3B83BD'])\n",
    "plt.title('Pack by volume', fontsize=15);"
   ]
  },
  {
   "cell_type": "markdown",
   "id": "644247e8",
   "metadata": {},
   "source": [
    "Объём упаковок по товарам не соответствует выбранному объёму упаковки, существенные различия наблюдаются по коробкам."
   ]
  },
  {
   "cell_type": "code",
   "execution_count": 44,
   "id": "b81a2a04",
   "metadata": {
    "scrolled": false
   },
   "outputs": [
    {
     "data": {
      "image/png": "[encoded data removed]",
      "text/plain": [
       "<Figure size 1080x360 with 1 Axes>"
      ]
     },
     "metadata": {},
     "output_type": "display_data"
    }
   ],
   "source": [
    "data_one_goods.groupby('selected_cartontype')[['min_dim', 'max_dim', 'min_sku_dim', 'max_sku_dim']]\\\n",
    "            .agg('max').round(2).plot(kind='bar', figsize=(15, 5))\n",
    "\n",
    "plt.title('Pack by min and max dimentions', fontsize=17);"
   ]
  },
  {
   "cell_type": "markdown",
   "id": "044053d5",
   "metadata": {},
   "source": [
    "Размеры товаров превышают размер таких типов упаковок как NONPACK, STRETCH, так как товары по сути ни во что не упаковывались, или стейч идёт как расходный материал и в данных по ним стоят нулевые объёмы их в учёт мы не берём. Стоит обратить внимание, что мы снова видим такие доказательства, что не в зависимости от объёма товара пакеты могут в себя вмещать больший объём, чем их реальный размер. Теперь посмотрим на веса товаров."
   ]
  },
  {
   "cell_type": "markdown",
   "id": "7eb328aa",
   "metadata": {},
   "source": [
    "### Weights <a id='10'>"
   ]
  },
  {
   "cell_type": "code",
   "execution_count": 45,
   "id": "5cd7096c",
   "metadata": {
    "scrolled": true
   },
   "outputs": [
    {
     "data": {
      "text/plain": [
       "package            83621\n",
       "nonpack/stretch    18198\n",
       "box                12800\n",
       "Name: pack_class, dtype: int64"
      ]
     },
     "execution_count": 45,
     "metadata": {},
     "output_type": "execute_result"
    }
   ],
   "source": [
    "data_one_goods.pack_class.value_counts()"
   ]
  },
  {
   "cell_type": "markdown",
   "id": "b73e0fee",
   "metadata": {},
   "source": [
    "Проведя ранее разделения на классы мы видим, что 83 тыс. заказов были отправлены пакетом, 13 тыс. в коробках и около 18 тыс просто с маркировкой или предварительно завернуты в стретч-плёнку"
   ]
  },
  {
   "cell_type": "code",
   "execution_count": 46,
   "id": "3715fdee",
   "metadata": {
    "scrolled": false
   },
   "outputs": [
    {
     "data": {
      "image/png": "[encoded data removed]",
      "text/plain": [
       "<Figure size 1080x360 with 1 Axes>"
      ]
     },
     "metadata": {},
     "output_type": "display_data"
    }
   ],
   "source": [
    "data_one_goods.groupby('selected_cartontype')['goods_wght']\\\n",
    "           .agg(['count', 'mean', 'median'])\\\n",
    "           .drop('count', axis=1)\\\n",
    "           .plot(kind='bar', figsize=(15, 5), color=['#455D7A', '#F95959'])\n",
    "plt.title('Pack type by weights', fontsize=15);"
   ]
  },
  {
   "cell_type": "markdown",
   "id": "672f972b",
   "metadata": {},
   "source": [
    "Средние веса товаров превышают медианное, что говорит о колебании. В упаковку могут положить объем товаров больший, к ним относятся всё те же пакеты. А вот в коробки приблизительно ложат тот объём, который требуется или меньше, так как эта упаковка имеет жёсткость и форму."
   ]
  },
  {
   "cell_type": "markdown",
   "id": "ca00a06a",
   "metadata": {},
   "source": [
    "### box/package/none <a id='11'>"
   ]
  },
  {
   "cell_type": "markdown",
   "id": "8896b8fb",
   "metadata": {},
   "source": [
    "Теперь посмотрим разницу по весам и объёму в разрезе ранее созданных классов box/package/nonpack,stretch"
   ]
  },
  {
   "cell_type": "code",
   "execution_count": 47,
   "id": "19125510",
   "metadata": {
    "scrolled": true
   },
   "outputs": [
    {
     "data": {
      "text/html": [
       "<div>\n",
       "<style scoped>\n",
       "    .dataframe tbody tr th:only-of-type {\n",
       "        vertical-align: middle;\n",
       "    }\n",
       "\n",
       "    .dataframe tbody tr th {\n",
       "        vertical-align: top;\n",
       "    }\n",
       "\n",
       "    .dataframe thead tr th {\n",
       "        text-align: left;\n",
       "    }\n",
       "\n",
       "    .dataframe thead tr:last-of-type th {\n",
       "        text-align: right;\n",
       "    }\n",
       "</style>\n",
       "<table border=\"1\" class=\"dataframe\">\n",
       "  <thead>\n",
       "    <tr>\n",
       "      <th></th>\n",
       "      <th colspan=\"3\" halign=\"left\">sku_volume</th>\n",
       "      <th>pack_volume</th>\n",
       "    </tr>\n",
       "    <tr>\n",
       "      <th></th>\n",
       "      <th>count</th>\n",
       "      <th>mean</th>\n",
       "      <th>median</th>\n",
       "      <th>mean</th>\n",
       "    </tr>\n",
       "    <tr>\n",
       "      <th>pack_class</th>\n",
       "      <th></th>\n",
       "      <th></th>\n",
       "      <th></th>\n",
       "      <th></th>\n",
       "    </tr>\n",
       "  </thead>\n",
       "  <tbody>\n",
       "    <tr>\n",
       "      <th>box</th>\n",
       "      <td>12800</td>\n",
       "      <td>3134.0</td>\n",
       "      <td>1739.0</td>\n",
       "      <td>11906.0</td>\n",
       "    </tr>\n",
       "    <tr>\n",
       "      <th>nonpack/stretch</th>\n",
       "      <td>18198</td>\n",
       "      <td>24427.0</td>\n",
       "      <td>14280.0</td>\n",
       "      <td>0.0</td>\n",
       "    </tr>\n",
       "    <tr>\n",
       "      <th>package</th>\n",
       "      <td>83621</td>\n",
       "      <td>2176.0</td>\n",
       "      <td>936.0</td>\n",
       "      <td>6607.0</td>\n",
       "    </tr>\n",
       "  </tbody>\n",
       "</table>\n",
       "</div>"
      ],
      "text/plain": [
       "                sku_volume                   pack_volume\n",
       "                     count     mean   median        mean\n",
       "pack_class                                              \n",
       "box                  12800   3134.0   1739.0     11906.0\n",
       "nonpack/stretch      18198  24427.0  14280.0         0.0\n",
       "package              83621   2176.0    936.0      6607.0"
      ]
     },
     "execution_count": 47,
     "metadata": {},
     "output_type": "execute_result"
    }
   ],
   "source": [
    "data_one_goods.groupby('pack_class')[['sku_volume', 'pack_volume']]\\\n",
    "              .agg({'sku_volume':['count','mean', 'median'],'pack_volume':'mean'}).round()"
   ]
  },
  {
   "cell_type": "code",
   "execution_count": 48,
   "id": "3a3da44e",
   "metadata": {},
   "outputs": [
    {
     "data": {
      "image/png": "[encoded data removed]",
      "text/plain": [
       "<Figure size 1080x360 with 1 Axes>"
      ]
     },
     "metadata": {},
     "output_type": "display_data"
    }
   ],
   "source": [
    "data_one_goods.groupby('pack_class')[['sku_volume', 'pack_volume']]\\\n",
    "              .agg({'sku_volume':['count','mean', 'median'],'pack_volume':'mean'}).round()\\\n",
    "              .drop(( 'sku_volume',  'count'), axis=1).plot(kind='bar', figsize=(15, 5), color=['#009B77', '#1F5F8B', '#1891AC'])\n",
    "plt.title('Pack class by volume', fontsize=15);"
   ]
  },
  {
   "cell_type": "markdown",
   "id": "c75ec084",
   "metadata": {},
   "source": [
    "Здесь мы видим, что упаковка используется не оптимально, объём упаковки превышает объём товара."
   ]
  },
  {
   "cell_type": "code",
   "execution_count": 49,
   "id": "14ce9215-a275-4647-8878-e8f45e73ddcc",
   "metadata": {
    "scrolled": true,
    "tags": []
   },
   "outputs": [
    {
     "data": {
      "text/html": [
       "<div>\n",
       "<style scoped>\n",
       "    .dataframe tbody tr th:only-of-type {\n",
       "        vertical-align: middle;\n",
       "    }\n",
       "\n",
       "    .dataframe tbody tr th {\n",
       "        vertical-align: top;\n",
       "    }\n",
       "\n",
       "    .dataframe thead th {\n",
       "        text-align: right;\n",
       "    }\n",
       "</style>\n",
       "<table border=\"1\" class=\"dataframe\">\n",
       "  <thead>\n",
       "    <tr style=\"text-align: right;\">\n",
       "      <th></th>\n",
       "      <th>min_dim</th>\n",
       "      <th>max_dim</th>\n",
       "      <th>min_sku_dim</th>\n",
       "      <th>max_sku_dim</th>\n",
       "    </tr>\n",
       "    <tr>\n",
       "      <th>pack_class</th>\n",
       "      <th></th>\n",
       "      <th></th>\n",
       "      <th></th>\n",
       "      <th></th>\n",
       "    </tr>\n",
       "  </thead>\n",
       "  <tbody>\n",
       "    <tr>\n",
       "      <th>box</th>\n",
       "      <td>14.36</td>\n",
       "      <td>32.04</td>\n",
       "      <td>8.45</td>\n",
       "      <td>21.10</td>\n",
       "    </tr>\n",
       "    <tr>\n",
       "      <th>nonpack/stretch</th>\n",
       "      <td>0.00</td>\n",
       "      <td>0.00</td>\n",
       "      <td>13.63</td>\n",
       "      <td>53.42</td>\n",
       "    </tr>\n",
       "    <tr>\n",
       "      <th>package</th>\n",
       "      <td>5.89</td>\n",
       "      <td>34.82</td>\n",
       "      <td>5.88</td>\n",
       "      <td>20.60</td>\n",
       "    </tr>\n",
       "  </tbody>\n",
       "</table>\n",
       "</div>"
      ],
      "text/plain": [
       "                 min_dim  max_dim  min_sku_dim  max_sku_dim\n",
       "pack_class                                                 \n",
       "box                14.36    32.04         8.45        21.10\n",
       "nonpack/stretch     0.00     0.00        13.63        53.42\n",
       "package             5.89    34.82         5.88        20.60"
      ]
     },
     "execution_count": 49,
     "metadata": {},
     "output_type": "execute_result"
    }
   ],
   "source": [
    "data_one_goods.groupby('pack_class')[['min_dim', 'max_dim', 'min_sku_dim', 'max_sku_dim']]\\\n",
    "            .agg('mean').round(2)"
   ]
  },
  {
   "cell_type": "code",
   "execution_count": 50,
   "id": "a3d135c4-b3e5-4289-8ddc-7a31125d039f",
   "metadata": {
    "scrolled": false,
    "tags": []
   },
   "outputs": [
    {
     "data": {
      "image/png": "[encoded data removed]",
      "text/plain": [
       "<Figure size 1080x360 with 1 Axes>"
      ]
     },
     "metadata": {},
     "output_type": "display_data"
    }
   ],
   "source": [
    "data_one_goods.groupby('pack_class')[['min_dim', 'max_dim', 'min_sku_dim', 'max_sku_dim']]\\\n",
    "              .agg('mean').round(2)\\\n",
    "              .plot(kind='bar', figsize=(15, 5), color=['#E3D9CA', '#95A792', '#596C68', '#009B77'])\n",
    "plt.title('Pack class by min max', fontsize=15);"
   ]
  },
  {
   "cell_type": "markdown",
   "id": "4e7cddd7",
   "metadata": {},
   "source": [
    "Видно, что размеры коробок превышают линейные размеры товаров"
   ]
  },
  {
   "cell_type": "code",
   "execution_count": 51,
   "id": "5569930f",
   "metadata": {
    "scrolled": true
   },
   "outputs": [
    {
     "data": {
      "text/html": [
       "<div>\n",
       "<style scoped>\n",
       "    .dataframe tbody tr th:only-of-type {\n",
       "        vertical-align: middle;\n",
       "    }\n",
       "\n",
       "    .dataframe tbody tr th {\n",
       "        vertical-align: top;\n",
       "    }\n",
       "\n",
       "    .dataframe thead th {\n",
       "        text-align: right;\n",
       "    }\n",
       "</style>\n",
       "<table border=\"1\" class=\"dataframe\">\n",
       "  <thead>\n",
       "    <tr style=\"text-align: right;\">\n",
       "      <th></th>\n",
       "      <th>count</th>\n",
       "      <th>mean</th>\n",
       "      <th>median</th>\n",
       "    </tr>\n",
       "    <tr>\n",
       "      <th>pack_class</th>\n",
       "      <th></th>\n",
       "      <th></th>\n",
       "      <th></th>\n",
       "    </tr>\n",
       "  </thead>\n",
       "  <tbody>\n",
       "    <tr>\n",
       "      <th>box</th>\n",
       "      <td>12800</td>\n",
       "      <td>0.804543</td>\n",
       "      <td>0.500</td>\n",
       "    </tr>\n",
       "    <tr>\n",
       "      <th>nonpack/stretch</th>\n",
       "      <td>18198</td>\n",
       "      <td>4.880113</td>\n",
       "      <td>2.600</td>\n",
       "    </tr>\n",
       "    <tr>\n",
       "      <th>package</th>\n",
       "      <td>83621</td>\n",
       "      <td>0.479903</td>\n",
       "      <td>0.235</td>\n",
       "    </tr>\n",
       "  </tbody>\n",
       "</table>\n",
       "</div>"
      ],
      "text/plain": [
       "                 count      mean  median\n",
       "pack_class                              \n",
       "box              12800  0.804543   0.500\n",
       "nonpack/stretch  18198  4.880113   2.600\n",
       "package          83621  0.479903   0.235"
      ]
     },
     "execution_count": 51,
     "metadata": {},
     "output_type": "execute_result"
    }
   ],
   "source": [
    "data_one_goods.groupby('pack_class')['goods_wght'].agg(['count', 'mean', 'median'])"
   ]
  },
  {
   "cell_type": "code",
   "execution_count": 52,
   "id": "12a952b6",
   "metadata": {
    "scrolled": true
   },
   "outputs": [
    {
     "data": {
      "image/png": "[encoded data removed]",
      "text/plain": [
       "<Figure size 1080x360 with 1 Axes>"
      ]
     },
     "metadata": {},
     "output_type": "display_data"
    }
   ],
   "source": [
    "data_one_goods.groupby('pack_class')['goods_wght']\\\n",
    "              .agg(['count', 'mean', 'median'])\\\n",
    "              .drop('count', axis=1).plot(kind='bar', figsize=(15, 5), color=['#10454D', '#897B74'])\n",
    "plt.title('Pack class by weight');"
   ]
  },
  {
   "cell_type": "markdown",
   "id": "080e84ef",
   "metadata": {},
   "source": [
    "Средние показатели веса товаров превышают медианное, что говорит нам о том, что в упаковку иногда ложат большие по весу товары, в разработке алгоритма подбора оптимальной упаковки этот момент стоит учитывать. Теперь перейдём к анализу заказов с несколькими товарами."
   ]
  },
  {
   "cell_type": "markdown",
   "id": "e7b3b48f",
   "metadata": {},
   "source": [
    "## one box  - two or three sku <a id='12'>"
   ]
  },
  {
   "cell_type": "markdown",
   "id": "e85876ad",
   "metadata": {},
   "source": [
    "Заказы с несколькими товарами(2-3) занимают долю около 17% в общем объёме заказов:"
   ]
  },
  {
   "cell_type": "code",
   "execution_count": 53,
   "id": "82fa9ba0",
   "metadata": {
    "scrolled": true
   },
   "outputs": [
    {
     "name": "stdout",
     "output_type": "stream",
     "text": [
      "Заказы с 2-3 товарoм составили:  28556\n",
      "Заказы которые отправлялись в одной коробке:  145925\n",
      "Количество заказов в которых 2-3 товара и которые отправлялись в одной коробке:  55205\n"
     ]
    },
    {
     "data": {
      "text/html": [
       "<div>\n",
       "<style scoped>\n",
       "    .dataframe tbody tr th:only-of-type {\n",
       "        vertical-align: middle;\n",
       "    }\n",
       "\n",
       "    .dataframe tbody tr th {\n",
       "        vertical-align: top;\n",
       "    }\n",
       "\n",
       "    .dataframe thead th {\n",
       "        text-align: right;\n",
       "    }\n",
       "</style>\n",
       "<table border=\"1\" class=\"dataframe\">\n",
       "  <thead>\n",
       "    <tr style=\"text-align: right;\">\n",
       "      <th></th>\n",
       "      <th>orderkey</th>\n",
       "      <th>selected_cartontype</th>\n",
       "      <th>box_num</th>\n",
       "      <th>recommended_cartontype</th>\n",
       "      <th>sel_calc_cube</th>\n",
       "      <th>recommended_carton</th>\n",
       "      <th>pack_volume</th>\n",
       "      <th>rec_calc_cube</th>\n",
       "      <th>goods_wght</th>\n",
       "      <th>sku</th>\n",
       "      <th>trackingid</th>\n",
       "      <th>a</th>\n",
       "      <th>b</th>\n",
       "      <th>c</th>\n",
       "      <th>sku_volume</th>\n",
       "      <th>price</th>\n",
       "      <th>length</th>\n",
       "      <th>width</th>\n",
       "      <th>height</th>\n",
       "      <th>min_dim</th>\n",
       "      <th>max_dim</th>\n",
       "      <th>min_sku_dim</th>\n",
       "      <th>max_sku_dim</th>\n",
       "    </tr>\n",
       "  </thead>\n",
       "  <tbody>\n",
       "    <tr>\n",
       "      <th>12188</th>\n",
       "      <td>7c05e35128a814ebeb08647e3917b1fa</td>\n",
       "      <td>YMA</td>\n",
       "      <td>1</td>\n",
       "      <td>YMA</td>\n",
       "      <td>4068</td>\n",
       "      <td>YMA</td>\n",
       "      <td>3705.0</td>\n",
       "      <td>4068</td>\n",
       "      <td>1.000</td>\n",
       "      <td>1135a244dc5f3a0132042d140d212375</td>\n",
       "      <td>70401afc5767781795fa836b2248cb67</td>\n",
       "      <td>7.4</td>\n",
       "      <td>14.1</td>\n",
       "      <td>10.7</td>\n",
       "      <td>1116.438</td>\n",
       "      <td>4.4</td>\n",
       "      <td>24.7</td>\n",
       "      <td>15.0</td>\n",
       "      <td>10.0</td>\n",
       "      <td>10.0</td>\n",
       "      <td>24.7</td>\n",
       "      <td>7.4</td>\n",
       "      <td>14.1</td>\n",
       "    </tr>\n",
       "    <tr>\n",
       "      <th>70016</th>\n",
       "      <td>512219b339dee6c65ce921b5daa9989d</td>\n",
       "      <td>YMF</td>\n",
       "      <td>1</td>\n",
       "      <td>YMF</td>\n",
       "      <td>13500</td>\n",
       "      <td>YMF</td>\n",
       "      <td>13125.0</td>\n",
       "      <td>13500</td>\n",
       "      <td>0.175</td>\n",
       "      <td>0439b2af8ae0db0447d63d9444dd0192</td>\n",
       "      <td>06de1f76b5e853ba90a81a428bd2cdec</td>\n",
       "      <td>18.0</td>\n",
       "      <td>4.0</td>\n",
       "      <td>5.0</td>\n",
       "      <td>360.000</td>\n",
       "      <td>10.7</td>\n",
       "      <td>35.0</td>\n",
       "      <td>25.0</td>\n",
       "      <td>15.0</td>\n",
       "      <td>15.0</td>\n",
       "      <td>35.0</td>\n",
       "      <td>4.0</td>\n",
       "      <td>18.0</td>\n",
       "    </tr>\n",
       "    <tr>\n",
       "      <th>209643</th>\n",
       "      <td>f96c44d21f01374fdee635b6e36b4e9a</td>\n",
       "      <td>MYD</td>\n",
       "      <td>1</td>\n",
       "      <td>YMF</td>\n",
       "      <td>15579</td>\n",
       "      <td>YMF</td>\n",
       "      <td>15580.0</td>\n",
       "      <td>13125</td>\n",
       "      <td>0.525</td>\n",
       "      <td>f75c573fd66c4cf164e43fcaa439fb6d</td>\n",
       "      <td>008dd89a894de67556c02d70c8f7426b</td>\n",
       "      <td>4.4</td>\n",
       "      <td>30.0</td>\n",
       "      <td>17.0</td>\n",
       "      <td>2244.000</td>\n",
       "      <td>6.9</td>\n",
       "      <td>38.0</td>\n",
       "      <td>50.0</td>\n",
       "      <td>8.2</td>\n",
       "      <td>8.2</td>\n",
       "      <td>50.0</td>\n",
       "      <td>4.4</td>\n",
       "      <td>30.0</td>\n",
       "    </tr>\n",
       "    <tr>\n",
       "      <th>39399</th>\n",
       "      <td>7750dd33fd8106271bd2550813ea5b95</td>\n",
       "      <td>YMC</td>\n",
       "      <td>1</td>\n",
       "      <td>YMF</td>\n",
       "      <td>9000</td>\n",
       "      <td>YMF</td>\n",
       "      <td>9000.0</td>\n",
       "      <td>13125</td>\n",
       "      <td>0.740</td>\n",
       "      <td>aa03cffa2f5c26943b414227e589718e</td>\n",
       "      <td>5b431a6f30e70dde2209c8d9bb6b5d10</td>\n",
       "      <td>29.0</td>\n",
       "      <td>14.0</td>\n",
       "      <td>16.0</td>\n",
       "      <td>6496.000</td>\n",
       "      <td>7.8</td>\n",
       "      <td>30.0</td>\n",
       "      <td>20.0</td>\n",
       "      <td>15.0</td>\n",
       "      <td>15.0</td>\n",
       "      <td>30.0</td>\n",
       "      <td>14.0</td>\n",
       "      <td>29.0</td>\n",
       "    </tr>\n",
       "    <tr>\n",
       "      <th>148527</th>\n",
       "      <td>2b158e38b862dcee9117fa376ac22c46</td>\n",
       "      <td>MYB</td>\n",
       "      <td>1</td>\n",
       "      <td>YMA</td>\n",
       "      <td>3449</td>\n",
       "      <td>YMA</td>\n",
       "      <td>3449.6</td>\n",
       "      <td>3705</td>\n",
       "      <td>0.050</td>\n",
       "      <td>40f2c385bf89b666eed60d3da3178ad7</td>\n",
       "      <td>38270838da16bd8d60ca2d9f5b4d25f9</td>\n",
       "      <td>9.0</td>\n",
       "      <td>1.0</td>\n",
       "      <td>7.0</td>\n",
       "      <td>63.000</td>\n",
       "      <td>2.3</td>\n",
       "      <td>22.0</td>\n",
       "      <td>32.0</td>\n",
       "      <td>4.9</td>\n",
       "      <td>4.9</td>\n",
       "      <td>32.0</td>\n",
       "      <td>1.0</td>\n",
       "      <td>9.0</td>\n",
       "    </tr>\n",
       "  </tbody>\n",
       "</table>\n",
       "</div>"
      ],
      "text/plain": [
       "                                orderkey selected_cartontype  box_num  \\\n",
       "12188   7c05e35128a814ebeb08647e3917b1fa                 YMA        1   \n",
       "70016   512219b339dee6c65ce921b5daa9989d                 YMF        1   \n",
       "209643  f96c44d21f01374fdee635b6e36b4e9a                 MYD        1   \n",
       "39399   7750dd33fd8106271bd2550813ea5b95                 YMC        1   \n",
       "148527  2b158e38b862dcee9117fa376ac22c46                 MYB        1   \n",
       "\n",
       "       recommended_cartontype  sel_calc_cube recommended_carton  pack_volume  \\\n",
       "12188                     YMA           4068                YMA       3705.0   \n",
       "70016                     YMF          13500                YMF      13125.0   \n",
       "209643                    YMF          15579                YMF      15580.0   \n",
       "39399                     YMF           9000                YMF       9000.0   \n",
       "148527                    YMA           3449                YMA       3449.6   \n",
       "\n",
       "        rec_calc_cube  goods_wght                               sku  \\\n",
       "12188            4068       1.000  1135a244dc5f3a0132042d140d212375   \n",
       "70016           13500       0.175  0439b2af8ae0db0447d63d9444dd0192   \n",
       "209643          13125       0.525  f75c573fd66c4cf164e43fcaa439fb6d   \n",
       "39399           13125       0.740  aa03cffa2f5c26943b414227e589718e   \n",
       "148527           3705       0.050  40f2c385bf89b666eed60d3da3178ad7   \n",
       "\n",
       "                              trackingid     a     b     c  sku_volume  price  \\\n",
       "12188   70401afc5767781795fa836b2248cb67   7.4  14.1  10.7    1116.438    4.4   \n",
       "70016   06de1f76b5e853ba90a81a428bd2cdec  18.0   4.0   5.0     360.000   10.7   \n",
       "209643  008dd89a894de67556c02d70c8f7426b   4.4  30.0  17.0    2244.000    6.9   \n",
       "39399   5b431a6f30e70dde2209c8d9bb6b5d10  29.0  14.0  16.0    6496.000    7.8   \n",
       "148527  38270838da16bd8d60ca2d9f5b4d25f9   9.0   1.0   7.0      63.000    2.3   \n",
       "\n",
       "        length  width  height  min_dim  max_dim  min_sku_dim  max_sku_dim  \n",
       "12188     24.7   15.0    10.0     10.0     24.7          7.4         14.1  \n",
       "70016     35.0   25.0    15.0     15.0     35.0          4.0         18.0  \n",
       "209643    38.0   50.0     8.2      8.2     50.0          4.4         30.0  \n",
       "39399     30.0   20.0    15.0     15.0     30.0         14.0         29.0  \n",
       "148527    22.0   32.0     4.9      4.9     32.0          1.0          9.0  "
      ]
     },
     "execution_count": 53,
     "metadata": {},
     "output_type": "execute_result"
    }
   ],
   "source": [
    "orders_few_items = data_unity.groupby('orderkey')['sku'].count().reset_index().query('sku!=1 & sku <4')['orderkey'].to_list()\n",
    "\n",
    "data_few_goods = data_unity[(data_unity.orderkey.isin(orders_few_items))&(data_unity.orderkey.isin(orders_one_box))]\n",
    "\n",
    "print('Заказы с 2-3 товарoм составили: ', len(orders_few_items))\n",
    "print('Заказы которые отправлялись в одной коробке: ', len(orders_one_box))\n",
    "print('Количество заказов в которых 2-3 товара и которые отправлялись в одной коробке: ', len(data_few_goods))\n",
    "\n",
    "data_few_goods.sample(5)"
   ]
  },
  {
   "cell_type": "markdown",
   "id": "cb684f45",
   "metadata": {},
   "source": [
    "Дополнительно проверим условие, для того, чтобы в выборке у нас остались только те товары, которые упаковывались в одну коробку"
   ]
  },
  {
   "cell_type": "code",
   "execution_count": 54,
   "id": "4e0409c0",
   "metadata": {},
   "outputs": [
    {
     "name": "stdout",
     "output_type": "stream",
     "text": [
      "Количество уникальных значений в box_num составило:  1    54500\n",
      "Name: box_num, dtype: int64\n"
     ]
    }
   ],
   "source": [
    "data_few_goods = data_few_goods[data_few_goods.box_num == 1]\n",
    "print('Количество уникальных значений в box_num составило: ', data_few_goods.box_num.value_counts())"
   ]
  },
  {
   "cell_type": "code",
   "execution_count": 55,
   "id": "0bd598ca",
   "metadata": {
    "scrolled": true
   },
   "outputs": [
    {
     "data": {
      "text/plain": [
       "MYC    11378\n",
       "MYB     9522\n",
       "YMC     7146\n",
       "MYD     5570\n",
       "YMA     4481\n",
       "YMF     3993\n",
       "YMW     3252\n",
       "Name: selected_cartontype, dtype: int64"
      ]
     },
     "execution_count": 55,
     "metadata": {},
     "output_type": "execute_result"
    }
   ],
   "source": [
    "data_few_goods.selected_cartontype.value_counts().head(7)"
   ]
  },
  {
   "cell_type": "markdown",
   "id": "c82e03d3",
   "metadata": {},
   "source": [
    "Посмотрим графически на типы упаковок для заказов и с помощью ранее созданной функции посмотрим на заказы в разрезе трёх типов упаковок:"
   ]
  },
  {
   "cell_type": "code",
   "execution_count": 56,
   "id": "9609b50b",
   "metadata": {
    "scrolled": true
   },
   "outputs": [
    {
     "data": {
      "image/png": "[encoded data removed]",
      "text/plain": [
       "<Figure size 1080x432 with 1 Axes>"
      ]
     },
     "metadata": {},
     "output_type": "display_data"
    }
   ],
   "source": [
    "plt.figure(figsize=(15, 6))\n",
    "data_few_goods.groupby('selected_cartontype')['orderkey'].count().plot(kind='bar', figsize=(15,6), color=sns.cubehelix_palette(5,start=.75,rot= -.150))\n",
    "plt.title('Packaging selected by the user for orders with 2-3 sku', fontsize=(17))\n",
    "plt.xticks(rotation=90);"
   ]
  },
  {
   "cell_type": "code",
   "execution_count": 57,
   "id": "f14929b5",
   "metadata": {},
   "outputs": [],
   "source": [
    "data_few_goods['pack_class'] = data_few_goods.selected_cartontype.map(pack_class)"
   ]
  },
  {
   "cell_type": "code",
   "execution_count": 58,
   "id": "4dbe9ec2",
   "metadata": {},
   "outputs": [
    {
     "data": {
      "image/png": "[encoded data removed]",
      "text/plain": [
       "<Figure size 1080x360 with 1 Axes>"
      ]
     },
     "metadata": {},
     "output_type": "display_data"
    }
   ],
   "source": [
    "plt.figure(figsize=(15, 5))\n",
    "ax = sns.countplot(data_few_goods['pack_class'], palette='Blues')\n",
    "total = float(len(data_few_goods['pack_class']))\n",
    "for patch in ax.patches:\n",
    "    height = patch.get_height()\n",
    "    ax.text(patch.get_x() + patch.get_width() / 2., height + 3, '{:.2f}%'.format((height / total) * 100), ha=\"center\")\n",
    "    plt.title('Еotal volume of types of packages from orders', fontsize=(17))\n",
    "plt.show();"
   ]
  },
  {
   "cell_type": "markdown",
   "id": "c59f6a21",
   "metadata": {},
   "source": [
    "В заказах по нескольким товарам на первом месте по упаковочному материалу стоят пакеты, однако в них уже более часто используют коробки (около 41%) в сравнении с заказами с одним товаром, возможно это связано с тем, чтобы заказ до покупателя дошёл в единой упаковке, но посмотрим на карготипы этих товаров, чтобы понять с чем это связано."
   ]
  },
  {
   "cell_type": "code",
   "execution_count": 59,
   "id": "86ce41c1",
   "metadata": {},
   "outputs": [
    {
     "data": {
      "text/html": [
       "<div>\n",
       "<style scoped>\n",
       "    .dataframe tbody tr th:only-of-type {\n",
       "        vertical-align: middle;\n",
       "    }\n",
       "\n",
       "    .dataframe tbody tr th {\n",
       "        vertical-align: top;\n",
       "    }\n",
       "\n",
       "    .dataframe thead th {\n",
       "        text-align: right;\n",
       "    }\n",
       "</style>\n",
       "<table border=\"1\" class=\"dataframe\">\n",
       "  <thead>\n",
       "    <tr style=\"text-align: right;\">\n",
       "      <th></th>\n",
       "      <th>orderkey</th>\n",
       "      <th>selected_cartontype</th>\n",
       "      <th>box_num</th>\n",
       "      <th>recommended_cartontype</th>\n",
       "      <th>sel_calc_cube</th>\n",
       "      <th>recommended_carton</th>\n",
       "      <th>pack_volume</th>\n",
       "      <th>rec_calc_cube</th>\n",
       "      <th>goods_wght</th>\n",
       "      <th>sku</th>\n",
       "      <th>trackingid</th>\n",
       "      <th>a</th>\n",
       "      <th>b</th>\n",
       "      <th>c</th>\n",
       "      <th>sku_volume</th>\n",
       "      <th>price</th>\n",
       "      <th>length</th>\n",
       "      <th>width</th>\n",
       "      <th>height</th>\n",
       "      <th>min_dim</th>\n",
       "      <th>max_dim</th>\n",
       "      <th>min_sku_dim</th>\n",
       "      <th>max_sku_dim</th>\n",
       "      <th>pack_class</th>\n",
       "    </tr>\n",
       "  </thead>\n",
       "  <tbody>\n",
       "    <tr>\n",
       "      <th>20</th>\n",
       "      <td>e14e21fd406ff6774e69660a492a932a</td>\n",
       "      <td>MYE</td>\n",
       "      <td>1</td>\n",
       "      <td>MYD</td>\n",
       "      <td>26277</td>\n",
       "      <td>MYD</td>\n",
       "      <td>26277.3</td>\n",
       "      <td>15579</td>\n",
       "      <td>0.896</td>\n",
       "      <td>6287a74b664fd8ad4ed5c541b399a82b</td>\n",
       "      <td>a1007b3c6a0fec5af3732b0f0db782b1</td>\n",
       "      <td>18.6</td>\n",
       "      <td>3.3</td>\n",
       "      <td>49.7</td>\n",
       "      <td>3050.586</td>\n",
       "      <td>8.1</td>\n",
       "      <td>43.0</td>\n",
       "      <td>63.0</td>\n",
       "      <td>9.7</td>\n",
       "      <td>9.7</td>\n",
       "      <td>63.0</td>\n",
       "      <td>3.3</td>\n",
       "      <td>49.7</td>\n",
       "      <td>package</td>\n",
       "    </tr>\n",
       "    <tr>\n",
       "      <th>30</th>\n",
       "      <td>1154ced11d6437a5dfea2faa3f4a6f72</td>\n",
       "      <td>YMG</td>\n",
       "      <td>1</td>\n",
       "      <td>YME</td>\n",
       "      <td>26820</td>\n",
       "      <td>YME</td>\n",
       "      <td>26820.0</td>\n",
       "      <td>40050</td>\n",
       "      <td>0.700</td>\n",
       "      <td>d714bc5c946ec01d9b09714524805e5c</td>\n",
       "      <td>6cdfda14953f69b681966bec7d15a6c0</td>\n",
       "      <td>14.0</td>\n",
       "      <td>10.7</td>\n",
       "      <td>43.8</td>\n",
       "      <td>6561.240</td>\n",
       "      <td>17.5</td>\n",
       "      <td>44.7</td>\n",
       "      <td>30.0</td>\n",
       "      <td>20.0</td>\n",
       "      <td>20.0</td>\n",
       "      <td>44.7</td>\n",
       "      <td>10.7</td>\n",
       "      <td>43.8</td>\n",
       "      <td>box</td>\n",
       "    </tr>\n",
       "    <tr>\n",
       "      <th>34</th>\n",
       "      <td>cf766b2bd15b2d15d21da56375dae33a</td>\n",
       "      <td>YMW</td>\n",
       "      <td>1</td>\n",
       "      <td>YMF</td>\n",
       "      <td>18000</td>\n",
       "      <td>YMF</td>\n",
       "      <td>18000.0</td>\n",
       "      <td>13125</td>\n",
       "      <td>2.078</td>\n",
       "      <td>eb0e661f3ed57ef7ca16418bf50e363e</td>\n",
       "      <td>957e7f54438771b44eb37ed039b48ff5</td>\n",
       "      <td>23.4</td>\n",
       "      <td>8.0</td>\n",
       "      <td>33.9</td>\n",
       "      <td>6346.080</td>\n",
       "      <td>13.9</td>\n",
       "      <td>40.0</td>\n",
       "      <td>30.0</td>\n",
       "      <td>15.0</td>\n",
       "      <td>15.0</td>\n",
       "      <td>40.0</td>\n",
       "      <td>8.0</td>\n",
       "      <td>33.9</td>\n",
       "      <td>box</td>\n",
       "    </tr>\n",
       "    <tr>\n",
       "      <th>59</th>\n",
       "      <td>dfa1ef503601208977922acad777cdcd</td>\n",
       "      <td>YMG</td>\n",
       "      <td>1</td>\n",
       "      <td>YMW</td>\n",
       "      <td>26820</td>\n",
       "      <td>YMW</td>\n",
       "      <td>26820.0</td>\n",
       "      <td>18000</td>\n",
       "      <td>2.078</td>\n",
       "      <td>eb0e661f3ed57ef7ca16418bf50e363e</td>\n",
       "      <td>a7d31017db10fc1de10a74a78b73e22c</td>\n",
       "      <td>23.4</td>\n",
       "      <td>8.0</td>\n",
       "      <td>33.9</td>\n",
       "      <td>6346.080</td>\n",
       "      <td>17.5</td>\n",
       "      <td>44.7</td>\n",
       "      <td>30.0</td>\n",
       "      <td>20.0</td>\n",
       "      <td>20.0</td>\n",
       "      <td>44.7</td>\n",
       "      <td>8.0</td>\n",
       "      <td>33.9</td>\n",
       "      <td>box</td>\n",
       "    </tr>\n",
       "    <tr>\n",
       "      <th>63</th>\n",
       "      <td>8b8248a2807c9faa987db6f03ae5d205</td>\n",
       "      <td>YMG</td>\n",
       "      <td>1</td>\n",
       "      <td>YMG</td>\n",
       "      <td>26820</td>\n",
       "      <td>YMG</td>\n",
       "      <td>26820.0</td>\n",
       "      <td>26820</td>\n",
       "      <td>2.078</td>\n",
       "      <td>eb0e661f3ed57ef7ca16418bf50e363e</td>\n",
       "      <td>ebeb7bb123c0fe048ff8cb15392af75a</td>\n",
       "      <td>23.4</td>\n",
       "      <td>8.0</td>\n",
       "      <td>33.9</td>\n",
       "      <td>6346.080</td>\n",
       "      <td>17.5</td>\n",
       "      <td>44.7</td>\n",
       "      <td>30.0</td>\n",
       "      <td>20.0</td>\n",
       "      <td>20.0</td>\n",
       "      <td>44.7</td>\n",
       "      <td>8.0</td>\n",
       "      <td>33.9</td>\n",
       "      <td>box</td>\n",
       "    </tr>\n",
       "    <tr>\n",
       "      <th>...</th>\n",
       "      <td>...</td>\n",
       "      <td>...</td>\n",
       "      <td>...</td>\n",
       "      <td>...</td>\n",
       "      <td>...</td>\n",
       "      <td>...</td>\n",
       "      <td>...</td>\n",
       "      <td>...</td>\n",
       "      <td>...</td>\n",
       "      <td>...</td>\n",
       "      <td>...</td>\n",
       "      <td>...</td>\n",
       "      <td>...</td>\n",
       "      <td>...</td>\n",
       "      <td>...</td>\n",
       "      <td>...</td>\n",
       "      <td>...</td>\n",
       "      <td>...</td>\n",
       "      <td>...</td>\n",
       "      <td>...</td>\n",
       "      <td>...</td>\n",
       "      <td>...</td>\n",
       "      <td>...</td>\n",
       "      <td>...</td>\n",
       "    </tr>\n",
       "    <tr>\n",
       "      <th>314649</th>\n",
       "      <td>5b6b03ffea4a8fbdc2a2b73d5e921f0a</td>\n",
       "      <td>MYD</td>\n",
       "      <td>1</td>\n",
       "      <td>YMU</td>\n",
       "      <td>7600</td>\n",
       "      <td>YMU</td>\n",
       "      <td>15580.0</td>\n",
       "      <td>2592</td>\n",
       "      <td>0.260</td>\n",
       "      <td>b468575d3877fa142dad72f2d18aacff</td>\n",
       "      <td>7e89ada050fd12d3e06c0751a5ba3de9</td>\n",
       "      <td>21.0</td>\n",
       "      <td>2.0</td>\n",
       "      <td>18.0</td>\n",
       "      <td>756.000</td>\n",
       "      <td>6.9</td>\n",
       "      <td>38.0</td>\n",
       "      <td>50.0</td>\n",
       "      <td>8.2</td>\n",
       "      <td>8.2</td>\n",
       "      <td>50.0</td>\n",
       "      <td>2.0</td>\n",
       "      <td>21.0</td>\n",
       "      <td>package</td>\n",
       "    </tr>\n",
       "    <tr>\n",
       "      <th>314650</th>\n",
       "      <td>5b6b03ffea4a8fbdc2a2b73d5e921f0a</td>\n",
       "      <td>MYD</td>\n",
       "      <td>1</td>\n",
       "      <td>YMU</td>\n",
       "      <td>7600</td>\n",
       "      <td>YMU</td>\n",
       "      <td>15580.0</td>\n",
       "      <td>2592</td>\n",
       "      <td>0.260</td>\n",
       "      <td>03e2e19b4ad122361b7469dcf7f9a2a7</td>\n",
       "      <td>7e89ada050fd12d3e06c0751a5ba3de9</td>\n",
       "      <td>21.0</td>\n",
       "      <td>3.0</td>\n",
       "      <td>18.0</td>\n",
       "      <td>1134.000</td>\n",
       "      <td>6.9</td>\n",
       "      <td>38.0</td>\n",
       "      <td>50.0</td>\n",
       "      <td>8.2</td>\n",
       "      <td>8.2</td>\n",
       "      <td>50.0</td>\n",
       "      <td>3.0</td>\n",
       "      <td>21.0</td>\n",
       "      <td>package</td>\n",
       "    </tr>\n",
       "    <tr>\n",
       "      <th>314658</th>\n",
       "      <td>287d07fac19f4997ad20efe35905d36f</td>\n",
       "      <td>YMW</td>\n",
       "      <td>1</td>\n",
       "      <td>YMG</td>\n",
       "      <td>21812</td>\n",
       "      <td>YMG</td>\n",
       "      <td>18000.0</td>\n",
       "      <td>18270</td>\n",
       "      <td>0.080</td>\n",
       "      <td>51e874abc87c5a096c55ac5558f1f929</td>\n",
       "      <td>403e365d84e87ab19bfa6f8677123b30</td>\n",
       "      <td>8.0</td>\n",
       "      <td>12.0</td>\n",
       "      <td>12.0</td>\n",
       "      <td>1152.000</td>\n",
       "      <td>13.9</td>\n",
       "      <td>40.0</td>\n",
       "      <td>30.0</td>\n",
       "      <td>15.0</td>\n",
       "      <td>15.0</td>\n",
       "      <td>40.0</td>\n",
       "      <td>8.0</td>\n",
       "      <td>12.0</td>\n",
       "      <td>box</td>\n",
       "    </tr>\n",
       "    <tr>\n",
       "      <th>314676</th>\n",
       "      <td>47dbb5d2b2dbeb7a8017f7656517e2c9</td>\n",
       "      <td>YMG</td>\n",
       "      <td>1</td>\n",
       "      <td>YMW</td>\n",
       "      <td>18270</td>\n",
       "      <td>YMW</td>\n",
       "      <td>26820.0</td>\n",
       "      <td>21812</td>\n",
       "      <td>0.550</td>\n",
       "      <td>2a7f6883fadf6fa7a2306376e598b56c</td>\n",
       "      <td>05466bb9687134041a318a1578e9101e</td>\n",
       "      <td>18.0</td>\n",
       "      <td>6.0</td>\n",
       "      <td>18.0</td>\n",
       "      <td>1944.000</td>\n",
       "      <td>17.5</td>\n",
       "      <td>44.7</td>\n",
       "      <td>30.0</td>\n",
       "      <td>20.0</td>\n",
       "      <td>20.0</td>\n",
       "      <td>44.7</td>\n",
       "      <td>6.0</td>\n",
       "      <td>18.0</td>\n",
       "      <td>box</td>\n",
       "    </tr>\n",
       "    <tr>\n",
       "      <th>314678</th>\n",
       "      <td>2da5e30c36487a43f6b647f1fa223da4</td>\n",
       "      <td>MYE</td>\n",
       "      <td>1</td>\n",
       "      <td>MYE</td>\n",
       "      <td>10836</td>\n",
       "      <td>MYE</td>\n",
       "      <td>26277.3</td>\n",
       "      <td>10836</td>\n",
       "      <td>0.160</td>\n",
       "      <td>ba0b176dc645058663de285b479163b3</td>\n",
       "      <td>9c3c0b98d0b2de8b9fe27d7d0770162b</td>\n",
       "      <td>50.0</td>\n",
       "      <td>1.0</td>\n",
       "      <td>28.0</td>\n",
       "      <td>1400.000</td>\n",
       "      <td>8.1</td>\n",
       "      <td>43.0</td>\n",
       "      <td>63.0</td>\n",
       "      <td>9.7</td>\n",
       "      <td>9.7</td>\n",
       "      <td>63.0</td>\n",
       "      <td>1.0</td>\n",
       "      <td>50.0</td>\n",
       "      <td>package</td>\n",
       "    </tr>\n",
       "  </tbody>\n",
       "</table>\n",
       "<p>54500 rows × 24 columns</p>\n",
       "</div>"
      ],
      "text/plain": [
       "                                orderkey selected_cartontype  box_num  \\\n",
       "20      e14e21fd406ff6774e69660a492a932a                 MYE        1   \n",
       "30      1154ced11d6437a5dfea2faa3f4a6f72                 YMG        1   \n",
       "34      cf766b2bd15b2d15d21da56375dae33a                 YMW        1   \n",
       "59      dfa1ef503601208977922acad777cdcd                 YMG        1   \n",
       "63      8b8248a2807c9faa987db6f03ae5d205                 YMG        1   \n",
       "...                                  ...                 ...      ...   \n",
       "314649  5b6b03ffea4a8fbdc2a2b73d5e921f0a                 MYD        1   \n",
       "314650  5b6b03ffea4a8fbdc2a2b73d5e921f0a                 MYD        1   \n",
       "314658  287d07fac19f4997ad20efe35905d36f                 YMW        1   \n",
       "314676  47dbb5d2b2dbeb7a8017f7656517e2c9                 YMG        1   \n",
       "314678  2da5e30c36487a43f6b647f1fa223da4                 MYE        1   \n",
       "\n",
       "       recommended_cartontype  sel_calc_cube recommended_carton  pack_volume  \\\n",
       "20                        MYD          26277                MYD      26277.3   \n",
       "30                        YME          26820                YME      26820.0   \n",
       "34                        YMF          18000                YMF      18000.0   \n",
       "59                        YMW          26820                YMW      26820.0   \n",
       "63                        YMG          26820                YMG      26820.0   \n",
       "...                       ...            ...                ...          ...   \n",
       "314649                    YMU           7600                YMU      15580.0   \n",
       "314650                    YMU           7600                YMU      15580.0   \n",
       "314658                    YMG          21812                YMG      18000.0   \n",
       "314676                    YMW          18270                YMW      26820.0   \n",
       "314678                    MYE          10836                MYE      26277.3   \n",
       "\n",
       "        rec_calc_cube  goods_wght                               sku  \\\n",
       "20              15579       0.896  6287a74b664fd8ad4ed5c541b399a82b   \n",
       "30              40050       0.700  d714bc5c946ec01d9b09714524805e5c   \n",
       "34              13125       2.078  eb0e661f3ed57ef7ca16418bf50e363e   \n",
       "59              18000       2.078  eb0e661f3ed57ef7ca16418bf50e363e   \n",
       "63              26820       2.078  eb0e661f3ed57ef7ca16418bf50e363e   \n",
       "...               ...         ...                               ...   \n",
       "314649           2592       0.260  b468575d3877fa142dad72f2d18aacff   \n",
       "314650           2592       0.260  03e2e19b4ad122361b7469dcf7f9a2a7   \n",
       "314658          18270       0.080  51e874abc87c5a096c55ac5558f1f929   \n",
       "314676          21812       0.550  2a7f6883fadf6fa7a2306376e598b56c   \n",
       "314678          10836       0.160  ba0b176dc645058663de285b479163b3   \n",
       "\n",
       "                              trackingid     a     b     c  sku_volume  price  \\\n",
       "20      a1007b3c6a0fec5af3732b0f0db782b1  18.6   3.3  49.7    3050.586    8.1   \n",
       "30      6cdfda14953f69b681966bec7d15a6c0  14.0  10.7  43.8    6561.240   17.5   \n",
       "34      957e7f54438771b44eb37ed039b48ff5  23.4   8.0  33.9    6346.080   13.9   \n",
       "59      a7d31017db10fc1de10a74a78b73e22c  23.4   8.0  33.9    6346.080   17.5   \n",
       "63      ebeb7bb123c0fe048ff8cb15392af75a  23.4   8.0  33.9    6346.080   17.5   \n",
       "...                                  ...   ...   ...   ...         ...    ...   \n",
       "314649  7e89ada050fd12d3e06c0751a5ba3de9  21.0   2.0  18.0     756.000    6.9   \n",
       "314650  7e89ada050fd12d3e06c0751a5ba3de9  21.0   3.0  18.0    1134.000    6.9   \n",
       "314658  403e365d84e87ab19bfa6f8677123b30   8.0  12.0  12.0    1152.000   13.9   \n",
       "314676  05466bb9687134041a318a1578e9101e  18.0   6.0  18.0    1944.000   17.5   \n",
       "314678  9c3c0b98d0b2de8b9fe27d7d0770162b  50.0   1.0  28.0    1400.000    8.1   \n",
       "\n",
       "        length  width  height  min_dim  max_dim  min_sku_dim  max_sku_dim  \\\n",
       "20        43.0   63.0     9.7      9.7     63.0          3.3         49.7   \n",
       "30        44.7   30.0    20.0     20.0     44.7         10.7         43.8   \n",
       "34        40.0   30.0    15.0     15.0     40.0          8.0         33.9   \n",
       "59        44.7   30.0    20.0     20.0     44.7          8.0         33.9   \n",
       "63        44.7   30.0    20.0     20.0     44.7          8.0         33.9   \n",
       "...        ...    ...     ...      ...      ...          ...          ...   \n",
       "314649    38.0   50.0     8.2      8.2     50.0          2.0         21.0   \n",
       "314650    38.0   50.0     8.2      8.2     50.0          3.0         21.0   \n",
       "314658    40.0   30.0    15.0     15.0     40.0          8.0         12.0   \n",
       "314676    44.7   30.0    20.0     20.0     44.7          6.0         18.0   \n",
       "314678    43.0   63.0     9.7      9.7     63.0          1.0         50.0   \n",
       "\n",
       "       pack_class  \n",
       "20        package  \n",
       "30            box  \n",
       "34            box  \n",
       "59            box  \n",
       "63            box  \n",
       "...           ...  \n",
       "314649    package  \n",
       "314650    package  \n",
       "314658        box  \n",
       "314676        box  \n",
       "314678    package  \n",
       "\n",
       "[54500 rows x 24 columns]"
      ]
     },
     "execution_count": 59,
     "metadata": {},
     "output_type": "execute_result"
    }
   ],
   "source": [
    "data_few_goods"
   ]
  },
  {
   "cell_type": "markdown",
   "id": "aff3f8ab",
   "metadata": {},
   "source": [
    "Посмотрим на товары в разрезе типов упаковок, пакетов и коробок"
   ]
  },
  {
   "cell_type": "code",
   "execution_count": 60,
   "id": "f3eac7a0",
   "metadata": {},
   "outputs": [
    {
     "data": {
      "text/html": [
       "<div>\n",
       "<style scoped>\n",
       "    .dataframe tbody tr th:only-of-type {\n",
       "        vertical-align: middle;\n",
       "    }\n",
       "\n",
       "    .dataframe tbody tr th {\n",
       "        vertical-align: top;\n",
       "    }\n",
       "\n",
       "    .dataframe thead th {\n",
       "        text-align: right;\n",
       "    }\n",
       "</style>\n",
       "<table border=\"1\" class=\"dataframe\">\n",
       "  <thead>\n",
       "    <tr style=\"text-align: right;\">\n",
       "      <th></th>\n",
       "      <th>sku</th>\n",
       "      <th>cargotype</th>\n",
       "      <th>description</th>\n",
       "    </tr>\n",
       "  </thead>\n",
       "  <tbody>\n",
       "    <tr>\n",
       "      <th>52124</th>\n",
       "      <td>186db0f46218a838cc2937167740a962</td>\n",
       "      <td>440</td>\n",
       "      <td>товары для красоты</td>\n",
       "    </tr>\n",
       "    <tr>\n",
       "      <th>22482</th>\n",
       "      <td>dcc1d23a6dbf866e6821a6303d56f0fb</td>\n",
       "      <td>290</td>\n",
       "      <td>малогабаритный товар</td>\n",
       "    </tr>\n",
       "    <tr>\n",
       "      <th>31698</th>\n",
       "      <td>2cc1a45da78f43fb455143efb3bbdcf0</td>\n",
       "      <td>290</td>\n",
       "      <td>малогабаритный товар</td>\n",
       "    </tr>\n",
       "    <tr>\n",
       "      <th>40216</th>\n",
       "      <td>58c34b367b8019612a48a7ddbf26bb02</td>\n",
       "      <td>410</td>\n",
       "      <td>опасный Авиа</td>\n",
       "    </tr>\n",
       "    <tr>\n",
       "      <th>9403</th>\n",
       "      <td>c0e14d0143a9db7f94634ce0e9152eda</td>\n",
       "      <td>290</td>\n",
       "      <td>Склад МГТ (малогабаритный товар)</td>\n",
       "    </tr>\n",
       "  </tbody>\n",
       "</table>\n",
       "</div>"
      ],
      "text/plain": [
       "                                    sku  cargotype  \\\n",
       "52124  186db0f46218a838cc2937167740a962        440   \n",
       "22482  dcc1d23a6dbf866e6821a6303d56f0fb        290   \n",
       "31698  2cc1a45da78f43fb455143efb3bbdcf0        290   \n",
       "40216  58c34b367b8019612a48a7ddbf26bb02        410   \n",
       "9403   c0e14d0143a9db7f94634ce0e9152eda        290   \n",
       "\n",
       "                            description  \n",
       "52124                товары для красоты  \n",
       "22482              малогабаритный товар  \n",
       "31698              малогабаритный товар  \n",
       "40216                      опасный Авиа  \n",
       "9403   Склад МГТ (малогабаритный товар)  "
      ]
     },
     "execution_count": 60,
     "metadata": {},
     "output_type": "execute_result"
    },
    {
     "data": {
      "text/html": [
       "<div>\n",
       "<style scoped>\n",
       "    .dataframe tbody tr th:only-of-type {\n",
       "        vertical-align: middle;\n",
       "    }\n",
       "\n",
       "    .dataframe tbody tr th {\n",
       "        vertical-align: top;\n",
       "    }\n",
       "\n",
       "    .dataframe thead th {\n",
       "        text-align: right;\n",
       "    }\n",
       "</style>\n",
       "<table border=\"1\" class=\"dataframe\">\n",
       "  <thead>\n",
       "    <tr style=\"text-align: right;\">\n",
       "      <th></th>\n",
       "      <th>sku</th>\n",
       "      <th>cargotype</th>\n",
       "      <th>description</th>\n",
       "    </tr>\n",
       "  </thead>\n",
       "  <tbody>\n",
       "    <tr>\n",
       "      <th>30429</th>\n",
       "      <td>4627a26542aa780961691e299c0738dc</td>\n",
       "      <td>340</td>\n",
       "      <td>не требует упаковки</td>\n",
       "    </tr>\n",
       "    <tr>\n",
       "      <th>5616</th>\n",
       "      <td>e0760fbc2ec904ae89df9e2ec92d6d99</td>\n",
       "      <td>290</td>\n",
       "      <td>малогабаритный товар</td>\n",
       "    </tr>\n",
       "    <tr>\n",
       "      <th>26772</th>\n",
       "      <td>4e9d68682ce594b6202bdec1d98d0224</td>\n",
       "      <td>320</td>\n",
       "      <td>сыпучее</td>\n",
       "    </tr>\n",
       "    <tr>\n",
       "      <th>19800</th>\n",
       "      <td>7f068a1e24b9b8cb4827cf9246139f98</td>\n",
       "      <td>290</td>\n",
       "      <td>малогабаритный товар</td>\n",
       "    </tr>\n",
       "    <tr>\n",
       "      <th>7914</th>\n",
       "      <td>601cb3c8a205f31ebedd2354b46dda94</td>\n",
       "      <td>290</td>\n",
       "      <td>малогабаритный товар</td>\n",
       "    </tr>\n",
       "  </tbody>\n",
       "</table>\n",
       "</div>"
      ],
      "text/plain": [
       "                                    sku  cargotype           description\n",
       "30429  4627a26542aa780961691e299c0738dc        340   не требует упаковки\n",
       "5616   e0760fbc2ec904ae89df9e2ec92d6d99        290  малогабаритный товар\n",
       "26772  4e9d68682ce594b6202bdec1d98d0224        320               сыпучее\n",
       "19800  7f068a1e24b9b8cb4827cf9246139f98        290  малогабаритный товар\n",
       "7914   601cb3c8a205f31ebedd2354b46dda94        290  малогабаритный товар"
      ]
     },
     "execution_count": 60,
     "metadata": {},
     "output_type": "execute_result"
    }
   ],
   "source": [
    "sku_list_package = data_few_goods.query(\"pack_class == 'package'\")['sku'].unique().tolist()\n",
    "sku_list_box = data_few_goods.query(\"pack_class == 'box'\")['sku'].unique().tolist()\n",
    "\n",
    "cargotype_few_package = sku_cargotypes.query('sku in @sku_list_package').merge(cargotype_info, on='cargotype', how='inner')\n",
    "cargotype_few_box = sku_cargotypes.query('sku in @sku_list_box').merge(cargotype_info, on='cargotype', how='inner')\n",
    "\n",
    "cargotype_few_package.sample(5)\n",
    "cargotype_few_box.sample(5)"
   ]
  },
  {
   "cell_type": "code",
   "execution_count": 61,
   "id": "e7b3586b",
   "metadata": {
    "scrolled": true
   },
   "outputs": [
    {
     "name": "stdout",
     "output_type": "stream",
     "text": [
      "Количество товаров, которые были упакованы в пакеты:  90484\n",
      "Количество товаров, которые были упакованы в пакеты:  62843\n"
     ]
    }
   ],
   "source": [
    "print('Количество товаров, которые были упакованы в пакеты: ', len(cargotype_few_package))\n",
    "print('Количество товаров, которые были упакованы в пакеты: ', len(cargotype_few_box))"
   ]
  },
  {
   "cell_type": "code",
   "execution_count": 62,
   "id": "5951127d",
   "metadata": {
    "scrolled": false
   },
   "outputs": [
    {
     "data": {
      "text/plain": [
       "[малогабаритный товар, Склад МГТ (малогабаритный товар)]                                                                                                               5143\n",
       "[малогабаритный товар, Склад МГТ (малогабаритный товар), опасный Авиа]                                                                                                 1135\n",
       "[малогабаритный товар, Склад МГТ (малогабаритный товар), влажный (мокрый), пачкается, пачкает, впитывает запах]                                                         939\n",
       "[малогабаритный товар, Склад МГТ (малогабаритный товар), влажный (мокрый), пачкается, пачкает]                                                                          869\n",
       "[малогабаритный товар, Склад МГТ (малогабаритный товар), не требует упаковки]                                                                                           694\n",
       "[малогабаритный товар, Склад МГТ (малогабаритный товар), опасный Авиа, сыпучее]                                                                                         668\n",
       "[малогабаритный товар, Склад МГТ (малогабаритный товар), техника и электроника, литий-ионные батареи, техника и электроника с литий-ионными батареями, электроника]     633\n",
       "[малогабаритный товар, Склад МГТ (малогабаритный товар), косметика и парфюмерия, товары для красоты, химикаты, хрупкое, керамика/стекло/камень/фарфор]                  547\n",
       "[малогабаритный товар, Склад МГТ (малогабаритный товар), косметика и парфюмерия, товары для красоты]                                                                    469\n",
       "[малогабаритный товар, Склад МГТ (малогабаритный товар), косметика и парфюмерия, товары для красоты, химикаты]                                                          387\n",
       "Name: description, dtype: int64"
      ]
     },
     "execution_count": 62,
     "metadata": {},
     "output_type": "execute_result"
    }
   ],
   "source": [
    "cargotype_few_package.groupby('sku')['description'].apply(list).value_counts().head(10)"
   ]
  },
  {
   "cell_type": "code",
   "execution_count": 63,
   "id": "7ae4c7ed",
   "metadata": {
    "scrolled": false
   },
   "outputs": [
    {
     "data": {
      "text/plain": [
       "[малогабаритный товар, Склад МГТ (малогабаритный товар)]                                                                                                               2227\n",
       "[малогабаритный товар, Склад МГТ (малогабаритный товар), опасный Авиа]                                                                                                  858\n",
       "[малогабаритный товар, Склад МГТ (малогабаритный товар), сыпучее, опасный Авиа]                                                                                         625\n",
       "[малогабаритный товар, Склад МГТ (малогабаритный товар), не требует упаковки]                                                                                           554\n",
       "[малогабаритный товар, Склад МГТ (малогабаритный товар), опасный Авиа, мнется]                                                                                          496\n",
       "[малогабаритный товар, Склад МГТ (малогабаритный товар), не требует упаковки, опасный Авиа]                                                                             371\n",
       "[малогабаритный товар, Склад МГТ (малогабаритный товар), влажный (мокрый), пачкается, пачкает]                                                                          369\n",
       "[малогабаритный товар, Склад МГТ (малогабаритный товар), техника и электроника, литий-ионные батареи, техника и электроника с литий-ионными батареями, электроника]     350\n",
       "[малогабаритный товар, Склад МГТ (малогабаритный товар), хрупкое, керамика/стекло/камень/фарфор]                                                                        299\n",
       "[малогабаритный товар, Склад МГТ (малогабаритный товар), упаковка в пленку]                                                                                             285\n",
       "Name: description, dtype: int64"
      ]
     },
     "execution_count": 63,
     "metadata": {},
     "output_type": "execute_result"
    }
   ],
   "source": [
    "cargotype_few_box.groupby('sku')['description'].apply(list).value_counts().head(10)"
   ]
  },
  {
   "cell_type": "markdown",
   "id": "228bc55a",
   "metadata": {},
   "source": [
    "В большей части это малогабаритные товары с низкой стоимостью, предполагаем, что это продукты, бытовая химия, мелкая электроника либо одежда. Карготипы проставляются в зависимости от характеристик товаров в заказе, поэтому мы можем только сделать предположение о том, что товары в заказе формируют от решения сотрудника."
   ]
  },
  {
   "cell_type": "markdown",
   "id": "de492fb0",
   "metadata": {},
   "source": [
    "Проведём более детальный анализ тех же моментов, что и по заказам с одним товаром"
   ]
  },
  {
   "cell_type": "markdown",
   "id": "c20941e3",
   "metadata": {},
   "source": [
    "### Dimentions <a id='13'>"
   ]
  },
  {
   "cell_type": "markdown",
   "id": "44fc67a3",
   "metadata": {},
   "source": [
    "Посмотрим графически на взаимосвязь упаковок и товаров."
   ]
  },
  {
   "cell_type": "code",
   "execution_count": 64,
   "id": "fbb1d577",
   "metadata": {},
   "outputs": [
    {
     "data": {
      "text/html": [
       "<div>\n",
       "<style scoped>\n",
       "    .dataframe tbody tr th:only-of-type {\n",
       "        vertical-align: middle;\n",
       "    }\n",
       "\n",
       "    .dataframe tbody tr th {\n",
       "        vertical-align: top;\n",
       "    }\n",
       "\n",
       "    .dataframe thead tr th {\n",
       "        text-align: left;\n",
       "    }\n",
       "\n",
       "    .dataframe thead tr:last-of-type th {\n",
       "        text-align: right;\n",
       "    }\n",
       "</style>\n",
       "<table border=\"1\" class=\"dataframe\">\n",
       "  <thead>\n",
       "    <tr>\n",
       "      <th></th>\n",
       "      <th colspan=\"3\" halign=\"left\">sku_volume</th>\n",
       "      <th>pack_volume</th>\n",
       "    </tr>\n",
       "    <tr>\n",
       "      <th></th>\n",
       "      <th>count</th>\n",
       "      <th>mean</th>\n",
       "      <th>median</th>\n",
       "      <th>mean</th>\n",
       "    </tr>\n",
       "    <tr>\n",
       "      <th>selected_cartontype</th>\n",
       "      <th></th>\n",
       "      <th></th>\n",
       "      <th></th>\n",
       "      <th></th>\n",
       "    </tr>\n",
       "  </thead>\n",
       "  <tbody>\n",
       "    <tr>\n",
       "      <th>MYA</th>\n",
       "      <td>2278</td>\n",
       "      <td>1020.0</td>\n",
       "      <td>342.0</td>\n",
       "      <td>999.0</td>\n",
       "    </tr>\n",
       "    <tr>\n",
       "      <th>MYB</th>\n",
       "      <td>9522</td>\n",
       "      <td>704.0</td>\n",
       "      <td>420.0</td>\n",
       "      <td>3450.0</td>\n",
       "    </tr>\n",
       "    <tr>\n",
       "      <th>MYC</th>\n",
       "      <td>11378</td>\n",
       "      <td>1253.0</td>\n",
       "      <td>807.0</td>\n",
       "      <td>8436.0</td>\n",
       "    </tr>\n",
       "    <tr>\n",
       "      <th>MYD</th>\n",
       "      <td>5570</td>\n",
       "      <td>2350.0</td>\n",
       "      <td>1575.0</td>\n",
       "      <td>15580.0</td>\n",
       "    </tr>\n",
       "    <tr>\n",
       "      <th>MYE</th>\n",
       "      <td>2094</td>\n",
       "      <td>3558.0</td>\n",
       "      <td>2249.0</td>\n",
       "      <td>26277.0</td>\n",
       "    </tr>\n",
       "    <tr>\n",
       "      <th>MYF</th>\n",
       "      <td>267</td>\n",
       "      <td>393.0</td>\n",
       "      <td>291.0</td>\n",
       "      <td>1500.0</td>\n",
       "    </tr>\n",
       "    <tr>\n",
       "      <th>NONPACK</th>\n",
       "      <td>369</td>\n",
       "      <td>3737.0</td>\n",
       "      <td>1862.0</td>\n",
       "      <td>0.0</td>\n",
       "    </tr>\n",
       "    <tr>\n",
       "      <th>STRETCH</th>\n",
       "      <td>601</td>\n",
       "      <td>6835.0</td>\n",
       "      <td>5423.0</td>\n",
       "      <td>0.0</td>\n",
       "    </tr>\n",
       "    <tr>\n",
       "      <th>YMA</th>\n",
       "      <td>4481</td>\n",
       "      <td>814.0</td>\n",
       "      <td>575.0</td>\n",
       "      <td>3705.0</td>\n",
       "    </tr>\n",
       "    <tr>\n",
       "      <th>YMC</th>\n",
       "      <td>7146</td>\n",
       "      <td>1497.0</td>\n",
       "      <td>1120.0</td>\n",
       "      <td>9000.0</td>\n",
       "    </tr>\n",
       "    <tr>\n",
       "      <th>YME</th>\n",
       "      <td>779</td>\n",
       "      <td>6060.0</td>\n",
       "      <td>4190.0</td>\n",
       "      <td>40050.0</td>\n",
       "    </tr>\n",
       "    <tr>\n",
       "      <th>YMF</th>\n",
       "      <td>3993</td>\n",
       "      <td>2289.0</td>\n",
       "      <td>1573.0</td>\n",
       "      <td>13125.0</td>\n",
       "    </tr>\n",
       "    <tr>\n",
       "      <th>YMG</th>\n",
       "      <td>2575</td>\n",
       "      <td>4525.0</td>\n",
       "      <td>3134.0</td>\n",
       "      <td>26820.0</td>\n",
       "    </tr>\n",
       "    <tr>\n",
       "      <th>YML</th>\n",
       "      <td>110</td>\n",
       "      <td>7063.0</td>\n",
       "      <td>3364.0</td>\n",
       "      <td>108000.0</td>\n",
       "    </tr>\n",
       "    <tr>\n",
       "      <th>YMW</th>\n",
       "      <td>3252</td>\n",
       "      <td>3362.0</td>\n",
       "      <td>2298.0</td>\n",
       "      <td>18000.0</td>\n",
       "    </tr>\n",
       "    <tr>\n",
       "      <th>YMX</th>\n",
       "      <td>85</td>\n",
       "      <td>7794.0</td>\n",
       "      <td>4190.0</td>\n",
       "      <td>46800.0</td>\n",
       "    </tr>\n",
       "  </tbody>\n",
       "</table>\n",
       "</div>"
      ],
      "text/plain": [
       "                    sku_volume                 pack_volume\n",
       "                         count    mean  median        mean\n",
       "selected_cartontype                                       \n",
       "MYA                       2278  1020.0   342.0       999.0\n",
       "MYB                       9522   704.0   420.0      3450.0\n",
       "MYC                      11378  1253.0   807.0      8436.0\n",
       "MYD                       5570  2350.0  1575.0     15580.0\n",
       "MYE                       2094  3558.0  2249.0     26277.0\n",
       "MYF                        267   393.0   291.0      1500.0\n",
       "NONPACK                    369  3737.0  1862.0         0.0\n",
       "STRETCH                    601  6835.0  5423.0         0.0\n",
       "YMA                       4481   814.0   575.0      3705.0\n",
       "YMC                       7146  1497.0  1120.0      9000.0\n",
       "YME                        779  6060.0  4190.0     40050.0\n",
       "YMF                       3993  2289.0  1573.0     13125.0\n",
       "YMG                       2575  4525.0  3134.0     26820.0\n",
       "YML                        110  7063.0  3364.0    108000.0\n",
       "YMW                       3252  3362.0  2298.0     18000.0\n",
       "YMX                         85  7794.0  4190.0     46800.0"
      ]
     },
     "execution_count": 64,
     "metadata": {},
     "output_type": "execute_result"
    }
   ],
   "source": [
    "data_few_goods.groupby('selected_cartontype')[['sku_volume', 'pack_volume']]\\\n",
    "              .agg({'sku_volume':['count','mean', 'median'],'pack_volume':'mean'}).round()"
   ]
  },
  {
   "cell_type": "code",
   "execution_count": 65,
   "id": "064a957e",
   "metadata": {},
   "outputs": [
    {
     "data": {
      "image/png": "[encoded data removed]",
      "text/plain": [
       "<Figure size 1080x504 with 1 Axes>"
      ]
     },
     "metadata": {},
     "output_type": "display_data"
    }
   ],
   "source": [
    "data_few_goods.groupby('selected_cartontype')[['sku_volume', 'pack_volume']]\\\n",
    "              .agg({'sku_volume':['count','mean', 'median'],'pack_volume':'mean'}).round()\\\n",
    "              .drop(('sku_volume', 'count'), axis=1)\\\n",
    "              .plot(kind='bar', figsize=(15, 7), color=['#FFD460', '#EA5455', '#2D4059'])\n",
    "plt.title('Pack by volume', fontsize=15);"
   ]
  },
  {
   "cell_type": "markdown",
   "id": "18ed383e",
   "metadata": {},
   "source": [
    "Объём упаковок исподьзуется не оптимально"
   ]
  },
  {
   "cell_type": "code",
   "execution_count": 66,
   "id": "0a177845",
   "metadata": {},
   "outputs": [
    {
     "data": {
      "image/png": "[encoded data removed]",
      "text/plain": [
       "<Figure size 1080x360 with 1 Axes>"
      ]
     },
     "metadata": {},
     "output_type": "display_data"
    }
   ],
   "source": [
    "data_few_goods.groupby('selected_cartontype')[['min_dim', 'max_dim', 'min_sku_dim', 'max_sku_dim']]\\\n",
    "            .agg('max').round(2).plot(kind='bar', figsize=(15, 5))\n",
    "plt.title('Pack by min and max dimentions', fontsize=17);"
   ]
  },
  {
   "cell_type": "markdown",
   "id": "0a8b7671",
   "metadata": {},
   "source": [
    "Размеры товаров превышают размер  упаковок, также как и по заказам с одним товаром."
   ]
  },
  {
   "cell_type": "markdown",
   "id": "77342271",
   "metadata": {},
   "source": [
    "### Weights <a id='14'>"
   ]
  },
  {
   "cell_type": "code",
   "execution_count": 67,
   "id": "f0758134",
   "metadata": {},
   "outputs": [
    {
     "data": {
      "text/plain": [
       "package            31109\n",
       "box                22421\n",
       "nonpack/stretch      970\n",
       "Name: pack_class, dtype: int64"
      ]
     },
     "execution_count": 67,
     "metadata": {},
     "output_type": "execute_result"
    }
   ],
   "source": [
    "data_few_goods.pack_class.value_counts()"
   ]
  },
  {
   "cell_type": "markdown",
   "id": "35b8b146",
   "metadata": {},
   "source": [
    "В данных заказах 31 тыс. заказов были отправлены пакетом, 22 тыс. в коробках и около 970 просто с маркировкой или предварительно завернуты в стретч-плёнку"
   ]
  },
  {
   "cell_type": "code",
   "execution_count": 68,
   "id": "46c99b74",
   "metadata": {},
   "outputs": [
    {
     "data": {
      "text/html": [
       "<div>\n",
       "<style scoped>\n",
       "    .dataframe tbody tr th:only-of-type {\n",
       "        vertical-align: middle;\n",
       "    }\n",
       "\n",
       "    .dataframe tbody tr th {\n",
       "        vertical-align: top;\n",
       "    }\n",
       "\n",
       "    .dataframe thead th {\n",
       "        text-align: right;\n",
       "    }\n",
       "</style>\n",
       "<table border=\"1\" class=\"dataframe\">\n",
       "  <thead>\n",
       "    <tr style=\"text-align: right;\">\n",
       "      <th></th>\n",
       "      <th>count</th>\n",
       "      <th>mean</th>\n",
       "      <th>median</th>\n",
       "    </tr>\n",
       "    <tr>\n",
       "      <th>selected_cartontype</th>\n",
       "      <th></th>\n",
       "      <th></th>\n",
       "      <th></th>\n",
       "    </tr>\n",
       "  </thead>\n",
       "  <tbody>\n",
       "    <tr>\n",
       "      <th>MYA</th>\n",
       "      <td>2278</td>\n",
       "      <td>0.240633</td>\n",
       "      <td>0.100</td>\n",
       "    </tr>\n",
       "    <tr>\n",
       "      <th>MYB</th>\n",
       "      <td>9522</td>\n",
       "      <td>0.183361</td>\n",
       "      <td>0.107</td>\n",
       "    </tr>\n",
       "    <tr>\n",
       "      <th>MYC</th>\n",
       "      <td>11378</td>\n",
       "      <td>0.310255</td>\n",
       "      <td>0.200</td>\n",
       "    </tr>\n",
       "    <tr>\n",
       "      <th>MYD</th>\n",
       "      <td>5570</td>\n",
       "      <td>0.502911</td>\n",
       "      <td>0.300</td>\n",
       "    </tr>\n",
       "    <tr>\n",
       "      <th>MYE</th>\n",
       "      <td>2094</td>\n",
       "      <td>0.632873</td>\n",
       "      <td>0.400</td>\n",
       "    </tr>\n",
       "    <tr>\n",
       "      <th>MYF</th>\n",
       "      <td>267</td>\n",
       "      <td>0.140655</td>\n",
       "      <td>0.100</td>\n",
       "    </tr>\n",
       "    <tr>\n",
       "      <th>NONPACK</th>\n",
       "      <td>369</td>\n",
       "      <td>0.689447</td>\n",
       "      <td>0.400</td>\n",
       "    </tr>\n",
       "    <tr>\n",
       "      <th>STRETCH</th>\n",
       "      <td>601</td>\n",
       "      <td>1.194557</td>\n",
       "      <td>0.794</td>\n",
       "    </tr>\n",
       "    <tr>\n",
       "      <th>YMA</th>\n",
       "      <td>4481</td>\n",
       "      <td>0.261025</td>\n",
       "      <td>0.200</td>\n",
       "    </tr>\n",
       "    <tr>\n",
       "      <th>YMC</th>\n",
       "      <td>7146</td>\n",
       "      <td>0.472835</td>\n",
       "      <td>0.328</td>\n",
       "    </tr>\n",
       "    <tr>\n",
       "      <th>YME</th>\n",
       "      <td>779</td>\n",
       "      <td>1.406212</td>\n",
       "      <td>0.849</td>\n",
       "    </tr>\n",
       "    <tr>\n",
       "      <th>YMF</th>\n",
       "      <td>3993</td>\n",
       "      <td>0.671945</td>\n",
       "      <td>0.430</td>\n",
       "    </tr>\n",
       "    <tr>\n",
       "      <th>YMG</th>\n",
       "      <td>2575</td>\n",
       "      <td>1.077699</td>\n",
       "      <td>0.650</td>\n",
       "    </tr>\n",
       "    <tr>\n",
       "      <th>YML</th>\n",
       "      <td>110</td>\n",
       "      <td>1.082900</td>\n",
       "      <td>1.000</td>\n",
       "    </tr>\n",
       "    <tr>\n",
       "      <th>YMW</th>\n",
       "      <td>3252</td>\n",
       "      <td>0.935372</td>\n",
       "      <td>0.520</td>\n",
       "    </tr>\n",
       "    <tr>\n",
       "      <th>YMX</th>\n",
       "      <td>85</td>\n",
       "      <td>1.059200</td>\n",
       "      <td>0.700</td>\n",
       "    </tr>\n",
       "  </tbody>\n",
       "</table>\n",
       "</div>"
      ],
      "text/plain": [
       "                     count      mean  median\n",
       "selected_cartontype                         \n",
       "MYA                   2278  0.240633   0.100\n",
       "MYB                   9522  0.183361   0.107\n",
       "MYC                  11378  0.310255   0.200\n",
       "MYD                   5570  0.502911   0.300\n",
       "MYE                   2094  0.632873   0.400\n",
       "MYF                    267  0.140655   0.100\n",
       "NONPACK                369  0.689447   0.400\n",
       "STRETCH                601  1.194557   0.794\n",
       "YMA                   4481  0.261025   0.200\n",
       "YMC                   7146  0.472835   0.328\n",
       "YME                    779  1.406212   0.849\n",
       "YMF                   3993  0.671945   0.430\n",
       "YMG                   2575  1.077699   0.650\n",
       "YML                    110  1.082900   1.000\n",
       "YMW                   3252  0.935372   0.520\n",
       "YMX                     85  1.059200   0.700"
      ]
     },
     "execution_count": 68,
     "metadata": {},
     "output_type": "execute_result"
    }
   ],
   "source": [
    "data_few_goods.groupby('selected_cartontype')['goods_wght']\\\n",
    "           .agg(['count', 'mean', 'median'])"
   ]
  },
  {
   "cell_type": "code",
   "execution_count": 69,
   "id": "abb49b84",
   "metadata": {},
   "outputs": [
    {
     "data": {
      "image/png": "[encoded data removed]",
      "text/plain": [
       "<Figure size 1080x360 with 1 Axes>"
      ]
     },
     "metadata": {},
     "output_type": "display_data"
    }
   ],
   "source": [
    "data_few_goods.groupby('selected_cartontype')['goods_wght']\\\n",
    "           .agg(['count', 'mean', 'median'])\\\n",
    "           .drop('count', axis=1)\\\n",
    "           .plot(kind='bar', figsize=(15, 5), color=['#CD7F32', '#009B77'])\n",
    "plt.title('Pack type by weights', fontsize=15);"
   ]
  },
  {
   "cell_type": "markdown",
   "id": "1866695e",
   "metadata": {},
   "source": [
    "По данным графика наблюдается разница между средними и медианными показателями. Наиболее сильные отличия видны по коробке типа YME, YMW и YMX, постоянно в них фигурируют разные по весу товары."
   ]
  },
  {
   "cell_type": "markdown",
   "id": "69d79fdc",
   "metadata": {},
   "source": [
    "### box/package/none <a id='15'>"
   ]
  },
  {
   "cell_type": "code",
   "execution_count": 70,
   "id": "f8331ddd",
   "metadata": {},
   "outputs": [
    {
     "data": {
      "text/html": [
       "<div>\n",
       "<style scoped>\n",
       "    .dataframe tbody tr th:only-of-type {\n",
       "        vertical-align: middle;\n",
       "    }\n",
       "\n",
       "    .dataframe tbody tr th {\n",
       "        vertical-align: top;\n",
       "    }\n",
       "\n",
       "    .dataframe thead tr th {\n",
       "        text-align: left;\n",
       "    }\n",
       "\n",
       "    .dataframe thead tr:last-of-type th {\n",
       "        text-align: right;\n",
       "    }\n",
       "</style>\n",
       "<table border=\"1\" class=\"dataframe\">\n",
       "  <thead>\n",
       "    <tr>\n",
       "      <th></th>\n",
       "      <th colspan=\"3\" halign=\"left\">sku_volume</th>\n",
       "      <th>pack_volume</th>\n",
       "    </tr>\n",
       "    <tr>\n",
       "      <th></th>\n",
       "      <th>count</th>\n",
       "      <th>mean</th>\n",
       "      <th>median</th>\n",
       "      <th>mean</th>\n",
       "    </tr>\n",
       "    <tr>\n",
       "      <th>pack_class</th>\n",
       "      <th></th>\n",
       "      <th></th>\n",
       "      <th></th>\n",
       "      <th></th>\n",
       "    </tr>\n",
       "  </thead>\n",
       "  <tbody>\n",
       "    <tr>\n",
       "      <th>box</th>\n",
       "      <td>22421</td>\n",
       "      <td>2329.0</td>\n",
       "      <td>1260.0</td>\n",
       "      <td>13736.0</td>\n",
       "    </tr>\n",
       "    <tr>\n",
       "      <th>nonpack/stretch</th>\n",
       "      <td>970</td>\n",
       "      <td>5656.0</td>\n",
       "      <td>3933.0</td>\n",
       "      <td>0.0</td>\n",
       "    </tr>\n",
       "    <tr>\n",
       "      <th>package</th>\n",
       "      <td>31109</td>\n",
       "      <td>1412.0</td>\n",
       "      <td>704.0</td>\n",
       "      <td>8786.0</td>\n",
       "    </tr>\n",
       "  </tbody>\n",
       "</table>\n",
       "</div>"
      ],
      "text/plain": [
       "                sku_volume                 pack_volume\n",
       "                     count    mean  median        mean\n",
       "pack_class                                            \n",
       "box                  22421  2329.0  1260.0     13736.0\n",
       "nonpack/stretch        970  5656.0  3933.0         0.0\n",
       "package              31109  1412.0   704.0      8786.0"
      ]
     },
     "execution_count": 70,
     "metadata": {},
     "output_type": "execute_result"
    }
   ],
   "source": [
    "data_few_goods.groupby('pack_class')[['sku_volume', 'pack_volume']]\\\n",
    "              .agg({'sku_volume':['count','mean', 'median'],'pack_volume':'mean'}).round()"
   ]
  },
  {
   "cell_type": "code",
   "execution_count": 71,
   "id": "bb90568e",
   "metadata": {
    "scrolled": false
   },
   "outputs": [
    {
     "data": {
      "image/png": "[encoded data removed]",
      "text/plain": [
       "<Figure size 1080x360 with 1 Axes>"
      ]
     },
     "metadata": {},
     "output_type": "display_data"
    }
   ],
   "source": [
    "data_few_goods.groupby('pack_class')[['sku_volume', 'pack_volume']]\\\n",
    "              .agg({'sku_volume':['count','mean', 'median'],'pack_volume':'mean'}).round()\\\n",
    "              .drop(( 'sku_volume',  'count'), axis=1).plot(kind='bar', figsize=(15, 5), color=['#364F6B', '#3FC1C9', '#6A2C70'])\n",
    "plt.title('Pack class by volume', fontsize=15);"
   ]
  },
  {
   "cell_type": "markdown",
   "id": "02af89b8",
   "metadata": {},
   "source": [
    "Наибольшая разница в объёме упаковок наблюдается по типам с коробками, чем с пакетами, объём коробок сильно превышает объём товаров."
   ]
  },
  {
   "cell_type": "code",
   "execution_count": 72,
   "id": "ad547411",
   "metadata": {},
   "outputs": [
    {
     "data": {
      "text/html": [
       "<div>\n",
       "<style scoped>\n",
       "    .dataframe tbody tr th:only-of-type {\n",
       "        vertical-align: middle;\n",
       "    }\n",
       "\n",
       "    .dataframe tbody tr th {\n",
       "        vertical-align: top;\n",
       "    }\n",
       "\n",
       "    .dataframe thead th {\n",
       "        text-align: right;\n",
       "    }\n",
       "</style>\n",
       "<table border=\"1\" class=\"dataframe\">\n",
       "  <thead>\n",
       "    <tr style=\"text-align: right;\">\n",
       "      <th></th>\n",
       "      <th>min_dim</th>\n",
       "      <th>max_dim</th>\n",
       "      <th>min_sku_dim</th>\n",
       "      <th>max_sku_dim</th>\n",
       "    </tr>\n",
       "    <tr>\n",
       "      <th>pack_class</th>\n",
       "      <th></th>\n",
       "      <th></th>\n",
       "      <th></th>\n",
       "      <th></th>\n",
       "    </tr>\n",
       "  </thead>\n",
       "  <tbody>\n",
       "    <tr>\n",
       "      <th>box</th>\n",
       "      <td>15.23</td>\n",
       "      <td>33.75</td>\n",
       "      <td>6.93</td>\n",
       "      <td>20.58</td>\n",
       "    </tr>\n",
       "    <tr>\n",
       "      <th>nonpack/stretch</th>\n",
       "      <td>0.00</td>\n",
       "      <td>0.00</td>\n",
       "      <td>8.43</td>\n",
       "      <td>27.92</td>\n",
       "    </tr>\n",
       "    <tr>\n",
       "      <th>package</th>\n",
       "      <td>6.61</td>\n",
       "      <td>38.52</td>\n",
       "      <td>5.09</td>\n",
       "      <td>19.24</td>\n",
       "    </tr>\n",
       "  </tbody>\n",
       "</table>\n",
       "</div>"
      ],
      "text/plain": [
       "                 min_dim  max_dim  min_sku_dim  max_sku_dim\n",
       "pack_class                                                 \n",
       "box                15.23    33.75         6.93        20.58\n",
       "nonpack/stretch     0.00     0.00         8.43        27.92\n",
       "package             6.61    38.52         5.09        19.24"
      ]
     },
     "execution_count": 72,
     "metadata": {},
     "output_type": "execute_result"
    }
   ],
   "source": [
    "data_few_goods.groupby('pack_class')[['min_dim', 'max_dim', 'min_sku_dim', 'max_sku_dim']]\\\n",
    "            .agg('mean').round(2)"
   ]
  },
  {
   "cell_type": "code",
   "execution_count": 73,
   "id": "0fbfc9c4",
   "metadata": {
    "scrolled": false
   },
   "outputs": [
    {
     "data": {
      "image/png": "[encoded data removed]",
      "text/plain": [
       "<Figure size 1080x360 with 1 Axes>"
      ]
     },
     "metadata": {},
     "output_type": "display_data"
    }
   ],
   "source": [
    "data_few_goods.groupby('pack_class')[['min_dim', 'max_dim', 'min_sku_dim', 'max_sku_dim']]\\\n",
    "              .agg('mean').round(2)\\\n",
    "              .plot(kind='bar', figsize=(15, 5), color=['#657F4B', '#95A792', '#3B83BD', '#8CCB5E'])\n",
    "plt.title('Pack class by min max', fontsize=15);"
   ]
  },
  {
   "cell_type": "markdown",
   "id": "e8477a54",
   "metadata": {},
   "source": [
    "размеры коробок превышают линейные размеры товаров"
   ]
  },
  {
   "cell_type": "code",
   "execution_count": 74,
   "id": "062cd950",
   "metadata": {},
   "outputs": [
    {
     "data": {
      "text/html": [
       "<div>\n",
       "<style scoped>\n",
       "    .dataframe tbody tr th:only-of-type {\n",
       "        vertical-align: middle;\n",
       "    }\n",
       "\n",
       "    .dataframe tbody tr th {\n",
       "        vertical-align: top;\n",
       "    }\n",
       "\n",
       "    .dataframe thead th {\n",
       "        text-align: right;\n",
       "    }\n",
       "</style>\n",
       "<table border=\"1\" class=\"dataframe\">\n",
       "  <thead>\n",
       "    <tr style=\"text-align: right;\">\n",
       "      <th></th>\n",
       "      <th>count</th>\n",
       "      <th>mean</th>\n",
       "      <th>median</th>\n",
       "    </tr>\n",
       "    <tr>\n",
       "      <th>pack_class</th>\n",
       "      <th></th>\n",
       "      <th></th>\n",
       "      <th></th>\n",
       "    </tr>\n",
       "  </thead>\n",
       "  <tbody>\n",
       "    <tr>\n",
       "      <th>box</th>\n",
       "      <td>22421</td>\n",
       "      <td>0.640164</td>\n",
       "      <td>0.365</td>\n",
       "    </tr>\n",
       "    <tr>\n",
       "      <th>nonpack/stretch</th>\n",
       "      <td>970</td>\n",
       "      <td>1.002407</td>\n",
       "      <td>0.600</td>\n",
       "    </tr>\n",
       "    <tr>\n",
       "      <th>package</th>\n",
       "      <td>31109</td>\n",
       "      <td>0.321071</td>\n",
       "      <td>0.188</td>\n",
       "    </tr>\n",
       "  </tbody>\n",
       "</table>\n",
       "</div>"
      ],
      "text/plain": [
       "                 count      mean  median\n",
       "pack_class                              \n",
       "box              22421  0.640164   0.365\n",
       "nonpack/stretch    970  1.002407   0.600\n",
       "package          31109  0.321071   0.188"
      ]
     },
     "execution_count": 74,
     "metadata": {},
     "output_type": "execute_result"
    }
   ],
   "source": [
    "data_few_goods.groupby('pack_class')['goods_wght'].agg(['count', 'mean', 'median'])"
   ]
  },
  {
   "cell_type": "code",
   "execution_count": 75,
   "id": "4dd64160",
   "metadata": {
    "scrolled": false
   },
   "outputs": [
    {
     "data": {
      "image/png": "[encoded data removed]",
      "text/plain": [
       "<Figure size 1080x360 with 1 Axes>"
      ]
     },
     "metadata": {},
     "output_type": "display_data"
    }
   ],
   "source": [
    "data_few_goods.groupby('pack_class')['goods_wght']\\\n",
    "              .agg(['count', 'mean', 'median'])\\\n",
    "              .drop('count', axis=1).plot(kind='bar', figsize=(15, 5), color=['#DAD871', '#3B83BD'])\n",
    "plt.title('Pack class by weight', fontsize=(17));"
   ]
  },
  {
   "cell_type": "markdown",
   "id": "0a35dc2d",
   "metadata": {},
   "source": [
    "Эти визуализации по товарам показали,что упаковка используется не оптимальным образом. "
   ]
  },
  {
   "cell_type": "markdown",
   "id": "5200153f",
   "metadata": {},
   "source": [
    "## Вывод:  <a id='16'>"
   ]
  },
  {
   "cell_type": "markdown",
   "id": "91245967",
   "metadata": {},
   "source": [
    "Нам были предоставлены  7 файлов содержащие как основную информацию о заказах, так и необходимые характиристики для дальнейшего анализа показателей.\n",
    "\n",
    "Данным не потребовалось дополнительной обработки, типы данных соответстствуют содержанию столбцов. В анализе мы брали только те товары, по которым у нас была информация в основной таблице, рассчитали на основании слияния таблиц дополнительные признаки, такие как: объём товара, объём упаковки, минимальную и максимальную сторону товара используя их линейные размеры и минимальную, максимальную сторону упаковок соответственно.\n",
    "\n",
    "В основном датасете у нас были товары с нулевыми весами в заказах, для проверки, мы вывели их характеристики с помощью таблицы \"sku\" и приняли решение их удалить.\n",
    "\n",
    "Визуализация показала, что самая популярная при формировании заказа упаковка - это пакеты, объём варьируется приблизительно от 1 тыс.см3 до 26 тыс.см3, из чего следует, что более популярны мелкогабаритные товары. По карготипу \"NONPACK\" и \"STRETCH\" объём упаковки идёт нулевой, это связано с тем, что товар просто не нуждался в упаковке и стретч-плёнка идёт как расходный материал, который не имеет объёма, таких товаров в данных и нас около 30 тысяч. В коробки аналогично складывают не большие по размеру товары.\n",
    "\n",
    "Существующий на данный момент алгоритм рекомендательной системы предлагает использовать коробки в большем количестве, чем пакеты, что не целесообразно для бизнеса, так как это приведёт к увеличению расходов на упаковку и увеличит логистические расходы связанные с более не рациональным использованием по объёму упаковки.\n",
    "\n",
    "Далее мы разделили заказы на две основные группы, доля которых была существенной в общем объёме заказов:\n",
    " - заказы с одним товаром\n",
    " - заказы с несколькими заказами\n",
    " \n",
    "\n",
    "В заказах с одним товаром около 73% заказов упаковываются в пакеты, 11% в коробки, а остальные 16% не нуждаются в упаковке, либо упаковываются в стетч-плёнку, по заказам с несколькими товарами немного другой разброс, на первом месте по упаковочному материалу стоят пакеты, однако в них уже более часто используют коробки (около 41%). Чтобы понять причину использования коробок, мы с помощью таблицы с описанием карготипов вывели характеристики товаров и пришли к выводу, что карготипы товаров проставляются в зависимости от характеристик товаров. Причину большего количества коробок мы не знаем, но предполагаем, что они выбираются по усмотрению сотрудника. \n",
    "\n",
    "Визуализация по двум выборкам схожа между собой и мы делаем обобщающий вывод о том, что:\n",
    " - размеры упаковок, превышают размеры товаров, особенно это видно по коробкам\n",
    " - объём упаковок выше, чем объём занимаемый товарами\n",
    " - средний и медианный вес товаров в упаковках различный\n",
    " \n",
    " Исходя из анализа следует, что для улучшения способа подбора и рекомендации пользователю наиболее выгодной для бизнеса упаковки, с учётом веса, объемов и иных характеристик необходимо разработать ML алгоритм ."
   ]
  },
  {
   "cell_type": "code",
   "execution_count": null,
   "id": "a3c31b1a",
   "metadata": {},
   "outputs": [],
   "source": []
  }
 ],
 "metadata": {
  "kernelspec": {
   "display_name": "Python 3 (ipykernel)",
   "language": "python",
   "name": "python3"
  },
  "language_info": {
   "codemirror_mode": {
    "name": "ipython",
    "version": 3
   },
   "file_extension": ".py",
   "mimetype": "text/x-python",
   "name": "python",
   "nbconvert_exporter": "python",
   "pygments_lexer": "ipython3",
   "version": "3.9.12"
  }
 },
 "nbformat": 4,
 "nbformat_minor": 5
}
