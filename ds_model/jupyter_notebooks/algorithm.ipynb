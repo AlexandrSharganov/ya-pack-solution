{
 "cells": [
  {
   "cell_type": "markdown",
   "id": "9f7ab497-419e-4c59-8d6e-4392bdb7fd3c",
   "metadata": {},
   "source": [
    "# Алгоритм подбора упаковки"
   ]
  },
  {
   "cell_type": "code",
   "execution_count": 1,
   "id": "21f4087a-18cc-49d6-85dd-5bcd012688d8",
   "metadata": {},
   "outputs": [],
   "source": [
    "import json\n",
    "import os\n",
    "# from utils import get_cheapest"
   ]
  },
  {
   "cell_type": "markdown",
   "id": "8e5da08e-76d5-4a50-bc7d-908260313d1a",
   "metadata": {},
   "source": [
    "### Функция helper выполняет подбор упаковки, основываясь на размерах товара и известных границах для размеров каждой упаковки"
   ]
  },
  {
   "cell_type": "code",
   "execution_count": 2,
   "id": "641d2195-0b84-4e97-b149-3df1fee1c10f",
   "metadata": {},
   "outputs": [],
   "source": [
    "def helper(dt: dict,\n",
    "           sorted_abc: list,\n",
    "           total_volume: float) -> list:\n",
    "    \"\"\"Select packs that fits for the goods\"\"\"\n",
    "\n",
    "    rec_pack = []\n",
    "    for pack in dt:\n",
    "        if ((dt[pack]['borders'][0][0] <= sorted_abc[0] <= dt[pack]['borders'][0][1])\n",
    "                and (dt[pack]['borders'][1][0] <= sorted_abc[1] <= dt[pack]['borders'][1][1])\n",
    "                and (dt[pack]['borders'][2][0] <= sorted_abc[2] <= dt[pack]['borders'][2][1])\n",
    "                and (dt[pack]['vol_borders'][0] <= total_volume <= dt[pack]['vol_borders'][1])):\n",
    "            rec_pack.append(pack)\n",
    "    return rec_pack"
   ]
  },
  {
   "cell_type": "markdown",
   "id": "e473442c-c2cf-4b8f-b7cd-0c9ec7556e4b",
   "metadata": {},
   "source": [
    "### Функция packer принимает несколько товаров, после чего \"складывает\" их оптимальным образом "
   ]
  },
  {
   "cell_type": "code",
   "execution_count": 3,
   "id": "adb75c3c-310a-4813-add4-bbea867ed090",
   "metadata": {},
   "outputs": [],
   "source": [
    "def packer(items: list,\n",
    "           dt:dict) -> list:\n",
    "    \"\"\"функция упаковщика\"\"\"\n",
    "\n",
    "    # здесь все по старому\n",
    "    sorted_abc_temp = []\n",
    "\n",
    "    # считаю общие размерности\n",
    "    for sku in range(len(items)):\n",
    "        sorted_abc_temp.append(sorted([items[sku]['a'],\n",
    "                                       items[sku]['b'],\n",
    "                                       items[sku]['c']]))\n",
    "        # sorted_abc_temp[sku][0] *= items[sku]['count']#  вот это больше не нужно тк количество все время == 1\n",
    "\n",
    "    # если не пустой результат – сортирую\n",
    "    sorted_abc = [] if not sorted_abc_temp else sorted(sorted_abc_temp[0])\n",
    "\n",
    "    # складываю друг к другу\n",
    "    for i in range(1, len(sorted_abc_temp)):\n",
    "        sorted_abc[0] += sorted(sorted_abc_temp[i])[0]\n",
    "        sorted_abc[1] = max(sorted_abc_temp[i][1], sorted_abc[1])\n",
    "        sorted_abc[2] = max(sorted_abc_temp[i][2], sorted_abc[2])\n",
    "\n",
    "    # опять же если не пустой – считаю объем и возвращаю результат найденных упаковок\n",
    "    if sorted_abc:\n",
    "        total_volume = sorted_abc[0] * sorted_abc[1] * sorted_abc[2]\n",
    "        return helper(dt, sorted_abc, total_volume)[:]\n",
    "\n",
    "    # если считать было нечего – возвращаю пустоту\n",
    "    return []"
   ]
  },
  {
   "cell_type": "markdown",
   "id": "bdc5a2f1-27e1-489c-bf82-cb9cf2d87ecf",
   "metadata": {},
   "source": [
    "### Функция splitter разделяет несколько товаров на более мелкие группы, если для них всех не нашлось упаковки, куда они все влезли бы"
   ]
  },
  {
   "cell_type": "code",
   "execution_count": 4,
   "id": "7cc6d83c-dc69-41fa-a268-ccb1fc12f696",
   "metadata": {},
   "outputs": [],
   "source": [
    "def splitter(base: list,\n",
    "             data: dict) -> tuple:\n",
    "    \"\"\"функция разбивает на тех, кому есть упаковка, и кто не влез\"\"\"\n",
    "\n",
    "    # список для тех кто не влез\n",
    "    add_pack = []\n",
    "    dt = data[4] if len(base) > 4 else data[len(base)]\n",
    "    # получаем список подходящих упаковок для данных\n",
    "    result = packer(base[:], dt)\n",
    "\n",
    "    # если упаковок не нашлось и еще осталось что перекладывать – начинаем перекладывать\n",
    "    while (not result) and base:\n",
    "        # кладем в список тех что не влезают\n",
    "        add_pack.append(base.pop())\n",
    "        dt = data[4] if len(base) > 4 else data[len(base)]\n",
    "        # и снова пытаемся найти упаковку оставшимся\n",
    "        result = packer(base[:], dt)\n",
    "\n",
    "    # возвращаем полученную упаковку и список тех которые не влезли\n",
    "    return result[:], add_pack[:]"
   ]
  },
  {
   "cell_type": "markdown",
   "id": "290fad5d-b23c-4ee3-8fd3-e64dfb259be5",
   "metadata": {},
   "source": [
    "### Функция get_packed является основной функцией, вызывающей все вспомогательные – она принимает и считывает данные, после всех вычислений отдает список подходящий упаковок"
   ]
  },
  {
   "cell_type": "code",
   "execution_count": 5,
   "id": "aec7ad7c-e027-4c3c-9b2b-b9ef88d69df0",
   "metadata": {},
   "outputs": [],
   "source": [
    "def get_packed(jsn: dict) -> tuple:\n",
    "    \"\"\"функция основная, делает всю работу\"\"\"\n",
    "\n",
    "    # финальный список упаковок\n",
    "    final = []\n",
    "    # вот тут json считываю один раз, но обращаться к нему будем по-разному\n",
    "    data = json.load(open(f'{os.getcwd()}/ds_model/models/'\n",
    "                          f'borders_data.json', 'r'))['data']\n",
    "\n",
    "\n",
    "    # получаем список тех, что влезают в одну упаковку\n",
    "    # и тех, что не влезли\n",
    "    items = get_items_list(jsn)\n",
    "    result, adds = splitter(items[:], data)\n",
    "\n",
    "    # если в списке есть те, что влезают, добавляем\n",
    "    if result:\n",
    "        final.append(result)\n",
    "\n",
    "    # пока они присутствуют, пытаемся найти упаковки и для тех что не влезли\n",
    "    while adds:\n",
    "        # теперь новым списком упаковок становятся те, что не влезли в предыдущую\n",
    "        # с ними проделываем ту же историю\n",
    "        result, adds = splitter(adds[:], data)\n",
    "        # если для них нашлась упаковка, добавляем\n",
    "        if result:\n",
    "            final.append(result)\n",
    "\n",
    "    return tuple(final)"
   ]
  },
  {
   "cell_type": "markdown",
   "id": "a7fc6a3e-b997-432a-b350-e3f0a774bfb8",
   "metadata": {},
   "source": [
    "### Функция get_items_list создает список из товаров для удобной работы"
   ]
  },
  {
   "cell_type": "code",
   "execution_count": 6,
   "id": "682e745a-ebb5-4979-8c3c-3ac3f749a50c",
   "metadata": {},
   "outputs": [],
   "source": [
    "def get_items_list(jsn: dict) -> list:\n",
    "    \"\"\"Переделываю список товаров в список их же с количеством 1 чтобы выкидывать по одному\n",
    "    и дальше работаем только с ним\"\"\"\n",
    "    items = []\n",
    "    for item in jsn['items'][:]:\n",
    "        item = item.copy()\n",
    "        item['count'], count = 1, item['count']\n",
    "        items += [item] * count\n",
    "    return items"
   ]
  },
  {
   "cell_type": "markdown",
   "id": "08a87e95-900c-4fd9-92d6-f23b1edb097b",
   "metadata": {},
   "source": [
    "### Функция from_output создает вывод данных для ответа серверу"
   ]
  },
  {
   "cell_type": "code",
   "execution_count": 7,
   "id": "e522ecb2-ee87-4467-a95d-4f5e2dffb097",
   "metadata": {},
   "outputs": [],
   "source": [
    "def form_output(jsn: dict) -> list:\n",
    "\n",
    "    result = [get_cheapest(packs) for packs in\n",
    "              get_packed(jsn.copy())]\n",
    "    packs = {pack: result.count(pack) for pack in set(result)}\n",
    "\n",
    "    return [{\"package\": pack,\n",
    "            \"amount\": packs[pack]} for pack in packs]"
   ]
  }
 ],
 "metadata": {
  "kernelspec": {
   "display_name": "Python 3",
   "language": "python",
   "name": "python3"
  },
  "language_info": {
   "codemirror_mode": {
    "name": "ipython",
    "version": 3
   },
   "file_extension": ".py",
   "mimetype": "text/x-python",
   "name": "python",
   "nbconvert_exporter": "python",
   "pygments_lexer": "ipython3",
   "version": "3.8.8"
  }
 },
 "nbformat": 4,
 "nbformat_minor": 5
}
