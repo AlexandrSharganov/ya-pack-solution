{
 "cells": [
  {
   "cell_type": "markdown",
   "id": "1dcd2d3c-12bb-4978-befc-6cf31e8bac2b",
   "metadata": {},
   "source": [
    "# Один заказ - два или три товара"
   ]
  },
  {
   "cell_type": "code",
   "execution_count": 119,
   "id": "6af098d9-3642-46e1-a892-b157c6d9bdbe",
   "metadata": {
    "tags": []
   },
   "outputs": [],
   "source": [
    "import pandas as pd\n",
    "import numpy as np\n",
    "\n",
    "from sklearn.model_selection import cross_validate, train_test_split\n",
    "from sklearn.model_selection import StratifiedKFold\n",
    "from sklearn.metrics import mean_absolute_percentage_error as mape\n",
    "from sklearn.utils.class_weight import compute_class_weight\n",
    "\n",
    "import matplotlib.pyplot as plt\n",
    "import seaborn as sns\n",
    "\n",
    "import catboost\n",
    "from tqdm.notebook import tqdm\n",
    "\n",
    "import warnings\n",
    "\n",
    "warnings.filterwarnings('ignore')\n",
    "sns.set(rc={'figure.figsize':(10,6)}, style=\"darkgrid\")\n",
    "pd.options.display.max_columns = 100\n",
    "pd.options.display.max_rows = 100"
   ]
  },
  {
   "cell_type": "markdown",
   "id": "3529d8b6-4822-41ff-948f-ebaadbee8898",
   "metadata": {},
   "source": [
    "Чтение данных"
   ]
  },
  {
   "cell_type": "code",
   "execution_count": 120,
   "id": "84b4b279-9898-474c-959c-2c36237d7775",
   "metadata": {
    "tags": []
   },
   "outputs": [],
   "source": [
    "data = pd.read_csv('data/data.csv', index_col=0)\\\n",
    "        .drop(['whs', 'selected_carton', 'sel_calc_cube', 'recommended_carton',\n",
    "              'pack_volume', 'rec_calc_cube', 'who', 'trackingid', 'recommended_cartontype'], axis=1)\n",
    "cargotype = pd.read_csv('data/cargotype_sort.csv', index_col=0)\n",
    "sku_cargotypes = pd.read_csv('data/sku_cargotypes_filtered.csv')#только sku которые есть в data\n",
    "sku = pd.read_csv('data/sku_filtered.csv')#только sku которые есть в data\n",
    "sku['sku_vol'] = sku['a'] * sku['b'] * sku['c']"
   ]
  },
  {
   "cell_type": "markdown",
   "id": "001c9b9e-df97-4e51-af1f-5b235a0c31fd",
   "metadata": {},
   "source": [
    "Как было выяснено в исследовательском анализе данных, у нас больше 20% заказов состоящие из 2-3 товаров. Для таких заказов построим отдельную модель классификации. "
   ]
  },
  {
   "cell_type": "code",
   "execution_count": 121,
   "id": "8a43b29b-5002-48c0-b88e-2b87a97532a2",
   "metadata": {
    "tags": []
   },
   "outputs": [
    {
     "data": {
      "text/html": [
       "<div>\n",
       "<style scoped>\n",
       "    .dataframe tbody tr th:only-of-type {\n",
       "        vertical-align: middle;\n",
       "    }\n",
       "\n",
       "    .dataframe tbody tr th {\n",
       "        vertical-align: top;\n",
       "    }\n",
       "\n",
       "    .dataframe thead th {\n",
       "        text-align: right;\n",
       "    }\n",
       "</style>\n",
       "<table border=\"1\" class=\"dataframe\">\n",
       "  <thead>\n",
       "    <tr style=\"text-align: right;\">\n",
       "      <th></th>\n",
       "      <th>goods_amount</th>\n",
       "      <th>share</th>\n",
       "    </tr>\n",
       "  </thead>\n",
       "  <tbody>\n",
       "    <tr>\n",
       "      <th>0</th>\n",
       "      <td>1</td>\n",
       "      <td>0.650</td>\n",
       "    </tr>\n",
       "    <tr>\n",
       "      <th>1</th>\n",
       "      <td>2</td>\n",
       "      <td>0.167</td>\n",
       "    </tr>\n",
       "    <tr>\n",
       "      <th>2</th>\n",
       "      <td>3</td>\n",
       "      <td>0.065</td>\n",
       "    </tr>\n",
       "    <tr>\n",
       "      <th>3</th>\n",
       "      <td>4</td>\n",
       "      <td>0.040</td>\n",
       "    </tr>\n",
       "    <tr>\n",
       "      <th>4</th>\n",
       "      <td>5</td>\n",
       "      <td>0.024</td>\n",
       "    </tr>\n",
       "    <tr>\n",
       "      <th>5</th>\n",
       "      <td>6</td>\n",
       "      <td>0.016</td>\n",
       "    </tr>\n",
       "    <tr>\n",
       "      <th>6</th>\n",
       "      <td>7</td>\n",
       "      <td>0.008</td>\n",
       "    </tr>\n",
       "    <tr>\n",
       "      <th>7</th>\n",
       "      <td>8</td>\n",
       "      <td>0.006</td>\n",
       "    </tr>\n",
       "    <tr>\n",
       "      <th>8</th>\n",
       "      <td>10</td>\n",
       "      <td>0.006</td>\n",
       "    </tr>\n",
       "    <tr>\n",
       "      <th>9</th>\n",
       "      <td>9</td>\n",
       "      <td>0.004</td>\n",
       "    </tr>\n",
       "  </tbody>\n",
       "</table>\n",
       "</div>"
      ],
      "text/plain": [
       "   goods_amount  share\n",
       "0             1  0.650\n",
       "1             2  0.167\n",
       "2             3  0.065\n",
       "3             4  0.040\n",
       "4             5  0.024\n",
       "5             6  0.016\n",
       "6             7  0.008\n",
       "7             8  0.006\n",
       "8            10  0.006\n",
       "9             9  0.004"
      ]
     },
     "execution_count": 121,
     "metadata": {},
     "output_type": "execute_result"
    }
   ],
   "source": [
    "round(data.groupby('orderkey')['sku'].count().value_counts(normalize=True)\n",
    "            .head(10).reset_index().rename({'index':'goods_amount',\n",
    "                                           'sku': 'share'}, axis=1),3)"
   ]
  },
  {
   "cell_type": "markdown",
   "id": "a9d71103-ad4e-4362-bd42-92e78f2535dd",
   "metadata": {},
   "source": [
    "Отберем нужные заказы"
   ]
  },
  {
   "cell_type": "code",
   "execution_count": 122,
   "id": "ea7b792a-7996-4cf5-99a8-b5d02899d88a",
   "metadata": {
    "tags": []
   },
   "outputs": [
    {
     "data": {
      "text/plain": [
       "(37083, 153355, 159899)"
      ]
     },
     "execution_count": 122,
     "metadata": {},
     "output_type": "execute_result"
    }
   ],
   "source": [
    "# заказы с несколькими товарами(2-3)\n",
    "orders_few_items = data.groupby('orderkey')['sku'].count()\\\n",
    "                .reset_index().query('sku!=1 & sku <4')['orderkey'].to_list()\n",
    "\n",
    "# заказы где box_num имеет только одно уникальное значение\n",
    "orders_one_box = data.groupby('orderkey')['box_num'].nunique()\\\n",
    "                .reset_index().query('box_num==1')['orderkey'].to_list()\n",
    "\n",
    "len(orders_few_items), len(orders_one_box), data.orderkey.nunique()"
   ]
  },
  {
   "cell_type": "code",
   "execution_count": 123,
   "id": "d2aced80-6b23-4dde-92d2-90b8d06e670c",
   "metadata": {
    "tags": []
   },
   "outputs": [],
   "source": [
    "#заказы где несколько товаров но все в одной коробке\n",
    "data_few_goods = data[(data.orderkey.isin(orders_few_items))&(data.orderkey.isin(orders_one_box))]\n",
    "\n",
    "#есть несколько заказов(всего 736 строк) где box_num не 1, отбросим их, скорее всего какая-то ошибка выгрузки \n",
    "data_few_goods = data_few_goods[data_few_goods.box_num == 1]"
   ]
  },
  {
   "cell_type": "markdown",
   "id": "06a65541-adbc-47ee-9532-377f318e74a4",
   "metadata": {},
   "source": [
    "Добавим размеры товаров и число товаров в заказе"
   ]
  },
  {
   "cell_type": "code",
   "execution_count": 124,
   "id": "e810565d-f2f3-4c57-aa05-59973db32044",
   "metadata": {
    "tags": []
   },
   "outputs": [],
   "source": [
    "data_few_goods = data_few_goods.merge(sku, on='sku', how='left').dropna()\n",
    "data_few_goods = data_few_goods.merge(\n",
    "    data_few_goods.groupby('orderkey')['sku']\\\n",
    "    .count().reset_index().rename({'sku':'sku_count'}, axis=1),\n",
    "    on='orderkey', how='left'\n",
    "    )"
   ]
  },
  {
   "cell_type": "code",
   "execution_count": 125,
   "id": "7d4b2b52-af51-4576-9a14-b4fe0ea28c92",
   "metadata": {
    "tags": []
   },
   "outputs": [
    {
     "data": {
      "text/html": [
       "<div>\n",
       "<style scoped>\n",
       "    .dataframe tbody tr th:only-of-type {\n",
       "        vertical-align: middle;\n",
       "    }\n",
       "\n",
       "    .dataframe tbody tr th {\n",
       "        vertical-align: top;\n",
       "    }\n",
       "\n",
       "    .dataframe thead th {\n",
       "        text-align: right;\n",
       "    }\n",
       "</style>\n",
       "<table border=\"1\" class=\"dataframe\">\n",
       "  <thead>\n",
       "    <tr style=\"text-align: right;\">\n",
       "      <th></th>\n",
       "      <th>orderkey</th>\n",
       "      <th>selected_cartontype</th>\n",
       "      <th>box_num</th>\n",
       "      <th>goods_wght</th>\n",
       "      <th>sku</th>\n",
       "      <th>a</th>\n",
       "      <th>b</th>\n",
       "      <th>c</th>\n",
       "      <th>sku_vol</th>\n",
       "      <th>sku_count</th>\n",
       "    </tr>\n",
       "  </thead>\n",
       "  <tbody>\n",
       "    <tr>\n",
       "      <th>0</th>\n",
       "      <td>697bc0759d93e89ca047e59b8b7459dd</td>\n",
       "      <td>YME</td>\n",
       "      <td>1</td>\n",
       "      <td>0.271</td>\n",
       "      <td>45a12fc8954297bebfea4c8ac34a5f67</td>\n",
       "      <td>15.2</td>\n",
       "      <td>4.6</td>\n",
       "      <td>9.1</td>\n",
       "      <td>636.272</td>\n",
       "      <td>3</td>\n",
       "    </tr>\n",
       "    <tr>\n",
       "      <th>1</th>\n",
       "      <td>697bc0759d93e89ca047e59b8b7459dd</td>\n",
       "      <td>YME</td>\n",
       "      <td>1</td>\n",
       "      <td>0.335</td>\n",
       "      <td>f019ec008b87ea304aba9d081281d93b</td>\n",
       "      <td>24.8</td>\n",
       "      <td>3.6</td>\n",
       "      <td>37.7</td>\n",
       "      <td>3365.856</td>\n",
       "      <td>3</td>\n",
       "    </tr>\n",
       "    <tr>\n",
       "      <th>2</th>\n",
       "      <td>8c5b42304846e8b9cd90ea9e90e8e739</td>\n",
       "      <td>YME</td>\n",
       "      <td>1</td>\n",
       "      <td>0.300</td>\n",
       "      <td>de5fe5c43c07d5f39c3a92ac8fc43f51</td>\n",
       "      <td>20.0</td>\n",
       "      <td>10.0</td>\n",
       "      <td>20.0</td>\n",
       "      <td>4000.000</td>\n",
       "      <td>2</td>\n",
       "    </tr>\n",
       "    <tr>\n",
       "      <th>3</th>\n",
       "      <td>8c5b42304846e8b9cd90ea9e90e8e739</td>\n",
       "      <td>YME</td>\n",
       "      <td>1</td>\n",
       "      <td>0.710</td>\n",
       "      <td>fc91f8fe3ebb528f4a47512e6547bf61</td>\n",
       "      <td>42.0</td>\n",
       "      <td>9.0</td>\n",
       "      <td>31.0</td>\n",
       "      <td>11718.000</td>\n",
       "      <td>2</td>\n",
       "    </tr>\n",
       "    <tr>\n",
       "      <th>4</th>\n",
       "      <td>5ad381fd4097972e3b2ca9edfc51f6ac</td>\n",
       "      <td>YML</td>\n",
       "      <td>1</td>\n",
       "      <td>0.400</td>\n",
       "      <td>4128e7daa8fbe08603251c658aa19c02</td>\n",
       "      <td>25.0</td>\n",
       "      <td>23.0</td>\n",
       "      <td>34.0</td>\n",
       "      <td>19550.000</td>\n",
       "      <td>2</td>\n",
       "    </tr>\n",
       "  </tbody>\n",
       "</table>\n",
       "</div>"
      ],
      "text/plain": [
       "                           orderkey selected_cartontype  box_num  goods_wght  \\\n",
       "0  697bc0759d93e89ca047e59b8b7459dd                 YME        1       0.271   \n",
       "1  697bc0759d93e89ca047e59b8b7459dd                 YME        1       0.335   \n",
       "2  8c5b42304846e8b9cd90ea9e90e8e739                 YME        1       0.300   \n",
       "3  8c5b42304846e8b9cd90ea9e90e8e739                 YME        1       0.710   \n",
       "4  5ad381fd4097972e3b2ca9edfc51f6ac                 YML        1       0.400   \n",
       "\n",
       "                                sku     a     b     c    sku_vol  sku_count  \n",
       "0  45a12fc8954297bebfea4c8ac34a5f67  15.2   4.6   9.1    636.272          3  \n",
       "1  f019ec008b87ea304aba9d081281d93b  24.8   3.6  37.7   3365.856          3  \n",
       "2  de5fe5c43c07d5f39c3a92ac8fc43f51  20.0  10.0  20.0   4000.000          2  \n",
       "3  fc91f8fe3ebb528f4a47512e6547bf61  42.0   9.0  31.0  11718.000          2  \n",
       "4  4128e7daa8fbe08603251c658aa19c02  25.0  23.0  34.0  19550.000          2  "
      ]
     },
     "execution_count": 125,
     "metadata": {},
     "output_type": "execute_result"
    }
   ],
   "source": [
    "data_few_goods.head()"
   ]
  },
  {
   "cell_type": "code",
   "execution_count": 9,
   "id": "453428f9-e355-4dde-9c78-06a874348015",
   "metadata": {
    "tags": []
   },
   "outputs": [
    {
     "name": "stdout",
     "output_type": "stream",
     "text": [
      "Two goods: 23263, three goods: 8985\n"
     ]
    }
   ],
   "source": [
    "data_two = (data_few_goods[data_few_goods.sku_count==2]\n",
    "            .drop(['sku_count', 'box_num'], axis=1).copy())\n",
    "\n",
    "data_three = (data_few_goods[data_few_goods.sku_count==3]\n",
    "            .drop(['sku_count', 'box_num'], axis=1).copy())\n",
    "\n",
    "print(f'Two goods: {data_two.orderkey.nunique()}, three goods: {data_three.orderkey.nunique()}')"
   ]
  },
  {
   "cell_type": "markdown",
   "id": "ca52b1d4-6a16-4673-8800-3fe0ceb9d0d4",
   "metadata": {},
   "source": [
    "Количество заказов по количествую уникальных sku в них"
   ]
  },
  {
   "cell_type": "code",
   "execution_count": 10,
   "id": "991f9063-e6e2-466f-ad0d-056bb02e60f4",
   "metadata": {
    "tags": []
   },
   "outputs": [
    {
     "data": {
      "text/plain": [
       "2    12919\n",
       "1    10344\n",
       "Name: sku, dtype: int64"
      ]
     },
     "execution_count": 10,
     "metadata": {},
     "output_type": "execute_result"
    }
   ],
   "source": [
    "data_two.groupby('orderkey')['sku'].nunique().value_counts()"
   ]
  },
  {
   "cell_type": "code",
   "execution_count": 11,
   "id": "4430bb01-94de-4650-98e3-7731928f92d3",
   "metadata": {
    "tags": []
   },
   "outputs": [
    {
     "data": {
      "text/plain": [
       "3    3823\n",
       "1    2758\n",
       "2    2404\n",
       "Name: sku, dtype: int64"
      ]
     },
     "execution_count": 11,
     "metadata": {},
     "output_type": "execute_result"
    }
   ],
   "source": [
    "data_three.groupby('orderkey')['sku'].nunique().value_counts()"
   ]
  },
  {
   "cell_type": "markdown",
   "id": "08956a41-b929-4ced-99e1-a977a28d0d20",
   "metadata": {},
   "source": [
    "### Два товара в заказе"
   ]
  },
  {
   "cell_type": "markdown",
   "id": "ed275044-26c4-4a60-9248-6d4e4b6eb0e5",
   "metadata": {},
   "source": [
    "Для создания матрицы признаков на которой будут обучаться модели, преобразуем данные о товаарх в заказе из длинного в широкий формат. При этом будем сортировать товары по объему и для каждого товара отсортируем его линейные размеры. "
   ]
  },
  {
   "cell_type": "code",
   "execution_count": 12,
   "id": "a44a40f5-7479-49aa-bd18-6a795debe80e",
   "metadata": {
    "tags": []
   },
   "outputs": [
    {
     "data": {
      "application/vnd.jupyter.widget-view+json": {
       "model_id": "3b3813df5a2a4166a8c827b65ff6e485",
       "version_major": 2,
       "version_minor": 0
      },
      "text/plain": [
       "  0%|          | 0/23263 [00:00<?, ?it/s]"
      ]
     },
     "metadata": {},
     "output_type": "display_data"
    }
   ],
   "source": [
    "#все заказы будут лежать в этом списке\n",
    "dt = []\n",
    "\n",
    "for order in tqdm(data_two.orderkey.unique()): #беру каждый заказ\n",
    "    order_features = [order] #закидываю в пустой список ключ заказа\n",
    "    t = data_two[data_two.orderkey==order] #это датафрейм с этим заказом\n",
    "    for _, sku in t.sort_values(by='sku_vol').iterrows(): #пробегаюсь по каждой строке отсортированнного датайрейма\n",
    "        sku = sku.to_dict()\n",
    "        dims = sorted([sku['a'],sku['b'],sku['c']], reverse=True)\n",
    "        order_features+= [sku['goods_wght'], # и закидываю фичи\n",
    "                          dims[0],\n",
    "                          dims[1],\n",
    "                          dims[2],\n",
    "                          sku['sku_vol']]\n",
    "    order_features.append(t.selected_cartontype.unique()[0])#в конце закидываю упаковку которую выбрал упаковщик\n",
    "    dt.append(order_features)"
   ]
  },
  {
   "cell_type": "code",
   "execution_count": 13,
   "id": "c17c1969-9d0b-4aea-8e0d-bf09b55a3240",
   "metadata": {
    "tags": []
   },
   "outputs": [
    {
     "data": {
      "text/html": [
       "<div>\n",
       "<style scoped>\n",
       "    .dataframe tbody tr th:only-of-type {\n",
       "        vertical-align: middle;\n",
       "    }\n",
       "\n",
       "    .dataframe tbody tr th {\n",
       "        vertical-align: top;\n",
       "    }\n",
       "\n",
       "    .dataframe thead th {\n",
       "        text-align: right;\n",
       "    }\n",
       "</style>\n",
       "<table border=\"1\" class=\"dataframe\">\n",
       "  <thead>\n",
       "    <tr style=\"text-align: right;\">\n",
       "      <th></th>\n",
       "      <th>orderkey</th>\n",
       "      <th>wght1</th>\n",
       "      <th>a1</th>\n",
       "      <th>b1</th>\n",
       "      <th>c1</th>\n",
       "      <th>sku_vol1</th>\n",
       "      <th>wght2</th>\n",
       "      <th>a2</th>\n",
       "      <th>b2</th>\n",
       "      <th>c2</th>\n",
       "      <th>sku_vol2</th>\n",
       "      <th>selected_cartontype</th>\n",
       "      <th>total_vol</th>\n",
       "      <th>total_wght</th>\n",
       "      <th>min_dim</th>\n",
       "      <th>max_dim</th>\n",
       "    </tr>\n",
       "  </thead>\n",
       "  <tbody>\n",
       "    <tr>\n",
       "      <th>0</th>\n",
       "      <td>8c5b42304846e8b9cd90ea9e90e8e739</td>\n",
       "      <td>0.300</td>\n",
       "      <td>20.0</td>\n",
       "      <td>20.0</td>\n",
       "      <td>10.0</td>\n",
       "      <td>4000.00</td>\n",
       "      <td>0.71</td>\n",
       "      <td>42.0</td>\n",
       "      <td>31.0</td>\n",
       "      <td>9.0</td>\n",
       "      <td>11718.0</td>\n",
       "      <td>YME</td>\n",
       "      <td>15718.00</td>\n",
       "      <td>1.010</td>\n",
       "      <td>9.0</td>\n",
       "      <td>42.0</td>\n",
       "    </tr>\n",
       "    <tr>\n",
       "      <th>1</th>\n",
       "      <td>5ad381fd4097972e3b2ca9edfc51f6ac</td>\n",
       "      <td>0.400</td>\n",
       "      <td>34.0</td>\n",
       "      <td>25.0</td>\n",
       "      <td>23.0</td>\n",
       "      <td>19550.00</td>\n",
       "      <td>0.40</td>\n",
       "      <td>34.0</td>\n",
       "      <td>25.0</td>\n",
       "      <td>23.0</td>\n",
       "      <td>19550.0</td>\n",
       "      <td>YML</td>\n",
       "      <td>39100.00</td>\n",
       "      <td>0.800</td>\n",
       "      <td>23.0</td>\n",
       "      <td>34.0</td>\n",
       "    </tr>\n",
       "    <tr>\n",
       "      <th>2</th>\n",
       "      <td>9995eab549a13749c96a4dcad23ea0c6</td>\n",
       "      <td>0.600</td>\n",
       "      <td>25.0</td>\n",
       "      <td>8.0</td>\n",
       "      <td>7.0</td>\n",
       "      <td>1400.00</td>\n",
       "      <td>0.60</td>\n",
       "      <td>25.0</td>\n",
       "      <td>8.0</td>\n",
       "      <td>7.0</td>\n",
       "      <td>1400.0</td>\n",
       "      <td>MYC</td>\n",
       "      <td>2800.00</td>\n",
       "      <td>1.200</td>\n",
       "      <td>7.0</td>\n",
       "      <td>25.0</td>\n",
       "    </tr>\n",
       "    <tr>\n",
       "      <th>3</th>\n",
       "      <td>a6484ed8f8afb062f95b504b694984e1</td>\n",
       "      <td>0.090</td>\n",
       "      <td>13.0</td>\n",
       "      <td>8.0</td>\n",
       "      <td>5.0</td>\n",
       "      <td>520.00</td>\n",
       "      <td>0.09</td>\n",
       "      <td>13.0</td>\n",
       "      <td>8.0</td>\n",
       "      <td>5.0</td>\n",
       "      <td>520.0</td>\n",
       "      <td>MYB</td>\n",
       "      <td>1040.00</td>\n",
       "      <td>0.180</td>\n",
       "      <td>5.0</td>\n",
       "      <td>13.0</td>\n",
       "    </tr>\n",
       "    <tr>\n",
       "      <th>4</th>\n",
       "      <td>622837253c2b6c80230502b4b3f3f670</td>\n",
       "      <td>0.851</td>\n",
       "      <td>24.0</td>\n",
       "      <td>16.1</td>\n",
       "      <td>5.8</td>\n",
       "      <td>2241.12</td>\n",
       "      <td>0.30</td>\n",
       "      <td>20.0</td>\n",
       "      <td>16.0</td>\n",
       "      <td>8.0</td>\n",
       "      <td>2560.0</td>\n",
       "      <td>MYD</td>\n",
       "      <td>4801.12</td>\n",
       "      <td>1.151</td>\n",
       "      <td>5.8</td>\n",
       "      <td>24.0</td>\n",
       "    </tr>\n",
       "  </tbody>\n",
       "</table>\n",
       "</div>"
      ],
      "text/plain": [
       "                           orderkey  wght1    a1    b1    c1  sku_vol1  wght2  \\\n",
       "0  8c5b42304846e8b9cd90ea9e90e8e739  0.300  20.0  20.0  10.0   4000.00   0.71   \n",
       "1  5ad381fd4097972e3b2ca9edfc51f6ac  0.400  34.0  25.0  23.0  19550.00   0.40   \n",
       "2  9995eab549a13749c96a4dcad23ea0c6  0.600  25.0   8.0   7.0   1400.00   0.60   \n",
       "3  a6484ed8f8afb062f95b504b694984e1  0.090  13.0   8.0   5.0    520.00   0.09   \n",
       "4  622837253c2b6c80230502b4b3f3f670  0.851  24.0  16.1   5.8   2241.12   0.30   \n",
       "\n",
       "     a2    b2    c2  sku_vol2 selected_cartontype  total_vol  total_wght  \\\n",
       "0  42.0  31.0   9.0   11718.0                 YME   15718.00       1.010   \n",
       "1  34.0  25.0  23.0   19550.0                 YML   39100.00       0.800   \n",
       "2  25.0   8.0   7.0    1400.0                 MYC    2800.00       1.200   \n",
       "3  13.0   8.0   5.0     520.0                 MYB    1040.00       0.180   \n",
       "4  20.0  16.0   8.0    2560.0                 MYD    4801.12       1.151   \n",
       "\n",
       "   min_dim  max_dim  \n",
       "0      9.0     42.0  \n",
       "1     23.0     34.0  \n",
       "2      7.0     25.0  \n",
       "3      5.0     13.0  \n",
       "4      5.8     24.0  "
      ]
     },
     "execution_count": 13,
     "metadata": {},
     "output_type": "execute_result"
    }
   ],
   "source": [
    "#все закидываю в датафрейм, колонки соответственно по порядку\n",
    "df_features = pd.DataFrame(dt, columns=[\n",
    "    'orderkey', \n",
    "    'wght1', 'a1','b1','c1', 'sku_vol1', \n",
    "    'wght2', 'a2','b2','c2', 'sku_vol2',\n",
    "    'selected_cartontype'\n",
    "])\n",
    "# доп фичи - общий объем и вес, минимальные и максимальные размеры из обоих товаров\n",
    "df_features['total_vol'] = df_features['sku_vol1'] + df_features['sku_vol2']\n",
    "df_features['total_wght'] = df_features['wght1'] + df_features['wght2']\n",
    "df_features['min_dim'] = df_features[['a1','b1', 'c1','a2','b2','c2']].min(axis=1)\n",
    "df_features['max_dim'] = df_features[['a1','b1', 'c1','a2','b2','c2']].max(axis=1)\n",
    "df_features.head()"
   ]
  },
  {
   "cell_type": "code",
   "execution_count": 14,
   "id": "395ce5e3-6c56-4d4a-9392-02aebe3a3947",
   "metadata": {
    "tags": []
   },
   "outputs": [
    {
     "data": {
      "text/plain": [
       "3029"
      ]
     },
     "execution_count": 14,
     "metadata": {},
     "output_type": "execute_result"
    }
   ],
   "source": [
    "#дубликаты по заказам у которых отличается только orderkey\n",
    "df_features.drop('orderkey', axis=1).duplicated().sum()"
   ]
  },
  {
   "cell_type": "code",
   "execution_count": 15,
   "id": "04279cd2-03c1-41c1-a532-4491f439b304",
   "metadata": {
    "tags": []
   },
   "outputs": [],
   "source": [
    "# их точно убираем\n",
    "df_features = df_features[~df_features.drop('orderkey', axis=1).duplicated()]"
   ]
  },
  {
   "cell_type": "code",
   "execution_count": 18,
   "id": "cc1494b1-1fd0-49d1-9d2e-1e1545593730",
   "metadata": {
    "tags": []
   },
   "outputs": [],
   "source": [
    "# дубликаты в заказах где все признаки одинаковые, но отличаются selected_cartontype\n",
    "df_features = df_features[~df_features.drop(['orderkey', 'selected_cartontype'], \n",
    "                                           axis=1).duplicated(keep='first')]"
   ]
  },
  {
   "cell_type": "markdown",
   "id": "aa67bd01-344c-4e8a-970e-fb6b99668a0b",
   "metadata": {},
   "source": [
    "Посмотрим выбросы по весу и объему"
   ]
  },
  {
   "cell_type": "code",
   "execution_count": 21,
   "id": "9bc22e85-1c52-41f1-be23-536c3c0f4d0a",
   "metadata": {
    "tags": []
   },
   "outputs": [
    {
     "name": "stdout",
     "output_type": "stream",
     "text": [
      "total weight 99 quantile: 6.46\n"
     ]
    },
    {
     "data": {
      "image/png": "[encoded data removed]",
      "text/plain": [
       "<Figure size 1000x600 with 1 Axes>"
      ]
     },
     "metadata": {},
     "output_type": "display_data"
    }
   ],
   "source": [
    "# вот тут возможно есть смысла почистить выбросы\n",
    "df_features.total_wght.hist(bins=100);\n",
    "total_wght_99q = df_features.total_wght.quantile(0.99)\n",
    "print(f'total weight 99 quantile: {total_wght_99q:.2f}')"
   ]
  },
  {
   "cell_type": "code",
   "execution_count": 22,
   "id": "69f9dfbc-bf46-4750-8756-42392cfa9788",
   "metadata": {
    "tags": []
   },
   "outputs": [
    {
     "name": "stdout",
     "output_type": "stream",
     "text": [
      "total volume 99 quantile: 27737.04\n"
     ]
    },
    {
     "data": {
      "image/png": "[encoded data removed]",
      "text/plain": [
       "<Figure size 1000x600 with 1 Axes>"
      ]
     },
     "metadata": {},
     "output_type": "display_data"
    }
   ],
   "source": [
    "df_features.total_vol.hist(bins=100);\n",
    "total_vol_99q = df_features.total_vol.quantile(0.99)\n",
    "print(f'total volume 99 quantile: {total_vol_99q:.2f}')"
   ]
  },
  {
   "cell_type": "code",
   "execution_count": 23,
   "id": "400a1125-15be-4538-b1de-d7b37ccc835c",
   "metadata": {
    "tags": []
   },
   "outputs": [],
   "source": [
    "df_features = df_features[(df_features.total_wght<total_wght_99q)&\n",
    "                            (df_features.total_vol<total_vol_99q)]"
   ]
  },
  {
   "cell_type": "code",
   "execution_count": 24,
   "id": "65f01f87-c044-49b0-8449-93e1838b3c46",
   "metadata": {
    "tags": []
   },
   "outputs": [],
   "source": [
    "X = df_features.drop(['orderkey', 'selected_cartontype'], axis=1).values"
   ]
  },
  {
   "cell_type": "code",
   "execution_count": 25,
   "id": "02442b04-95ba-4bdc-bcd2-a0af657b8638",
   "metadata": {
    "tags": []
   },
   "outputs": [
    {
     "data": {
      "text/plain": [
       "MYB        4567\n",
       "MYC        4209\n",
       "MYD        1842\n",
       "YMC        1594\n",
       "YMA        1567\n",
       "MYA        1187\n",
       "YMF         692\n",
       "MYE         641\n",
       "YMW         555\n",
       "YMG         399\n",
       "STRETCH     285\n",
       "NONPACK     141\n",
       "MYF         133\n",
       "YME          59\n",
       "YMX          15\n",
       "YMB           1\n",
       "Name: selected_cartontype, dtype: int64"
      ]
     },
     "execution_count": 25,
     "metadata": {},
     "output_type": "execute_result"
    }
   ],
   "source": [
    "df_features.selected_cartontype.value_counts()"
   ]
  },
  {
   "cell_type": "markdown",
   "id": "d25c4616-e387-42a1-ba48-e7acd00f0c5b",
   "metadata": {},
   "source": [
    "Так как у нас много разных упаковок, есть смысл сначала определить относится ли упаковка к самым популярным, или же это \"все остальные\". Для разных порогов определения самых популярных упаковок, проверим как работает классификатор catboost"
   ]
  },
  {
   "cell_type": "code",
   "execution_count": 28,
   "id": "92f7f8b8-cd43-4bba-a94b-1d250909c3b8",
   "metadata": {
    "tags": []
   },
   "outputs": [
    {
     "data": {
      "application/vnd.jupyter.widget-view+json": {
       "model_id": "dc020a84575a4bf5ad9093423ced717f",
       "version_major": 2,
       "version_minor": 0
      },
      "text/plain": [
       "  0%|          | 0/6 [00:00<?, ?it/s]"
      ]
     },
     "metadata": {},
     "output_type": "display_data"
    },
    {
     "name": "stdout",
     "output_type": "stream",
     "text": [
      "top-4\n",
      "classes balance: 0.32\n",
      "roc auc: 0.7394885221361118 \n",
      "\n",
      "top-5\n",
      "classes balance: 0.23\n",
      "roc auc: 0.8205550154997855 \n",
      "\n",
      "top-6\n",
      "classes balance: 0.16\n",
      "roc auc: 0.8756205221066133 \n",
      "\n",
      "top-7\n",
      "classes balance: 0.12\n",
      "roc auc: 0.8768420047447497 \n",
      "\n",
      "top-8\n",
      "classes balance: 0.09\n",
      "roc auc: 0.8617476717194705 \n",
      "\n",
      "top-9\n",
      "classes balance: 0.06\n",
      "roc auc: 0.8382395917203462 \n",
      "\n",
      "CPU times: user 396 ms, sys: 166 ms, total: 562 ms\n",
      "Wall time: 2min\n"
     ]
    }
   ],
   "source": [
    "%%time\n",
    "# определим отностится ли упаковка к одному из самых популярных типов упаковки\n",
    "# смотрим от топ4 до топ 10\n",
    "for i in tqdm(range(4,10)):\n",
    "    # список с топ i самыми популярными упаковками\n",
    "    most_pop_pack = df_features.selected_cartontype.value_counts().head(i).index\n",
    "\n",
    "    #если не \n",
    "    #в списке, то 1, все остальные 0\n",
    "    y = df_features.selected_cartontype.map(lambda x: \n",
    "                                           0 if x in most_pop_pack else 1).values\n",
    "\n",
    "    cb = catboost.CatBoostClassifier(verbose=False)\n",
    "    # порог принятия решения не определен и у нас очевидно сильный дисбалланс классов,\n",
    "    # поэтому измеряем roc_auc\n",
    "    cv_scores = cross_validate(cb, X, y, cv=5, n_jobs=-1,\n",
    "                               scoring=['roc_auc'])\n",
    "    print(f'top-{i}')\n",
    "    print(f'classes balance: {np.mean(y):.2f}')\n",
    "    print('roc auc:', np.mean(cv_scores['test_roc_auc']), '\\n')"
   ]
  },
  {
   "cell_type": "markdown",
   "id": "c1044e2f-02fe-4a7a-91e0-59fed9634ca3",
   "metadata": {},
   "source": [
    "Возьмем топ-6 самых часто встречающихся упаковок. \n",
    "Если классификатор считает что отдельно взятый заказ не подходит для упаковки в топ-6, определяем алгоритмически.\n",
    "Если относит к топ-6, то для каждого типа упаковки сделаем отдельный бинарный классификатор. "
   ]
  },
  {
   "cell_type": "code",
   "execution_count": 29,
   "id": "79ed27c9-93df-4d24-9f66-2be0a3a144d5",
   "metadata": {
    "tags": []
   },
   "outputs": [],
   "source": [
    "# возьму топ-6 классов\n",
    "pack_list = list(df_features.selected_cartontype.value_counts().head(6).index)\n",
    "rest_packs_two = [pack for pack in df_features.selected_cartontype.unique() if pack not in pack_list]\n",
    "df_lim = df_features[df_features.selected_cartontype.isin(pack_list)].copy()\n",
    "pack_dict = dict(zip(pack_list, range(len(pack_list))))"
   ]
  },
  {
   "cell_type": "code",
   "execution_count": 35,
   "id": "0040be8f-d062-462d-a4b6-04913c017aaf",
   "metadata": {
    "tags": []
   },
   "outputs": [
    {
     "name": "stdout",
     "output_type": "stream",
     "text": [
      "CPU times: user 23.4 s, sys: 1.02 s, total: 24.5 s\n",
      "Wall time: 3.93 s\n"
     ]
    }
   ],
   "source": [
    "%%time\n",
    "#готовая обученная модель\n",
    "cb = catboost.CatBoostClassifier(verbose=False)\n",
    "X = df_features.drop(['orderkey', 'selected_cartontype'], axis=1)\n",
    "y = df_features.selected_cartontype.map(lambda x: \n",
    "                                0 if x in pack_list else 1).values\n",
    "cb_two_class = cb.fit(X, y)"
   ]
  },
  {
   "cell_type": "markdown",
   "id": "6dba8f78-2d2c-4966-9bc6-1c84041c61b3",
   "metadata": {},
   "source": [
    "Теперь для каждой из упаковок в топ-6 обучим отдельный классификатор:"
   ]
  },
  {
   "cell_type": "code",
   "execution_count": 38,
   "id": "e8fd0cbf-89e8-47dd-85b1-909c377aac66",
   "metadata": {
    "tags": []
   },
   "outputs": [
    {
     "data": {
      "application/vnd.jupyter.widget-view+json": {
       "model_id": "ad6f92c64a6a429fbb219299bef029a9",
       "version_major": 2,
       "version_minor": 0
      },
      "text/plain": [
       "  0%|          | 0/6 [00:00<?, ?it/s]"
      ]
     },
     "metadata": {},
     "output_type": "display_data"
    },
    {
     "name": "stdout",
     "output_type": "stream",
     "text": [
      "CPU times: user 261 ms, sys: 130 ms, total: 391 ms\n",
      "Wall time: 1min 53s\n"
     ]
    },
    {
     "data": {
      "text/plain": [
       "[('MYB', 0.79),\n",
       " ('MYC', 0.69),\n",
       " ('MYD', 0.87),\n",
       " ('YMC', 0.82),\n",
       " ('YMA', 0.76),\n",
       " ('MYA', 0.78)]"
      ]
     },
     "execution_count": 38,
     "metadata": {},
     "output_type": "execute_result"
    }
   ],
   "source": [
    "%%time\n",
    "\n",
    "X = df_lim.drop(['orderkey', 'selected_cartontype'], axis=1).values\n",
    "y = df_lim.selected_cartontype.map(pack_dict).values\n",
    "\n",
    "roc_scores = []\n",
    "for key in tqdm(pack_dict.keys()):\n",
    "    y = df_lim.selected_cartontype.map(lambda x: 1 if x==key else 0).values\n",
    "    class_w_dict = dict(zip([0,1], compute_class_weight(class_weight='balanced', classes=[0,1], y=y)))\n",
    "    cb = catboost.CatBoostClassifier(verbose=False, class_weights = class_w_dict)\n",
    "    cv_scores = cross_validate(cb, X, y, cv=5, n_jobs=-1,\n",
    "                           scoring=[\n",
    "                               'accuracy', 'recall', 'precision', 'f1', 'roc_auc'\n",
    "                           ])\n",
    "    roc_scores.append((key, round(np.mean(cv_scores['test_roc_auc']),2)))\n",
    "    \n",
    "roc_scores"
   ]
  },
  {
   "cell_type": "markdown",
   "id": "c93fd154-8848-49f6-a9d0-eb8bc2cda710",
   "metadata": {},
   "source": [
    "Нельзя говорить об очень высоком качестве моделей, полагаться только на их предсказания мы не будем. Как и в случае с одним товаром в заказе будем использовать комбинацию подходов. "
   ]
  },
  {
   "cell_type": "code",
   "execution_count": 39,
   "id": "4b71eda7-7ddf-4f66-8e48-9c241dc7d711",
   "metadata": {
    "tags": []
   },
   "outputs": [],
   "source": [
    "# обучаю каждую модель\n",
    "cb_myb, cb_myc, cb_myd, cb_ymc, cb_yma, cb_mya = None,None,None,None,None,None\n",
    "models = [cb_myb, cb_myc, cb_myd, cb_ymc, cb_yma, cb_mya]\n",
    "packs = [pack[0] for pack in roc_scores]\n",
    "models_list = [[p,m] for p,m in zip(packs, models)]"
   ]
  },
  {
   "cell_type": "code",
   "execution_count": 42,
   "id": "6a0a3ae0-caf8-48de-8c5d-9aadd8109d77",
   "metadata": {
    "tags": []
   },
   "outputs": [],
   "source": [
    "# обучение моделей\n",
    "def train_models(models_list: list, \n",
    "                 X_train:np.array,\n",
    "                 y_train:np.array)-> list:\n",
    "    #для пары упаковка-модель делаю обучение\n",
    "    for model in tqdm(models_list): \n",
    "        cb = catboost.CatBoostClassifier(verbose=False)\n",
    "        y = np.array(list(map(lambda x: 1 if x==model[0] else 0, y_train)))\n",
    "        cb.fit(X_train,y)\n",
    "        model[1] = cb\n",
    "        \n",
    "    return models_list"
   ]
  },
  {
   "cell_type": "code",
   "execution_count": 43,
   "id": "878f3532-047d-4482-8de3-96bcd18bd9ee",
   "metadata": {
    "tags": []
   },
   "outputs": [
    {
     "data": {
      "application/vnd.jupyter.widget-view+json": {
       "model_id": "5bbe5cc7d6ca4e659636b45936e39f38",
       "version_major": 2,
       "version_minor": 0
      },
      "text/plain": [
       "  0%|          | 0/6 [00:00<?, ?it/s]"
      ]
     },
     "metadata": {},
     "output_type": "display_data"
    }
   ],
   "source": [
    "models_list_two_goods = train_models(models_list, \n",
    "                                    X,df_lim.selected_cartontype.values)"
   ]
  },
  {
   "cell_type": "code",
   "execution_count": 45,
   "id": "34df2589-0138-4773-b2f1-4a5103d64982",
   "metadata": {
    "tags": []
   },
   "outputs": [],
   "source": [
    "#все модели для двух товаров сохраним в файле two_goods_models.pkl\n",
    "two_goods_models = ((cb_two_class, rest_packs_two), models_list_two_goods)\n",
    "\n",
    "\n",
    "# with open('models/two_goods_models.pkl', 'wb') as handler:\n",
    "#     pickle.dump(two_goods_models, handler)"
   ]
  },
  {
   "cell_type": "code",
   "execution_count": 47,
   "id": "5d85a3d1-1028-4bcf-b1bb-eb211e0681b2",
   "metadata": {
    "tags": []
   },
   "outputs": [],
   "source": [
    "#для проверки на выборке из n сэмплов\n",
    "def make_test(models_list, X_test, y_test, n_samples=3_000, top_k=3) -> float:\n",
    "    r = []\n",
    "    for _ in tqdm(range(n_samples)):\n",
    "        idx = np.random.randint(0,len(X_test))\n",
    "        features, true_answer = X_test[idx], y_test[idx]\n",
    "\n",
    "        result = []\n",
    "        for model in models_list:\n",
    "            result.append((model[0], model[1].predict_proba(features)[1]))\n",
    "\n",
    "        top_3 = [x[0] for x in sorted(result, key=lambda x: x[1], reverse=True)[:top_k]]\n",
    "\n",
    "        r.append(true_answer in top_3)\n",
    "\n",
    "    return np.mean(r)"
   ]
  },
  {
   "cell_type": "markdown",
   "id": "78c4fe7f-050e-4be7-b988-5683321aea5d",
   "metadata": {},
   "source": [
    "Протестируем работу моделей на 10 случайных сплитах. Будем брать топ 3 упаковок рекомендованных моделью и смотреть находится ли в них действительно использованная."
   ]
  },
  {
   "cell_type": "code",
   "execution_count": 49,
   "id": "772249e7-8d82-4f70-b4c0-b7148d41c6f5",
   "metadata": {
    "tags": []
   },
   "outputs": [
    {
     "data": {
      "application/vnd.jupyter.widget-view+json": {
       "model_id": "7727978a261848a6806614effc2fc6c1",
       "version_major": 2,
       "version_minor": 0
      },
      "text/plain": [
       "  0%|          | 0/10 [00:00<?, ?it/s]"
      ]
     },
     "metadata": {},
     "output_type": "display_data"
    },
    {
     "name": "stdout",
     "output_type": "stream",
     "text": [
      "test #1\n"
     ]
    },
    {
     "data": {
      "application/vnd.jupyter.widget-view+json": {
       "model_id": "ac59f40ec84d401795702e16be2cb867",
       "version_major": 2,
       "version_minor": 0
      },
      "text/plain": [
       "  0%|          | 0/6 [00:00<?, ?it/s]"
      ]
     },
     "metadata": {},
     "output_type": "display_data"
    },
    {
     "data": {
      "application/vnd.jupyter.widget-view+json": {
       "model_id": "034cc068674f45d4b4efffb00ac76a6d",
       "version_major": 2,
       "version_minor": 0
      },
      "text/plain": [
       "  0%|          | 0/3000 [00:00<?, ?it/s]"
      ]
     },
     "metadata": {},
     "output_type": "display_data"
    },
    {
     "name": "stdout",
     "output_type": "stream",
     "text": [
      "0.877\n",
      "test #2\n"
     ]
    },
    {
     "data": {
      "application/vnd.jupyter.widget-view+json": {
       "model_id": "0da3eff452a948929218ea4dd9690535",
       "version_major": 2,
       "version_minor": 0
      },
      "text/plain": [
       "  0%|          | 0/6 [00:00<?, ?it/s]"
      ]
     },
     "metadata": {},
     "output_type": "display_data"
    },
    {
     "data": {
      "application/vnd.jupyter.widget-view+json": {
       "model_id": "7d6c7ee4cc3a4823aa04d0db34f8be9f",
       "version_major": 2,
       "version_minor": 0
      },
      "text/plain": [
       "  0%|          | 0/3000 [00:00<?, ?it/s]"
      ]
     },
     "metadata": {},
     "output_type": "display_data"
    },
    {
     "name": "stdout",
     "output_type": "stream",
     "text": [
      "0.872\n",
      "test #3\n"
     ]
    },
    {
     "data": {
      "application/vnd.jupyter.widget-view+json": {
       "model_id": "bcc6f86298fe4801876e2dfa82bec1e4",
       "version_major": 2,
       "version_minor": 0
      },
      "text/plain": [
       "  0%|          | 0/6 [00:00<?, ?it/s]"
      ]
     },
     "metadata": {},
     "output_type": "display_data"
    },
    {
     "data": {
      "application/vnd.jupyter.widget-view+json": {
       "model_id": "20609fc979c642cc90b369a2b70f970b",
       "version_major": 2,
       "version_minor": 0
      },
      "text/plain": [
       "  0%|          | 0/3000 [00:00<?, ?it/s]"
      ]
     },
     "metadata": {},
     "output_type": "display_data"
    },
    {
     "name": "stdout",
     "output_type": "stream",
     "text": [
      "0.8776666666666667\n",
      "test #4\n"
     ]
    },
    {
     "data": {
      "application/vnd.jupyter.widget-view+json": {
       "model_id": "64e633f766e84ecd927023951a165b10",
       "version_major": 2,
       "version_minor": 0
      },
      "text/plain": [
       "  0%|          | 0/6 [00:00<?, ?it/s]"
      ]
     },
     "metadata": {},
     "output_type": "display_data"
    },
    {
     "data": {
      "application/vnd.jupyter.widget-view+json": {
       "model_id": "b82da22a8d6141a38d49afacdb4084b1",
       "version_major": 2,
       "version_minor": 0
      },
      "text/plain": [
       "  0%|          | 0/3000 [00:00<?, ?it/s]"
      ]
     },
     "metadata": {},
     "output_type": "display_data"
    },
    {
     "name": "stdout",
     "output_type": "stream",
     "text": [
      "0.8766666666666667\n",
      "test #5\n"
     ]
    },
    {
     "data": {
      "application/vnd.jupyter.widget-view+json": {
       "model_id": "5da24b2f5ecd465ea665e7aec585e8cc",
       "version_major": 2,
       "version_minor": 0
      },
      "text/plain": [
       "  0%|          | 0/6 [00:00<?, ?it/s]"
      ]
     },
     "metadata": {},
     "output_type": "display_data"
    },
    {
     "data": {
      "application/vnd.jupyter.widget-view+json": {
       "model_id": "6af0cc64d9744c5ba12d14a20d95cd1b",
       "version_major": 2,
       "version_minor": 0
      },
      "text/plain": [
       "  0%|          | 0/3000 [00:00<?, ?it/s]"
      ]
     },
     "metadata": {},
     "output_type": "display_data"
    },
    {
     "name": "stdout",
     "output_type": "stream",
     "text": [
      "0.887\n",
      "test #6\n"
     ]
    },
    {
     "data": {
      "application/vnd.jupyter.widget-view+json": {
       "model_id": "35f66b4b6ba94891a487ec2b9a96b4d9",
       "version_major": 2,
       "version_minor": 0
      },
      "text/plain": [
       "  0%|          | 0/6 [00:00<?, ?it/s]"
      ]
     },
     "metadata": {},
     "output_type": "display_data"
    },
    {
     "data": {
      "application/vnd.jupyter.widget-view+json": {
       "model_id": "6be3302b7b1a436689fd1646be0b6561",
       "version_major": 2,
       "version_minor": 0
      },
      "text/plain": [
       "  0%|          | 0/3000 [00:00<?, ?it/s]"
      ]
     },
     "metadata": {},
     "output_type": "display_data"
    },
    {
     "name": "stdout",
     "output_type": "stream",
     "text": [
      "0.8826666666666667\n",
      "test #7\n"
     ]
    },
    {
     "data": {
      "application/vnd.jupyter.widget-view+json": {
       "model_id": "c6cca57903974e3a8680878428bba16a",
       "version_major": 2,
       "version_minor": 0
      },
      "text/plain": [
       "  0%|          | 0/6 [00:00<?, ?it/s]"
      ]
     },
     "metadata": {},
     "output_type": "display_data"
    },
    {
     "data": {
      "application/vnd.jupyter.widget-view+json": {
       "model_id": "13a2b03cfd3b472e8e70fe0a1e2dde4b",
       "version_major": 2,
       "version_minor": 0
      },
      "text/plain": [
       "  0%|          | 0/3000 [00:00<?, ?it/s]"
      ]
     },
     "metadata": {},
     "output_type": "display_data"
    },
    {
     "name": "stdout",
     "output_type": "stream",
     "text": [
      "0.87\n",
      "test #8\n"
     ]
    },
    {
     "data": {
      "application/vnd.jupyter.widget-view+json": {
       "model_id": "9fe9cec6271a4436baace73c8923241a",
       "version_major": 2,
       "version_minor": 0
      },
      "text/plain": [
       "  0%|          | 0/6 [00:00<?, ?it/s]"
      ]
     },
     "metadata": {},
     "output_type": "display_data"
    },
    {
     "data": {
      "application/vnd.jupyter.widget-view+json": {
       "model_id": "0c3919b6fa2b43e6abb660b3ff219a1b",
       "version_major": 2,
       "version_minor": 0
      },
      "text/plain": [
       "  0%|          | 0/3000 [00:00<?, ?it/s]"
      ]
     },
     "metadata": {},
     "output_type": "display_data"
    },
    {
     "name": "stdout",
     "output_type": "stream",
     "text": [
      "0.889\n",
      "test #9\n"
     ]
    },
    {
     "data": {
      "application/vnd.jupyter.widget-view+json": {
       "model_id": "51e6d282a1254b80be3d050201f51f2d",
       "version_major": 2,
       "version_minor": 0
      },
      "text/plain": [
       "  0%|          | 0/6 [00:00<?, ?it/s]"
      ]
     },
     "metadata": {},
     "output_type": "display_data"
    },
    {
     "data": {
      "application/vnd.jupyter.widget-view+json": {
       "model_id": "831de90cf5a945c095e25fd52f49d54d",
       "version_major": 2,
       "version_minor": 0
      },
      "text/plain": [
       "  0%|          | 0/3000 [00:00<?, ?it/s]"
      ]
     },
     "metadata": {},
     "output_type": "display_data"
    },
    {
     "name": "stdout",
     "output_type": "stream",
     "text": [
      "0.8856666666666667\n",
      "test #10\n"
     ]
    },
    {
     "data": {
      "application/vnd.jupyter.widget-view+json": {
       "model_id": "9e2b6d682b75410b947c917f0e86e6e9",
       "version_major": 2,
       "version_minor": 0
      },
      "text/plain": [
       "  0%|          | 0/6 [00:00<?, ?it/s]"
      ]
     },
     "metadata": {},
     "output_type": "display_data"
    },
    {
     "data": {
      "application/vnd.jupyter.widget-view+json": {
       "model_id": "d6b1d5bb227c43d38cad6a0ab88e8e2f",
       "version_major": 2,
       "version_minor": 0
      },
      "text/plain": [
       "  0%|          | 0/3000 [00:00<?, ?it/s]"
      ]
     },
     "metadata": {},
     "output_type": "display_data"
    },
    {
     "name": "stdout",
     "output_type": "stream",
     "text": [
      "0.8903333333333333\n"
     ]
    }
   ],
   "source": [
    "# тестирую на 10 разных сплитах\n",
    "# по сути как кросс-валидация\n",
    "res = []\n",
    "for test in tqdm(range(10)):\n",
    "    print(f'test #{test+1}')\n",
    "    X_train, X_test, y_train, y_test = train_test_split(X, df_lim.selected_cartontype.values, \n",
    "                                                        test_size=0.2)\n",
    "    #модели\n",
    "    models_list = train_models(models_list_two_goods, X_train, y_train)\n",
    "    test_res = make_test(models_list, X_test, y_test, top_k=3)\n",
    "    res.append(test_res)\n",
    "    print(test_res)\n"
   ]
  },
  {
   "cell_type": "code",
   "execution_count": 50,
   "id": "8dceec32-2be7-45f1-86f4-6e25e4c275d1",
   "metadata": {
    "tags": []
   },
   "outputs": [
    {
     "name": "stdout",
     "output_type": "stream",
     "text": [
      "0.8808\n"
     ]
    }
   ],
   "source": [
    "print(np.mean(res))"
   ]
  },
  {
   "cell_type": "markdown",
   "id": "4007c369-3d14-4635-8877-14d7cdec257c",
   "metadata": {},
   "source": [
    "То есть в 88% случаев у нас в топ-3 рекомендованных упаковок находится выбранная упаковщиком. "
   ]
  },
  {
   "cell_type": "markdown",
   "id": "6a695ee9-dc99-4648-a4c4-f619c6eb3beb",
   "metadata": {},
   "source": [
    "### Three goods"
   ]
  },
  {
   "cell_type": "code",
   "execution_count": 51,
   "id": "fe7886e8-dd37-422f-bd16-79d290823145",
   "metadata": {
    "tags": []
   },
   "outputs": [
    {
     "data": {
      "application/vnd.jupyter.widget-view+json": {
       "model_id": "2f1c565d95cd4ff6a9651e1c0603ac8a",
       "version_major": 2,
       "version_minor": 0
      },
      "text/plain": [
       "  0%|          | 0/8985 [00:00<?, ?it/s]"
      ]
     },
     "metadata": {},
     "output_type": "display_data"
    }
   ],
   "source": [
    "dt = []\n",
    "\n",
    "for order in tqdm(data_three.orderkey.unique()): #беру каждый заказ\n",
    "    order_features = [order] #закидываю в пустой список ключ заказа\n",
    "    t = data_three[data_three.orderkey==order] #это датафрейм с этим заказом\n",
    "    for sku in t.sort_values(by='sku_vol').iterrows(): #пробегаюсь по каждой строке отсортированнного датайрейма\n",
    "        dims = sorted([sku[1]['a'], sku[1]['b'], sku[1]['c']], reverse=True)\n",
    "        order_features+= [sku[1]['goods_wght'], # и закидываю фичи\n",
    "                          dims[0],\n",
    "                          dims[1],\n",
    "                          dims[2],\n",
    "                          sku[1]['sku_vol']]\n",
    "    order_features.append(t.selected_cartontype.unique()[0])#в конце закидываю упаковку которую выбрал упаковщик\n",
    "    dt.append(order_features)\n"
   ]
  },
  {
   "cell_type": "code",
   "execution_count": 52,
   "id": "e6617367-d359-4261-9cc9-d7a793544d84",
   "metadata": {
    "tags": []
   },
   "outputs": [
    {
     "data": {
      "text/html": [
       "<div>\n",
       "<style scoped>\n",
       "    .dataframe tbody tr th:only-of-type {\n",
       "        vertical-align: middle;\n",
       "    }\n",
       "\n",
       "    .dataframe tbody tr th {\n",
       "        vertical-align: top;\n",
       "    }\n",
       "\n",
       "    .dataframe thead th {\n",
       "        text-align: right;\n",
       "    }\n",
       "</style>\n",
       "<table border=\"1\" class=\"dataframe\">\n",
       "  <thead>\n",
       "    <tr style=\"text-align: right;\">\n",
       "      <th></th>\n",
       "      <th>orderkey</th>\n",
       "      <th>wght1</th>\n",
       "      <th>a1</th>\n",
       "      <th>b1</th>\n",
       "      <th>c1</th>\n",
       "      <th>sku_vol1</th>\n",
       "      <th>wght2</th>\n",
       "      <th>a2</th>\n",
       "      <th>b2</th>\n",
       "      <th>c2</th>\n",
       "      <th>sku_vol2</th>\n",
       "      <th>wght3</th>\n",
       "      <th>a3</th>\n",
       "      <th>b3</th>\n",
       "      <th>c3</th>\n",
       "      <th>sku_vol3</th>\n",
       "      <th>selected_cartontype</th>\n",
       "      <th>total_vol</th>\n",
       "      <th>total_wght</th>\n",
       "      <th>min_dim</th>\n",
       "      <th>max_dim</th>\n",
       "    </tr>\n",
       "  </thead>\n",
       "  <tbody>\n",
       "    <tr>\n",
       "      <th>0</th>\n",
       "      <td>697bc0759d93e89ca047e59b8b7459dd</td>\n",
       "      <td>0.271</td>\n",
       "      <td>15.2</td>\n",
       "      <td>9.1</td>\n",
       "      <td>4.6</td>\n",
       "      <td>636.272</td>\n",
       "      <td>0.335</td>\n",
       "      <td>37.7</td>\n",
       "      <td>24.8</td>\n",
       "      <td>3.6</td>\n",
       "      <td>3365.856</td>\n",
       "      <td>0.948</td>\n",
       "      <td>37.9</td>\n",
       "      <td>32.3</td>\n",
       "      <td>26.2</td>\n",
       "      <td>32073.254</td>\n",
       "      <td>YME</td>\n",
       "      <td>36075.382</td>\n",
       "      <td>1.554</td>\n",
       "      <td>3.6</td>\n",
       "      <td>37.9</td>\n",
       "    </tr>\n",
       "    <tr>\n",
       "      <th>1</th>\n",
       "      <td>b1ac9fb03493100e5359a48738756bec</td>\n",
       "      <td>0.060</td>\n",
       "      <td>15.0</td>\n",
       "      <td>11.0</td>\n",
       "      <td>1.0</td>\n",
       "      <td>165.000</td>\n",
       "      <td>0.726</td>\n",
       "      <td>22.0</td>\n",
       "      <td>8.1</td>\n",
       "      <td>6.8</td>\n",
       "      <td>1211.760</td>\n",
       "      <td>0.726</td>\n",
       "      <td>22.0</td>\n",
       "      <td>8.1</td>\n",
       "      <td>6.8</td>\n",
       "      <td>1211.760</td>\n",
       "      <td>MYC</td>\n",
       "      <td>2588.520</td>\n",
       "      <td>1.512</td>\n",
       "      <td>1.0</td>\n",
       "      <td>22.0</td>\n",
       "    </tr>\n",
       "    <tr>\n",
       "      <th>2</th>\n",
       "      <td>78bd23955c39cca5dc292259f8ff2929</td>\n",
       "      <td>0.900</td>\n",
       "      <td>19.0</td>\n",
       "      <td>10.0</td>\n",
       "      <td>6.0</td>\n",
       "      <td>1140.000</td>\n",
       "      <td>0.801</td>\n",
       "      <td>16.6</td>\n",
       "      <td>9.8</td>\n",
       "      <td>8.2</td>\n",
       "      <td>1333.976</td>\n",
       "      <td>1.001</td>\n",
       "      <td>19.1</td>\n",
       "      <td>10.8</td>\n",
       "      <td>7.1</td>\n",
       "      <td>1464.588</td>\n",
       "      <td>YMC</td>\n",
       "      <td>3938.564</td>\n",
       "      <td>2.702</td>\n",
       "      <td>6.0</td>\n",
       "      <td>19.1</td>\n",
       "    </tr>\n",
       "    <tr>\n",
       "      <th>3</th>\n",
       "      <td>deac4cab8596937077633f93aa4f9fd1</td>\n",
       "      <td>0.340</td>\n",
       "      <td>15.0</td>\n",
       "      <td>10.0</td>\n",
       "      <td>7.0</td>\n",
       "      <td>1050.000</td>\n",
       "      <td>0.340</td>\n",
       "      <td>15.0</td>\n",
       "      <td>10.0</td>\n",
       "      <td>7.0</td>\n",
       "      <td>1050.000</td>\n",
       "      <td>0.340</td>\n",
       "      <td>15.0</td>\n",
       "      <td>10.0</td>\n",
       "      <td>7.0</td>\n",
       "      <td>1050.000</td>\n",
       "      <td>YMC</td>\n",
       "      <td>3150.000</td>\n",
       "      <td>1.020</td>\n",
       "      <td>7.0</td>\n",
       "      <td>15.0</td>\n",
       "    </tr>\n",
       "    <tr>\n",
       "      <th>4</th>\n",
       "      <td>597c6135d3761d3bf30df9c99ea96670</td>\n",
       "      <td>0.005</td>\n",
       "      <td>13.5</td>\n",
       "      <td>7.0</td>\n",
       "      <td>0.3</td>\n",
       "      <td>28.350</td>\n",
       "      <td>0.420</td>\n",
       "      <td>23.5</td>\n",
       "      <td>13.1</td>\n",
       "      <td>11.2</td>\n",
       "      <td>3447.920</td>\n",
       "      <td>0.420</td>\n",
       "      <td>23.5</td>\n",
       "      <td>13.1</td>\n",
       "      <td>11.2</td>\n",
       "      <td>3447.920</td>\n",
       "      <td>YMF</td>\n",
       "      <td>6924.190</td>\n",
       "      <td>0.845</td>\n",
       "      <td>0.3</td>\n",
       "      <td>23.5</td>\n",
       "    </tr>\n",
       "  </tbody>\n",
       "</table>\n",
       "</div>"
      ],
      "text/plain": [
       "                           orderkey  wght1    a1    b1   c1  sku_vol1  wght2  \\\n",
       "0  697bc0759d93e89ca047e59b8b7459dd  0.271  15.2   9.1  4.6   636.272  0.335   \n",
       "1  b1ac9fb03493100e5359a48738756bec  0.060  15.0  11.0  1.0   165.000  0.726   \n",
       "2  78bd23955c39cca5dc292259f8ff2929  0.900  19.0  10.0  6.0  1140.000  0.801   \n",
       "3  deac4cab8596937077633f93aa4f9fd1  0.340  15.0  10.0  7.0  1050.000  0.340   \n",
       "4  597c6135d3761d3bf30df9c99ea96670  0.005  13.5   7.0  0.3    28.350  0.420   \n",
       "\n",
       "     a2    b2    c2  sku_vol2  wght3    a3    b3    c3   sku_vol3  \\\n",
       "0  37.7  24.8   3.6  3365.856  0.948  37.9  32.3  26.2  32073.254   \n",
       "1  22.0   8.1   6.8  1211.760  0.726  22.0   8.1   6.8   1211.760   \n",
       "2  16.6   9.8   8.2  1333.976  1.001  19.1  10.8   7.1   1464.588   \n",
       "3  15.0  10.0   7.0  1050.000  0.340  15.0  10.0   7.0   1050.000   \n",
       "4  23.5  13.1  11.2  3447.920  0.420  23.5  13.1  11.2   3447.920   \n",
       "\n",
       "  selected_cartontype  total_vol  total_wght  min_dim  max_dim  \n",
       "0                 YME  36075.382       1.554      3.6     37.9  \n",
       "1                 MYC   2588.520       1.512      1.0     22.0  \n",
       "2                 YMC   3938.564       2.702      6.0     19.1  \n",
       "3                 YMC   3150.000       1.020      7.0     15.0  \n",
       "4                 YMF   6924.190       0.845      0.3     23.5  "
      ]
     },
     "execution_count": 52,
     "metadata": {},
     "output_type": "execute_result"
    }
   ],
   "source": [
    "\n",
    "df_features = pd.DataFrame(dt, columns=[\n",
    "    'orderkey', \n",
    "    'wght1', 'a1','b1','c1', 'sku_vol1', \n",
    "    'wght2', 'a2','b2','c2', 'sku_vol2',\n",
    "    'wght3', 'a3','b3','c3', 'sku_vol3',\n",
    "    'selected_cartontype'\n",
    "])\n",
    "# доп фичи - общий объем и вес, минимальные и максимальные размеры из обоих товаров\n",
    "df_features['total_vol'] = df_features['sku_vol1'] + df_features['sku_vol2'] + df_features['sku_vol3']\n",
    "df_features['total_wght'] = df_features['wght1'] + df_features['wght2'] + df_features['wght3']\n",
    "df_features['min_dim'] = df_features[['a1','b1', 'c1','a2','b2','c2','a3','b3','c3']].min(axis=1)\n",
    "df_features['max_dim'] = df_features[['a1','b1', 'c1','a2','b2','c2','a3','b3','c3']].max(axis=1)\n",
    "df_features.head()"
   ]
  },
  {
   "cell_type": "code",
   "execution_count": 53,
   "id": "694544b3-456e-40a8-b98f-5a72a269bb0b",
   "metadata": {
    "tags": []
   },
   "outputs": [
    {
     "data": {
      "text/plain": [
       "494"
      ]
     },
     "execution_count": 53,
     "metadata": {},
     "output_type": "execute_result"
    }
   ],
   "source": [
    "#дубликаты по заказам у которых отличается только orderkey\n",
    "\n",
    "df_features.drop('orderkey', axis=1).duplicated().sum()"
   ]
  },
  {
   "cell_type": "code",
   "execution_count": 54,
   "id": "20e98bc1-4c0b-4b30-a1f1-39b455de139a",
   "metadata": {
    "tags": []
   },
   "outputs": [],
   "source": [
    "df_features = df_features[~df_features.drop('orderkey', axis=1).duplicated()]"
   ]
  },
  {
   "cell_type": "code",
   "execution_count": 55,
   "id": "e824d6aa-2c47-4217-8f27-73884c558568",
   "metadata": {
    "tags": []
   },
   "outputs": [
    {
     "data": {
      "text/plain": [
       "(8085, 21)"
      ]
     },
     "execution_count": 55,
     "metadata": {},
     "output_type": "execute_result"
    }
   ],
   "source": [
    "df_features = df_features[~df_features.drop(['orderkey', 'selected_cartontype'], \n",
    "                                            axis=1).duplicated(keep='first')]#.sum()\n",
    "df_features.shape"
   ]
  },
  {
   "cell_type": "markdown",
   "id": "b230fc6e-fd40-49aa-a2fb-fd5ed4133c0b",
   "metadata": {},
   "source": [
    "Так же как и для двух товаров проверим как лучше отделить самые популярные и \"все остальные\""
   ]
  },
  {
   "cell_type": "code",
   "execution_count": 56,
   "id": "74572356-bf3a-4c0c-aa7d-2789b41400b8",
   "metadata": {
    "tags": []
   },
   "outputs": [
    {
     "data": {
      "application/vnd.jupyter.widget-view+json": {
       "model_id": "bcd9e0bc76c4472db1022c5ccf3e4ca1",
       "version_major": 2,
       "version_minor": 0
      },
      "text/plain": [
       "  0%|          | 0/6 [00:00<?, ?it/s]"
      ]
     },
     "metadata": {},
     "output_type": "display_data"
    },
    {
     "name": "stdout",
     "output_type": "stream",
     "text": [
      "top-4\n",
      "classes balance: 0.36\n",
      "roc auc: 0.7610526592796777 \n",
      "\n",
      "top-5\n",
      "classes balance: 0.28\n",
      "roc auc: 0.8535596140154376 \n",
      "\n",
      "top-6\n",
      "classes balance: 0.21\n",
      "roc auc: 0.8498863242662456 \n",
      "\n",
      "top-7\n",
      "classes balance: 0.16\n",
      "roc auc: 0.8153873465390739 \n",
      "\n",
      "top-8\n",
      "classes balance: 0.12\n",
      "roc auc: 0.7584749932076691 \n",
      "\n",
      "top-9\n",
      "classes balance: 0.08\n",
      "roc auc: 0.7653577767378099 \n",
      "\n",
      "CPU times: user 338 ms, sys: 167 ms, total: 504 ms\n",
      "Wall time: 1min 29s\n"
     ]
    }
   ],
   "source": [
    "%%time\n",
    "# определим отностится ли упаковка к одному из самых популярных типов упаковки\n",
    "\n",
    "X = df_features.drop(['orderkey', 'selected_cartontype'], axis=1).values\n",
    "\n",
    "for i in tqdm(range(4,10)):\n",
    "    # список с топ i самыми популярными упаковками\n",
    "    most_pop_pack = df_features.selected_cartontype.value_counts().head(i).index\n",
    "\n",
    "    #если в списке, то 1, все остальные 0\n",
    "    y = df_features.selected_cartontype.map(lambda x: \n",
    "                                           0 if x in most_pop_pack else 1).values\n",
    "\n",
    "    cb = catboost.CatBoostClassifier(verbose=False)\n",
    "    # порог принятия решения не определен и у нас очевидно сильный дисбалланс классов,\n",
    "    # поэтому измеряем roc_auc\n",
    "    cv_scores = cross_validate(cb, X, y, cv=5, n_jobs=-1,\n",
    "                               scoring=['roc_auc'])\n",
    "    print(f'top-{i}')\n",
    "    print(f'classes balance: {np.mean(y):.2f}')\n",
    "    print('roc auc:', np.mean(cv_scores['test_roc_auc']), '\\n')"
   ]
  },
  {
   "cell_type": "markdown",
   "id": "5897ca3f-916e-4ba0-8478-914201d8d55a",
   "metadata": {
    "tags": []
   },
   "source": [
    "В этом случае берем топ-5"
   ]
  },
  {
   "cell_type": "code",
   "execution_count": 61,
   "id": "3af2f66e-2469-4ff1-8b79-96d3c194895c",
   "metadata": {
    "tags": []
   },
   "outputs": [],
   "source": [
    "pack_list = df_features.selected_cartontype.value_counts().head(5).index\n",
    "rest_packs_three = [pack for pack in df_features.selected_cartontype.unique() if pack not in pack_list]\n",
    "df_lim = df_features[df_features.selected_cartontype.isin(pack_list)].copy()\n",
    "pack_dict = dict(zip(pack_list, range(len(pack_list))))"
   ]
  },
  {
   "cell_type": "code",
   "execution_count": 62,
   "id": "293d5493-171a-4ec1-9c94-cabbbacfe60e",
   "metadata": {
    "tags": []
   },
   "outputs": [
    {
     "name": "stdout",
     "output_type": "stream",
     "text": [
      "CPU times: user 16 s, sys: 1.7 s, total: 17.7 s\n",
      "Wall time: 3.6 s\n"
     ]
    }
   ],
   "source": [
    "%%time\n",
    "#готовая обученная модель\n",
    "cb = catboost.CatBoostClassifier(verbose=False)\n",
    "X = df_features.drop(['orderkey', 'selected_cartontype'], axis=1).values\n",
    "y = df_features.selected_cartontype.map(lambda x: \n",
    "                                           0 if x in pack_list else 1).values\n",
    "cb_three_class = cb.fit(X, y)\n"
   ]
  },
  {
   "cell_type": "code",
   "execution_count": 64,
   "id": "9fecd9b0-1b3b-41a2-879a-1d3f47fd25a2",
   "metadata": {
    "tags": []
   },
   "outputs": [
    {
     "data": {
      "application/vnd.jupyter.widget-view+json": {
       "model_id": "9cbee7e8021d497283bc214f01ce6c63",
       "version_major": 2,
       "version_minor": 0
      },
      "text/plain": [
       "  0%|          | 0/5 [00:00<?, ?it/s]"
      ]
     },
     "metadata": {},
     "output_type": "display_data"
    },
    {
     "name": "stdout",
     "output_type": "stream",
     "text": [
      "CPU times: user 289 ms, sys: 75.9 ms, total: 365 ms\n",
      "Wall time: 1min 4s\n"
     ]
    },
    {
     "data": {
      "text/plain": [
       "[('MYC', 0.6445817574753506),\n",
       " ('MYB', 0.8117974372906234),\n",
       " ('YMC', 0.7936686152213026),\n",
       " ('MYD', 0.8386702648069523),\n",
       " ('YMA', 0.7359585563940807)]"
      ]
     },
     "execution_count": 64,
     "metadata": {},
     "output_type": "execute_result"
    }
   ],
   "source": [
    "%%time\n",
    "X = df_lim.drop(['orderkey', 'selected_cartontype'], axis=1).values\n",
    "y = df_lim.selected_cartontype.map(pack_dict).values\n",
    "roc_scores = []\n",
    "for key in tqdm(pack_dict.keys()):\n",
    "    y = df_lim.selected_cartontype.map(lambda x: 1 if x==key else 0).values\n",
    "    class_w_dict = dict(zip([0,1], compute_class_weight(class_weight='balanced', classes=[0,1], y=y)))\n",
    "\n",
    "    cb = catboost.CatBoostClassifier(verbose=False, class_weights = class_w_dict)\n",
    "    cv_scores = cross_validate(cb, X, y, cv=5, n_jobs=-1,\n",
    "                           scoring=['roc_auc'])\n",
    "    roc_scores.append((key, np.mean(cv_scores['test_roc_auc'])))\n",
    "    \n",
    "roc_scores"
   ]
  },
  {
   "cell_type": "code",
   "execution_count": 65,
   "id": "1af669ce-3165-4c5a-95a0-3ab953915aea",
   "metadata": {
    "tags": []
   },
   "outputs": [],
   "source": [
    "# обучаю каждую модель\n",
    "cb_myc, cb_myb, cb_ymc, cb_myd, cb_yma = None,None,None,None,None\n",
    "models = [cb_myc, cb_myb, cb_ymc, cb_myd, cb_yma]\n",
    "packs = [pack[0] for pack in roc_scores]\n",
    "models_list = [[p,m] for p,m in zip(packs, models)]"
   ]
  },
  {
   "cell_type": "code",
   "execution_count": 67,
   "id": "21614699-cff5-4972-97b5-43e0997d70d6",
   "metadata": {
    "tags": []
   },
   "outputs": [
    {
     "data": {
      "application/vnd.jupyter.widget-view+json": {
       "model_id": "2e7186aba1684dce81b01943c6f3dd0d",
       "version_major": 2,
       "version_minor": 0
      },
      "text/plain": [
       "  0%|          | 0/5 [00:00<?, ?it/s]"
      ]
     },
     "metadata": {},
     "output_type": "display_data"
    },
    {
     "name": "stdout",
     "output_type": "stream",
     "text": [
      "test #1\n"
     ]
    },
    {
     "data": {
      "application/vnd.jupyter.widget-view+json": {
       "model_id": "0b826286c54b47b7969ad72856b8a49f",
       "version_major": 2,
       "version_minor": 0
      },
      "text/plain": [
       "  0%|          | 0/5 [00:00<?, ?it/s]"
      ]
     },
     "metadata": {},
     "output_type": "display_data"
    },
    {
     "data": {
      "application/vnd.jupyter.widget-view+json": {
       "model_id": "7b1b6c15508a46a9b1ddee2dce16c6eb",
       "version_major": 2,
       "version_minor": 0
      },
      "text/plain": [
       "  0%|          | 0/3000 [00:00<?, ?it/s]"
      ]
     },
     "metadata": {},
     "output_type": "display_data"
    },
    {
     "name": "stdout",
     "output_type": "stream",
     "text": [
      "0.9073333333333333\n",
      "test #2\n"
     ]
    },
    {
     "data": {
      "application/vnd.jupyter.widget-view+json": {
       "model_id": "944750fe509c4c74a793b076bdbe73df",
       "version_major": 2,
       "version_minor": 0
      },
      "text/plain": [
       "  0%|          | 0/5 [00:00<?, ?it/s]"
      ]
     },
     "metadata": {},
     "output_type": "display_data"
    },
    {
     "data": {
      "application/vnd.jupyter.widget-view+json": {
       "model_id": "d969401e884f4f059264831959745f3c",
       "version_major": 2,
       "version_minor": 0
      },
      "text/plain": [
       "  0%|          | 0/3000 [00:00<?, ?it/s]"
      ]
     },
     "metadata": {},
     "output_type": "display_data"
    },
    {
     "name": "stdout",
     "output_type": "stream",
     "text": [
      "0.8946666666666667\n",
      "test #3\n"
     ]
    },
    {
     "data": {
      "application/vnd.jupyter.widget-view+json": {
       "model_id": "c7ca59f4b37d4e658547115427e90dc2",
       "version_major": 2,
       "version_minor": 0
      },
      "text/plain": [
       "  0%|          | 0/5 [00:00<?, ?it/s]"
      ]
     },
     "metadata": {},
     "output_type": "display_data"
    },
    {
     "data": {
      "application/vnd.jupyter.widget-view+json": {
       "model_id": "a7e0f588a2724b81b006ddfb4bf5b133",
       "version_major": 2,
       "version_minor": 0
      },
      "text/plain": [
       "  0%|          | 0/3000 [00:00<?, ?it/s]"
      ]
     },
     "metadata": {},
     "output_type": "display_data"
    },
    {
     "name": "stdout",
     "output_type": "stream",
     "text": [
      "0.8893333333333333\n",
      "test #4\n"
     ]
    },
    {
     "data": {
      "application/vnd.jupyter.widget-view+json": {
       "model_id": "9a688eb8faad4035be6330006e424c74",
       "version_major": 2,
       "version_minor": 0
      },
      "text/plain": [
       "  0%|          | 0/5 [00:00<?, ?it/s]"
      ]
     },
     "metadata": {},
     "output_type": "display_data"
    },
    {
     "data": {
      "application/vnd.jupyter.widget-view+json": {
       "model_id": "b25637a6bda8406bbc0958b7d8559215",
       "version_major": 2,
       "version_minor": 0
      },
      "text/plain": [
       "  0%|          | 0/3000 [00:00<?, ?it/s]"
      ]
     },
     "metadata": {},
     "output_type": "display_data"
    },
    {
     "name": "stdout",
     "output_type": "stream",
     "text": [
      "0.9056666666666666\n",
      "test #5\n"
     ]
    },
    {
     "data": {
      "application/vnd.jupyter.widget-view+json": {
       "model_id": "7625a63befe94983b3675f728baca932",
       "version_major": 2,
       "version_minor": 0
      },
      "text/plain": [
       "  0%|          | 0/5 [00:00<?, ?it/s]"
      ]
     },
     "metadata": {},
     "output_type": "display_data"
    },
    {
     "data": {
      "application/vnd.jupyter.widget-view+json": {
       "model_id": "1b61b26ff443482296972104e2d3f4c3",
       "version_major": 2,
       "version_minor": 0
      },
      "text/plain": [
       "  0%|          | 0/3000 [00:00<?, ?it/s]"
      ]
     },
     "metadata": {},
     "output_type": "display_data"
    },
    {
     "name": "stdout",
     "output_type": "stream",
     "text": [
      "0.916\n"
     ]
    }
   ],
   "source": [
    "#тестирую на 5 разных сплитах\n",
    "# по сути как кросс-валидация\n",
    "res = []\n",
    "for test in tqdm(range(5)):\n",
    "    print(f'test #{test+1}')\n",
    "    X_train, X_test, y_train, y_test = train_test_split(X, df_lim.selected_cartontype.values, \n",
    "                                                        test_size=0.2)\n",
    "    #модели\n",
    "    models_list = train_models(models_list, X_train, y_train)\n",
    "    # тут тоже берем топ-3\n",
    "    test_res = make_test(models_list, X_test, y_test, top_k=3)\n",
    "    res.append(test_res)\n",
    "    print(test_res)"
   ]
  },
  {
   "cell_type": "code",
   "execution_count": 68,
   "id": "f4d94885-230a-422d-b49b-020e794108fd",
   "metadata": {
    "tags": []
   },
   "outputs": [
    {
     "data": {
      "text/plain": [
       "0.9026000000000002"
      ]
     },
     "execution_count": 68,
     "metadata": {},
     "output_type": "execute_result"
    }
   ],
   "source": [
    "np.mean(res)"
   ]
  },
  {
   "cell_type": "markdown",
   "id": "25d0ec5f-42f1-46c3-865d-6256565e3775",
   "metadata": {},
   "source": [
    "В случае с 3 товарами даже немного чаще выбранная упаковка попадает в топ-3 рекомендованных моделью. "
   ]
  },
  {
   "cell_type": "code",
   "execution_count": 132,
   "id": "9dd6268b-bb6a-472b-8150-8dfaffc73801",
   "metadata": {
    "tags": []
   },
   "outputs": [
    {
     "data": {
      "application/vnd.jupyter.widget-view+json": {
       "model_id": "39eb7207c5db4d88bd0d4ad29af68b8b",
       "version_major": 2,
       "version_minor": 0
      },
      "text/plain": [
       "  0%|          | 0/5 [00:00<?, ?it/s]"
      ]
     },
     "metadata": {},
     "output_type": "display_data"
    }
   ],
   "source": [
    "models_list_three_goods = train_models(models_list, \n",
    "                                    X, df_lim.selected_cartontype.values)"
   ]
  },
  {
   "cell_type": "code",
   "execution_count": 133,
   "id": "5ac0f0c2-551e-4e23-b5ac-42d8a1159761",
   "metadata": {
    "tags": []
   },
   "outputs": [],
   "source": [
    "# модели для трех товаров будут лежать в файле three_goods_models.pkl\n",
    "three_goods_models = ((cb_three_class, rest_packs_three), models_list_three_goods)\n",
    "\n",
    "# with open('models/three_goods_models.pkl', 'wb') as handler:\n",
    "#     pickle.dump(three_goods_models, handler)"
   ]
  },
  {
   "cell_type": "markdown",
   "id": "46c345ec-a0a3-430a-a250-bde87439f4fb",
   "metadata": {},
   "source": [
    "### Тестирование рекомендаций с использованием алгоритмического подхода"
   ]
  },
  {
   "cell_type": "code",
   "execution_count": 73,
   "id": "12a00e4b-0df8-4044-8219-a1b8dbb2dd69",
   "metadata": {
    "tags": []
   },
   "outputs": [],
   "source": [
    "order = data_few_goods.orderkey.sample(1).values[0]"
   ]
  },
  {
   "cell_type": "code",
   "execution_count": 79,
   "id": "09a989de-8d32-424a-b6b0-d0c87e0acd99",
   "metadata": {
    "tags": []
   },
   "outputs": [
    {
     "data": {
      "text/html": [
       "<div>\n",
       "<style scoped>\n",
       "    .dataframe tbody tr th:only-of-type {\n",
       "        vertical-align: middle;\n",
       "    }\n",
       "\n",
       "    .dataframe tbody tr th {\n",
       "        vertical-align: top;\n",
       "    }\n",
       "\n",
       "    .dataframe thead th {\n",
       "        text-align: right;\n",
       "    }\n",
       "</style>\n",
       "<table border=\"1\" class=\"dataframe\">\n",
       "  <thead>\n",
       "    <tr style=\"text-align: right;\">\n",
       "      <th></th>\n",
       "      <th>orderkey</th>\n",
       "      <th>selected_cartontype</th>\n",
       "      <th>box_num</th>\n",
       "      <th>goods_wght</th>\n",
       "      <th>sku</th>\n",
       "      <th>a</th>\n",
       "      <th>b</th>\n",
       "      <th>c</th>\n",
       "      <th>sku_vol</th>\n",
       "      <th>sku_count</th>\n",
       "    </tr>\n",
       "  </thead>\n",
       "  <tbody>\n",
       "    <tr>\n",
       "      <th>55269</th>\n",
       "      <td>7baee4bcacc2220ba18c16073a8e4d8c</td>\n",
       "      <td>MYC</td>\n",
       "      <td>1</td>\n",
       "      <td>0.230</td>\n",
       "      <td>7ce612f57456c31f4575b9c71f498e45</td>\n",
       "      <td>11.0</td>\n",
       "      <td>5.0</td>\n",
       "      <td>28.0</td>\n",
       "      <td>1540.0</td>\n",
       "      <td>2</td>\n",
       "    </tr>\n",
       "    <tr>\n",
       "      <th>55358</th>\n",
       "      <td>7baee4bcacc2220ba18c16073a8e4d8c</td>\n",
       "      <td>MYC</td>\n",
       "      <td>1</td>\n",
       "      <td>0.224</td>\n",
       "      <td>45a58ffb509c2ae4ce9d68082df8bf79</td>\n",
       "      <td>6.0</td>\n",
       "      <td>18.0</td>\n",
       "      <td>4.0</td>\n",
       "      <td>432.0</td>\n",
       "      <td>2</td>\n",
       "    </tr>\n",
       "  </tbody>\n",
       "</table>\n",
       "</div>"
      ],
      "text/plain": [
       "                               orderkey selected_cartontype  box_num  \\\n",
       "55269  7baee4bcacc2220ba18c16073a8e4d8c                 MYC        1   \n",
       "55358  7baee4bcacc2220ba18c16073a8e4d8c                 MYC        1   \n",
       "\n",
       "       goods_wght                               sku     a     b     c  \\\n",
       "55269       0.230  7ce612f57456c31f4575b9c71f498e45  11.0   5.0  28.0   \n",
       "55358       0.224  45a58ffb509c2ae4ce9d68082df8bf79   6.0  18.0   4.0   \n",
       "\n",
       "       sku_vol  sku_count  \n",
       "55269   1540.0          2  \n",
       "55358    432.0          2  "
      ]
     },
     "execution_count": 79,
     "metadata": {},
     "output_type": "execute_result"
    }
   ],
   "source": [
    "data_few_goods[data_few_goods.orderkey==order]"
   ]
  },
  {
   "cell_type": "code",
   "execution_count": 92,
   "id": "71573bb4-142b-4823-bb67-6d70951b20b2",
   "metadata": {
    "tags": []
   },
   "outputs": [],
   "source": [
    "# импортируем алгоритмический подбор и функцию подготовки фичей для заказов\n",
    "from packer import get_packed\n",
    "from utils import cook_features, get_cheapest"
   ]
  },
  {
   "cell_type": "code",
   "execution_count": 86,
   "id": "12eb8151-ea1d-4922-a640-97c0520d7e0b",
   "metadata": {
    "tags": []
   },
   "outputs": [],
   "source": [
    "def get_json_sample(data: pd.DataFrame, order: str)-> dict:\n",
    "\n",
    "    jsn = {'orderkey': order,\n",
    "          'items': []}\n",
    "    for i, sku in data[data.orderkey==order].iterrows():\n",
    "        item = {}\n",
    "        for param in ['sku', 'goods_wght', 'a','b','c']:\n",
    "            item[param] = sku[param]\n",
    "        item['count'] = 1\n",
    "        item['cargotypes'] = ['0']\n",
    "        jsn['items'].append(item)\n",
    "    return jsn"
   ]
  },
  {
   "cell_type": "code",
   "execution_count": 128,
   "id": "a942eb66-6a1e-4889-a3e9-8d4a613b3e40",
   "metadata": {
    "tags": []
   },
   "outputs": [],
   "source": [
    "def ml_two_three(query: dict, n_goods=2, top_k=3) -> list:\n",
    "    \"\"\"Get predictions for two or three goods in order\n",
    "    using a combinations of several catboost classifiers\n",
    "    pretrained for 2 and 3 (separately) goods in order.\n",
    "    At the first step the classifier determines which group\n",
    "    of packs is more appropriate. At the next step(if its the\n",
    "    most common group) a few separated classifiers return their\n",
    "    scores related to each package type. Then the top_k packages\n",
    "    with the highest scores are picked.\n",
    "    \"\"\"\n",
    "    features = cook_features(query)\n",
    "    \n",
    "    tools = three_goods_models if n_goods == 3 else two_goods_models\n",
    "\n",
    "    cb, rest_packs = tools[0][0], tools[0][1]\n",
    "    if cb.predict(features):\n",
    "        return rest_packs\n",
    "\n",
    "    multiclass_result = []\n",
    "    for model in tools[1]:\n",
    "        multiclass_result.append((model[0],\n",
    "                                  model[1].predict_proba(features)[1]))\n",
    "\n",
    "    result_packs = sorted(multiclass_result,\n",
    "                          key=lambda x: x[1],\n",
    "                          reverse=True)[:top_k]\n",
    "    return [pack[0] for pack in result_packs]"
   ]
  },
  {
   "cell_type": "code",
   "execution_count": 108,
   "id": "90b4f501-09ec-46ed-bb1b-f10929bd0698",
   "metadata": {
    "tags": []
   },
   "outputs": [],
   "source": [
    "def predict_two_three(query: dict, top_k: int = 3, n_goods: int = 2) -> str:\n",
    "    \"\"\"Recommend pack for two-three items\n",
    "    Combination of ml predictions and algo sort\n",
    "    \"\"\"\n",
    "    n_goods = len(query['items'])\n",
    "    ml_preds = ml_two_three(query, n_goods)\n",
    "    algo_preds = get_packed(query)[0]\n",
    "\n",
    "    if len(ml_preds) > top_k:\n",
    "        for pack in algo_preds:\n",
    "            if pack in ml_preds:\n",
    "                return pack\n",
    "\n",
    "    ml_alg = set(ml_preds) & set(algo_preds[:3])\n",
    "\n",
    "    return get_cheapest(ml_alg)"
   ]
  },
  {
   "cell_type": "code",
   "execution_count": 126,
   "id": "6364e864-8cd2-452c-8bb0-a5c617e6b994",
   "metadata": {
    "tags": []
   },
   "outputs": [],
   "source": [
    "data = (pd.read_csv('data/data.csv', index_col=0)\n",
    "        [['orderkey', 'recommended_cartontype']])\n",
    "data_few_goods = data_few_goods.merge(data, on='orderkey', how='left')\n",
    "prices = pd.read_csv('data/carton_price.csv')\n",
    "prices_dict = dict(zip(prices.cartontype, \n",
    "                       prices.price))"
   ]
  },
  {
   "cell_type": "code",
   "execution_count": 134,
   "id": "af6133f8-0ca2-4f36-8b2c-ef3f654c5ac0",
   "metadata": {
    "tags": []
   },
   "outputs": [
    {
     "data": {
      "application/vnd.jupyter.widget-view+json": {
       "model_id": "ddf4c8e668f7443fbc016ebcef8da6f8",
       "version_major": 2,
       "version_minor": 0
      },
      "text/plain": [
       "  0%|          | 0/10000 [00:00<?, ?it/s]"
      ]
     },
     "metadata": {},
     "output_type": "display_data"
    }
   ],
   "source": [
    "pred_prices, rec_prices, sel_prices = [],[],[]\n",
    "for _ in tqdm(range(10_000)):\n",
    "    order_k = data_few_goods.orderkey.sample(1).values[0]\n",
    "    jsn = get_json_sample(data_few_goods, order_k)\n",
    "    # упаковка выбранная упаковщиком\n",
    "    sel_cart = data_few_goods[data_few_goods.orderkey==order_k]['selected_cartontype'].values[0]\n",
    "    sel_prices.append(prices_dict.get(sel_cart, 1))\n",
    "    #упаковка рекомендованная текущей моделью\n",
    "    rec_cart = data_few_goods[data_few_goods.orderkey==order_k]['recommended_cartontype'].values[0]\n",
    "    rec_prices.append(prices_dict.get(rec_cart, 1))\n",
    "    #упаковка рекомендованная новой моделью\n",
    "    pred_cart = predict_two_three(jsn)\n",
    "    pred_prices.append(prices_dict.get(pred_cart, 1))\n",
    "    "
   ]
  },
  {
   "cell_type": "code",
   "execution_count": 135,
   "id": "aca902e5-c07f-4c99-8e7a-db32900baff3",
   "metadata": {
    "tags": []
   },
   "outputs": [
    {
     "data": {
      "text/plain": [
       "0.596"
      ]
     },
     "execution_count": 135,
     "metadata": {},
     "output_type": "execute_result"
    }
   ],
   "source": [
    "# сравнение с рекомендованной упаковкой\n",
    "round(mape(rec_prices, pred_prices),3)"
   ]
  },
  {
   "cell_type": "code",
   "execution_count": 136,
   "id": "eebe6e69-4393-41a3-8389-1c0bc6b4395e",
   "metadata": {
    "tags": []
   },
   "outputs": [
    {
     "data": {
      "text/plain": [
       "0.724"
      ]
     },
     "execution_count": 136,
     "metadata": {},
     "output_type": "execute_result"
    }
   ],
   "source": [
    "# сравнение с выбранной упаковкой\n",
    "round(mape(sel_prices, pred_prices),3)"
   ]
  },
  {
   "cell_type": "markdown",
   "id": "e5a4c991-7ee9-43f2-b89d-722f90ba7882",
   "metadata": {},
   "source": [
    "Как и в случае с одним товаром в заказе удалось существенно снизить цену упаковки."
   ]
  },
  {
   "cell_type": "code",
   "execution_count": null,
   "id": "c98a4b31-1396-40bb-a14b-26f45dad95cd",
   "metadata": {},
   "outputs": [],
   "source": []
  }
 ],
 "metadata": {
  "kernelspec": {
   "display_name": "Python 3 (ipykernel)",
   "language": "python",
   "name": "python3"
  },
  "language_info": {
   "codemirror_mode": {
    "name": "ipython",
    "version": 3
   },
   "file_extension": ".py",
   "mimetype": "text/x-python",
   "name": "python",
   "nbconvert_exporter": "python",
   "pygments_lexer": "ipython3",
   "version": "3.9.16"
  }
 },
 "nbformat": 4,
 "nbformat_minor": 5
}
