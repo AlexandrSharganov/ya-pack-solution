{
 "cells": [
  {
   "cell_type": "code",
   "execution_count": 32,
   "id": "58d1b1c3-85a9-4ef1-9a7c-43df8856cc9d",
   "metadata": {
    "tags": []
   },
   "outputs": [],
   "source": [
    "import pandas as pd\n",
    "import numpy as np\n",
    "\n",
    "from sklearn.model_selection import cross_validate\n",
    "from sklearn.model_selection import StratifiedKFold\n",
    "from sklearn.neighbors import KNeighborsClassifier\n",
    "from sklearn.preprocessing import StandardScaler\n",
    "\n",
    "import matplotlib.pyplot as plt\n",
    "import seaborn as sns\n",
    "\n",
    "import catboost\n",
    "\n",
    "import warnings\n",
    "\n",
    "warnings.filterwarnings('ignore')\n",
    "sns.set(rc={'figure.figsize':(10,6)}, style=\"darkgrid\")\n",
    "pd.options.display.max_colwidth = 500\n",
    "pd.options.display.max_columns = 100\n",
    "pd.options.display.max_rows = 100"
   ]
  },
  {
   "cell_type": "markdown",
   "id": "56a0f936-fbe1-44e7-84ba-5c49b8f180aa",
   "metadata": {},
   "source": [
    "## Определение упаковки для заказов \"один-заказ-один-товар\""
   ]
  },
  {
   "cell_type": "markdown",
   "id": "65f968d1-52eb-4373-9196-fa02dd91091a",
   "metadata": {},
   "source": [
    "Чтение данных"
   ]
  },
  {
   "cell_type": "code",
   "execution_count": 2,
   "id": "27b2b1dc-8fc3-4433-aa93-76c3ac1901a8",
   "metadata": {
    "tags": []
   },
   "outputs": [],
   "source": [
    "data = pd.read_csv('data/data.csv', index_col=0)\\\n",
    "        .drop(['whs', 'selected_carton', 'sel_calc_cube', 'recommended_carton',\n",
    "              'pack_volume', 'rec_calc_cube', 'who', 'trackingid', 'recommended_cartontype'], axis=1)\n",
    "cargotype = pd.read_csv('data/cargotype_sort.csv', index_col=0)\n",
    "sku_cargotypes = pd.read_csv('data/sku_cargotypes_filtered.csv')#только sku которые есть в data\n",
    "sku = pd.read_csv('data/sku_filtered.csv')#только sku которые есть в data"
   ]
  },
  {
   "cell_type": "markdown",
   "id": "4b2cf54a-c932-4542-883d-801938b4357f",
   "metadata": {},
   "source": [
    "Распределение заказов по количеству товаров:"
   ]
  },
  {
   "cell_type": "code",
   "execution_count": 3,
   "id": "e015c366-2a16-4cdc-af1a-393a4b05525d",
   "metadata": {
    "tags": []
   },
   "outputs": [
    {
     "data": {
      "text/html": [
       "<div>\n",
       "<style scoped>\n",
       "    .dataframe tbody tr th:only-of-type {\n",
       "        vertical-align: middle;\n",
       "    }\n",
       "\n",
       "    .dataframe tbody tr th {\n",
       "        vertical-align: top;\n",
       "    }\n",
       "\n",
       "    .dataframe thead th {\n",
       "        text-align: right;\n",
       "    }\n",
       "</style>\n",
       "<table border=\"1\" class=\"dataframe\">\n",
       "  <thead>\n",
       "    <tr style=\"text-align: right;\">\n",
       "      <th></th>\n",
       "      <th>goods_amount</th>\n",
       "      <th>share</th>\n",
       "    </tr>\n",
       "  </thead>\n",
       "  <tbody>\n",
       "    <tr>\n",
       "      <th>0</th>\n",
       "      <td>1</td>\n",
       "      <td>0.650</td>\n",
       "    </tr>\n",
       "    <tr>\n",
       "      <th>1</th>\n",
       "      <td>2</td>\n",
       "      <td>0.167</td>\n",
       "    </tr>\n",
       "    <tr>\n",
       "      <th>2</th>\n",
       "      <td>3</td>\n",
       "      <td>0.065</td>\n",
       "    </tr>\n",
       "    <tr>\n",
       "      <th>3</th>\n",
       "      <td>4</td>\n",
       "      <td>0.040</td>\n",
       "    </tr>\n",
       "    <tr>\n",
       "      <th>4</th>\n",
       "      <td>5</td>\n",
       "      <td>0.024</td>\n",
       "    </tr>\n",
       "    <tr>\n",
       "      <th>5</th>\n",
       "      <td>6</td>\n",
       "      <td>0.016</td>\n",
       "    </tr>\n",
       "    <tr>\n",
       "      <th>6</th>\n",
       "      <td>7</td>\n",
       "      <td>0.008</td>\n",
       "    </tr>\n",
       "    <tr>\n",
       "      <th>7</th>\n",
       "      <td>8</td>\n",
       "      <td>0.006</td>\n",
       "    </tr>\n",
       "    <tr>\n",
       "      <th>8</th>\n",
       "      <td>10</td>\n",
       "      <td>0.006</td>\n",
       "    </tr>\n",
       "    <tr>\n",
       "      <th>9</th>\n",
       "      <td>9</td>\n",
       "      <td>0.004</td>\n",
       "    </tr>\n",
       "  </tbody>\n",
       "</table>\n",
       "</div>"
      ],
      "text/plain": [
       "   goods_amount  share\n",
       "0             1  0.650\n",
       "1             2  0.167\n",
       "2             3  0.065\n",
       "3             4  0.040\n",
       "4             5  0.024\n",
       "5             6  0.016\n",
       "6             7  0.008\n",
       "7             8  0.006\n",
       "8            10  0.006\n",
       "9             9  0.004"
      ]
     },
     "execution_count": 3,
     "metadata": {},
     "output_type": "execute_result"
    }
   ],
   "source": [
    "round(data.groupby('orderkey')['sku'].count().value_counts(normalize=True)\n",
    "            .head(10).reset_index().rename({'index':'goods_amount',\n",
    "                                           'sku': 'share'}, axis=1),3)"
   ]
  },
  {
   "cell_type": "markdown",
   "id": "7345a2cf-4115-40d2-b995-1c06ccbd0310",
   "metadata": {},
   "source": [
    "Из таблицы выше видно что в 65% заказов у нас всего лишь один товар. Поэтому целесообразно выделить такие заказы в отдельную категорию и для них делать рекомендацию. Около 23% заказов с 2-3 товарами, их мы так же выделим в отдельную категорию. Все остальные заказы будем рассматривать так же отдельно, их доля очень небольшая и здесь будет необходим особый подход. "
   ]
  },
  {
   "cell_type": "markdown",
   "id": "503ee1cf-6c53-4824-87a0-dc5a50e40387",
   "metadata": {},
   "source": [
    "Словарь для приведения карготипов к тем которые мы определили "
   ]
  },
  {
   "cell_type": "code",
   "execution_count": 4,
   "id": "74ac3701-bbe7-469a-9777-1ba61c6dbfcc",
   "metadata": {
    "tags": []
   },
   "outputs": [],
   "source": [
    "cargotype_dict = dict(zip(cargotype.cargotype, cargotype.sort))"
   ]
  },
  {
   "cell_type": "markdown",
   "id": "a83938b8-a418-47b7-9cc1-ad7c0b5738a8",
   "metadata": {},
   "source": [
    "Выделение из data заказов в которых только один товар"
   ]
  },
  {
   "cell_type": "code",
   "execution_count": 5,
   "id": "5b83162b-24f9-42e5-9a7b-c1d62f77a2bd",
   "metadata": {
    "tags": []
   },
   "outputs": [
    {
     "name": "stdout",
     "output_type": "stream",
     "text": [
      "Orders with one item: 103970\n"
     ]
    }
   ],
   "source": [
    "one_item_list = (data.groupby('orderkey')['sku'].count().reset_index()\n",
    "                 .query('sku==1')['orderkey'].to_list())\n",
    "data_single = data[data.orderkey.isin(one_item_list)]\n",
    "print(f'Orders with one item: {data_single.shape[0]}')"
   ]
  },
  {
   "cell_type": "markdown",
   "id": "c9a69569-b389-4ed9-a7f1-0cb900a37af0",
   "metadata": {},
   "source": [
    "Какие-то товары занимают больше одной посылки. "
   ]
  },
  {
   "cell_type": "code",
   "execution_count": 6,
   "id": "45b16a0a-1eab-498f-aacc-663fa5d4a464",
   "metadata": {
    "tags": []
   },
   "outputs": [
    {
     "data": {
      "text/plain": [
       "980"
      ]
     },
     "execution_count": 6,
     "metadata": {},
     "output_type": "execute_result"
    }
   ],
   "source": [
    "data_single[data_single.box_num != 1].shape[0]"
   ]
  },
  {
   "cell_type": "markdown",
   "id": "6e386c2c-e055-4044-862b-e155f3c2ddea",
   "metadata": {},
   "source": [
    "Их совсем немного, отбросим их"
   ]
  },
  {
   "cell_type": "code",
   "execution_count": 7,
   "id": "a33a727c-39be-42ec-92d6-d118b5daac43",
   "metadata": {
    "tags": []
   },
   "outputs": [],
   "source": [
    "data_single = data_single[data_single.box_num == 1].drop('box_num', axis=1)"
   ]
  },
  {
   "cell_type": "markdown",
   "id": "4243604e-cfe5-423f-9abf-135e9b5857c2",
   "metadata": {},
   "source": [
    "### Признаки для товаров"
   ]
  },
  {
   "cell_type": "markdown",
   "id": "c7a6bf9b-03c0-411e-85b4-027d708e7dac",
   "metadata": {},
   "source": [
    "Для каждого товара у нас есть линейные размеры, вес а так же карготипы. Попробуем использовать все эти признаки для обучения классификатора."
   ]
  },
  {
   "cell_type": "markdown",
   "id": "add02a29-1bd3-4d9f-bdc4-9defbf0f6a2e",
   "metadata": {},
   "source": [
    "Линейные размеры и вес мы можем использовать как есть, а карготипы закодируем для товаров по принципу One-Hot. И добавим к ним линейные размеры."
   ]
  },
  {
   "cell_type": "code",
   "execution_count": 8,
   "id": "2854e98b-8e11-4072-a434-d3e59ca12390",
   "metadata": {
    "tags": []
   },
   "outputs": [],
   "source": [
    "sku_cargotypes['cargotype'] = sku_cargotypes.cargotype.map(cargotype_dict)\n",
    "sku_cargotypes = sku_cargotypes.drop_duplicates()"
   ]
  },
  {
   "cell_type": "code",
   "execution_count": 9,
   "id": "1374704f-5440-468b-a063-69bcc56b5108",
   "metadata": {
    "tags": []
   },
   "outputs": [
    {
     "data": {
      "text/html": [
       "<div>\n",
       "<style scoped>\n",
       "    .dataframe tbody tr th:only-of-type {\n",
       "        vertical-align: middle;\n",
       "    }\n",
       "\n",
       "    .dataframe tbody tr th {\n",
       "        vertical-align: top;\n",
       "    }\n",
       "\n",
       "    .dataframe thead th {\n",
       "        text-align: right;\n",
       "    }\n",
       "</style>\n",
       "<table border=\"1\" class=\"dataframe\">\n",
       "  <thead>\n",
       "    <tr style=\"text-align: right;\">\n",
       "      <th></th>\n",
       "      <th>sku</th>\n",
       "      <th>a</th>\n",
       "      <th>b</th>\n",
       "      <th>c</th>\n",
       "      <th>0</th>\n",
       "      <th>40</th>\n",
       "      <th>120</th>\n",
       "      <th>130</th>\n",
       "      <th>200</th>\n",
       "      <th>290</th>\n",
       "      <th>291</th>\n",
       "      <th>292</th>\n",
       "      <th>300</th>\n",
       "      <th>302</th>\n",
       "      <th>303</th>\n",
       "      <th>305</th>\n",
       "      <th>310</th>\n",
       "      <th>320</th>\n",
       "      <th>340</th>\n",
       "      <th>360</th>\n",
       "      <th>400</th>\n",
       "      <th>410</th>\n",
       "      <th>440</th>\n",
       "      <th>460</th>\n",
       "      <th>480</th>\n",
       "      <th>485</th>\n",
       "      <th>520</th>\n",
       "      <th>610</th>\n",
       "      <th>620</th>\n",
       "      <th>641</th>\n",
       "      <th>670</th>\n",
       "      <th>700</th>\n",
       "      <th>900</th>\n",
       "      <th>910</th>\n",
       "      <th>950</th>\n",
       "      <th>960</th>\n",
       "      <th>970</th>\n",
       "    </tr>\n",
       "  </thead>\n",
       "  <tbody>\n",
       "    <tr>\n",
       "      <th>0</th>\n",
       "      <td>ae7ae9137e6e1a8182c1775c7ab00c32</td>\n",
       "      <td>18.8</td>\n",
       "      <td>10.8</td>\n",
       "      <td>25.4</td>\n",
       "      <td>0.0</td>\n",
       "      <td>0.0</td>\n",
       "      <td>0.0</td>\n",
       "      <td>0.0</td>\n",
       "      <td>0.0</td>\n",
       "      <td>1.0</td>\n",
       "      <td>0.0</td>\n",
       "      <td>0.0</td>\n",
       "      <td>0.0</td>\n",
       "      <td>0.0</td>\n",
       "      <td>0.0</td>\n",
       "      <td>0.0</td>\n",
       "      <td>0.0</td>\n",
       "      <td>0.0</td>\n",
       "      <td>0.0</td>\n",
       "      <td>1.0</td>\n",
       "      <td>0.0</td>\n",
       "      <td>1.0</td>\n",
       "      <td>0.0</td>\n",
       "      <td>0.0</td>\n",
       "      <td>1.0</td>\n",
       "      <td>1.0</td>\n",
       "      <td>1.0</td>\n",
       "      <td>0.0</td>\n",
       "      <td>0.0</td>\n",
       "      <td>0.0</td>\n",
       "      <td>0.0</td>\n",
       "      <td>0.0</td>\n",
       "      <td>0.0</td>\n",
       "      <td>0.0</td>\n",
       "      <td>0.0</td>\n",
       "      <td>0.0</td>\n",
       "      <td>0.0</td>\n",
       "    </tr>\n",
       "    <tr>\n",
       "      <th>1</th>\n",
       "      <td>cb9f88920f9818608addfbd259d7fc52</td>\n",
       "      <td>20.8</td>\n",
       "      <td>12.0</td>\n",
       "      <td>32.0</td>\n",
       "      <td>0.0</td>\n",
       "      <td>0.0</td>\n",
       "      <td>0.0</td>\n",
       "      <td>0.0</td>\n",
       "      <td>0.0</td>\n",
       "      <td>1.0</td>\n",
       "      <td>0.0</td>\n",
       "      <td>0.0</td>\n",
       "      <td>0.0</td>\n",
       "      <td>0.0</td>\n",
       "      <td>0.0</td>\n",
       "      <td>0.0</td>\n",
       "      <td>0.0</td>\n",
       "      <td>0.0</td>\n",
       "      <td>0.0</td>\n",
       "      <td>1.0</td>\n",
       "      <td>0.0</td>\n",
       "      <td>0.0</td>\n",
       "      <td>0.0</td>\n",
       "      <td>0.0</td>\n",
       "      <td>0.0</td>\n",
       "      <td>0.0</td>\n",
       "      <td>0.0</td>\n",
       "      <td>0.0</td>\n",
       "      <td>0.0</td>\n",
       "      <td>0.0</td>\n",
       "      <td>0.0</td>\n",
       "      <td>0.0</td>\n",
       "      <td>0.0</td>\n",
       "      <td>0.0</td>\n",
       "      <td>1.0</td>\n",
       "      <td>0.0</td>\n",
       "      <td>0.0</td>\n",
       "    </tr>\n",
       "    <tr>\n",
       "      <th>2</th>\n",
       "      <td>07bec5987e4ed7450ed127fe865edb74</td>\n",
       "      <td>24.0</td>\n",
       "      <td>22.0</td>\n",
       "      <td>31.0</td>\n",
       "      <td>0.0</td>\n",
       "      <td>0.0</td>\n",
       "      <td>0.0</td>\n",
       "      <td>0.0</td>\n",
       "      <td>1.0</td>\n",
       "      <td>1.0</td>\n",
       "      <td>0.0</td>\n",
       "      <td>0.0</td>\n",
       "      <td>0.0</td>\n",
       "      <td>0.0</td>\n",
       "      <td>0.0</td>\n",
       "      <td>0.0</td>\n",
       "      <td>1.0</td>\n",
       "      <td>0.0</td>\n",
       "      <td>1.0</td>\n",
       "      <td>0.0</td>\n",
       "      <td>0.0</td>\n",
       "      <td>0.0</td>\n",
       "      <td>0.0</td>\n",
       "      <td>0.0</td>\n",
       "      <td>0.0</td>\n",
       "      <td>0.0</td>\n",
       "      <td>0.0</td>\n",
       "      <td>0.0</td>\n",
       "      <td>0.0</td>\n",
       "      <td>0.0</td>\n",
       "      <td>0.0</td>\n",
       "      <td>0.0</td>\n",
       "      <td>0.0</td>\n",
       "      <td>0.0</td>\n",
       "      <td>0.0</td>\n",
       "      <td>0.0</td>\n",
       "      <td>0.0</td>\n",
       "    </tr>\n",
       "    <tr>\n",
       "      <th>3</th>\n",
       "      <td>62231a21355b06a0c8ed9d77c48d4c1a</td>\n",
       "      <td>33.0</td>\n",
       "      <td>39.0</td>\n",
       "      <td>11.0</td>\n",
       "      <td>0.0</td>\n",
       "      <td>0.0</td>\n",
       "      <td>0.0</td>\n",
       "      <td>0.0</td>\n",
       "      <td>1.0</td>\n",
       "      <td>1.0</td>\n",
       "      <td>0.0</td>\n",
       "      <td>0.0</td>\n",
       "      <td>0.0</td>\n",
       "      <td>0.0</td>\n",
       "      <td>0.0</td>\n",
       "      <td>0.0</td>\n",
       "      <td>0.0</td>\n",
       "      <td>0.0</td>\n",
       "      <td>0.0</td>\n",
       "      <td>1.0</td>\n",
       "      <td>0.0</td>\n",
       "      <td>0.0</td>\n",
       "      <td>0.0</td>\n",
       "      <td>0.0</td>\n",
       "      <td>0.0</td>\n",
       "      <td>0.0</td>\n",
       "      <td>0.0</td>\n",
       "      <td>0.0</td>\n",
       "      <td>0.0</td>\n",
       "      <td>0.0</td>\n",
       "      <td>0.0</td>\n",
       "      <td>0.0</td>\n",
       "      <td>0.0</td>\n",
       "      <td>0.0</td>\n",
       "      <td>0.0</td>\n",
       "      <td>0.0</td>\n",
       "      <td>0.0</td>\n",
       "    </tr>\n",
       "    <tr>\n",
       "      <th>4</th>\n",
       "      <td>e2f650b9c349505e9aa313081012016f</td>\n",
       "      <td>41.1</td>\n",
       "      <td>12.3</td>\n",
       "      <td>22.5</td>\n",
       "      <td>0.0</td>\n",
       "      <td>0.0</td>\n",
       "      <td>0.0</td>\n",
       "      <td>0.0</td>\n",
       "      <td>0.0</td>\n",
       "      <td>1.0</td>\n",
       "      <td>0.0</td>\n",
       "      <td>0.0</td>\n",
       "      <td>0.0</td>\n",
       "      <td>0.0</td>\n",
       "      <td>0.0</td>\n",
       "      <td>0.0</td>\n",
       "      <td>0.0</td>\n",
       "      <td>0.0</td>\n",
       "      <td>0.0</td>\n",
       "      <td>1.0</td>\n",
       "      <td>0.0</td>\n",
       "      <td>0.0</td>\n",
       "      <td>0.0</td>\n",
       "      <td>0.0</td>\n",
       "      <td>0.0</td>\n",
       "      <td>0.0</td>\n",
       "      <td>0.0</td>\n",
       "      <td>0.0</td>\n",
       "      <td>0.0</td>\n",
       "      <td>0.0</td>\n",
       "      <td>0.0</td>\n",
       "      <td>0.0</td>\n",
       "      <td>0.0</td>\n",
       "      <td>0.0</td>\n",
       "      <td>1.0</td>\n",
       "      <td>0.0</td>\n",
       "      <td>0.0</td>\n",
       "    </tr>\n",
       "    <tr>\n",
       "      <th>...</th>\n",
       "      <td>...</td>\n",
       "      <td>...</td>\n",
       "      <td>...</td>\n",
       "      <td>...</td>\n",
       "      <td>...</td>\n",
       "      <td>...</td>\n",
       "      <td>...</td>\n",
       "      <td>...</td>\n",
       "      <td>...</td>\n",
       "      <td>...</td>\n",
       "      <td>...</td>\n",
       "      <td>...</td>\n",
       "      <td>...</td>\n",
       "      <td>...</td>\n",
       "      <td>...</td>\n",
       "      <td>...</td>\n",
       "      <td>...</td>\n",
       "      <td>...</td>\n",
       "      <td>...</td>\n",
       "      <td>...</td>\n",
       "      <td>...</td>\n",
       "      <td>...</td>\n",
       "      <td>...</td>\n",
       "      <td>...</td>\n",
       "      <td>...</td>\n",
       "      <td>...</td>\n",
       "      <td>...</td>\n",
       "      <td>...</td>\n",
       "      <td>...</td>\n",
       "      <td>...</td>\n",
       "      <td>...</td>\n",
       "      <td>...</td>\n",
       "      <td>...</td>\n",
       "      <td>...</td>\n",
       "      <td>...</td>\n",
       "      <td>...</td>\n",
       "      <td>...</td>\n",
       "    </tr>\n",
       "    <tr>\n",
       "      <th>80573</th>\n",
       "      <td>a23a306b31f1e95446dd630aa2438c15</td>\n",
       "      <td>15.0</td>\n",
       "      <td>15.0</td>\n",
       "      <td>14.0</td>\n",
       "      <td>0.0</td>\n",
       "      <td>0.0</td>\n",
       "      <td>0.0</td>\n",
       "      <td>0.0</td>\n",
       "      <td>1.0</td>\n",
       "      <td>1.0</td>\n",
       "      <td>0.0</td>\n",
       "      <td>0.0</td>\n",
       "      <td>0.0</td>\n",
       "      <td>0.0</td>\n",
       "      <td>0.0</td>\n",
       "      <td>0.0</td>\n",
       "      <td>0.0</td>\n",
       "      <td>0.0</td>\n",
       "      <td>0.0</td>\n",
       "      <td>0.0</td>\n",
       "      <td>0.0</td>\n",
       "      <td>0.0</td>\n",
       "      <td>0.0</td>\n",
       "      <td>0.0</td>\n",
       "      <td>0.0</td>\n",
       "      <td>0.0</td>\n",
       "      <td>0.0</td>\n",
       "      <td>0.0</td>\n",
       "      <td>0.0</td>\n",
       "      <td>0.0</td>\n",
       "      <td>0.0</td>\n",
       "      <td>0.0</td>\n",
       "      <td>0.0</td>\n",
       "      <td>0.0</td>\n",
       "      <td>0.0</td>\n",
       "      <td>0.0</td>\n",
       "      <td>0.0</td>\n",
       "    </tr>\n",
       "    <tr>\n",
       "      <th>80574</th>\n",
       "      <td>fd692b4a0144821db8bdd6338ba746fa</td>\n",
       "      <td>12.0</td>\n",
       "      <td>8.0</td>\n",
       "      <td>8.0</td>\n",
       "      <td>1.0</td>\n",
       "      <td>0.0</td>\n",
       "      <td>0.0</td>\n",
       "      <td>0.0</td>\n",
       "      <td>0.0</td>\n",
       "      <td>1.0</td>\n",
       "      <td>0.0</td>\n",
       "      <td>0.0</td>\n",
       "      <td>0.0</td>\n",
       "      <td>0.0</td>\n",
       "      <td>0.0</td>\n",
       "      <td>0.0</td>\n",
       "      <td>0.0</td>\n",
       "      <td>0.0</td>\n",
       "      <td>0.0</td>\n",
       "      <td>0.0</td>\n",
       "      <td>0.0</td>\n",
       "      <td>1.0</td>\n",
       "      <td>0.0</td>\n",
       "      <td>0.0</td>\n",
       "      <td>0.0</td>\n",
       "      <td>0.0</td>\n",
       "      <td>0.0</td>\n",
       "      <td>0.0</td>\n",
       "      <td>0.0</td>\n",
       "      <td>0.0</td>\n",
       "      <td>0.0</td>\n",
       "      <td>0.0</td>\n",
       "      <td>0.0</td>\n",
       "      <td>0.0</td>\n",
       "      <td>0.0</td>\n",
       "      <td>0.0</td>\n",
       "      <td>0.0</td>\n",
       "    </tr>\n",
       "    <tr>\n",
       "      <th>80575</th>\n",
       "      <td>989023e3412cc7c5733fd6dd633b210f</td>\n",
       "      <td>2.0</td>\n",
       "      <td>10.0</td>\n",
       "      <td>8.0</td>\n",
       "      <td>1.0</td>\n",
       "      <td>0.0</td>\n",
       "      <td>0.0</td>\n",
       "      <td>0.0</td>\n",
       "      <td>0.0</td>\n",
       "      <td>1.0</td>\n",
       "      <td>0.0</td>\n",
       "      <td>0.0</td>\n",
       "      <td>0.0</td>\n",
       "      <td>0.0</td>\n",
       "      <td>0.0</td>\n",
       "      <td>0.0</td>\n",
       "      <td>0.0</td>\n",
       "      <td>0.0</td>\n",
       "      <td>0.0</td>\n",
       "      <td>0.0</td>\n",
       "      <td>0.0</td>\n",
       "      <td>0.0</td>\n",
       "      <td>1.0</td>\n",
       "      <td>0.0</td>\n",
       "      <td>0.0</td>\n",
       "      <td>1.0</td>\n",
       "      <td>0.0</td>\n",
       "      <td>0.0</td>\n",
       "      <td>0.0</td>\n",
       "      <td>0.0</td>\n",
       "      <td>0.0</td>\n",
       "      <td>0.0</td>\n",
       "      <td>0.0</td>\n",
       "      <td>0.0</td>\n",
       "      <td>0.0</td>\n",
       "      <td>0.0</td>\n",
       "      <td>0.0</td>\n",
       "    </tr>\n",
       "    <tr>\n",
       "      <th>80576</th>\n",
       "      <td>07320a5322e31990d724f5ea6be56ddb</td>\n",
       "      <td>1.0</td>\n",
       "      <td>15.0</td>\n",
       "      <td>11.0</td>\n",
       "      <td>1.0</td>\n",
       "      <td>0.0</td>\n",
       "      <td>0.0</td>\n",
       "      <td>0.0</td>\n",
       "      <td>0.0</td>\n",
       "      <td>1.0</td>\n",
       "      <td>0.0</td>\n",
       "      <td>0.0</td>\n",
       "      <td>0.0</td>\n",
       "      <td>0.0</td>\n",
       "      <td>0.0</td>\n",
       "      <td>0.0</td>\n",
       "      <td>0.0</td>\n",
       "      <td>1.0</td>\n",
       "      <td>0.0</td>\n",
       "      <td>0.0</td>\n",
       "      <td>0.0</td>\n",
       "      <td>0.0</td>\n",
       "      <td>0.0</td>\n",
       "      <td>0.0</td>\n",
       "      <td>0.0</td>\n",
       "      <td>0.0</td>\n",
       "      <td>0.0</td>\n",
       "      <td>0.0</td>\n",
       "      <td>0.0</td>\n",
       "      <td>0.0</td>\n",
       "      <td>0.0</td>\n",
       "      <td>0.0</td>\n",
       "      <td>0.0</td>\n",
       "      <td>0.0</td>\n",
       "      <td>0.0</td>\n",
       "      <td>0.0</td>\n",
       "      <td>0.0</td>\n",
       "    </tr>\n",
       "    <tr>\n",
       "      <th>80577</th>\n",
       "      <td>6146f9a42ec0621d2c5d609e40292c4a</td>\n",
       "      <td>1.0</td>\n",
       "      <td>16.0</td>\n",
       "      <td>11.0</td>\n",
       "      <td>1.0</td>\n",
       "      <td>0.0</td>\n",
       "      <td>0.0</td>\n",
       "      <td>0.0</td>\n",
       "      <td>0.0</td>\n",
       "      <td>1.0</td>\n",
       "      <td>0.0</td>\n",
       "      <td>0.0</td>\n",
       "      <td>0.0</td>\n",
       "      <td>0.0</td>\n",
       "      <td>0.0</td>\n",
       "      <td>0.0</td>\n",
       "      <td>0.0</td>\n",
       "      <td>1.0</td>\n",
       "      <td>0.0</td>\n",
       "      <td>0.0</td>\n",
       "      <td>0.0</td>\n",
       "      <td>0.0</td>\n",
       "      <td>0.0</td>\n",
       "      <td>0.0</td>\n",
       "      <td>0.0</td>\n",
       "      <td>0.0</td>\n",
       "      <td>0.0</td>\n",
       "      <td>0.0</td>\n",
       "      <td>0.0</td>\n",
       "      <td>0.0</td>\n",
       "      <td>0.0</td>\n",
       "      <td>0.0</td>\n",
       "      <td>0.0</td>\n",
       "      <td>0.0</td>\n",
       "      <td>0.0</td>\n",
       "      <td>0.0</td>\n",
       "      <td>0.0</td>\n",
       "    </tr>\n",
       "  </tbody>\n",
       "</table>\n",
       "<p>80552 rows × 37 columns</p>\n",
       "</div>"
      ],
      "text/plain": [
       "                                    sku     a     b     c    0   40  120  130  \\\n",
       "0      ae7ae9137e6e1a8182c1775c7ab00c32  18.8  10.8  25.4  0.0  0.0  0.0  0.0   \n",
       "1      cb9f88920f9818608addfbd259d7fc52  20.8  12.0  32.0  0.0  0.0  0.0  0.0   \n",
       "2      07bec5987e4ed7450ed127fe865edb74  24.0  22.0  31.0  0.0  0.0  0.0  0.0   \n",
       "3      62231a21355b06a0c8ed9d77c48d4c1a  33.0  39.0  11.0  0.0  0.0  0.0  0.0   \n",
       "4      e2f650b9c349505e9aa313081012016f  41.1  12.3  22.5  0.0  0.0  0.0  0.0   \n",
       "...                                 ...   ...   ...   ...  ...  ...  ...  ...   \n",
       "80573  a23a306b31f1e95446dd630aa2438c15  15.0  15.0  14.0  0.0  0.0  0.0  0.0   \n",
       "80574  fd692b4a0144821db8bdd6338ba746fa  12.0   8.0   8.0  1.0  0.0  0.0  0.0   \n",
       "80575  989023e3412cc7c5733fd6dd633b210f   2.0  10.0   8.0  1.0  0.0  0.0  0.0   \n",
       "80576  07320a5322e31990d724f5ea6be56ddb   1.0  15.0  11.0  1.0  0.0  0.0  0.0   \n",
       "80577  6146f9a42ec0621d2c5d609e40292c4a   1.0  16.0  11.0  1.0  0.0  0.0  0.0   \n",
       "\n",
       "       200  290  291  292  300  302  303  305  310  320  340  360  400  410  \\\n",
       "0      0.0  1.0  0.0  0.0  0.0  0.0  0.0  0.0  0.0  0.0  0.0  1.0  0.0  1.0   \n",
       "1      0.0  1.0  0.0  0.0  0.0  0.0  0.0  0.0  0.0  0.0  0.0  1.0  0.0  0.0   \n",
       "2      1.0  1.0  0.0  0.0  0.0  0.0  0.0  0.0  1.0  0.0  1.0  0.0  0.0  0.0   \n",
       "3      1.0  1.0  0.0  0.0  0.0  0.0  0.0  0.0  0.0  0.0  0.0  1.0  0.0  0.0   \n",
       "4      0.0  1.0  0.0  0.0  0.0  0.0  0.0  0.0  0.0  0.0  0.0  1.0  0.0  0.0   \n",
       "...    ...  ...  ...  ...  ...  ...  ...  ...  ...  ...  ...  ...  ...  ...   \n",
       "80573  1.0  1.0  0.0  0.0  0.0  0.0  0.0  0.0  0.0  0.0  0.0  0.0  0.0  0.0   \n",
       "80574  0.0  1.0  0.0  0.0  0.0  0.0  0.0  0.0  0.0  0.0  0.0  0.0  0.0  1.0   \n",
       "80575  0.0  1.0  0.0  0.0  0.0  0.0  0.0  0.0  0.0  0.0  0.0  0.0  0.0  0.0   \n",
       "80576  0.0  1.0  0.0  0.0  0.0  0.0  0.0  0.0  0.0  1.0  0.0  0.0  0.0  0.0   \n",
       "80577  0.0  1.0  0.0  0.0  0.0  0.0  0.0  0.0  0.0  1.0  0.0  0.0  0.0  0.0   \n",
       "\n",
       "       440  460  480  485  520  610  620  641  670  700  900  910  950  960  \\\n",
       "0      0.0  0.0  1.0  1.0  1.0  0.0  0.0  0.0  0.0  0.0  0.0  0.0  0.0  0.0   \n",
       "1      0.0  0.0  0.0  0.0  0.0  0.0  0.0  0.0  0.0  0.0  0.0  0.0  1.0  0.0   \n",
       "2      0.0  0.0  0.0  0.0  0.0  0.0  0.0  0.0  0.0  0.0  0.0  0.0  0.0  0.0   \n",
       "3      0.0  0.0  0.0  0.0  0.0  0.0  0.0  0.0  0.0  0.0  0.0  0.0  0.0  0.0   \n",
       "4      0.0  0.0  0.0  0.0  0.0  0.0  0.0  0.0  0.0  0.0  0.0  0.0  1.0  0.0   \n",
       "...    ...  ...  ...  ...  ...  ...  ...  ...  ...  ...  ...  ...  ...  ...   \n",
       "80573  0.0  0.0  0.0  0.0  0.0  0.0  0.0  0.0  0.0  0.0  0.0  0.0  0.0  0.0   \n",
       "80574  0.0  0.0  0.0  0.0  0.0  0.0  0.0  0.0  0.0  0.0  0.0  0.0  0.0  0.0   \n",
       "80575  1.0  0.0  0.0  1.0  0.0  0.0  0.0  0.0  0.0  0.0  0.0  0.0  0.0  0.0   \n",
       "80576  0.0  0.0  0.0  0.0  0.0  0.0  0.0  0.0  0.0  0.0  0.0  0.0  0.0  0.0   \n",
       "80577  0.0  0.0  0.0  0.0  0.0  0.0  0.0  0.0  0.0  0.0  0.0  0.0  0.0  0.0   \n",
       "\n",
       "       970  \n",
       "0      0.0  \n",
       "1      0.0  \n",
       "2      0.0  \n",
       "3      0.0  \n",
       "4      0.0  \n",
       "...    ...  \n",
       "80573  0.0  \n",
       "80574  0.0  \n",
       "80575  0.0  \n",
       "80576  0.0  \n",
       "80577  0.0  \n",
       "\n",
       "[80552 rows x 37 columns]"
      ]
     },
     "execution_count": 9,
     "metadata": {},
     "output_type": "execute_result"
    }
   ],
   "source": [
    "sku_cargotypes_ohe = pd.crosstab(sku_cargotypes.sku, \n",
    "                                 columns=sku_cargotypes.cargotype).reset_index()\n",
    "sku = sku.merge(sku_cargotypes_ohe, \n",
    "                how='left', \n",
    "                on='sku').dropna()\n",
    "sku"
   ]
  },
  {
   "cell_type": "markdown",
   "id": "6878cf67-6d31-4f87-b4c3-39c47c3f23c5",
   "metadata": {},
   "source": [
    "Так же добавим дополнительные признаки:\n",
    "- минимальный и максимальный линейный размеры\n",
    "- общий объем товара"
   ]
  },
  {
   "cell_type": "code",
   "execution_count": 10,
   "id": "12eb052d-2471-4ffd-825a-48a863f42b26",
   "metadata": {
    "tags": []
   },
   "outputs": [],
   "source": [
    "sku['sku_volume'] = round(sku['a'] * sku['b'] * sku['c'])\n",
    "sku['min_sku_dim'] = sku[['a', 'b', 'c']].min(axis=1)\n",
    "sku['max_sku_dim'] = sku[['a', 'b', 'c']].max(axis=1)"
   ]
  },
  {
   "cell_type": "markdown",
   "id": "be016f4e-3cbc-456a-93c7-c35ad04af7d1",
   "metadata": {},
   "source": [
    "И соединим даные о товарах с данными о заказах."
   ]
  },
  {
   "cell_type": "code",
   "execution_count": 11,
   "id": "250f9aad-bdb2-478b-ab60-f84d9168d012",
   "metadata": {
    "tags": []
   },
   "outputs": [],
   "source": [
    "data_single = data_single.merge(sku, on='sku', how='left').dropna()"
   ]
  },
  {
   "cell_type": "markdown",
   "id": "effde5f8-8d6f-4521-8cf5-40dc5a7ddd61",
   "metadata": {},
   "source": [
    "Теперь посмотрим есть ли у нас неявные дубликаты. Так как это исторические данные и разные упаковщики могли использовать разную упаковку для одних и тех же товаров, то у нас могут быть разные ответы для классификации одних и тех же признаков. "
   ]
  },
  {
   "cell_type": "code",
   "execution_count": 12,
   "id": "baf45149-bf94-407f-9126-f7df58da62ce",
   "metadata": {
    "tags": []
   },
   "outputs": [
    {
     "data": {
      "text/plain": [
       "1     39093\n",
       "2      7059\n",
       "3      1518\n",
       "4       444\n",
       "5       156\n",
       "6        80\n",
       "7        31\n",
       "8        10\n",
       "9         4\n",
       "11        1\n",
       "10        1\n",
       "Name: selected_cartontype, dtype: int64"
      ]
     },
     "execution_count": 12,
     "metadata": {},
     "output_type": "execute_result"
    }
   ],
   "source": [
    "data_single.groupby('sku')['selected_cartontype'].nunique().value_counts()"
   ]
  },
  {
   "cell_type": "markdown",
   "id": "f2fe31dd-d983-4764-a3c6-c21ead8b61dd",
   "metadata": {},
   "source": [
    "Видно, что для одних и тех же sku довольно часто использовались разные упаковки. Возможно, это связанно с субъективностью упаковщиков или с какими-то другими обстоятельствами. Так как наша задача это в том числе и минимизация расходов на упаковку, то для товаров которые упаковывали в разные типы упаковок мы будем брать только самую оптимальную(дешевую) предполагая, что раз такую хотя бы однажды использовали, то она подходит для конкретного товара. "
   ]
  },
  {
   "cell_type": "code",
   "execution_count": 13,
   "id": "b4d74103-ed43-4616-b42c-a39ad5749b78",
   "metadata": {
    "tags": []
   },
   "outputs": [],
   "source": [
    "prices = pd.read_csv('data/carton_price.csv')\n",
    "prices_dict = dict(zip(prices.cartontype, \n",
    "                       prices.price))"
   ]
  },
  {
   "cell_type": "markdown",
   "id": "340472fa-12eb-4b84-98e0-74dae58e66f6",
   "metadata": {},
   "source": [
    "Поиск самой выгодной упаковки"
   ]
  },
  {
   "cell_type": "code",
   "execution_count": 14,
   "id": "ca48f711-d9b1-4067-86d4-409883e57050",
   "metadata": {
    "tags": []
   },
   "outputs": [],
   "source": [
    "def get_cheapest(l:list, \n",
    "                 prices:dict=prices_dict)-> str:\n",
    "    l = list(set(l))\n",
    "    l = sorted(l, key=lambda x: prices_dict.get(x, 0))\n",
    "    return l[0]"
   ]
  },
  {
   "cell_type": "markdown",
   "id": "5be22b78-2445-44dc-9b4a-3d53a2352bc1",
   "metadata": {
    "tags": []
   },
   "source": [
    "Все используемые упаковки для товаров"
   ]
  },
  {
   "cell_type": "code",
   "execution_count": 15,
   "id": "6ba77e63-4b79-42a5-a48e-49e10e6ec82f",
   "metadata": {
    "tags": []
   },
   "outputs": [],
   "source": [
    "packages = data_single.groupby('sku')['selected_cartontype'].apply(list).reset_index()\n",
    "packages['selected_cartontype'] = packages['selected_cartontype'].apply(get_cheapest)"
   ]
  },
  {
   "cell_type": "markdown",
   "id": "69eeaa4f-db7d-401a-94f0-756352ccb140",
   "metadata": {},
   "source": [
    "Добавим исправленные selected_cartontype в data_single, оригинальные упаковки уберем."
   ]
  },
  {
   "cell_type": "code",
   "execution_count": 16,
   "id": "dc3bd812-d3b7-413a-b9ce-36fc7b020bc3",
   "metadata": {
    "tags": []
   },
   "outputs": [
    {
     "data": {
      "text/html": [
       "<div>\n",
       "<style scoped>\n",
       "    .dataframe tbody tr th:only-of-type {\n",
       "        vertical-align: middle;\n",
       "    }\n",
       "\n",
       "    .dataframe tbody tr th {\n",
       "        vertical-align: top;\n",
       "    }\n",
       "\n",
       "    .dataframe thead th {\n",
       "        text-align: right;\n",
       "    }\n",
       "</style>\n",
       "<table border=\"1\" class=\"dataframe\">\n",
       "  <thead>\n",
       "    <tr style=\"text-align: right;\">\n",
       "      <th></th>\n",
       "      <th>orderkey</th>\n",
       "      <th>goods_wght</th>\n",
       "      <th>sku</th>\n",
       "      <th>a</th>\n",
       "      <th>b</th>\n",
       "      <th>c</th>\n",
       "      <th>0</th>\n",
       "      <th>40</th>\n",
       "      <th>120</th>\n",
       "      <th>130</th>\n",
       "      <th>200</th>\n",
       "      <th>290</th>\n",
       "      <th>291</th>\n",
       "      <th>292</th>\n",
       "      <th>300</th>\n",
       "      <th>302</th>\n",
       "      <th>303</th>\n",
       "      <th>305</th>\n",
       "      <th>310</th>\n",
       "      <th>320</th>\n",
       "      <th>340</th>\n",
       "      <th>360</th>\n",
       "      <th>400</th>\n",
       "      <th>410</th>\n",
       "      <th>440</th>\n",
       "      <th>460</th>\n",
       "      <th>480</th>\n",
       "      <th>485</th>\n",
       "      <th>520</th>\n",
       "      <th>610</th>\n",
       "      <th>620</th>\n",
       "      <th>641</th>\n",
       "      <th>670</th>\n",
       "      <th>700</th>\n",
       "      <th>900</th>\n",
       "      <th>910</th>\n",
       "      <th>950</th>\n",
       "      <th>960</th>\n",
       "      <th>970</th>\n",
       "      <th>sku_volume</th>\n",
       "      <th>min_sku_dim</th>\n",
       "      <th>max_sku_dim</th>\n",
       "      <th>selected_cartontype</th>\n",
       "    </tr>\n",
       "  </thead>\n",
       "  <tbody>\n",
       "    <tr>\n",
       "      <th>0</th>\n",
       "      <td>4b33fcc98ea1f59d6fe4eb2e0a48bb4b</td>\n",
       "      <td>0.896</td>\n",
       "      <td>6287a74b664fd8ad4ed5c541b399a82b</td>\n",
       "      <td>18.6</td>\n",
       "      <td>3.3</td>\n",
       "      <td>49.7</td>\n",
       "      <td>0.0</td>\n",
       "      <td>0.0</td>\n",
       "      <td>0.0</td>\n",
       "      <td>0.0</td>\n",
       "      <td>1.0</td>\n",
       "      <td>0.0</td>\n",
       "      <td>1.0</td>\n",
       "      <td>0.0</td>\n",
       "      <td>0.0</td>\n",
       "      <td>0.0</td>\n",
       "      <td>0.0</td>\n",
       "      <td>0.0</td>\n",
       "      <td>0.0</td>\n",
       "      <td>0.0</td>\n",
       "      <td>0.0</td>\n",
       "      <td>1.0</td>\n",
       "      <td>0.0</td>\n",
       "      <td>0.0</td>\n",
       "      <td>0.0</td>\n",
       "      <td>0.0</td>\n",
       "      <td>0.0</td>\n",
       "      <td>0.0</td>\n",
       "      <td>0.0</td>\n",
       "      <td>0.0</td>\n",
       "      <td>0.0</td>\n",
       "      <td>0.0</td>\n",
       "      <td>0.0</td>\n",
       "      <td>0.0</td>\n",
       "      <td>0.0</td>\n",
       "      <td>0.0</td>\n",
       "      <td>0.0</td>\n",
       "      <td>0.0</td>\n",
       "      <td>0.0</td>\n",
       "      <td>3051.0</td>\n",
       "      <td>3.3</td>\n",
       "      <td>49.7</td>\n",
       "      <td>STRETCH</td>\n",
       "    </tr>\n",
       "    <tr>\n",
       "      <th>1</th>\n",
       "      <td>3e646181f6f708edd3326c1626c12d23</td>\n",
       "      <td>4.400</td>\n",
       "      <td>ef468fa349bb8f058aa5dcd76bda60b2</td>\n",
       "      <td>30.0</td>\n",
       "      <td>23.0</td>\n",
       "      <td>22.0</td>\n",
       "      <td>0.0</td>\n",
       "      <td>0.0</td>\n",
       "      <td>0.0</td>\n",
       "      <td>0.0</td>\n",
       "      <td>1.0</td>\n",
       "      <td>1.0</td>\n",
       "      <td>0.0</td>\n",
       "      <td>0.0</td>\n",
       "      <td>0.0</td>\n",
       "      <td>0.0</td>\n",
       "      <td>0.0</td>\n",
       "      <td>0.0</td>\n",
       "      <td>0.0</td>\n",
       "      <td>0.0</td>\n",
       "      <td>1.0</td>\n",
       "      <td>0.0</td>\n",
       "      <td>0.0</td>\n",
       "      <td>0.0</td>\n",
       "      <td>0.0</td>\n",
       "      <td>0.0</td>\n",
       "      <td>0.0</td>\n",
       "      <td>0.0</td>\n",
       "      <td>0.0</td>\n",
       "      <td>0.0</td>\n",
       "      <td>0.0</td>\n",
       "      <td>0.0</td>\n",
       "      <td>0.0</td>\n",
       "      <td>0.0</td>\n",
       "      <td>0.0</td>\n",
       "      <td>0.0</td>\n",
       "      <td>0.0</td>\n",
       "      <td>0.0</td>\n",
       "      <td>0.0</td>\n",
       "      <td>15180.0</td>\n",
       "      <td>22.0</td>\n",
       "      <td>30.0</td>\n",
       "      <td>STRETCH</td>\n",
       "    </tr>\n",
       "    <tr>\n",
       "      <th>2</th>\n",
       "      <td>7047c16a6b7c120162ca3da0ebca43fd</td>\n",
       "      <td>0.700</td>\n",
       "      <td>d714bc5c946ec01d9b09714524805e5c</td>\n",
       "      <td>14.0</td>\n",
       "      <td>10.7</td>\n",
       "      <td>43.8</td>\n",
       "      <td>0.0</td>\n",
       "      <td>0.0</td>\n",
       "      <td>0.0</td>\n",
       "      <td>0.0</td>\n",
       "      <td>0.0</td>\n",
       "      <td>1.0</td>\n",
       "      <td>0.0</td>\n",
       "      <td>0.0</td>\n",
       "      <td>0.0</td>\n",
       "      <td>0.0</td>\n",
       "      <td>0.0</td>\n",
       "      <td>0.0</td>\n",
       "      <td>0.0</td>\n",
       "      <td>0.0</td>\n",
       "      <td>1.0</td>\n",
       "      <td>0.0</td>\n",
       "      <td>0.0</td>\n",
       "      <td>0.0</td>\n",
       "      <td>0.0</td>\n",
       "      <td>0.0</td>\n",
       "      <td>0.0</td>\n",
       "      <td>0.0</td>\n",
       "      <td>0.0</td>\n",
       "      <td>0.0</td>\n",
       "      <td>0.0</td>\n",
       "      <td>0.0</td>\n",
       "      <td>0.0</td>\n",
       "      <td>0.0</td>\n",
       "      <td>0.0</td>\n",
       "      <td>0.0</td>\n",
       "      <td>0.0</td>\n",
       "      <td>0.0</td>\n",
       "      <td>0.0</td>\n",
       "      <td>6561.0</td>\n",
       "      <td>10.7</td>\n",
       "      <td>43.8</td>\n",
       "      <td>STRETCH</td>\n",
       "    </tr>\n",
       "    <tr>\n",
       "      <th>3</th>\n",
       "      <td>097917e584151c0c21f205b2c3aafa10</td>\n",
       "      <td>2.078</td>\n",
       "      <td>eb0e661f3ed57ef7ca16418bf50e363e</td>\n",
       "      <td>23.4</td>\n",
       "      <td>8.0</td>\n",
       "      <td>33.9</td>\n",
       "      <td>0.0</td>\n",
       "      <td>0.0</td>\n",
       "      <td>0.0</td>\n",
       "      <td>0.0</td>\n",
       "      <td>1.0</td>\n",
       "      <td>1.0</td>\n",
       "      <td>0.0</td>\n",
       "      <td>0.0</td>\n",
       "      <td>0.0</td>\n",
       "      <td>0.0</td>\n",
       "      <td>0.0</td>\n",
       "      <td>0.0</td>\n",
       "      <td>0.0</td>\n",
       "      <td>0.0</td>\n",
       "      <td>0.0</td>\n",
       "      <td>1.0</td>\n",
       "      <td>0.0</td>\n",
       "      <td>0.0</td>\n",
       "      <td>0.0</td>\n",
       "      <td>0.0</td>\n",
       "      <td>0.0</td>\n",
       "      <td>0.0</td>\n",
       "      <td>0.0</td>\n",
       "      <td>0.0</td>\n",
       "      <td>0.0</td>\n",
       "      <td>0.0</td>\n",
       "      <td>0.0</td>\n",
       "      <td>0.0</td>\n",
       "      <td>0.0</td>\n",
       "      <td>0.0</td>\n",
       "      <td>0.0</td>\n",
       "      <td>0.0</td>\n",
       "      <td>0.0</td>\n",
       "      <td>6346.0</td>\n",
       "      <td>8.0</td>\n",
       "      <td>33.9</td>\n",
       "      <td>STRETCH</td>\n",
       "    </tr>\n",
       "    <tr>\n",
       "      <th>4</th>\n",
       "      <td>1d11d793924acefde0b7f2ad149e1b45</td>\n",
       "      <td>6.020</td>\n",
       "      <td>0588e43ea7ad1ef603059269db6467eb</td>\n",
       "      <td>30.0</td>\n",
       "      <td>47.0</td>\n",
       "      <td>15.0</td>\n",
       "      <td>0.0</td>\n",
       "      <td>0.0</td>\n",
       "      <td>0.0</td>\n",
       "      <td>0.0</td>\n",
       "      <td>0.0</td>\n",
       "      <td>0.0</td>\n",
       "      <td>1.0</td>\n",
       "      <td>0.0</td>\n",
       "      <td>0.0</td>\n",
       "      <td>0.0</td>\n",
       "      <td>0.0</td>\n",
       "      <td>0.0</td>\n",
       "      <td>0.0</td>\n",
       "      <td>1.0</td>\n",
       "      <td>1.0</td>\n",
       "      <td>0.0</td>\n",
       "      <td>0.0</td>\n",
       "      <td>1.0</td>\n",
       "      <td>0.0</td>\n",
       "      <td>0.0</td>\n",
       "      <td>1.0</td>\n",
       "      <td>1.0</td>\n",
       "      <td>0.0</td>\n",
       "      <td>0.0</td>\n",
       "      <td>0.0</td>\n",
       "      <td>0.0</td>\n",
       "      <td>0.0</td>\n",
       "      <td>0.0</td>\n",
       "      <td>0.0</td>\n",
       "      <td>0.0</td>\n",
       "      <td>0.0</td>\n",
       "      <td>0.0</td>\n",
       "      <td>0.0</td>\n",
       "      <td>21150.0</td>\n",
       "      <td>15.0</td>\n",
       "      <td>47.0</td>\n",
       "      <td>NONPACK</td>\n",
       "    </tr>\n",
       "    <tr>\n",
       "      <th>...</th>\n",
       "      <td>...</td>\n",
       "      <td>...</td>\n",
       "      <td>...</td>\n",
       "      <td>...</td>\n",
       "      <td>...</td>\n",
       "      <td>...</td>\n",
       "      <td>...</td>\n",
       "      <td>...</td>\n",
       "      <td>...</td>\n",
       "      <td>...</td>\n",
       "      <td>...</td>\n",
       "      <td>...</td>\n",
       "      <td>...</td>\n",
       "      <td>...</td>\n",
       "      <td>...</td>\n",
       "      <td>...</td>\n",
       "      <td>...</td>\n",
       "      <td>...</td>\n",
       "      <td>...</td>\n",
       "      <td>...</td>\n",
       "      <td>...</td>\n",
       "      <td>...</td>\n",
       "      <td>...</td>\n",
       "      <td>...</td>\n",
       "      <td>...</td>\n",
       "      <td>...</td>\n",
       "      <td>...</td>\n",
       "      <td>...</td>\n",
       "      <td>...</td>\n",
       "      <td>...</td>\n",
       "      <td>...</td>\n",
       "      <td>...</td>\n",
       "      <td>...</td>\n",
       "      <td>...</td>\n",
       "      <td>...</td>\n",
       "      <td>...</td>\n",
       "      <td>...</td>\n",
       "      <td>...</td>\n",
       "      <td>...</td>\n",
       "      <td>...</td>\n",
       "      <td>...</td>\n",
       "      <td>...</td>\n",
       "      <td>...</td>\n",
       "    </tr>\n",
       "    <tr>\n",
       "      <th>96103</th>\n",
       "      <td>f1a5e5ba97b77db86e1d747d0d4dbbfb</td>\n",
       "      <td>0.129</td>\n",
       "      <td>6f103f2f8f9153f5d63cb095284d6cd8</td>\n",
       "      <td>22.1</td>\n",
       "      <td>4.4</td>\n",
       "      <td>7.0</td>\n",
       "      <td>0.0</td>\n",
       "      <td>0.0</td>\n",
       "      <td>0.0</td>\n",
       "      <td>0.0</td>\n",
       "      <td>0.0</td>\n",
       "      <td>1.0</td>\n",
       "      <td>0.0</td>\n",
       "      <td>0.0</td>\n",
       "      <td>0.0</td>\n",
       "      <td>0.0</td>\n",
       "      <td>0.0</td>\n",
       "      <td>0.0</td>\n",
       "      <td>0.0</td>\n",
       "      <td>0.0</td>\n",
       "      <td>1.0</td>\n",
       "      <td>0.0</td>\n",
       "      <td>0.0</td>\n",
       "      <td>0.0</td>\n",
       "      <td>0.0</td>\n",
       "      <td>0.0</td>\n",
       "      <td>0.0</td>\n",
       "      <td>0.0</td>\n",
       "      <td>0.0</td>\n",
       "      <td>0.0</td>\n",
       "      <td>0.0</td>\n",
       "      <td>0.0</td>\n",
       "      <td>0.0</td>\n",
       "      <td>0.0</td>\n",
       "      <td>0.0</td>\n",
       "      <td>0.0</td>\n",
       "      <td>0.0</td>\n",
       "      <td>0.0</td>\n",
       "      <td>0.0</td>\n",
       "      <td>681.0</td>\n",
       "      <td>4.4</td>\n",
       "      <td>22.1</td>\n",
       "      <td>MYB</td>\n",
       "    </tr>\n",
       "    <tr>\n",
       "      <th>96104</th>\n",
       "      <td>3acc4b901256bcd9f333b6978864773b</td>\n",
       "      <td>1.740</td>\n",
       "      <td>bd4fcd43314a9b3e28cbf7ae22b3ece4</td>\n",
       "      <td>25.0</td>\n",
       "      <td>9.0</td>\n",
       "      <td>18.0</td>\n",
       "      <td>0.0</td>\n",
       "      <td>0.0</td>\n",
       "      <td>0.0</td>\n",
       "      <td>0.0</td>\n",
       "      <td>0.0</td>\n",
       "      <td>1.0</td>\n",
       "      <td>0.0</td>\n",
       "      <td>0.0</td>\n",
       "      <td>0.0</td>\n",
       "      <td>0.0</td>\n",
       "      <td>0.0</td>\n",
       "      <td>0.0</td>\n",
       "      <td>1.0</td>\n",
       "      <td>0.0</td>\n",
       "      <td>1.0</td>\n",
       "      <td>0.0</td>\n",
       "      <td>0.0</td>\n",
       "      <td>0.0</td>\n",
       "      <td>0.0</td>\n",
       "      <td>0.0</td>\n",
       "      <td>0.0</td>\n",
       "      <td>0.0</td>\n",
       "      <td>0.0</td>\n",
       "      <td>0.0</td>\n",
       "      <td>0.0</td>\n",
       "      <td>0.0</td>\n",
       "      <td>0.0</td>\n",
       "      <td>0.0</td>\n",
       "      <td>0.0</td>\n",
       "      <td>0.0</td>\n",
       "      <td>0.0</td>\n",
       "      <td>0.0</td>\n",
       "      <td>0.0</td>\n",
       "      <td>4050.0</td>\n",
       "      <td>9.0</td>\n",
       "      <td>25.0</td>\n",
       "      <td>YMC</td>\n",
       "    </tr>\n",
       "    <tr>\n",
       "      <th>96105</th>\n",
       "      <td>e71d2e750ce9a7a39c273c634be1665d</td>\n",
       "      <td>0.284</td>\n",
       "      <td>9db21acf9e6c1a66493c246c1461f989</td>\n",
       "      <td>11.4</td>\n",
       "      <td>10.2</td>\n",
       "      <td>30.3</td>\n",
       "      <td>0.0</td>\n",
       "      <td>0.0</td>\n",
       "      <td>0.0</td>\n",
       "      <td>0.0</td>\n",
       "      <td>0.0</td>\n",
       "      <td>1.0</td>\n",
       "      <td>0.0</td>\n",
       "      <td>0.0</td>\n",
       "      <td>0.0</td>\n",
       "      <td>0.0</td>\n",
       "      <td>0.0</td>\n",
       "      <td>0.0</td>\n",
       "      <td>0.0</td>\n",
       "      <td>0.0</td>\n",
       "      <td>1.0</td>\n",
       "      <td>0.0</td>\n",
       "      <td>0.0</td>\n",
       "      <td>0.0</td>\n",
       "      <td>0.0</td>\n",
       "      <td>0.0</td>\n",
       "      <td>0.0</td>\n",
       "      <td>0.0</td>\n",
       "      <td>0.0</td>\n",
       "      <td>0.0</td>\n",
       "      <td>0.0</td>\n",
       "      <td>0.0</td>\n",
       "      <td>0.0</td>\n",
       "      <td>0.0</td>\n",
       "      <td>0.0</td>\n",
       "      <td>0.0</td>\n",
       "      <td>0.0</td>\n",
       "      <td>0.0</td>\n",
       "      <td>0.0</td>\n",
       "      <td>3523.0</td>\n",
       "      <td>10.2</td>\n",
       "      <td>30.3</td>\n",
       "      <td>NONPACK</td>\n",
       "    </tr>\n",
       "    <tr>\n",
       "      <th>96106</th>\n",
       "      <td>2e2a642f611b5a6f2c404ab945fbc2a3</td>\n",
       "      <td>0.230</td>\n",
       "      <td>4aedb72c5662562524f6119918c7179b</td>\n",
       "      <td>23.0</td>\n",
       "      <td>2.0</td>\n",
       "      <td>12.0</td>\n",
       "      <td>0.0</td>\n",
       "      <td>0.0</td>\n",
       "      <td>0.0</td>\n",
       "      <td>0.0</td>\n",
       "      <td>0.0</td>\n",
       "      <td>1.0</td>\n",
       "      <td>0.0</td>\n",
       "      <td>0.0</td>\n",
       "      <td>0.0</td>\n",
       "      <td>0.0</td>\n",
       "      <td>0.0</td>\n",
       "      <td>0.0</td>\n",
       "      <td>0.0</td>\n",
       "      <td>0.0</td>\n",
       "      <td>0.0</td>\n",
       "      <td>0.0</td>\n",
       "      <td>0.0</td>\n",
       "      <td>0.0</td>\n",
       "      <td>0.0</td>\n",
       "      <td>0.0</td>\n",
       "      <td>0.0</td>\n",
       "      <td>0.0</td>\n",
       "      <td>0.0</td>\n",
       "      <td>0.0</td>\n",
       "      <td>0.0</td>\n",
       "      <td>0.0</td>\n",
       "      <td>0.0</td>\n",
       "      <td>0.0</td>\n",
       "      <td>0.0</td>\n",
       "      <td>0.0</td>\n",
       "      <td>0.0</td>\n",
       "      <td>0.0</td>\n",
       "      <td>0.0</td>\n",
       "      <td>552.0</td>\n",
       "      <td>2.0</td>\n",
       "      <td>23.0</td>\n",
       "      <td>MYB</td>\n",
       "    </tr>\n",
       "    <tr>\n",
       "      <th>96107</th>\n",
       "      <td>be54e183db5d75147ffcb4582c0e699b</td>\n",
       "      <td>1.200</td>\n",
       "      <td>c674cb7255f1417a92e62f50b85aad5a</td>\n",
       "      <td>123.0</td>\n",
       "      <td>5.0</td>\n",
       "      <td>62.0</td>\n",
       "      <td>0.0</td>\n",
       "      <td>0.0</td>\n",
       "      <td>0.0</td>\n",
       "      <td>0.0</td>\n",
       "      <td>0.0</td>\n",
       "      <td>0.0</td>\n",
       "      <td>0.0</td>\n",
       "      <td>1.0</td>\n",
       "      <td>1.0</td>\n",
       "      <td>1.0</td>\n",
       "      <td>0.0</td>\n",
       "      <td>0.0</td>\n",
       "      <td>0.0</td>\n",
       "      <td>0.0</td>\n",
       "      <td>1.0</td>\n",
       "      <td>0.0</td>\n",
       "      <td>0.0</td>\n",
       "      <td>0.0</td>\n",
       "      <td>0.0</td>\n",
       "      <td>0.0</td>\n",
       "      <td>0.0</td>\n",
       "      <td>0.0</td>\n",
       "      <td>0.0</td>\n",
       "      <td>0.0</td>\n",
       "      <td>0.0</td>\n",
       "      <td>0.0</td>\n",
       "      <td>0.0</td>\n",
       "      <td>0.0</td>\n",
       "      <td>0.0</td>\n",
       "      <td>0.0</td>\n",
       "      <td>1.0</td>\n",
       "      <td>0.0</td>\n",
       "      <td>0.0</td>\n",
       "      <td>38130.0</td>\n",
       "      <td>5.0</td>\n",
       "      <td>123.0</td>\n",
       "      <td>NONPACK</td>\n",
       "    </tr>\n",
       "  </tbody>\n",
       "</table>\n",
       "<p>96108 rows × 43 columns</p>\n",
       "</div>"
      ],
      "text/plain": [
       "                               orderkey  goods_wght  \\\n",
       "0      4b33fcc98ea1f59d6fe4eb2e0a48bb4b       0.896   \n",
       "1      3e646181f6f708edd3326c1626c12d23       4.400   \n",
       "2      7047c16a6b7c120162ca3da0ebca43fd       0.700   \n",
       "3      097917e584151c0c21f205b2c3aafa10       2.078   \n",
       "4      1d11d793924acefde0b7f2ad149e1b45       6.020   \n",
       "...                                 ...         ...   \n",
       "96103  f1a5e5ba97b77db86e1d747d0d4dbbfb       0.129   \n",
       "96104  3acc4b901256bcd9f333b6978864773b       1.740   \n",
       "96105  e71d2e750ce9a7a39c273c634be1665d       0.284   \n",
       "96106  2e2a642f611b5a6f2c404ab945fbc2a3       0.230   \n",
       "96107  be54e183db5d75147ffcb4582c0e699b       1.200   \n",
       "\n",
       "                                    sku      a     b     c    0   40  120  \\\n",
       "0      6287a74b664fd8ad4ed5c541b399a82b   18.6   3.3  49.7  0.0  0.0  0.0   \n",
       "1      ef468fa349bb8f058aa5dcd76bda60b2   30.0  23.0  22.0  0.0  0.0  0.0   \n",
       "2      d714bc5c946ec01d9b09714524805e5c   14.0  10.7  43.8  0.0  0.0  0.0   \n",
       "3      eb0e661f3ed57ef7ca16418bf50e363e   23.4   8.0  33.9  0.0  0.0  0.0   \n",
       "4      0588e43ea7ad1ef603059269db6467eb   30.0  47.0  15.0  0.0  0.0  0.0   \n",
       "...                                 ...    ...   ...   ...  ...  ...  ...   \n",
       "96103  6f103f2f8f9153f5d63cb095284d6cd8   22.1   4.4   7.0  0.0  0.0  0.0   \n",
       "96104  bd4fcd43314a9b3e28cbf7ae22b3ece4   25.0   9.0  18.0  0.0  0.0  0.0   \n",
       "96105  9db21acf9e6c1a66493c246c1461f989   11.4  10.2  30.3  0.0  0.0  0.0   \n",
       "96106  4aedb72c5662562524f6119918c7179b   23.0   2.0  12.0  0.0  0.0  0.0   \n",
       "96107  c674cb7255f1417a92e62f50b85aad5a  123.0   5.0  62.0  0.0  0.0  0.0   \n",
       "\n",
       "       130  200  290  291  292  300  302  303  305  310  320  340  360  400  \\\n",
       "0      0.0  1.0  0.0  1.0  0.0  0.0  0.0  0.0  0.0  0.0  0.0  0.0  1.0  0.0   \n",
       "1      0.0  1.0  1.0  0.0  0.0  0.0  0.0  0.0  0.0  0.0  0.0  1.0  0.0  0.0   \n",
       "2      0.0  0.0  1.0  0.0  0.0  0.0  0.0  0.0  0.0  0.0  0.0  1.0  0.0  0.0   \n",
       "3      0.0  1.0  1.0  0.0  0.0  0.0  0.0  0.0  0.0  0.0  0.0  0.0  1.0  0.0   \n",
       "4      0.0  0.0  0.0  1.0  0.0  0.0  0.0  0.0  0.0  0.0  1.0  1.0  0.0  0.0   \n",
       "...    ...  ...  ...  ...  ...  ...  ...  ...  ...  ...  ...  ...  ...  ...   \n",
       "96103  0.0  0.0  1.0  0.0  0.0  0.0  0.0  0.0  0.0  0.0  0.0  1.0  0.0  0.0   \n",
       "96104  0.0  0.0  1.0  0.0  0.0  0.0  0.0  0.0  0.0  1.0  0.0  1.0  0.0  0.0   \n",
       "96105  0.0  0.0  1.0  0.0  0.0  0.0  0.0  0.0  0.0  0.0  0.0  1.0  0.0  0.0   \n",
       "96106  0.0  0.0  1.0  0.0  0.0  0.0  0.0  0.0  0.0  0.0  0.0  0.0  0.0  0.0   \n",
       "96107  0.0  0.0  0.0  0.0  1.0  1.0  1.0  0.0  0.0  0.0  0.0  1.0  0.0  0.0   \n",
       "\n",
       "       410  440  460  480  485  520  610  620  641  670  700  900  910  950  \\\n",
       "0      0.0  0.0  0.0  0.0  0.0  0.0  0.0  0.0  0.0  0.0  0.0  0.0  0.0  0.0   \n",
       "1      0.0  0.0  0.0  0.0  0.0  0.0  0.0  0.0  0.0  0.0  0.0  0.0  0.0  0.0   \n",
       "2      0.0  0.0  0.0  0.0  0.0  0.0  0.0  0.0  0.0  0.0  0.0  0.0  0.0  0.0   \n",
       "3      0.0  0.0  0.0  0.0  0.0  0.0  0.0  0.0  0.0  0.0  0.0  0.0  0.0  0.0   \n",
       "4      1.0  0.0  0.0  1.0  1.0  0.0  0.0  0.0  0.0  0.0  0.0  0.0  0.0  0.0   \n",
       "...    ...  ...  ...  ...  ...  ...  ...  ...  ...  ...  ...  ...  ...  ...   \n",
       "96103  0.0  0.0  0.0  0.0  0.0  0.0  0.0  0.0  0.0  0.0  0.0  0.0  0.0  0.0   \n",
       "96104  0.0  0.0  0.0  0.0  0.0  0.0  0.0  0.0  0.0  0.0  0.0  0.0  0.0  0.0   \n",
       "96105  0.0  0.0  0.0  0.0  0.0  0.0  0.0  0.0  0.0  0.0  0.0  0.0  0.0  0.0   \n",
       "96106  0.0  0.0  0.0  0.0  0.0  0.0  0.0  0.0  0.0  0.0  0.0  0.0  0.0  0.0   \n",
       "96107  0.0  0.0  0.0  0.0  0.0  0.0  0.0  0.0  0.0  0.0  0.0  0.0  0.0  1.0   \n",
       "\n",
       "       960  970  sku_volume  min_sku_dim  max_sku_dim selected_cartontype  \n",
       "0      0.0  0.0      3051.0          3.3         49.7             STRETCH  \n",
       "1      0.0  0.0     15180.0         22.0         30.0             STRETCH  \n",
       "2      0.0  0.0      6561.0         10.7         43.8             STRETCH  \n",
       "3      0.0  0.0      6346.0          8.0         33.9             STRETCH  \n",
       "4      0.0  0.0     21150.0         15.0         47.0             NONPACK  \n",
       "...    ...  ...         ...          ...          ...                 ...  \n",
       "96103  0.0  0.0       681.0          4.4         22.1                 MYB  \n",
       "96104  0.0  0.0      4050.0          9.0         25.0                 YMC  \n",
       "96105  0.0  0.0      3523.0         10.2         30.3             NONPACK  \n",
       "96106  0.0  0.0       552.0          2.0         23.0                 MYB  \n",
       "96107  0.0  0.0     38130.0          5.0        123.0             NONPACK  \n",
       "\n",
       "[96108 rows x 43 columns]"
      ]
     },
     "execution_count": 16,
     "metadata": {},
     "output_type": "execute_result"
    }
   ],
   "source": [
    "data_single = data_single.drop('selected_cartontype', axis=1)\n",
    "data_single = data_single.merge(packages, on='sku', how='left')\n",
    "data_single"
   ]
  },
  {
   "cell_type": "markdown",
   "id": "1b1ad437-f8d1-473a-a670-e1545e6a9361",
   "metadata": {
    "tags": []
   },
   "source": [
    "Проверим дубликаты"
   ]
  },
  {
   "cell_type": "code",
   "execution_count": 17,
   "id": "dddef49d-16ac-465d-b8d8-4ea6e3814886",
   "metadata": {
    "tags": []
   },
   "outputs": [
    {
     "data": {
      "text/plain": [
       "47672"
      ]
     },
     "execution_count": 17,
     "metadata": {},
     "output_type": "execute_result"
    }
   ],
   "source": [
    "data_single.drop(['orderkey'],\n",
    "                axis=1).duplicated().sum()"
   ]
  },
  {
   "cell_type": "markdown",
   "id": "726fc589-a4aa-4167-985c-299afa3b92e5",
   "metadata": {},
   "source": [
    "Около половины товаров теперь повторяются. Избавимся от дубликатов. "
   ]
  },
  {
   "cell_type": "code",
   "execution_count": 18,
   "id": "d14dee3c-9e24-4964-92c5-4498576e0714",
   "metadata": {
    "tags": []
   },
   "outputs": [
    {
     "data": {
      "text/plain": [
       "(48436, 43)"
      ]
     },
     "execution_count": 18,
     "metadata": {},
     "output_type": "execute_result"
    }
   ],
   "source": [
    "subset = list(set(data_single.columns) - {'orderkey', 'box_num', 'recommended_cartontype'})\n",
    "data_single = data_single.drop_duplicates(subset=subset)\n",
    "data_single.shape"
   ]
  },
  {
   "cell_type": "markdown",
   "id": "329c2b04-030c-4c63-b484-16a6414c41f7",
   "metadata": {},
   "source": [
    "И наконец добавим еще один признак - плотность, предполагая что соотношение веса и объема может влиять на выбор упаковки. "
   ]
  },
  {
   "cell_type": "code",
   "execution_count": 19,
   "id": "5ef0fbb1-14ef-414a-bae4-6f4023560618",
   "metadata": {
    "tags": []
   },
   "outputs": [],
   "source": [
    "data_single['density'] = round(data_single['goods_wght'] / data_single['sku_volume'],5)"
   ]
  },
  {
   "cell_type": "code",
   "execution_count": 20,
   "id": "a34f251f-6c6e-4018-8108-c859288cc3bd",
   "metadata": {
    "tags": []
   },
   "outputs": [
    {
     "data": {
      "text/plain": [
       "MYB        0.344888\n",
       "MYC        0.188269\n",
       "MYA        0.162255\n",
       "NONPACK    0.090263\n",
       "MYD        0.076307\n",
       "STRETCH    0.073788\n",
       "MYE        0.021162\n",
       "YMA        0.018602\n",
       "YMC        0.011624\n",
       "YMF        0.003200\n",
       "MYF        0.003159\n",
       "YMW        0.002911\n",
       "YMG        0.002643\n",
       "YME        0.000661\n",
       "YMX        0.000248\n",
       "YML        0.000021\n",
       "Name: selected_cartontype, dtype: float64"
      ]
     },
     "execution_count": 20,
     "metadata": {},
     "output_type": "execute_result"
    }
   ],
   "source": [
    "data_single.selected_cartontype.value_counts(normalize=True)"
   ]
  },
  {
   "cell_type": "markdown",
   "id": "8b929535-f7a8-4e92-adde-88890747444e",
   "metadata": {
    "tags": []
   },
   "source": [
    "Больше 15% товаров не упаковывались вообще или упаковывались в стрейч пленку. Попробуем обучить классификатор и проверить сможем ли мы разделить товары для которых нужна упаковка и товары для которых она не нужна."
   ]
  },
  {
   "cell_type": "markdown",
   "id": "c93a92dc-3056-4582-8d9c-d13cc897b0e1",
   "metadata": {},
   "source": [
    "### Классификатор для определения нуждается ли товар в упаковке или нет"
   ]
  },
  {
   "cell_type": "code",
   "execution_count": 21,
   "id": "b956692a-4f8d-499e-9e2a-b3fbb80122ff",
   "metadata": {
    "tags": []
   },
   "outputs": [],
   "source": [
    "cb = catboost.CatBoostClassifier(verbose=False, class_weights={0:1,1:8})\n",
    "skf = StratifiedKFold(n_splits=5, \n",
    "                      shuffle=True,\n",
    "                      random_state=42)"
   ]
  },
  {
   "cell_type": "markdown",
   "id": "1efd4574-8a1a-4135-a821-17cb7559b70c",
   "metadata": {},
   "source": [
    "Прометим \"1\" те заказы где не использовалась упаковка или была использована стрейч пленка. Для остальных поставим \"0\""
   ]
  },
  {
   "cell_type": "code",
   "execution_count": 22,
   "id": "60ed6601-40c9-48cc-ad13-8afed0e23539",
   "metadata": {
    "tags": []
   },
   "outputs": [],
   "source": [
    "X = data_single.drop(['orderkey', 'sku', 'selected_cartontype'], axis=1)\n",
    "y = data_single.selected_cartontype.map(lambda x: 1 if x in ['NONPACK', 'STRETCH'] else 0)"
   ]
  },
  {
   "cell_type": "markdown",
   "id": "11f14430-fd1f-43dc-b5b0-fe428a7fe66b",
   "metadata": {},
   "source": [
    "Из-за дисбаланса классов а так же из-за невозможности определить порог принятия решения мы будем использовать метрику roc-auc для оценки способности алгоритма разделять классы. "
   ]
  },
  {
   "cell_type": "code",
   "execution_count": 23,
   "id": "439b8074-1150-4e53-921d-7026ed63da24",
   "metadata": {
    "tags": []
   },
   "outputs": [
    {
     "name": "stdout",
     "output_type": "stream",
     "text": [
      "CV mean roc_auc score 0.947\n",
      "CPU times: user 72.2 ms, sys: 125 ms, total: 197 ms\n",
      "Wall time: 31.9 s\n"
     ]
    }
   ],
   "source": [
    "%%time\n",
    "\n",
    "cv_scores = cross_validate(cb, X,y, cv=skf, n_jobs=-1,\n",
    "                           scoring=['roc_auc'])\n",
    "\n",
    "print('CV mean roc_auc score', round(np.mean(cv_scores['test_roc_auc']),3))"
   ]
  },
  {
   "cell_type": "markdown",
   "id": "c1646d18-2fff-4615-ac59-d03fe5e64ce3",
   "metadata": {},
   "source": [
    "Обучим классификатор на всех данных"
   ]
  },
  {
   "cell_type": "code",
   "execution_count": 24,
   "id": "a6c10444-d5f3-415a-9865-5d63578c8a7a",
   "metadata": {
    "tags": []
   },
   "outputs": [
    {
     "data": {
      "text/plain": [
       "<catboost.core.CatBoostClassifier at 0x7fa6310fd730>"
      ]
     },
     "execution_count": 24,
     "metadata": {},
     "output_type": "execute_result"
    }
   ],
   "source": [
    "cb.fit(X,y)"
   ]
  },
  {
   "cell_type": "markdown",
   "id": "9b19d5e4-b59c-440b-a122-539c4f8b5875",
   "metadata": {},
   "source": [
    "И посмотрим какие признаки оказались наиболее важными для обучения модели"
   ]
  },
  {
   "cell_type": "code",
   "execution_count": 25,
   "id": "9a43cb58-5776-4047-92a1-623b4ce11719",
   "metadata": {
    "tags": []
   },
   "outputs": [],
   "source": [
    "def feature_imp(importances=None):\n",
    "\n",
    "    feature_imp = pd.DataFrame(sorted(zip(importances, X.columns)), \n",
    "                                columns=['Value','Feature'])\n",
    "    sns.barplot(x=\"Value\", y=\"Feature\",\n",
    "                data=feature_imp.sort_values(by=\"Value\", ascending=False))\n",
    "    plt.title(f'Catboost feature importances')\n",
    "    plt.tight_layout()\n",
    "    plt.show()\n",
    "    return feature_imp"
   ]
  },
  {
   "cell_type": "code",
   "execution_count": 26,
   "id": "a080630c-6871-477f-9809-7fbf3b3c4562",
   "metadata": {
    "tags": []
   },
   "outputs": [
    {
     "data": {
      "image/png": "[encoded data removed]",
      "text/plain": [
       "<Figure size 1000x600 with 1 Axes>"
      ]
     },
     "metadata": {},
     "output_type": "display_data"
    }
   ],
   "source": [
    "fi = feature_imp(cb.get_feature_importance())"
   ]
  },
  {
   "cell_type": "markdown",
   "id": "ee4615be-5723-4cef-8201-c966e82888b1",
   "metadata": {},
   "source": [
    "Оставим только самые важные признаки чтобы сделать модель легче"
   ]
  },
  {
   "cell_type": "code",
   "execution_count": 27,
   "id": "4d58eb8c-59df-462d-92a2-925ec778d77c",
   "metadata": {
    "tags": []
   },
   "outputs": [],
   "source": [
    "cb_features = ['goods_wght', 'sku_volume', 'min_sku_dim', \n",
    "               'max_sku_dim', 'density', 'a', 'b', 'c', \n",
    "               '200','290','291','292','320', '340',\n",
    "               '360','700']\n",
    "X.columns = list(map(str, X.columns))"
   ]
  },
  {
   "cell_type": "code",
   "execution_count": 29,
   "id": "d1bd5e6f-ae28-4280-868e-b885fafcec3e",
   "metadata": {
    "tags": []
   },
   "outputs": [
    {
     "data": {
      "text/plain": [
       "<catboost.core.CatBoostClassifier at 0x7fa6310fd730>"
      ]
     },
     "execution_count": 29,
     "metadata": {},
     "output_type": "execute_result"
    }
   ],
   "source": [
    "cb.fit(X[cb_features], y)"
   ]
  },
  {
   "cell_type": "markdown",
   "id": "96dabe39-f485-4b1b-b43a-f2d08044f419",
   "metadata": {},
   "source": [
    "И сохраним эту модель в файле models/catboost_pack_nonpack.pkl"
   ]
  },
  {
   "cell_type": "markdown",
   "id": "afcfe148-7837-44dd-af34-3e56475ae400",
   "metadata": {},
   "source": [
    "### Рекомендация упаковки в случае если она нужна"
   ]
  },
  {
   "cell_type": "markdown",
   "id": "4097a39c-794f-4a72-a720-847ee30c7d31",
   "metadata": {},
   "source": [
    "Для того, чтобы определять конкретную упаковку для товара мы воспользуемся комбинацией следующих алгоритмов:\n",
    " - метод KNN для того чтобы искать ближайших соседей товара среди всех данных по линейным размерам и весу и возвращает вероятности принадлежности к каждому классу\n",
    " - алгоритм подбора упаковок для товара по линейным размерам и объему(будем проверять в какие упаковки вообще может поместиться наш товар)"
   ]
  },
  {
   "cell_type": "markdown",
   "id": "b0c2cbfd-e7fa-43eb-bf72-a9c8b7389c39",
   "metadata": {},
   "source": [
    "Подготовим модель KNN"
   ]
  },
  {
   "cell_type": "code",
   "execution_count": 30,
   "id": "7d72e146-9e6c-44a9-bdb2-6e01aea29ec3",
   "metadata": {},
   "outputs": [],
   "source": [
    "#признаки для KNN по которым будет вестись поиск и классификация\n",
    "knn_features = ['goods_wght','a', 'b', 'c','sku_volume',\n",
    "                'min_sku_dim', 'max_sku_dim', 'density']"
   ]
  },
  {
   "cell_type": "markdown",
   "id": "af5add63-9d54-431f-a609-04f4768ff9b2",
   "metadata": {},
   "source": [
    "Для KNN целесообразно нормализовать признаки при помощи standard scaler"
   ]
  },
  {
   "cell_type": "code",
   "execution_count": 36,
   "id": "77f916ea-85b0-4640-a452-65e373ecf389",
   "metadata": {
    "tags": []
   },
   "outputs": [],
   "source": [
    "std_scaler = StandardScaler()\n",
    "X_scaled = skl.fit_transform(data_single[knn_features].copy().values)"
   ]
  },
  {
   "cell_type": "markdown",
   "id": "878939a7-9db0-444e-899e-0f452d0dd1c7",
   "metadata": {},
   "source": [
    "Словари для кодирования упаковок"
   ]
  },
  {
   "cell_type": "code",
   "execution_count": 44,
   "id": "6c8b50d4-e8c5-43d3-8d9c-bfa5736adb10",
   "metadata": {
    "tags": []
   },
   "outputs": [],
   "source": [
    "packages = data_single.selected_cartontype.unique()\n",
    "pack_dict = dict(zip(packages, range(len(packages))))\n",
    "pack_dict.update({'YML':14})\n",
    "pack_dict_inv = {v:k for k,v in pack_dict.items()}\n",
    "\n",
    "y = data_single.selected_cartontype.map(pack_dict)"
   ]
  },
  {
   "cell_type": "code",
   "execution_count": 46,
   "id": "5111ae51-b583-424f-9f84-a8a98ffd779a",
   "metadata": {
    "tags": []
   },
   "outputs": [
    {
     "name": "stdout",
     "output_type": "stream",
     "text": [
      "roc: 0.7450641953977177\n",
      "CPU times: user 31.2 ms, sys: 15.8 ms, total: 47 ms\n",
      "Wall time: 857 ms\n"
     ]
    }
   ],
   "source": [
    "%%time\n",
    "knn_clf = KNeighborsClassifier(n_neighbors=25, \n",
    "                           n_jobs=-1, \n",
    "                           weights='uniform',\n",
    "                           metric='minkowski',\n",
    "                           algorithm='auto')\n",
    "\n",
    "cv_scores = cross_validate(clf, X_scaled, y, cv=5, n_jobs=-1,\n",
    "                           scoring=['roc_auc_ovr'])\n",
    "print('roc:', np.mean(cv_scores['test_roc_auc_ovr']))"
   ]
  },
  {
   "cell_type": "markdown",
   "id": "2ec42c11-e3a3-400e-a50e-3ae7b54e18d0",
   "metadata": {},
   "source": [
    "В целом KNN довольно плохо справляется с задачей. Но мы и так знали что классы довольно плохо разделимы, поэтому ответы KNN мы будем использовать как дополнительные, и плюс будем брать топ 3 похожих товара. "
   ]
  },
  {
   "cell_type": "code",
   "execution_count": 47,
   "id": "dc3b7611-ad4e-4811-bad4-61b1c45caf77",
   "metadata": {
    "tags": []
   },
   "outputs": [],
   "source": [
    "def get_knn_top(sample:np.array, k:int=3, th:float=0.2)-> list:\n",
    "    \"\"\"Gets features of sku and returns top k appropriate packs.\n",
    "    Based on a pretrained KNNClassifier.\n",
    "    Scale the features using StandardScaler.\n",
    "\n",
    "    Parameters\n",
    "    ----------\n",
    "    sample : np.array\n",
    "\n",
    "    k : int\n",
    "         (Default value = 3)\n",
    "         Number of most relevant neighbours\n",
    "\n",
    "    th : float\n",
    "         (Default value = 0.2)\n",
    "         A threshold used to cut off the values\n",
    "         with the score less than threshold\n",
    "\n",
    "    Returns\n",
    "    -------\n",
    "    top : list\n",
    "        List of recommended packs\n",
    "\n",
    "    \"\"\"\n",
    "    sample_for_knn = std_scaler.transform(sample.values)\n",
    "    preds_knn_probas = knn_clf.predict_proba(sample_for_knn)[0]\n",
    "    probs_packs = [(p,pack_dict_inv[cl]) for p,cl in zip(preds_knn_probas, knn_clf.classes_)]\n",
    "    knn_recommendations = sorted(probs_packs, reverse=True)\n",
    "    top = [pack[1] for pack in knn_recommendations if pack[0] >= th]\n",
    "    \n",
    "    return top[:k]"
   ]
  },
  {
   "cell_type": "code",
   "execution_count": 49,
   "id": "ef9673b0-fee3-4d82-959e-8135e2922c15",
   "metadata": {
    "tags": []
   },
   "outputs": [
    {
     "ename": "SyntaxError",
     "evalue": "invalid syntax (1140298104.py, line 1)",
     "output_type": "error",
     "traceback": [
      "\u001b[0;36m  Cell \u001b[0;32mIn[49], line 1\u001b[0;36m\u001b[0m\n\u001b[0;31m    from ya-pack-solution.ds_model.packer import get_packed\u001b[0m\n\u001b[0m           ^\u001b[0m\n\u001b[0;31mSyntaxError\u001b[0m\u001b[0;31m:\u001b[0m invalid syntax\n"
     ]
    }
   ],
   "source": [
    "from ya-pack-solution.ds_model.packer import get_packed"
   ]
  },
  {
   "cell_type": "code",
   "execution_count": null,
   "id": "b54a3410-0f3e-4d1d-8eed-b474133fcf19",
   "metadata": {},
   "outputs": [],
   "source": []
  }
 ],
 "metadata": {
  "kernelspec": {
   "display_name": "Python 3 (ipykernel)",
   "language": "python",
   "name": "python3"
  },
  "language_info": {
   "codemirror_mode": {
    "name": "ipython",
    "version": 3
   },
   "file_extension": ".py",
   "mimetype": "text/x-python",
   "name": "python",
   "nbconvert_exporter": "python",
   "pygments_lexer": "ipython3",
   "version": "3.9.16"
  }
 },
 "nbformat": 4,
 "nbformat_minor": 5
}
